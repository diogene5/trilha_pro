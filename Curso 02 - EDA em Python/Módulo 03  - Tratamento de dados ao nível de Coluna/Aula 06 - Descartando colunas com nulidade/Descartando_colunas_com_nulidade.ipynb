{
  "nbformat": 4,
  "nbformat_minor": 0,
  "metadata": {
    "colab": {
      "provenance": [],
      "collapsed_sections": [
        "z9f1lGMGkd6o",
        "UAGP2SvBlek-",
        "3HLQLiaYljTy",
        "9u69PH_wlt3R",
        "YNlroEKnl5Qh",
        "sjJtRB2HmPE-",
        "PUa5ZqztmUIY",
        "tV6dNoCapObO",
        "hE6ZcNrirVob",
        "JIxMwvUp4nRl",
        "zC1-7d975IoM",
        "6yctnn2F5XcT",
        "1vcexPxstS_2",
        "aPkUQfJ2-cp_",
        "HdPurm7V-jnr",
        "8JcGLKpi4v1F",
        "1ETnkHPfsBUw",
        "g1m-Rp84_Y46",
        "zCoatH_-_tzq",
        "NnmqqhEuG1K6",
        "9M_F0gU3G9Nz",
        "FEiKOMl-HGec",
        "G03d8rpiHhL-",
        "GLI4H4MPm2uM",
        "SyzZAD8GoGqs",
        "py6uT9sIARSD",
        "fkXN-sDzBcFr",
        "NDl9NeZmncEC",
        "1_sa1VRKFW8P",
        "G4dmIyweGS7A",
        "iPlySAxMDhlV",
        "ZhGLNriXL0Qp",
        "wBX8JB4fQAxX",
        "qdAVR8I0QbDm",
        "p1YfTBbwzjBn",
        "czytOLfL0mB2",
        "EblKvSmP2Sk2",
        "bFMGfseH3_Sx",
        "zzAGyLjpQnW2",
        "j-8s2a7NV8Ga",
        "LZrd3ADPWiYI",
        "7wB-khdL6sP2",
        "pLNOpoIvWCb8",
        "Ma4ly9C9a_p1",
        "UQC0kKF69V07",
        "IORHJpbs_ynT",
        "oGg3omJ2WtB1",
        "T_avB6YHWP61",
        "-meE11FsWVBN",
        "Xtb9bf4FXKKC",
        "cDWW8cztW7RQ",
        "Q-A83Yy6XPMO",
        "J_AhEDYcXt7H",
        "vP9hk0KPX5WL",
        "I6IVvku8YB85",
        "FoDHN5Rs0g3q",
        "qMkGDKPlX9BR",
        "TI1KJYk1YJsz",
        "Cb8jIYI4JIwq",
        "ObiABSxMKALg",
        "HaKrzq85Vrx0",
        "SaC9ggT7MqL_",
        "kF_JgXRRMvWj",
        "XNbRoIt7C_xy",
        "zsO7dr3UDD9a",
        "ohOcDsmDDGed",
        "i_yx6PKXE4Yp",
        "Br2m-rt2FES9",
        "EJrxFTjJFvLR",
        "zGHhCLCFYQqv",
        "cfC2voc99SzR",
        "pTptuDho9Wm6",
        "bgw6CAF2YYwF",
        "c6ieaQPZZs6V",
        "VV-twW6oZvEa",
        "vtP1X2UZOM82",
        "pSljKCv7YcJm"
      ],
      "toc_visible": true
    },
    "kernelspec": {
      "name": "python3",
      "display_name": "Python 3"
    },
    "language_info": {
      "name": "python"
    }
  },
  "cells": [
    {
      "cell_type": "markdown",
      "source": [
        "# 📌 Transform: Primeiro Tratar"
      ],
      "metadata": {
        "id": "zzAGyLjpQnW2"
      }
    },
    {
      "cell_type": "markdown",
      "source": [
        "[Clique para acessar os dados](https://docs.google.com/spreadsheets/d/1YQhDNSt1sOrzq6AKxyYG6wzRAvM-M7l7jJRIHunNB88/copy?gid=1190375422#gid=1190375422)"
      ],
      "metadata": {
        "id": "FY6pZXcx192P"
      }
    },
    {
      "cell_type": "code",
      "source": [
        "import pandas as pd\n",
        "import numpy as np"
      ],
      "metadata": {
        "id": "RI7M3nq82Obq"
      },
      "execution_count": null,
      "outputs": []
    },
    {
      "cell_type": "code",
      "source": [
        "df_receitas = pd.read_csv('/content/Cópia de Dados - TCC - Planilhas - Receitas.csv')"
      ],
      "metadata": {
        "id": "INqRcjNj8Ffr"
      },
      "execution_count": null,
      "outputs": []
    },
    {
      "cell_type": "markdown",
      "source": [
        "## 1️⃣ Ao nível de colunas"
      ],
      "metadata": {
        "id": "j-8s2a7NV8Ga"
      }
    },
    {
      "cell_type": "markdown",
      "source": [
        "### 💡 Acessar nomes de coluna"
      ],
      "metadata": {
        "id": "LZrd3ADPWiYI"
      }
    },
    {
      "cell_type": "markdown",
      "source": [
        "🔹 O que faz?\n",
        "* Podemos visualizar os nomes das colunas do DataFrame usando\n",
        "* Quando usar? Para verificar se os nomes das colunas estão corretos ou precisam de ajustes.\n"
      ],
      "metadata": {
        "id": "L3prQo0q6QZ1"
      }
    },
    {
      "cell_type": "code",
      "source": [
        "df_receitas.columns"
      ],
      "metadata": {
        "colab": {
          "base_uri": "https://localhost:8080/"
        },
        "id": "coML_KMnZSYS",
        "outputId": "74448f07-73a9-459e-8b0d-a97099e60fa1"
      },
      "execution_count": null,
      "outputs": [
        {
          "output_type": "execute_result",
          "data": {
            "text/plain": [
              "Index(['Data Lançamento', 'Id Atendimento', 'Receita Código',\n",
              "       'Quantidade Vendida', 'Valor de venda', 'Cliente ID', 'Cliente Sexo',\n",
              "       'Cliente Nome', 'Cliente Data Nascimento', 'Cliente Origem',\n",
              "       'Cliente Cidade', 'Profissional Nome', 'Profissional Especialidade',\n",
              "       'Data de Pagamento', 'Forma Pagamento'],\n",
              "      dtype='object')"
            ]
          },
          "metadata": {},
          "execution_count": 811
        }
      ]
    },
    {
      "cell_type": "markdown",
      "source": [
        "### 💡 Mudar nomes de coluna"
      ],
      "metadata": {
        "id": "7wB-khdL6sP2"
      }
    },
    {
      "cell_type": "markdown",
      "source": [
        "🔹 O que faz?\n",
        "* A função .rename() permite alterar o nome de colunas específicas, sem modificar o restante."
      ],
      "metadata": {
        "id": "MXqkYbyl6ump"
      }
    },
    {
      "cell_type": "code",
      "source": [
        "#permite passar um dicionário que atribue a cada coluna existente um novo nome\n",
        "\n",
        "df_receitas = df_receitas.rename(columns={\n",
        "    'Data Lançamento': 'data_lancamento',\n",
        "    'Id Atendimento': 'atendimento_id',\n",
        "    'Receita Código': 'receita_codigo',\n",
        "    'Quantidade Vendida': 'venda_quantidade',\n",
        "    'Valor de venda': 'venda_valor',\n",
        "    'Cliente ID': 'cliente_id',\n",
        "    'Cliente Sexo': 'cliente_sexo',\n",
        "    'Cliente Nome':'cliente_nome',\n",
        "    'Cliente Data Nascimento': 'cliente_nascimento_data',\n",
        "    'Cliente Origem': 'cliente_origem',\n",
        "    'Cliente Cidade': 'cliente_cidade',\n",
        "    'Profissional Nome': 'profissional_nome',\n",
        "    'Profissional Especialidade': 'profissional_especialidade',\n",
        "    'Data de Pagamento': 'pagamento_data',\n",
        "    'Forma Pagamento':'pagamento_forma'\n",
        "    })"
      ],
      "metadata": {
        "id": "2C94bze2WphN"
      },
      "execution_count": null,
      "outputs": []
    },
    {
      "cell_type": "code",
      "source": [
        "df_receitas.columns"
      ],
      "metadata": {
        "colab": {
          "base_uri": "https://localhost:8080/"
        },
        "id": "iIPjhaZmr7oI",
        "outputId": "cb154d9c-af58-4175-d5c9-0a0f13aa5565"
      },
      "execution_count": null,
      "outputs": [
        {
          "output_type": "execute_result",
          "data": {
            "text/plain": [
              "Index(['data_lancamento', 'atendimento_id', 'receita_codigo',\n",
              "       'venda_quantidade', 'venda_valor', 'cliente_id', 'cliente_sexo',\n",
              "       'cliente_nome', 'cliente_nascimento_data', 'cliente_origem',\n",
              "       'cliente_cidade', 'profissional_nome', 'profissional_especialidade',\n",
              "       'pagamento_data', 'pagamento_forma'],\n",
              "      dtype='object')"
            ]
          },
          "metadata": {},
          "execution_count": 813
        }
      ]
    },
    {
      "cell_type": "markdown",
      "source": [
        "🔹 Se quisermos alterar todos os nomes de uma vez, podemos usar a atribuição do nome das colunas, com df.columns = [...], mas tem que usar na mesma sequência da ordem atual das colunas"
      ],
      "metadata": {
        "id": "DB8Iso5C60cG"
      }
    },
    {
      "cell_type": "code",
      "source": [
        "#Usar a identação é uma boa prática\n",
        "\n",
        "df_receitas.columns = ['data_lancamento',\n",
        "                       'atendimento_id',\n",
        "                       'receita_codigo',\n",
        "                       'venda_quantidade',\n",
        "                       'venda_valor',\n",
        "                       'cliente_id',\n",
        "                       'cliente_sexo',\n",
        "                       'cliente_nome',\n",
        "                       'cliente_nascimento_data',\n",
        "                       'cliente_origem',\n",
        "                       'cliente_cidade',\n",
        "                       'profissional_nome',\n",
        "                       'profissional_especialidade',\n",
        "                       'pagamento_data',\n",
        "                       'pagamento_forma'\n",
        "                       ]"
      ],
      "metadata": {
        "id": "HHTqDLWq62j9"
      },
      "execution_count": null,
      "outputs": []
    },
    {
      "cell_type": "markdown",
      "source": [
        "🔹 Se os nomes das colunas estiverem inconsistentes, podemos formatá-los automaticamente para minúsculo"
      ],
      "metadata": {
        "id": "U2YpZadzARcy"
      }
    },
    {
      "cell_type": "code",
      "source": [
        "#df.columns = df.columns.str.lower()"
      ],
      "metadata": {
        "id": "ninlHy6zASHm"
      },
      "execution_count": null,
      "outputs": []
    },
    {
      "cell_type": "markdown",
      "source": [
        "🔹 Ou, se quisermos remover espaços e deixar padronizado:"
      ],
      "metadata": {
        "id": "QbD9AH1KAal8"
      }
    },
    {
      "cell_type": "code",
      "source": [
        "#df_receitas.columns = df_receitas.columns.str.strip().str.replace(\" \", \"_\")"
      ],
      "metadata": {
        "id": "UzeoCFB6AeR9"
      },
      "execution_count": null,
      "outputs": []
    },
    {
      "cell_type": "markdown",
      "source": [
        "### 💡 Colocar a tipologia da coluna"
      ],
      "metadata": {
        "id": "pLNOpoIvWCb8"
      }
    },
    {
      "cell_type": "markdown",
      "source": [
        "Em planilhas, a alteração é com mouse (low-code, lembra da nossa aula de ferramentas?) Aqui é com o teclado"
      ],
      "metadata": {
        "id": "ZlVbg6ahA8G8"
      }
    },
    {
      "cell_type": "markdown",
      "source": [
        "![aea2112.png](data:image/png;base64,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)"
      ],
      "metadata": {
        "id": "BKKJ6mrgBbwV"
      }
    },
    {
      "cell_type": "markdown",
      "source": [
        "🔹 Ao trabalhar com dados, nem sempre as colunas vêm com o tipo correto. Por isso, é essencial converter os tipos das colunas para garantir análises e cálculos corretos."
      ],
      "metadata": {
        "id": "IPzvLzAg9BVs"
      }
    },
    {
      "cell_type": "markdown",
      "source": [
        "🔹 Se uma coluna que deveria ser string foi carregada como número, podemos convertê-la usando a função astype"
      ],
      "metadata": {
        "id": "dq8OVhKL8T9O"
      }
    },
    {
      "cell_type": "code",
      "source": [
        "df_receitas['atendimento_id'] = df_receitas['atendimento_id'].astype(str)"
      ],
      "metadata": {
        "id": "4maeEsEHsLgk"
      },
      "execution_count": null,
      "outputs": []
    },
    {
      "cell_type": "code",
      "source": [
        "# Converter tipo de dados de colunas\n",
        "df_receitas['atendimento_id'] = df_receitas['atendimento_id'].astype(str) #Exemplo para string\n",
        "df_receitas['receita_codigo'] = df_receitas['receita_codigo'].astype(str) #Exemplo para string\n",
        "df_receitas['cliente_id'] = df_receitas['cliente_id'].astype(str) #Exemplo para string"
      ],
      "metadata": {
        "id": "iSgM3lEAWHbI"
      },
      "execution_count": null,
      "outputs": []
    },
    {
      "cell_type": "markdown",
      "source": [
        "🔹 Colunas de data muitas vezes são carregadas como object (texto), o que impede operações como cálculos de tempo. Por isso tem que ser convertidas usando a função to_datetime. É interessante usar parâmetros para forçar o formato e lidar com erros"
      ],
      "metadata": {
        "id": "HOfiKSeN8Zsu"
      }
    },
    {
      "cell_type": "code",
      "source": [
        "# Converter a coluna 'data_lancamento' para o tipo datetime\n",
        "df_receitas['data_lancamento'] = pd.to_datetime(df_receitas['data_lancamento'], format='%Y/%m/%d', errors='coerce')\n",
        "\n",
        "# Converter a coluna 'cliente_nascimento_data' para o tipo datetime\n",
        "df_receitas['cliente_nascimento_data'] = pd.to_datetime(df_receitas['cliente_nascimento_data'], format='%Y/%m/%d', errors='coerce')\n",
        "\n",
        "# Converter a coluna 'pagamento_data' para o tipo datetime\n",
        "df_receitas['pagamento_data'] = pd.to_datetime(df_receitas['pagamento_data'], format='%Y/%m/%d', errors='coerce')"
      ],
      "metadata": {
        "id": "gqmkMpA2bYwf"
      },
      "execution_count": null,
      "outputs": []
    },
    {
      "cell_type": "markdown",
      "source": [
        "[Clique para ver a documentação](https://pandas.pydata.org/docs/reference/api/pandas.to_datetime.html)"
      ],
      "metadata": {
        "id": "Mdyi4X5N8xJ3"
      }
    },
    {
      "cell_type": "markdown",
      "source": [
        "### 💡 Mudar ordem das colunas"
      ],
      "metadata": {
        "id": "Ma4ly9C9a_p1"
      }
    },
    {
      "cell_type": "markdown",
      "source": [
        "A ordem das colunas pode influenciar na organização e visualização dos dados. Em planilhas, a alteração é com mouse, basta arrastar (low-code, lembra da nossa aula de ferramentas?) Aqui é com o teclado high-code)!\n",
        "\n",
        "\n",
        "\n"
      ],
      "metadata": {
        "id": "vIFldDKgBi4D"
      }
    },
    {
      "cell_type": "markdown",
      "source": [
        "![ae2112.png](data:image/png;base64,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)"
      ],
      "metadata": {
        "id": "wb6W3HoFE0tp"
      }
    },
    {
      "cell_type": "markdown",
      "source": [
        "🔹 No Pandas, podemos facilmente alterar a ordem das colunas para facilitar a análise."
      ],
      "metadata": {
        "id": "pXf0_ATU9KjF"
      }
    },
    {
      "cell_type": "markdown",
      "source": [
        "\n",
        "\n",
        "🔹 Antes de reordenar, é útil verificar a ordem atual:"
      ],
      "metadata": {
        "id": "4WBHOf7C9OxR"
      }
    },
    {
      "cell_type": "code",
      "source": [
        "df_receitas.columns"
      ],
      "metadata": {
        "colab": {
          "base_uri": "https://localhost:8080/"
        },
        "id": "jX6yr88VbBN7",
        "outputId": "bdeb09b8-2ea9-4d59-febb-711ac7d41ea3"
      },
      "execution_count": null,
      "outputs": [
        {
          "output_type": "execute_result",
          "data": {
            "text/plain": [
              "Index(['data_lancamento', 'atendimento_id', 'receita_codigo',\n",
              "       'venda_quantidade', 'venda_valor', 'cliente_id', 'cliente_sexo',\n",
              "       'cliente_nome', 'cliente_nascimento_data', 'cliente_origem',\n",
              "       'cliente_cidade', 'profissional_nome', 'profissional_especialidade',\n",
              "       'pagamento_data', 'pagamento_forma'],\n",
              "      dtype='object')"
            ]
          },
          "metadata": {},
          "execution_count": 823
        }
      ]
    },
    {
      "cell_type": "markdown",
      "source": [
        "🔹 Podemos definir uma nova ordem das colunas especificando a sequência desejada:"
      ],
      "metadata": {
        "id": "DRbl4FgZ9TMz"
      }
    },
    {
      "cell_type": "code",
      "source": [
        "df_receitas = df_receitas[[\n",
        "    \"atendimento_id\", \"data_lancamento\", \"receita_codigo\",\n",
        "    \"venda_quantidade\", \"venda_valor\", \"cliente_id\", \"cliente_sexo\",\"cliente_nome\",\n",
        "    \"cliente_nascimento_data\", \"cliente_origem\",\n",
        "    \"cliente_cidade\", \"profissional_nome\", \"profissional_especialidade\",\n",
        "    \"pagamento_data\", \"pagamento_forma\"\n",
        "]]"
      ],
      "metadata": {
        "id": "uB5JYr689dJk"
      },
      "execution_count": null,
      "outputs": []
    },
    {
      "cell_type": "code",
      "source": [
        "df_receitas.columns"
      ],
      "metadata": {
        "colab": {
          "base_uri": "https://localhost:8080/"
        },
        "id": "QjbBcTlHs-G1",
        "outputId": "afa2192e-9e48-4fc9-dbbc-919a4fd6be4f"
      },
      "execution_count": null,
      "outputs": [
        {
          "output_type": "execute_result",
          "data": {
            "text/plain": [
              "Index(['atendimento_id', 'data_lancamento', 'receita_codigo',\n",
              "       'venda_quantidade', 'venda_valor', 'cliente_id', 'cliente_sexo',\n",
              "       'cliente_nome', 'cliente_nascimento_data', 'cliente_origem',\n",
              "       'cliente_cidade', 'profissional_nome', 'profissional_especialidade',\n",
              "       'pagamento_data', 'pagamento_forma'],\n",
              "      dtype='object')"
            ]
          },
          "metadata": {},
          "execution_count": 825
        }
      ]
    },
    {
      "cell_type": "markdown",
      "source": [
        "🔹 Se quisermos organizar automaticamente as colunas em ordem alfabética:"
      ],
      "metadata": {
        "id": "xVZ98IXBAGKF"
      }
    },
    {
      "cell_type": "code",
      "source": [
        "#df_receitas = df_receitas[sorted(df_receitas.columns)]"
      ],
      "metadata": {
        "id": "ZnKpZgCxAEep"
      },
      "execution_count": null,
      "outputs": []
    },
    {
      "cell_type": "markdown",
      "source": [
        "### 💡 Descartando uma coluna desnecessária"
      ],
      "metadata": {
        "id": "UQC0kKF69V07"
      }
    },
    {
      "cell_type": "markdown",
      "source": [
        "Em planilhas, a alteração é com mouse, basta clicar com o botão direito (low-code, lembra da nossa aula de ferramentas?) Aqui é com o teclado high-code)!"
      ],
      "metadata": {
        "id": "F8Do-w9_E90b"
      }
    },
    {
      "cell_type": "markdown",
      "source": [
        "![ae2112.png](data:image/png;base64,iVBORw0KGgoAAAANSUhEUgAAAY0AAAIfCAIAAAADgxdTAAAAAXNSR0IArs4c6QAAAARnQU1BAACxjwv8YQUAAAAJcEhZcwAADsMAAA7DAcdvqGQAAGnWSURBVHhe7b1peBXVnu9/Tt/T98XtPn3/L3t8nnOe422lpcVDbAkqBAQSZmUQkEAQR0RGEVFRhAAyQ5iRQYEkBvBIgICAgMwEmQOEOWEIJoGMxtBwJDb/b+1fZWWl9pDaSWqnQr6fZz2hatWqVatqZ33yW0XtWr95QAgh7oaeIoS4HXqKEOJ26ClCiNuhpwghboeeIoS4HXqKEOJ26ClCiNuhpwghboeeIoS4HXqKEOJ26ClCiNuhpwghboeeIoS4HXqKEOJ2frOHEEJcjOEp0ZV9DqQe/Lvep5hsJlwu88IRG/ByBUXDuVz0lLOJHS8oeLmCgp7yCz0VVGLHCwperqCgp/xCTwWV2PGCgpcrKOgpv9BTQSV2vKDg5QoKesov9FRQiR0vKHi5goKe8gs9FVRixwsKXq6goKf84jpPrfq52GyacHelpUCdJvf9Jl1PfCuybZSZPnNZ61x2uYxr9WridXPNs+qqK0ZP+cWdnrqw2yvfHcmFHa/tlP3m2o2vXo16PfGGueYG6KmgoKf8Qk8Fldz1m3RwStu3vlLdDuyfwo4XAHrKLTxs477isz968k/WevqPIelvLbw+aV22npCDfEtJPe0/dOB/XMO1hNfbfrbPXHElrrpcxgXTxsiSJrupgS67XFVgdtFqUd89dfLvVpYU/c//nP/eKohaT/ARxHT11j3zqv/P/2AZOfXUU/s+K+97bjKXCz31asI1c82zSk/VOqZZAlJ/PVXugpUlhb/+eu77E7L6906mx4ekT/7aVBV+Yhk5ljKW5K7fpAPGuE91O3At8fW2U+gpf1zzjPsqPGWM++ipmvGrJA9mlgfTL36op57yGKqX4aa/X/mT4aldJ/6+d+XU67gT6T/eOTNxbdbu00X4iWXLVu+098C++y4iM/7NyLaT95hr1tW6x4WXa2B8prnmWZ3kpga67HIFoswLUZU4q0pV1TtPlYdRZsBy4u+/LMr75Zezu47/vvexitTrqHPp8XfS2n96Hj8t+T7Tnv17/+oydk+uuNvSdvJuM9cduOxyXVkNT62+Yq55Vie5qYEu/O0KwC869+97fhj+ElspTNFUph56qhfCJY+hELD0Pm4aoTd+HvmH8vT7Xj+4JH2/d/d/E9vwcgVF/bpcd8sxlu4ZGPIqj7ZgKPGVKZrK1C9PaWFUL08A1euox0qHYYR/6HX4H3qlui3t3L3rZ2IbXq6gqKeXqxTcMRBfqcDKE04ZmK7RqEeeUsM9j6TMGOpwyw/ObD5a+N9//dVsHyHE9UBGMBOCLMNWnsDKHAOKqLxUVa88JSM+iaQMSf3QckwaDUVIPQU+ktgKqpKoyrhX5Wv0V188pQVT5j2pw//w0qEtRwvNZhFC6iFwU0lJCaIqYwDoP6SqT54ygynPPal/6HX4//Y6xGCKkHoNfPTTTz8hqLp7966M/iSeqreeMgd98syBccv8/750wGwTIaTeUlhUVPLzz2ZI9csvPod+9ctTnkGf587UP/Q69P+9tM9sEyGk3lJQUFCMkEruUpU/UWX1FLzj/rT/0IF9SAf37z2w7/u9e3bu3vXdzh1bt28zT4IQUm9BR0Z3RqdG10YHRzdHZ0eXV90fZYKOp/55VG5dpJx/QXr3x3959+a/jrz+ryMy/m34pX8bfgHt+ennUiYmpnqa0IXzCwqKiop+/vnnu3fvYtynHqTy+Makmp7KLvo1ZOnHwjJJWfm/3Lh972runSs3f7pwvTA98zbaYzltJiamepTQhfPy84uKi709BTzKMaCnmJiY6iyhCz9snrqR99frt+9m5pTSU0xMD0dCF1ae+u///m95NMG01EPgqfPXCugpJqb6ntCF4alCz/0peoqJicmNCV2YnmJiYnJ1Qhemp5iYmFyd0IXpKSYmJlcndGF6ypqWrVjxcr9+SFi4kplp2crExCRpRfxX0+bMv5b1oyW/1hO6MD1VKcFNbaMiJ0+ZOvzdkaIqfSu0hXwUwCY931e6vKx3WAUR3V+f+u3VYkuZWk0XVvQO67Psglc+E1PAVPRTydYd30+dPX/8ZzMmTpudsPYvObfzZNP+Qz8gEz9VYT1V6aldew/ETp2FCotLfsZqXkHRkhWrJ02fc/REml6syoQuTE9VSrqDYCvdR8FICsnwVO9ll43l4sIfT68d0S6s3eTDlcvUaqKnmIJPMEjy5q0TpsyEQaCVhDXfQFULl315Ky8fW2voqYKi4mVfxisx7TmQqmvLfkIXpqcqJTgIepJl3VNBSgpJ85QnXU16I6xT3HFZzdk3+63OzRFnNe88IiE9T5X5dlLvCCP8at515LIfciXzp4L0pA/7RDwdFvZ0RO8PN5wuD8q++zCs94wVE7s2D+u94sCyPsZuHsrleGNz7IAIzzEi+k/fkyN77Xw/rM+0ZZM6YSetbUwNNp27dOWzmXNhEzhFcr5OToFNUo8ch4YgKUlYTjtzbtKMuM+/iJ8xd+Hy1V/BNRZP3fjxx3mLlyeu+0ZWJZ0+e37yjDhIMOPq9Vnzl8yIW3gl85pewE5CFw6Zp3Z0/z//+FszvZ2g8te9LasJMf/425gdWvngUm15SsZ9UJKyEgwVvKSQrJ7K2zAyLGLSISwXpy/CpiUn84pL89LXjoiIeH97oVFg57h2T/dZdBLLhRfXjWz39MjNt7Fj7voRYe0Gxx/H8u2Ti6LDwkZs+NFTITwV9nSfaTvTr940drfEU4emtguLXmzsVZy7+cN2YaO+9dgQngoLi57+3ekbPxqVMzX0hBgHGsJPlXP1xs3d+w9dvJKRnXv7u+/3Yit+Ylk8hchr8YpV23buRkmLp7CAVWTKqiTobP2mb1HJnIWf4+eO3Xv1rTYTunBIPHVy0b//n3/898+uyurhz1pUqKpmnjKqarrocK3eR5cwSqwkP4OXFFIlT+Vd0MZ928dUBFY/lx6f3Tns051wE3zUafZJyfzp5xvfzR2XdFLsM2BVpln4p8z4mHIZwVNaeaun8m5qJsIRnx73nbEMT3WefbQ8n6nBp+QUQyL+Rnb6uE88lfSXZDVqs+MppB+zc+M8kkJUlVdQZNlqJ6ELw1Prov/376LXO+gpLwdd/bRpubbKPaVtDSI54SmVEEbBTSpZtlaVKt9HDwvr/ql5H/2iNkYz+RCeMsq//61egydVltpPPx+eGBH2/nZj2Rj36WM3y/2pgsvl4z5hTLmneA+LqSIF6ymUV1uVp6QSS1J1Xr2RNXPeYuTMX7I855Z5hz6ohC5s31OZMxv/ppy+WzxZ/qjsKWPE131dhVwqJV/xlCfg8owQPQ4yMo2IrEX3mPJ8KWnsaxZLNST1Xfe/+6e/+bt/+l9//0/dEmvHU4ikYCg1ALQUCJi0eKr48MR2Ya8n3ZBNhqdeX3u1oqQkm57a+cnTdjxV+N2HEca4L8czJEQl9BSTrxRg3Idlm546ePjIyq/WLl/91aTpc6bHLcAy0un08yiD4Cth7V9ip86av2QFxoxbtu9Su9tP6MLHJzb+2//9v3/3u9/9r37JhqcuTP+P3/7WtFF/00aGpzKnNypfN4TVaHqmZ9k3lTzlUcynJ8vFZEnentIirIpMz8hRXxbxafFUJmK0Rz/LNOKpo/Mf/X2LsYeq6Sl5fko3VLVUVWnc96Nxc2rMd56BWF7KyDDz3pMnmffFLeO+3NM7vz2O4V7AcZ9/T3ms59GZkb6lp5h8J7mP/kVCkrqPDhPJfXQs2/SUrPoc9504fQZ7YcSHqAqjv6mz5126EvQziejCleOpi9Mb/7bvJk80dWlGo980mnnZ0I5l3Lel728c9BQW1J0sz74eZ1WqpCJAq/DUiYVGyfJx35f9//mx2PRq30dXz08hIVMGgEGqqpKnZNXUkCe8ajdq7cWC0p9upyeNavd6ghFqBbqPPmrtaSzfPrns9Qj9PnolTxV/+35YxCc7C/Nuo4YbSYPDIkasPZ2T++Ppte+357iPyXdCvPN1cgoineWrEr2fS0CgBE/FJ30N3VTDU6gEVWEv7ItVuA8G1J1oM6EL+x33bTRspHlqE9aFRo2CiqeCG/cZt67M0ZyZPHqq0lNrjTEgBn0y7vvd7//5b/ulVMNTIiNZFlvJcvCqsniq9KdDk9opR9zcOa2/597R0xG9Yyue/1TPJUREj0k67RmyIRWkrxrRvfy5hLWnYTdPvtVTPxcemt3dqNO4K288+jAt2qjLeMRh1bhOYSPXG9ajp5isCdbYvHXHlFlzoSTLc545t/IWr1iF/FVfravSU3kFRfAajKYK7Nht/HehemBKHqeCqg7+cFSVsZPQhS2e2tTvt8CwUeNGejylj/WCHPfpwzfvnMDxlEpBxlO1/vwUUrWiKiYmppomdOFKnjo3vdFvG8285ImnKo/7PDfR5f6UJ7AKylMey2j2MdxULh0vT6kcLHtuqNsb9+n3p25v7fb7Go37EEYhYcH7ezNKVXo+ExOTcwld2MtT5v2pzf0NG/ka9/XfsgXbyu+x+8TqqXK5lA/lTA0ZydtTpp60QR8y/XhKDIga4iv/f9/v+m+p+fNTFkkxMTHVSUIXhqcK1/Yx/r/vP6de1MZ9fTduhpj6bjK0Y7mPXjW+POVscuL5KSYmJjckdGHDU/x+HxMTk2sTujA9xcTE5OqELkxPMTExuTqhC9NTTExMrk7owvQUExOTqxO6MD3FxMTk6oQuTE8xMTG5OqEL01NMTEyuTujCDcJThJB6DT1FCHE79BQhxO046KnQphykf8HPd2/+y8isfx157V9HZPzb8Ev/Nuy82SZCSL3FlqeuB4mXREKQ6ClCHlpOpaWdOXv2/PnzFy9evHLlSmZm5rVyxDkoE3Q8hd0s4zKnE8d9hDzEODLuo6cIIbUIPUUIcTv0lG9WfPFF26hIf2nlqlVmOUKI89BTvoGM3n3vvVXxq70T8jt16WyWCwk3b948duy4/pEQUrfkFxROj1uw6qu15rrD2PKU8UJ0QXstus9MIQSeMt6nLu9Q97xV3fTUiUX/bs6LVWme0WoAT0FJ5kplkI+t5op/cAUPHjrUoWPnPz3y6GONGg8dNuL27Wo2ZuXKVV26dissLDLXCak9Skp+TlxnTNs3/rMZ0+YsOJD6w6+//iqboCHICEqSVR2bnkJV3+/dj2pl0q2132wovXPH3BYMtjz1m8YzPdPLVMwwakyPXD57O4RlmX7GaU+paWZkTod//+yqx1PGPA7d1hjx1L6JLf72928uC95TSk8199SOHTubPBmWmJhUWlqam3trxMhR/foPKCkpMTcT4gJKS+8sXr4SBlm/acv+Q4eXrFg1YcrMrd/tkq019BQksmX7TlS4bGXCwdQja/6yAQfCIeAas4Rt7HmqPGIqn2mm8hR+l2c2MkVm4rSn9MlpZNkTTC189O9ajjvmGfcdnvfY71t8uL/OPAUf9ejRa+as2eo6Xr9+45lnW0JeWC4rK0tKWhMe/ixCrW7de54/bz7ktWTJ0tffeAtGQ/4TTZquX58suyO/b9/++JXCMn5OnDj58cZNUCY6OiY7JweZt27d6tLlxWnTZmAvFDbqIsQGu/bsQ6Sz72CqrOK3a/6S5bMXLLl2/QY0hE2Sjh4/iYSF+DVffzYzLuXb7d6eunrt+pyFn+/cvc9cx+981s0ps+Z9sforaEVyNmzeGjt11qnTZ2XVPkHHU54paLw8VR5bCSGOp7qvk3Ff5XgqbO7OuounLl++EhHx/JGjR831Bw/u3y9LTT2MfCwnJ2+IaNXmxImTuOILFi5q0bLV1WvXkA/FhD3VbNf3u+/cuQORYfn48ROSrzw1efKU6H4x+fn5d+/eHfPBR8OHj0TN8BQO91KvPunp56QYIVWCTr4yce30OQtgATPrwYMLly5DSRgMwgsrVn+FIVvG1Wt//esv4ikERMg8fjLN21OXr2ROnhG3ZdsOc/3Bg8NHj2MX/DTXDd0UpB45dvPHbHPdNrY8VT55nzmfH/DcnKoY9+mbQCjuoxsT/1VM8GfenyrMHNfUx/x99qktT50+c6ZlRGv8NNc14BFIZ9XqeFmFbl4Z+JoEQfiJYEouveTPmDFL8sVT2FRQWKhMtHPnrtbPt8vLy4Onotp30rVISJWgzy9a9qW/kR3Qx33iqT37D8kmO57CssRi5noNCCqess7eLvSdjngqpJ4yxnpmPHX106bl96eMcZ8ZT2UmvlW396cCeMrbKeMnxI56730swEeyICDUUvkqnsJHFRs7CeO+P/zxESSEUagQYNzn83CE+KManlLS0T2Fn9ikJwgL2gq1p2S6UQMjsKo0xDPwynTYU9p8yEieGZXjC8tSJ7f4m7BFB83nEi6MDfvnx8afds+4DxdUQiFvT2H45tNTCKYsnsIQD4Ux7svNvYV8xFP0FKk2+J30N+6TP4o2PbV734GEtX9ZviohduqsuYuXYXnNXzbk5N4K9bgvsKeM//sL6X30euApuY8+J26uuW5cE/M+On4DAoz7lKegpMHvDLWM+2Rf6EnKbN22nZ4iNWHXnn2Qy8HDR2RVIqzZC5YUF/+EVZueErzHfXIffXXSOmhFcrA1BPfRPWM9z//9GW6S/wQ0bqJrIvMQ4nGf9v99+rivLv+/D3y7ddvTzZp/8816XFnLcwnJyRvatI08ezYdV3zpsuURrdro99F3796Dj2HjppRm4c+IepSn7t27N2jQ4CFDh6PCtNOnI6M60lOkJvz0U8mCz1fALxs3b/N+LiFhzV+w6btdexAHVcNTkMiGzVtR4ZcJa0LxXIK6FaU90llxf8ry8BRw/j66R0/ez3mue/tvavacp+6pAM+j2/EUriCMExnZ4U+PPPp44yYffDhWPedZVlaGeApKkucSICzJh4+io2OgIeQ3DXs6JWWzfAzKU1jOzsnp83I0CkBScXHz4DtEavQUqTYFhUXxa75GmAMNWZ7zvHQlAzkQzYlTp6v0VEnJz0eOnUAMZa57gFCguamz52Ffx5/zNP+1jfOesibTUzX+3ozy1NJly7DsLzn0/T74SL8/RQgR6KlKwEHiqTqBniLEJ/RUJeApf8M9SWY5Z6CnCPEJPVWJwMM9JLMcISSE0FOEELdjy1PwTrAcPXsjlOnImeuSDqddTT2ZceD4pX1HL3x/OH3nwdPmSRBC6i2cx4EQ4nY47iOEuB16ihDidugpQojboacIIW7HlqfkLXlA+ypfxff7DCq+92cQAk85PY8DIcQ92PKUqadKr0bY0rfyu/F0nPaUc/M4EEJcSFDjPu19nl7vRNdx2lPOzeNACHEhwXjKcFN5DLWpr+XdeDohjqdqcR4HQogLsemp8rtR5fehPPP3KayBVSjuozszjwMhxIUEPe4TVRlzzJTHU/qyEIpxnzPzOBBCXEhQnvIzj4M+HvTgsKccfD86IcSFBOcp7ykbDLzuqdNThJBaxJanyh+bMuZD9ixr//GnDQYVIR731eI8Dt6sWbcWyVwhhNQFtjylnvP0OY+Dd4Tl/H10p+ZxsDBl2jR5Pd6sOXPMLEJIyAny/pQ9nPeUNZmeqvH3ZlZ88YV6daek9cnrv1m/3pK5crVT8zioeWUIcTPe8804Cj1VCThI3o+ulDRk2NB3hg5Rq9iEAp26dDZ38A+u4MFDhzp07PynRx59rFHjocNGqHmx/EFPkdDz66+/fr93/7Q5C7ynrtLnGbVQpafwazx/yfIZcQvz8gvMrAcPTp0+Gzt1VtLXybpf7EBPVUJMJAs+EzaJxTzFA7Fjx84mT4YlJiaVlpZa5hn1Bz1FQgz6+ZbtOydMmblsZYL3VKA18RTYsm0H3HekfMo/IPWnn79grtuGnqoEBFQrnpJ522fOmq2uo5q3HctlZWVJSWvCw5+VeUbPnz8vZXRPZWZmynyijzduMmPGLHwwyJT5RKdNm/FEk6Yo7NmJkOojU6t/sfor+QUDGzZvRchzIPUHaAiWkXT0+EmZZzR+zdefzYxL+Xa7t6euXrs+Z+HnO3fvM9eRc/3GZzPnrk5aJ72guPin2QuWIMiqxl9ieqoSEJB4KgB2PHX58pWIiOePHD1qrhsTw5alph5GPpaTkzdEtGpz4sRJXPEFCxe1aNlKzdsuniosLOrStRs24fPApsiojps2paAAPIVqX+rVJz39HMMuUnMOHz0O++CnuW4YoSD1yLGsmz/CCytWf4XxYMbVa3/96y/iKURDyDx+Ms3bU97ztt+791eEZrPnL8HvM1Zl0AcPytagsOUpeCdYLPMsOJ1qax6H2vLU6TNnWka09jmROvwCGa1aHS+rd+/efWXgaxIcKU/hY8jPz1d/4ka99/6YDz7CAjwV1b6Trj9CaoIMzdRs7Bb0cZ94as/+Q7LJjqfArj374CYYCsvrN21BARTzbAkOzuNQiRB4yts14yfEyvSi+rjv0qXLMu77wx8fQZICMu7zWS0h1SBYT6mSuqfwE5v0pHyUnZM7bc78NX/ZUPLzz3MXL0N4hSDLU0FwcNxXidrylPe4Dxe0oLAQDvL2FGIli6eys7PbRbafv2DhvXv3kI+t9BRxAn/jvps/ZmPZpqd27zuQsPYvy1clIHSCjLAMMeXk3sKm+2VlGCfOXrAEh8CY8btdezx7Bw09VYna8pTcR58TN9dcN66JeR/dzrgPJoKPYCVk4pMYMXIUPUWcQO6jr05ap24yIMJSIzWbnhJ8jvvAgdQfJk2fM3/JchwIhzNzg4SeqkRteQp8u3Xb082af/PNelxZy3MJyckb2rSNPHs2HVd86bLlEa3aWO6jZ2RkYNi4Oj6huLg4KWnN442b0FPECdDPN2zeOmHKzC8T1ng/l5Cw5i9QD4IgBFnV9hQCq+meh7MQWCG8MnODhJ6qRC16Cldw9+49kZEd5NmCDz4cq57zLCsrQzwV9lQzeS4BwpJ8/f4U9pUHF4YMHQ5JDX5n6P37ZfQUqXXQ52GiqbPnQSWQlP6c56UrGdPmLIDFTpw6XaWnSkp+PnLshHfEhI6AeA37IrAys4LHlqcqU+nVCFv6qy8kVxACTzk0j0MteooQUlsEFU/pr0kwMN6QV2kSGhOnPeXcPA4QkHxvJkBCAXqKkFAShKcqv3zKeMfLbxr37VvZXILTnnJuHoely5bBQVWmlasc+R4yIcQn9j1liKl8UiywZYuxbI2whBDHU5zHgZCHG7ue8v0mzzrylJE4jwMhDQabnvLto7ryFOdxIKRBYdNT/mY/rhNP8f3ohDQs7HnK5zQzBvQUIcRxbHnKuDlVeaaGclwx7nN0HgdCSJ1jy1PGc1Ju8lTI5nEghLgBm/engsN5T1mT6akaf2+GEOJC6ClCiNuhpwghboeeIoS4HXqKEOJ2bHkK3gkWyzwLTqfamseBEOJCOI8DIcTtcNxHCHE79BQhxO3QU1WwZt1aJHOFEFIX0FOBmDJtmrzAc9acOWYWISTk2PKU8T1kQX9VnvESBcH6KoUQeMqheRxWfPGFermwpPXJ679Zv96SuXK1I+8d1uebcT9o54GDBwO3Vs2QSkhNsOWp35S/fKriC8mXZ0Jd8hpi71d9Ou2pEMzjoJQ0ZNjQd4YOUasyj0OnLp3NHfyDK3jw0KEOHTv/6ZFHH2vUeOiwEWpeLH/UL0+dO3f+uRYRqamHzXVf0FOkVrDlKe83Ivh/04uB055ybh4HMZEs+EzYJBbzFA/Ejh07mzwZlpiYVFpaapln1B/1y1N2oKdIrWDLU9r0DYLv17koQhxP1eI8DhBQrXhK5m2fOWu2uo5q3nYsl5WVJSWtkWlEu3Xvef78eSmjeyozM7PPy9EyR+mMGbPwwSBT5hmdNm3GE02aorBnpwr27dvfpm3kH/74SGRUx7S0NMlES0a++x4COiS4sqioCJnY9/U33sIq6kdV69cnq3b6rARHX7Z8BUqifM+evdE2ZJ4+c6ZlRGuZ9BRtnjhxMpqKAtHRMdk5OZ796KmGzvr16y9cuGCu1ABbnpq5yRjlGZjjO8NTfTd5psYyqIP7Uw7N4wABiacCYMdTly9fiYh4/sjRo+a60dXLMERCPpaTkzdEtGpz4sRJXPEFCxe1aNnKMm97YWFRl67dsAmfBzZBGZs2paAAPIVqX+rVJz39nCXsOnnyVOvn2+GIqDMh4av2HTplZ2cjf/LkKdH9YvI9YGHcpxPw0eJAYU812/X97jt37sCYWD5+/ESASiAptCEjI+Pu3buz58ShAdCf7il1FBQY88FHw4ePxPkin55q4MBTn3qooa3s3Z/S9OQZ7nkWyvVk3LQK7f0p5+ZxqC1P6X3YAvwCGa1aHS+r6NivDHxNgiPlKXwM6PP4KWXQ1dH5sQBPRbXvpOtPwKc1evQYhF2yWlxcjDBt9+49WMa+U6dNl48TloQrYRAcCMGUZEoDsK+/SrDwYrceyRs2Sj4cGhc3LysrS50jdiwoLFTe3LlzF2SXl5eHZXqqgaM8JVTbVkGO+8wXpVce9xn31CvN8uCwpxx8P3oIPOXtmvETYqUzK09h+dKlyzLuwxAMSQrIuM+7WnGflFQJvsCm/fsPIFxCdIaYSIIjgAPp+kDghlV/leCgnTp3VWNAhX6O+AWKjZ2EcZ/shaAPeyEf1eoHIg0Ni6eEatgqeE95QifEUJU9VWnoR095j/twQSXo8PYUYiXpzMpTEEq7yPbzFyy8d+8e8lVvD+ypxMQkc70y2ArdDB024okmTeMTEpFj8RRiKKz6q6RKTyFAwylg3Jeba7gJx6KniGDxFFbNDUES9LjP1JM2A43329NDPO6rxXkcastTch99Ttxcc924JuZ9dNFB4HEfOj98JF0dnwTGaIE9BVMMHz5S3RWSHPxE5Ri45eTkSiYOKvXrnkLJwe8M9dyq912JZdyH3ffu3VdUVKQ8JWck4RvYum07PUUE5alqG0qw5amK5zx1H6nnPCvfnALO30d3ah6H2vIU+HbrtqebNf/mm/W4spbnEpKTN7RpG3n2bDqu+NJlyyNatbHcR8/IyIACVscnwBFJSWswngrsKYDxXZMnw9asXQe5oOaXevW5cPEiPPXGm4NwaHzAqPbdUaMHDRqMGA0HwmAQCsPnvXFTSrPwZ6ROn5UgP/B9dFSIaocMHY7TTDt9GiXpKSJATzU0lGDLU+a/tnHeU9ZkeqrG35upRU/hCkIEkZEd5NmCDz4cq57zLCsrQ2gDU2BTt+49YQTJV57CMvaVBxfQ/9HVEfLAHQE8hcPt2vX9cy0i/vDHR7BjSspm+QhxUIz4HmvUGFXBWfLEAA4UHR2DmpHZNOxpVdhfJfi1UM8loJKsrCxkKk9hGdXK3TRIKi5uHiyM+BH59BSpFeipStSip9yMPu4jxP3QU5WAgOR7MwESCtBThIQSeqoSS5ctg4OqTCtXOfI95JBBT5H6BT1FCHE7tjwF7wSLZZ4FpxPncSDkIYbzOBBC3A7HfYQQt0NPEULcDj1FCHE79BQhxO3Y8pTxTWMP+os91Zf+vF/sGQJPOTSPAyHEhdjylPlqBO0dCRXvnPJ6+RRw2lPOzeNACHEh9jxlviZBXjfsWdLmmKn0LioPTnvKuXkcCCEuxJanyjVU8f4p/Z1ToX//lHPzOBBCXIgtT6nbUip00mMo7zmyQnEf3Zl5HAghLqReesq5eRwIIS6kPo77HHw/OiHEhQTtqYr76JqnVGwl0FOEkFrElqfc9lyCc/M4EEJciC1PGSM7D655ztOpeRwIIS7ElqfMf23jvKesyfSUn+/NXLpyjYmJqZ4mdOEG4SlCSL2GniKEuB16ihDidugpQojbseUpeCdYLPMsOJ04jwMhDzGcx4EQ4nY47iOEuB16ihDidugpQojboacIIW7HlqdmNpZv8lX6Kp/6fp96AbEiBJ7iPA6ENBxsearcRBXvddHenWBkhvg9eZzHgZAGhS1PVbwmAXryKMkIpsrDKH1ZcNpTnMeBkAZF8J4SJVWOp0L7njzO40BIwyLocV/lV+UZ6C+lEkJxH53zOBDSYLAXT3l89JvfNJo53QyjPDfRTWGF/P3onMeBkIaFLU+Z/1bciqo81vN69bDDnuL70QlpWATnqfLQiZ6qY/A5paYeLigsNNdDxZIlS/v27V9aesdcr22OHTve/JkW327dZq67G1wHXI2dO3eZ68QxbHnKVJJx79z0kXXcF/r/73P3PA7yG4xeba7XNvn5+ZGRHdasXWeu+6GkpAS9aNiwEV26vHjr1i0ztwY47SkASQ0c+HpBQYG57mLoqZAR1P2pSrfM1eQOFkkB5++jh24eh1Gj30MyV2zjtKfsgDb06z+gf8wrH439OCLi+friqXoEPRUyghv32cR5T1mT6SkHvjdTc09BEAhnVq2Oj4zq+KdHHu3zcnR2To4UO3s2vUPHzsgMe6oZCpSVlSETl37tuq/Dw5+VwllZWciUSqZNm/FEk6aoFqtQj/QQrL7+xltIEa3a6DJCPVIhigXwVGZmZs+evXEs1Lxs+Qr8BiATOyYlrZE2dOve8/z581JY99So996XEwSnz5xpGdEaPwOcLA6EVWQ+3rjJjBmz5EA6yEEDcClQBpcFF8fcoIEIcezYTx5r1Bhp6rTpd+/eRSZ2RIWoFjtGR8fIFQM4tBwRjRk/ITZwy7Hss3Js6tS566RJnyETVxJXNT4hEdcKq++//0GXrt3kU7DTeFJt6KkqqBVPQRPoMDduZOXm3urdpy/6DPILC4vwW75g4SJc9yNHj4Y3f27Pnr3IT0nZjF/0jIwMVDJ9+kzpXVLJS736pKefU6vKU+gzK1euQqaIyUIAT6Ent+/QCW3ABw8ZtWkbuWlTCvKTkzfAeidOnETbsLVFy1ZXrxnTftjxVOCTxYFQFcQhB9LBMBb5OHGcxaLFS3CyEIe5zQP2HT16zJgxH6IBqL9Hj17SALUj8rH1lYGvQTFYjhkwcMTIUfjlzs7ORpMCt9xf5djU5MmwocNGwLP37t3bv/9A82da7N69586dO4mJSSIvFKuy8aQm0FNVUCueimrfCSaSTcjEcAy/5ZJ/6FAqMu/fL0tNPXz58hXZMXnDRil8/foNeARuslQiOlCeGvzOUNQgm7wJ4Ckc6MVuPYqLi2V1x46d6G/SBsREkok+j54v54KfVXrK58niFys/Px8/JR/7jvngI1lW/ORBllEVRIkTl1UBmagc10RW0XipHEcZNGiwVJ6TkwuJoM0o3Pr5dhcuXpTCuAiBW+6vcj0fvQIuG/fpBOkepaWlELF8ClU2ntQEesoH4iZJbaMio2P66zlmoYBYPIWhEH53ZRMypcPALDJaeXvwkC1bvpUuJAL6wx8fUQl/zLGvpRIppjyFjif5PgngKeyLiEP/sAFK6q4BiInkEKrxWPbnKZ8ni+VLly7LKEzOy7vNkMvSpcswdNJP3NzmAScim1SSyi9cuIBIEAnXMzMzU07HctZYDdxyf5VjE85I6sEqMhFGyb6yih2xXGXjSU2gp3ygWwmSgqr0HLNQQOQ3WDpDgK4LMCTB7z3GRPgLjP6Gwm3bRR04cFC2KiyVYDWUnkLsU0NP4TTbRbafv2Ahhk7Ix77ebUZhlIHO0B5VobnNA04E0aXPpzHwi3vw0KGxYz/5c9Onpk6bjr8BlrPGauCW+6scm+x4qsrGk5pgy1PwTrBY5llwOjk3j4N9N+nIb7B0Bn9dV41QkKnGViUlJT169JoTN1cK42OQW06WSrBaK56yjPsgypMnT0nj7Yz7Fixc5ClStaeQo3o7Tgpy9G6zro+0tLQWLVupeoTjx0+Ehz+Ln7KKK4Oq1JBZMvfs2QvR40DYN8C4z7vlPiuXAnrL/Y37qmw8qQmcx6EKnPPUxUuX0EPWrF2HLoFuht6FZRRISPjqqf8K37t3H3ogRBbdLwY1WCrBaq14KsB9dCyfPZuOv11Lly1HrOd9Hx3LaBLy8/Ly4B2f41NVPiMjAye7Oj4BTkxKWoPRrnebJ0+eAkdf9dCv/wDvoROM+cabgzB4RHSGOmfOmj1p0me//HI/NnaSZOIs5s1b0LnLC4WFRVLY5310ny33WTk+AmxCYXX19Pvoy1d8oe6jV9l4UhM47qsC5zyF5cOHf5DnEp5o0nTu3Pm4+siEthDLyJ2OyKiOKINMSyVYrRVPAfxpkucSEE3AIBK+qTYgv1v3nup/2fXGI/QbNmwECqDYu6NGSwQR4GTRt+VBhyFDh6PB3vf+USGsIS2ZP39Bq9Zt9bGnUFRUhDKwg9Rz+7bx+aL+iRMny3MJ+lMU/p5L8Nly5PusHJt0T6Fj+HwuwU7jSbWhp6qgep4ibgM2UZ4i9Q56ijQI6Kl6DT1FGgT0VL3GlqfUV/n07/d5vopsYHmZJwiBp4yvInt/v4/zOBDyMGLLU+arESreNay9y8XrpS7AaU9xHgdCGhT2PGW+rtN47ZSEVPrcDYi2Qvx+dCOY4jwOhDQYbHmqXEMVr8crf2Gegb4shDie4jwOhDzc2PKUui2lQic9hjJiq9B6ykicx4GQBkO99JQx1uM8DoQ0GOrjuI/vRyekYRG0pyruo2ueUrGVQE8RQmoRW55y23MJlnGfC+dxIITUIrY8ZYzsPLjmOc/QzeNACKlzbHnK/Nc2znvKmkxP8XszhDyM0FOEELdDTxFC3A49RQhxO/QUIcTt2PIUvBMslnkWnE7OzeNACKlzOI8DIcTtcNxHCHE79FS9BJ9TauphnzNuOoo+f4wTHDt2vPkzLb7dus1cD4h6lXCwV6Ourh6pNvSUI6DzoAuhV5vrtU1+fn5kZAeZ7y8AJSUl6MzDho3QZ3aqCU57CkBSAwe+XlBQYK77R3nK5tVQ6OWd/qRIrUBPVUH15sVyw28/2tCv/4D+Ma98NPbjAPP3BUUIPGWfWpmagZ6qFwTjKf17yJ53J1QQ8vfkhWweh5p7SqbeXLU6PjKq458eedSYcTcnR4qdPZsu84yGPdUMBWSOT1z6teu+lik5UTgrKwuZUsm0aTOeaNIU1WJVn2f09TfeQopo1UaXEeqRClHMzjyjqHnZ8hX4DUAmdkxKWiNt0Gfu1D2lz1R+uvK87T5PFgeSWT8fb9xkxoxZciAd5KABMrkpLoua3FTH59Sh+tVAGzp17jpp0mdqpuJ9+/a3aRspk7ampaUhR5VH4SZPhmETklRlpw0k9Nj31BZYSvMUVq2vSVA47alQzuNQK55Cr0DvunEjKzf3Vu8+fdHBkF9YWNSla7cFCxfhuh85ejS8+XN79uxFfkrKZvSQjIwMVDJ9+ky9K77Uq096+jlLz8RR0CdXrlyFTBGThQCeCjBvO6x34sRJtA1bW7Rs5T1vuz9PBT5ZHAhVQRlyIB0MxJCPE8dZLFq8BCeLcau5zYOair2gsBCV4Cg+PQX1DB02Alq8d+/eyZOnWj/fDpcXJ5KQ8BVONjs7Wy+P3dUnBapsA6kT7Hoqc3qjRo0bVX6vi3KWFac9JXM36MueYMqReRxqxVNR7TupWbyRieHYnTtG70L+oUOpyLx/vyw19fDly1dkx+QNG6Xw9es30LXgJkslek9Dhd5zoOsE8BQO9GK3HsXFxbK6Y8dOdFRpA2IiyYQdXhn4mpwLfooasOzPUz5PFr9Y+fn5+Cn52HfMBx/JsuInD7KMqiBKnLisCsiEdC5cvCirW7dtl8boVwNl0ABcNyzjl3j06DGI3TzFH+A0ERvu3r1HL69/UqDKNpA6wZ6nYKXGMzP1cR+Wy+eb8SbE8VStz+MgbpLUNioyOqa/nmMWCoj+249egaEQfullk+rqMAu6EAZBbw8esmXLt9L5pQvJSEQSogPsa6lE72moEN1e8n0SwFPYF+GJ/mEDlNRdAxATySFU47Hsz1M+TxbLly5dliGbnJd3myHEpUuXYcyln7i5zQNOBNZW/0+HValcvxrYBQ2Qk8UmFJDaVEIxvbyUUSdSZRtInWDLU1v6e948pXlKvXzKgzWwCsV9dCfncdCtBElBVXqOWSgg+m9/gK4LMAxJTEzCmAh/ui9cuIDCbdtFHThwULYqLJXoPQ0VOu0pxD419BROs11k+/kLFmIshnzs691mFEYZ6AztURWa2zzgRKrhKVxeT/EK9PJSRp1IlW0gdYItT5m3yTVPGW/O0+bvs8RWoRj3hWoeB/tu0tF/+/113ZycXIxB8AccmWpsVVJS0qNHrzlxc6UwPga55WSpRO9p2KvanrKM+yDKkydPSePtjPsWLFzkKVK1p5Cj9IGTghy924wcOQpIS0tr0bKVqkfAqp1xnzoQItbhw0ciqUGxLOjl5WTVcatsA6kTbHnKvF9e6f/7NLxePeywp0L6fnTnPHXx0iX07TVr18FEly9fQRglT/QkJHz11H+F7927D50KIovuF4MaLJVgtVY8FeA+OpbPnk3H78TSZcsR63nfR8cymoT8vLw8eMfn+FSVz8jIwMmujk+AE5OS1mC0693myZOnwNFXPfTrP8B7zAVjqvvoqBCGlcr1q4FdlKfA/v0HUA8uLC4mTuelXn2gOb08ftFR4dixn6AefBBVtoHUCfbiqUp4/Tef1z11egq/9FV6CsuHD/8gzyU80aTp3LnzcfWRid6CWEZukURGdUQZZFoq0XsaKqy2p0Bm+XMJ4eHPwiASvqk2IL9b957qv+f1xiP0GzZsBAqg2LujRkvoEeBk4Vx50GHI0OFosPe9f1QIZUhL5s9f0Kp1W33sKdh5LkH3FH6Pd+36/rkWEbiYqDYlZTNy9PIALmsa9jQiNQjXThtI6LF3H12oiKcqJsiS5RA/P2UZ9zk6j0P1PEUIqUWq5ymgPefp9R9/zt9Hd3Yeh4J/fYSp5sm8moTUmGA8ZRvnPWVNpqeq9b0ZS+9ici6ZV5yQIGm4nrJ0IaYQJ/NjIMQGDc5Tlt7CVOfJ/GAI8U8D8pSlezC5J5mfECF+aCiesnSMwEl2ITXEclWrTOZuhHhhy1PwTrBY5llwOgWex8HSH7yTnCdxGstl905mOUIq0yDmcbB0BknSVFInWD4LlczNhFTm4R/3WXoCktlKUtdYPhdJ5jZCNBqcp8wmEtfAD4hUCT1F6hh+QKRK6ClSx/ADIlViy1PGG6Y8GG/LK0e9Kq/8C8kVhMBTxleR7c3jwG7gcvgBkSqx5Snz68f695DVO6e8Xj4FnPZUUPM4sBu4HH5ApErsecp8bYvxjgQJqYxgSnufpyWkctpTMneDvuwJpnzP48Bu4HL4AZEqseUp/VVTsmyMBMvfOaUvCyGOpwLP48Bu4HL4AZEqseUpdVtKhU56DGXEVqH1lJFsz+PAbuBy+AGRKqmXnrK8zzPwPA7sBi6HHxCpkvo47gvu/ejsBi6HHxCpkqA9VXEfXfOUiq0EeorYhx8QqRJbnnLbcwlBzeNQk27QNipSJTMrhJy2Mc/lBQ/mSm1gmYslBNTkAyINBFueMkZ2HlzznGcQ8zgE2w10N/lLZlH/yLxYMve3SsF2fjueGjv2k0GDBsskw7UCPUVciC1Pmf/axnlPWZPpqdr43szq+HiYaNTo97BgScjEJiyYRf0jnpL5+6qNHU/VOvQUcSH0lA/8yQiZdoIp4M9TWVlZbdtFJSR8heXCwqJu3XvGxk7CtcZ1X7Z8xRNNmv7pkUd79uydmWmEqLqn9PnELfkyyShWO3XuOmnSZ481amyxDOpPSdkcHv4sYjo1cSkoKir6aOzHKI+EuKykpASZuqdQpz5np+VYOAuZN3TEyFGyr5yFzE7aoWNnNTtpYKrxAZGGBj3lA+UpWVB6qrmnQHLyhnaR7bOzs9HP23folJ2Tg0x0bxgkIyPj7t27s+fEvdSrD3q+xUdVeqrJk2FDh42A4yzDwB07djZ/psWRo0fv3y9bs3Zdm7aRN25k4ZMeMnT424OH5HuI7heDVWTa9BSOJfOnX7h4sfXz7RITk5CPyuUsysrKFi1eImfh2TUQ1fiASEODnvJBbXlKvzmFVWRiE0z0xpuDRox4F10aYQ5yiouLX+zWI3nDRs+uRpwVFzcPkZfFR1V6Kqp9p+vXb3iKVAA3DX5n6IwZs2QVR1+8+HNEOigPv8Ayki+6QaZNT+nHQuaYDz7Cwk8eJBNlIlq1SU8/J6sBqMYHRBoa9JQPastTPuMpgD6MeAS2gjWwChFgGJWWliZbFSgWlKd0pyikJVu3bTfXy4GJIEcoUlYRGSG4Q6ZNT/nMx+ksXboM4z5RM85RGhmYanxApKFhy1PwTrBY5llwOgWYx6Ea3cBpTx05crTxfz4ZM2CgRFhu8FReXh7iqRp6Ci3EkPbSpcv47dEbGZhqfECkofHwz+NQjW7gqKdKSkr6vBw9ceLkzl1ekBvqlnEf9t27d19RUZHe1SGCBQsXSQFLvk93KCzjPvwhOnDwYE5OLsrbGfdBoHIHDfg7lsrHT3XK0G6Llq1QUlYDUI0PiDQ0OO7zgaOegptgqPz8/JSUzZFRHbOyspBZ5X10VAU1XL12DYHPiJGj1JDKnzt0AtxHR1WFhUVoDAah3vfRoTPI68svV925c2fX97sxoPN5LNWGyZOn9OjR66qHfv0HcNxHagt6yge15Sl1E10SXAPRIMpITt6AMnJD/cOPPsZFB+q5BGSKvNDJlaegrWHDRmArZPHuqNEqVLHjKXyW8lwCdu/Wvad6XAAhGzwlzyV8NPZjrCJT9xTYvXtP07CnsWN0dEzvPn0DewqNRIUojGPNn7+gVeu2kKOUCUA1PiDS0KCnfKA8ZcG+p4h9qvEBkYYGPeUDyCjA8+hmIVJLVOMDIg2NYDylfw9ZURffQ0Yyvors2DwOUBJ85J2iY/pv/876H2ekhlTjAyINDfue2gJLeXnKeNPLbziPA6kB/IBIldj1VOb0Ro0aN7J6ChFW40Z1814XzuPwsMAPiFSJPU9hcNd4ZqZ13IcIq+8WF8yLxXkc6jX8gEiV2PLUlv6eN09V9pQRYU3PrKv7U5zH4aGBHxCpElueMl8xbHmfp8zfVxeesrzPk/M41F8snw6SuYEQDVueMjWkecqMsEAdeKpG70eXZDaU1CmWDwXJ3EBIZezFU5WAleT//iqhv5LYVZ5CeyydQSVpLQkxlk9BT2YJQipj7z66YL2P7sEF477A8zigPZbO4DNJy4lzWC64dzLLEeJFvfRUUPM4SJMsXcJ+kt2JfSwX0GYydybEF8F4yjbOe8qaTE/5+t6M2SYPlr7B5JJkfjyE+KFheUqwdBKmOkzmR0JIQBqipwRLh2EKZTI/A0Ls0XA9pWPpRUxOJPNaExI89FQgLD2NyU4yrx0htYctT8E7wWKZZ8HpFGAeB/MkCCH1lod/HgezTYSQegvHfYQQt0NPEULcDj0VUkpL7xw4eBA/zXW3Ypl1hpC6hZ5yBH/z9507d/65FhGpqYfNdbdCTxFXYctT+tsRjHfjma9F16n0Fb8QeMr+PA5mm4Ihac2aRUsWmysayMQmcyUgAeYZrRfQU8RV2PJUI++vH2ts6V/+Ir1ynPZUUPM4mG0KhpWrV7WNilyy9HNz3QNWkYlN5npA/HlKnzp01Hvvf/LJp31ejpaJOXd9vzs+IVGmGh0xclRJSYmU79S568yZsyV/zAcfqTHj4cM/dOjYGZlhTzXDjvKBSflJkz57rFFji2Xw0aqpTHv27J2ZabzlEGRlZb3x5iBkYtPcufNRDJm6p3AWMo2od/7gd4ZOnTYdx8K+qg1yILQKdaKFalpTQqqNLU/9Rl7d6RNfL1Fw2lMyd4O+7AmmfM/jYLYpSJZ/sQJWwk+fq1Vi01Otn2+Xdvo0rv6E2ImPPvY4cgoKCy9dutwusn1iYpKU/3PT/5o5a3ZxcTE6PMrPiZuL/IyMjIhWbTZuSikrKzt27DjqPH78hJRv8mTY0GEjoKF79+4hR+FzavjCwqIePXrFxk5Cg7EJx8Wx8Nnb9BQMlZS05s6dO+vXJz/zbMvLl68gf83adXIgtG3R4iVyIM/ehFQTe56qHC5pGANAz0iwEiGOpwLP42C2KXgwyoObVsWvXrnKCK98jgT9YdNTCxYukvy0tLTnWkTgp6xik6gBJREfZefkSP6q1fEvdusBZ8FB+fn5EAEy5VjLV3yBZZSPat/p+vUbnuIVYBfsmLxho6xCT3Fx8xBJ7dixs32HTnl5eZK/Z89eqConJ9d+PHX/vtEGI79Vm92792D5Jw9GaU97kJ+efk5WCake9jylsARWPt9IFZr76LbncTDbVC1EVcFKCtj0lCqg5wPdU126vAgLSD5EBm1hFR/PwUOHZNz3hz8+giRVWcorkIMdlQcVumsAAqK27aJQieEdG57ymY94benSZRj3ScMQ36nzIqR6BBVPeW6fa7GV950pIRTjPtvzOJhtqhZu89SRo0cRLmEV+c3Cn9mwcRM+MP1YlvIK5NjxFAIfhD+oRPeOPx8FyEdQhtErfodQlX5ehFQPW54y/wWVAihDW/pr0RUOeyro96NXD5GUo+M+VcDSn/15CgM3GffBCKgfR0FmaWlp7z59pSpLeYVl3Icd9+7dV1RUZHPcN2LkKPmFsOMp/bxgxhYtW6nzIqR6BO8pNfTz9cZh4SHwVGjuo6sCej7QPSX30VGh3OeWXVJTDyOe2rXr+4KCgri4eRj9ST7K+/QUCHAfXeq/evUq9vW+jw6XhTd/DsaB7LAVxwrsqcmTp6BO1Ab69R/AcR+pObY8VR40GdPMVNw1151VmRCP+6qcxyFYfAZQEl4F9VyC3KDRb9MgBeupyMgOsbGT5HmC8RNiUTPy8fHIQwyPNWo8btz4mAEDZ8yYJeX9eQofrXou4Y03B2VlZUk+FqKjY5CJTVAeLIZM3TvYceq06SjweOMm744aHR7+bGBPQX+Iv1AeJefPX9CqdVsMV6UYIdXDnqfMu+iV7kZlTm9UV56qxjwOQVHz5zxriwDeIaThEOS4zx7Oe8qaTE89dN9DpqcIAfSUq6GnCAH0FCHE7dBThBC3Q08RQtyOLU/BO8FimWfB6cR5HAh5iOE8DoQQt8NxHyHE7dBThBC3Q08RQtwOPUUIcTu2PFUZea9L5akcKr+FKgSeMr6K7Ng8DoQQVxFUPKW/ZXhLXz8vdQFOe8rpeRwIIa4iCE9VekGC8fIpv5PQOO2pEMzjQAhxD/Y9Zbx8quLtnf5fPgVCHE85NI8DIcQl2PWU5W1TxmoFoZ4Xy0ghmceBEOIGbHrKOv+VMYNDubb0ZSEU476QzONACHEDNj0V6K6594vSHfZUiOZxIIS4BHue8jNPn4nXPXV6ihBSi9jylHE3qtITUvow0PMgVWifn3J6HgdCiKuw5Slf84lqz3l6/cef8/fRHZnHYdTo91bHx5srbkJNPxNiTleeBYeQusLm/angcN5T1mR6qmbfm4Gk2kZFiqpyc3OxMH3mzOiY/khQGJZPec0nHJjDh3+QqdUfa9R4zJgPb9+uZnCnPOVvWkCHoKeIS6CnKqGrSjyFhAV4CrbCJizYtNX+/QeaPBm2aPGS7Jycy5evvPnW2716v1xYWGRuDgZ6ijRw6KlKbP9uO2SkVAWwgEyEV1iGocRWyJGt/rh79+4rA1+TuYUlJy8vLzKqY2JikqxmZmb27NlbZvdctnwFrjsyISOfM4+Kp7AM8cmspWrSdhWyhT3VLD4hUQ6HSl5/4y2kiFZtLHPVIKYbMnS4hHixsZPUrKW7d+9p0zYSNePnvn37pbClDf7a9tmUqcOHj5SJRVGPlEHNEydOfrxxE+RHR8dA1pJPSDWgpyoQScldKqUqyYSelLkQYeki8wkCqIiI5y3zAI+fEDti5ChcWXTa9h06LVi4CJf7/PnzUMOmTSkoENhTWLDEUxkZGTDRxk0pZWVlx44dR/njx08gHwWgoZUrV0FS2CSFAXaPGTAQI1AsZGdn93k5ek7cXOQfOXK0+TMttm3bjvagNigPOci3tMFf21Aeerpz505c3DycV0FhIfInT54S3S8mPz8fyh7zwUcQ2f37FS0hJCjoKRPESuIjLMvNKSUjrMqNKjXiE1VJkOUTvScr0M8lDkresPHFbj2Ki4slf8eOnWvWrsNCsJ66d+8eRCAmkk3LV3yBZRQY/M5Qby/Am3Di9es3ZDUtLW3p0mXwyOjRY8Z9OkE+cvzEMnKwYGmDv7bJlPGSD2+mp5/DvrAVmiT5O3fuav18O0SUskpIsNjyFLwTLJZ5FpxONZ/HAWEU1KNMZBkAQklYVsM9rEJbsJWseqP3ZIXyFBYksDI3lBOsp1DDwUOHZNwn40HZhJ9S3gJ80btP39LSUnPdg9QJdZrrDx5gcCrttLTBX9t85uNXCuNKjPukYYguOVsqqTbomJzHwQCegnpUiCThla4qSEr3FPKxi6x6E3jch45dK57C1mbhz2zYuAl/XvRN+CnlLdj0FIKyGnoKoRzGehj35eYabsJx6SlSEzjuMxH1qBBJVlWy3I2S4EtJzRvv++iFhUXduveU++iWcd+FCxdOnjyFBfT5BQsXSabFBeIdi6fQ/0Uonk2lcFBgT1nGfTdv3kxNPfzLL/dtjvv8tc3bU9JONE/yt27bTk+RmkBPVaDfkwJq6CdJ5YukVGzlD+/nEjBAy8/PxyZ/99HR4bt0efHqtWt5eXkIuLC7coF4B58K8seO/QQiKCsrg2UQT+3a9X1BQUFc3DyM/gJ7Cnv5u48Ov+zevQft+XbrNtTpfR89QNu8PXXv3r1BgwYPGToc8VTa6dORUR3pKVIT6KlKiKowABQNIWLCAjJ1heFnlZISAjzniQG2PJcQHv5sUtIauRdeUlIybNgIZIY91ezdUaNbtGylXKC8A/01DXtabkvjQ4pPSHyiSVPUP27ceDhIbmn78xRQzyVgL6gNcR8yUQ9k91yLCHkuAcKSj195B8sB2ubtKSzDxfAgykNSOJAexxESLPSUlVNpaRIxyZ1yJIgJy8hRqiKEhBJbnjK+3+eh4n2eiAjKX5Wnv5dKCIGnjK8iOzmPA2wFQylhYQGGQg5VRUjoseUp86Uu+ttd1DunvF4+BZz2VF3N44BhICRFVRESYux5ynxZgvGOBAmp9NcQI9qyhFROe8oIpupoHgdRFcIrc50Q4jy2PKW/akqW9Te9eL/1JcTxVIjncQjwOAIhxAlseUrdllKhkx5Deb1FLyT30TmPAyENhnrpKWOsx3kcCGkw1MdxH9+PTkjDImhPVdxH1zylYiuBniKE1CK2POW25xIs4z7O40DIw40tTxkjOw+uec7TkXkcCCHuxJanzH9t47ynrMn0VG18b4YQ4jboKUKI26GnCCFuh54ihLgdeooQ4nZseQreCRbLPAtOp5rP40AIcS2cx4EQ4nY47iOEuB16ihDidugpQojboafciD7/3c2bN48dO65/HiGgTg5qkyXl00qb66QBYMtT7vt+nyPzOFgm7AucAr8iXUQjU5YjhT3VbNq0Gfa7lu6plStXdenarbCwSDaFhjo5qE3oqQaILU+57X0JDs3jAPvIvDJVJpmHxtzNFyIamdgO1zQtLa318+1iYyfplzUAuqeIBXqqAWLPU+arph7yeRwkSjqVlqZ8hGVzW2Wwyb6nhMTEJDVXe3ZOzhtvDpLJPletjpdJRnHF1aSh77//AcIZ8ZTeLUe99/4nn3wq83eGhz+76/vdsgtWR4wcVVJSgjJg3779bdpGIo6LjOoIRUom9v1sytThw0fKvrt375F87DXy3fdwUCRUUlRkxFD6QdG8pKQ12AU7duve8/z58579/FaIvSZOnPx44ybIj46Owcki89atW126vIigEq3VL4uQWT7rKrYuW74Cv4XI9Hdc1TapU6Y19c7HhcXpY19cLmkDUDO/IsLFpdN/y4mbseUp/T15sqy/w1NfFkIcT9XWPA7iKXGQJCyb2ypTDU8lb9jYvkOngsJCeAGbFixchMt95szZtu2itm4zZlfev/9A82daoLffuXMHUoM1fHoKcVna6dP4wCbETnz0sceRgzovXbrcLrI99kKZkydPocyRo0dRf0LCVzhodna27IvOKfXHxc2TxiB/8uQp0f1i8j1gYdynE/DZ6wdNTt4Q0arNiRMnUSGa3aJlq6vXrtmp8O7du2M++Agiu3+/DO6IiHj+pV590tPPSbUKf7PY+zuuHU/hWNDTjRtZubm3evfpO35CLApkZGSgwo2bUmDAY8eOt4xoffz4CdmXuBxbnnLb+9GN5MA8DrqnzCw/BOspdD817tuxYyeiAwmswIwZs9CZkT969BhxBDJLS0vRu3x6Cj3W2O3BAwRKz7WI0MMlJKlHZm8HOAqOJZEOtqp89G30WChD8qdOmy7HvXz5SmrqYWhFHVROBLGJZ78HUM8rA1+T8/JZIeqBraS1AKcgU8zDHVHtO8Gekq8Dg6tIE+D6rFm7LsBxVdsCeEo/FvL79R8Amd67dw/2lOhV6l++4gspQ1xOvfSU5X2etTWPgx1PYasMDO14St1Hx0Bj3LjxyMQmdBuVLwkdXspLQKR29+kprHqKGGpARKB6KTapeiz1Sz3+9kUch7AIw0wMuCTyAuqg3n5BbIKqsOCvQvwywcgY98nREdqgEqA7RQeVYLyp/8KBAMfV2xZg3Oedj0McPHRIxn3SNtV+4nLq47jPqfeji6dEQ2aWF3ZcBsQX0g3wN7xzlxcwBJNNyHz1tTfwt11WBSlfW55S9egE2Bd74VhDh414oknT+IRE5KiDevsC0Z/4wmeFiMVQAOM+DLiQj2pry1PquHrbgvIUcpqFP7Nh4yb8lmMVmar9xOUE7amK++iap1RsJdRrT5krfqiGp0By8oZ2ke0lWtm0KQVd+saNLNmEYYhcbpvjPlUnep23p6CJ4cNHyi0hyVcLPvfFeAqjwpwcc+ZUjLPkWOqgciL+xn3eFUp5aTnYum17lZ6yjPsuXLhw8uSpAMdVbUOdnTp3VSNfPd+np9AqWUCmXGHVfuJybHnKbc8lWMZ9tTWPQwBPiZgkVcNTsjpz1mxcVoRXGHoggsBFLywsGvnue9Ib9fvoy1d84e8+uqpTqUFWxVNYQD1Nngxbs3YdDHX2bPpLvfpcuHhRCnjvi/7/xpuDpDE4xLujRg8aNBixnn5QSLZN20hUhd+PpcuWR7Rqo+6je1eIfVHDkKHDEU+lnT4dGdWxSk8FuI/u87iqbXJVJ8RORONxrNbPt5N8f55KTT2MeGrXru8LCgri4uZh9KfaT1yOLU8ZIzsPrnnO05F5HAJ4yvKwQrCeAtAHOol0nqysrOjoGPQTyCg2dhIKIxNX3M5zCapOpQZZVZ5CPeiKz7WI+MMfHwkPfzYlZbN8lv72vX37NkZ8OCjaA2fJf+HrB0XEB5OGPdUMBbp17wlxGFX4rxA1yJMTkBR0ANdcv34jgKeAei4BDU5KWiO3uv0dV28bMlE/CkD9b7/9juT785R+hceNGx8zYKD6fwDicmx5yvzXNs57yppMT9XsezPRMf3tP+eJwuZuhBCHoacqgIBgHxncVZm2f2c89EQICQH0FCHE7dBThBC3Q08RQtyOLU/BO8FimWfB6cR5HAh5iDnFeRwIIS6H4z5CiNuhpwghboeeIoS4HXqKEOJ2bHnKfd/vc2QeB0KIO7HlKbe9L8GheRwIIe7EnqfMV0095PM4EELciS1P6e/Jk2X9HZ76shDieKq25nEghLgTW55y2/vRjeTAPA6EEHdSLz3l0DwOhBB3Uh/HfU69H50Q4k6C9lTFfXTNUyq2EugpQkgtYstTbnsuwaF5HAgh7sSWp4yRnQfXPOcZ3DwOl65cY2JiqqcJXdiWp8x/beO8p6zJ9BS/N0PIwwg9RQhxO/QUIcTt0FOEELdDTxFC3I4tT8E7wWKZZ8HpxHkcCHmI4TwOhBC3w3EfIcTt0FOEELdDTxFC3A49RQhxO7Y85b7v93EeB0IaELY85bb3JXAeB0IaFPY8Zb5qivM4EELqAFue0t+TJ8v6Ozz1ZSHE8RTncSDk4caWp9z2fnQjcR4HQhoM9dJTnMeBkAZFfRz38f3oToGPf/r0mY81aty3b//S0jsXPCD/9JkzLSNa46cUIyTEBO2pivvomqdUbCXQU+jk6Op/+OMjksKeajZt2gxkmpvdyoEDB8ObP3fk6NF79+7hN2Ds2E8GDRqMZd1TO3fuioh4/tatW7ILISHAlqfc9lyC0/M49O3fr21UZIDUb0CMWdQP4qklS5ZiGdc0LS2t9fPtYmMn6ZfVhcBBEkmZ6+XQU6RuseUpY2TnwTXPeQY3j0Ow/HDkSLv2URY3qYRNKGAW9YPuKSExMenFbj2Ki4uxnJ2T88abg/70yKNPNGm6anV8WVkZMlH49TfeGjFylOTHJyTu+n53ePizWO3zcjR28VTzoKio6KOxH2NohoR4p6SkBB/VuE8njB49Rj4zHKJb956bNqVgGVtRRgpPnTb97t27yJQDIUW0aqPrBvkqAJSWj3rvfSQsKE9hVZWBsKTMhx993PWF7iI47+YZVRNSM2x5yvzXNs57yppMT9Xe92aS1qyx6EmlNevWmoX84+2p5A0b23foVFBYiK6LTQsWLsLlPnPmbNt2UVu3bUcBFMbwEG66c+fOl1+uQj/v13/AjRtZubm3ovvFjJ8QizL4eIYMHf724CH5HpCPVWRivNYusn1OTi7KHD9+IjKqI3ZEPuQ1ZsyHaAxWe/ToJe3BT1S+cuUqSEoUqbDEU96ewrIlnkIBNDslZTNO7ZdffvHZPClJSLWhp/wy6bPJFkMhIdPcHBCLp86fP6/GfTt27ES8I4EVmDFj1pgPPsICCiOYkuuO6KlFy1biL9kk+oApUM+FixclHwtYRSYc0aVrtz179krh4cNH3r9fhvyo9p2uX78hhSFKiA8SRIHB7wxFAcnXqZ6ncAqy7K95skpItaGn/ILoYNDgwbqksIpMc3NAxFNqiISx27hx46X/QxMqX5K4APmyAGABuEAGVkB5Cjlq8AigJ8RoUgwBFxJGdq+++roM+pBvOZBUoh/IAnaphqdQoSwHaB4hNYGeCkRBQUGPXi+JpLCAVXNDVYinpANjBNS5ywsJCV/JJmS++tob9+7dk1WFrg+bnsrLy0PAIsUw9HupV5+jx4698GJ3jPKQg3wZaXrKVqAfyAJ2qUVP6c0jpCbQU1Vw5uwZ8dTF8uGMHXRPgeTkDe0i22dnZ2MZwQ76vKgElJWVybW24ymYwt/ACj7CcPL99z9QY7rjx0+Ehz+Ln56yvg9koYaeCtA8QmqCLU/BO8FimWfB6eToPA7iKXPFHhZPyerMWbNxWRFedejYecTIUbjohYVFI999b9XqeJSx4yl8PEOGDse+2BH1vPHmIP1G9YwZs/7fvzdK3rBRVjEGRAHj/wqzs7Evjj5p0mdQWA09lZaW1qp1WyzjN0bKqNMM3DxCqg3ncaiamnsK7N9/oFn4M9LVs7KyoqNj/vTIo481ahwbO0m8YMdTWC4qKoII5D/+Pxr7MValDDhy9GibtpHqxjlQhXEsKOP2beNq1NBT2Dp8+EhUuHzFF1JGP80AzSOk2nDcVzXV8BQhpBahp6qGniKkbqGnqqZHr5d69u5lrhBCQg49RQhxO7Y85b7v93EeB0IaELY85bb3JXAeB0IaFPY8Zb5qivM4EELqAFue0t+TJ8v6Ozz1ZSHE8RTncSDk4caWp9z2fnQjcR4HQhoM9dJTnMeBkAZFfRz3cR4HQhoWQXuq4j665ikVWwn0FCGkFrHlKbc9l+D0PA6EEFdhy1PGyM6Da57zdHYeB0KIq7DlKfNf2zjvKWsyPcXvzRDyMEJPEULcDj1FCHE79BQhxO3QU4QQt2PLU/BOsFjmWXA6OTqPAyGkbmkQ8zhcunKNiYmpniZ0YY77CCFuh54ihLgdeooQ4nboKUKI27HlKfd9v4/zOBDSgLDlKbe9L4HzOBDSoLDnKfNVU5zHgRBSB9jylP6ePFnW3+GpLwshjqc4jwMhDze2POW296MbifM4ENJgqJee4jwOhDQo6uO4j+9HJ6RhEbSnKu6ja55SsZVATxFCahFbnnLbcwmcx4GQBoUtTxkjOw+uec6T8zgQ0oCw5SnzX9s47ylrMj3F780Q8jBCTxFC3A49VQWr4+ORzBVCSF1ATwVi3ddft42KRMKCmVUbjHrvfSRzpcbcvHnz2LHj6gPbvXtPePizTZ4MO33mzAUPkh8a0JjIqI6LFi8pKyszs3xRWnrnwMGD+GmuExIQesoveXl5q+JXq4RVc4M9cAUPHjrUoWPnPz3y6GONGg8dNuL2bbMxteuplStXdenarbCwCMsFhYU44oKFi+7evXv/ftnYsZ8MGjT43r17UtJpcMRp02ZMnTYdv0Zmlh/OnTv/XIuI1NTD5nrN2LQp5elmzS9cvGiuB8mtW7ciIp7/wx8f0RNykG+WIHWNLU/BO8FimWfB6eTCeRx27NiJoCYxMam0tDQ399aIkaP69R9QUlKCTbXrKR10rS5dXkQkZa43AGDhV197489Nn5oTN9fMqhkwfrfuPWfOmq33AVK3NIh5HILi0qVLGOj16PXSr7/+amY9eDBhYqwMACV1efEFc4Mf4KMePXrpv+vXr9945tmWkBeWdU/hivd5ORox1+ONm8yYMUtFIhi+IeLAH3b83LXre6kH1Y589z1EZ0gQX1GREUMtWbK0b9/+GENBTzCjhAOSYzlQz569caAnmjRdtnyFHAhlJk6cjEMjPzo6JjsnRwpjrw8/+rjrC92lHskEOESnzl1nzpyNSrDLmA8+UlsPH/5Bgsewp5rFJySqEz97Nh0jQeTj6GPGfKia2jKitfgUx/psytThw0eiDEasOHHZ0V/bLCCMQji5anX8S736FBcXm7mV8dc2b7ApNnYSPCXxKXEJHPdZWbhoUecXukJGPxw5YmY9eLBn714Z/a344gtsGvjaq+YGP1y+fAUDhyNHj5rrnjERhjnIx7LSBzoD+hiGabjuV69dQ3/GEAb5GRkZEa3abNyUgnz8hOBkUDN58pTofjH5HrAw7tMJ+JyUp1DAEk+pA6GTt+/QSQ6EP0pt2kbKgVSFGCdCOpAF2ik7okunpGzGQFL/VUDNf276X/AvjAABtX6+nUQxqsFlZWXHjh2Hg44fP4F81AxBjJ8QC6WmnT6N8j49hWNBT3fu3ImLm4d24qDI99c2C2jA6NFj0B7ofs+evWauhr+2+QR/SJqFP3Py5ClznbgDesrKi927L1qyeMCrAydOnmRmaUyfOaNTl85Xr1411/2g90NvlD5wudEP8VPlo0NiATtGRnaQo6CXog/n5ORKganTpstnA+VBfOi6djyVvGHji916qHADvXHN2nWoB0aQHcHOnbvgEbkNh70Q3Em+DmpGPKVCG0QxUi0GXzgRuXeOCtGe5Su+wDIOhDql8UAP/XRPqWMhB05JTz8XoG06CDCVntAYny7z1zZvxOaff75U/+0nboCeqsT+A/sRLp1NT/9i5ZftO3XEdTE3eEjesAFbDxw8aK77R++H3ih9gEuXLsu4T8Zrko/uhC7356ZPvTf6/X379iuR7d9/AKEHQjAM3LKzsyXTjqdQBuNE/UMVcIIY5mBsJUdXN4+xF3aRMjqoGfVLGZCWlgZtYRU1q/80kKpkd71t+qp+ffRj6fn+2qYDQ+HqyV0/GQDeuJElmxT+2mYBFxlDXXUPkbgKeqoSn3z6aZcXXzh56tTGlE1Q0qYUY3AknEpLQ87S5cvN9YB4j/twQVWAoPQB17SLbD9/wUL5LzmVD1A+MzNz4aLFGKN17/GS6qKoAcHF0GEjnmjSND4hETm6C1DMvqcQeiB8w9gqN9eoHNUG6ymcYFT7TlhFPoZLGzZuwi8QWoL2yO562/RV3Uf6sVR+gLYpcDoY8Yl6VEJUZW4ux1/bLHy7dVvzZ1pgMGuuEzdhy1Pu+36fI/M4YPzSrn0UZKTSO0OHyKbbt29369lj9Jgx+s31AMh9dP1/oHzeR0cXUt0eVxwqkXw1psMyBjuRUR3RUfUBIECHlD6vuwBV+fSUZdx34cKFkydPSadFzZK5ddv2YD2lqkUlqg2lpaW9+/SV3dFgjKTUeE01FfUE9lSAtikQOiGak0oEtOeVga/hQpnrHvy1TScrK6ttuyhEqeY6cRm2POW29yU4NI/D19/8BW66ceOGrK5PXo9VnAuWR456F8uLliyWu+l2nlDH3+enmzX/5pv1uLL+nkvIyMhAt1wdn4CunpS0BmMcycf4Dn/b9+7dV1ZW9sMPRxAOQFvofm+8OQj14NNCr3t31Gh5Nkp1fuzoz1M+76NjX9QwZOhwNC/t9GnY0I6n5D46DofGIxiUYmgeGrlr1/cFBQVxcfMwwpL8/Pz8zl1eQPnA99HVsVR+gLYpEhOT1IkL+GMA3Vhuk/trmwLXBHEZrq1FcMQ92POU+aqph3weh4Gvv/b6W2+aK55nJuGmpcuWYbn/KwOwrCcpEwBcQUQTkZEd0DEgoA8+HOvzOU+UCQ9/FmXQJ5E5+J2hCKOwb0rKZnkuAVvXrvtaPg/UgBHfY40aozz6ldzPRq+r0lNAPZeACuFEua+MGuTuGESAPgx/oasjH3tZOrOAmnFGsbGT5LmE8RNi5bhoHgahyETbxo0bHzNgoLo1rj+XgGptegrL/tomwCkInSzPTOHS4QKq/2oQArRNwEWDBPXBI5I80G+WIHWNLU/p78mTZf0dnvqyEOJ4ivM4hAx0XX3cZwcZvQoQhPImIfax5Sm3vR/dSM7P45CbmyujPElYNTc0YIL1FEZtL/fth5gRtjpy9Gh48+e2bttubiPENvXSU8ZYLyTzOHy+bKmM8uApM6thU414Sn8WfNXqeBlvEhIU9XHcF9L3o0NVSOYKIaQuCNpTFffRNU+p2Ep4mDxFCKlzbHnKbc8lWMZ9nMeBkIcbW54yRnYeXPOcJ+dxIKQBYctT5r+2cd5T1mR6qja+h0wIcRv0FCHE7dBThBC3Q08RQtwOPUUIcTu2PAXvBItlngWnkwvncSCE1Bacx4EQ4nY47iOEuB16ihDidugpQojboacIIW7Hlqfc9/0+R+ZxIIS4E1uectv7Ehyax4EQ4k7secp81dRDPo+DT1bHx9uZXYYQ4hy2PKW/J0+W9Xd46stCiOMp5+ZxWPf11/LeYSyYWbXBKG0amJpz8+bNY8eOqw9MJrCR6VIueJD80IDGREZ1XLR4SeD3C5eW3jlw8KA+pRUhAbDlKbe9H91Izs/jkJeXp8/joCbLtAmuoJou/LFGjYcOG+FzXqyas3Llqi5duxUWFmG5oLAQR1ywcNHdu3fv3y8bO/YTmeNPSjoNjjht2oyp06bj18jM8sO5c+efaxGRmnrYXK8WS5YstUxmheRzOi87oPHDh4/0nqaUuIF66SnL+zydm8ehJuzYsRNBTWJiUmlpqb95Rmsdy/x9DYrk5A0tWra6eu2auR4kly9feebZls3Cn7FMU0rcQH0c9zn4fvQ33x4kAz1Jbw1+29zw4MGvv/7ao9dLyLxy5YqZ5R+Zt33mrNnqOvqctx1kZmbKbJqPN24yY8YsFYlg+CbzjOLnrl3fSz2oduS77yE6Q4L4ioqMGErNMwo9wYwSVkiO5UAyz+gTTZouW75CDoQyEydOxqGRHx0dIxOXAuz14Ucfd32hu2XCYRyiU+euM2fOlnlGx3zwkdqqzysTn5CoTlyfZ3TMmA99zjP62ZSpiGVQBiNWnLjs6K9tPrl46VJ48+egKnNdw98VtrBqdTxiXpy1ZRZS4gaC9lTFfXTNUyq2Euqvp1I2b5ZR3sJFi6CksZ98bG548OBQaipyOnXtsnDxIjPLP/jjHBHx/JGjR811z7ACwxzkY1npA4M1DNlkOnUEAujPmzalID8jIyOiVZuNm1KQj58Q3IWLF5E/efKU6H4x+R6wMO7TCficlKdQwBJPqQOhk3vP2458VSEGO5AOZIF2yo7QTUrKZgwk9V8F1CzzthcXF0NArZ9vJzMSqwaXlZUdO3YcDpKoBDVDXuMnxAaetx3Hgp7u3LkTFzcP7cRBke+vbd6gwpgBA0ePHuPtIH9X2AL+ALzUqw/+iqDZ3br3DHaMT5zGlqfc9lyCZdxX6/M4IHQa8e5IRE8FBQVm1oMH42MnDHh14LwFC5BvZvlH74feKH3gcqMfqt6FTHRILGDHyMgOV69exTJ6KfpwTo4xyykKqEnJoTyID13XjqeSN2x8sVsPyEXy0SHXrF2HemAE2RHs3LkLHpEuir18hhWoGfGUCm0Qg0i19+7dw4nIvXNUiPYsX/EFlnEg1CmNB3rop3tKHQs58F16+rkAbfMG4SEEdPPmTXNdw98VtqD0hKv96quv+3QZqUNsecoY2XlwzXOezs7jgGCqfaeO57X/KcMFQjCFOCstLQ0LBw4eNDf4Qe+H3ih9gEuXLsuoRMZrko/+ifDhz02fem/0+/v27VfdbP/+Awg9ECCgZ2ZnZ0umHU+hDMaJ+ocq4LxiYydhQCRHRwwoc4hiL+wiZXRQsz7PKK4GtIVV1Kz+00Cqkt31tumr+vXRj6Xn+2ubhVOn0po/0+LbrdvMdS98XmEdNB6RqQSGAPINELuROsGWp8x/beO8p6zJ9FRtfG/mux07YKJvt35rrntI3rABmZtSUk6eOoWh37jxn5ob/OA97sMFVQGC0gdc0y6y/fwFC+W/5FQ+QPnMzMyFixZjjNa9x0uqi6IGBBdDh414oknT+IRE5OguQDH7nkJXRHCBsVVurlE5qg3WUzjBqPadsIr8ZuHPbNi4Cb9AaAnaI7vrbdNXdR/px1L5Adqmg/Fav/4DPv54nD+tBLjCCoR7COLEYpLwx0AG2sQl0FOVQAyFSCpurvmnVTFo8GB4SiWUUWMon8h9dPUnGvi8j44Oqbo9rjhUIvlqTIdlDEYwqEFH1QeAAH/2pc/rLkBVPj1lGfdduHDh5MlTIhTULJlbt20P1lOqWlSi2lBaWtq7T1/ZHQ1u36GTGq/Z91SAtilwxRYtXoKLE+AWu95g/QrrYJQXHR0jjQe47IPfGYrLK6vEDdBTlejxUk9oaMWXX8jd9PUbkpF59do1ZCKkkjKy+s369bLqD4xEnm7W/Jtv1uPK+nsuISMjA91ydXwCunpS0hqMcSQf4zuMZfbu3VdWVvbDD0cQqkBb8NQbbw5CPfi00KneHTVano2y4ymf99GxL2oYMnQ4mpd2+jQ6vB1PyX10HA6NR6gixdA8NHLXru8LCgri4uZhkCX5+fn5nbu8gPKB76N7eypA2xRQLQ6Ka2Wu+8LfFVbgQK++9oblZOFf/JmRD4u4AXqqEhIuqRTzygBkLv58Sbv2UYWe/4QSBrw68M23B5krfsAVRDQRGdlB/kf8gw/H+nzOE2XCw59FGfRJZOIvOf6eY9+UlM3yXAK2rl33tXweqAEjvscaNUZ5OEviCPSxKj0F1HMJqBA9Vu55owa5dwMRwC/wF+I+5GMvS9cVUDPOKDZ2kjyXMH5CrBwXzcMgFJlo27hx42MGDFS3xvXnElCtTU9h2V/bFNhLH6xJUuer8HmFzW0ILS9ehAEtz0zhQDjcoUOp5jqpa+gpEgQwiD7us4MuBcjL2yOEVIktT8E7wWKZZ8Hp5MQ8Drm5uTL6k4RVc0MDJlhPYdT2ct9+iGhgqyNHj4Y3f27rtu3mNkJsw3kcAvH5sqUyAISnzKyGTTXiKf059VWr4wN/P5kQn3DcVwVQFZK5QgipC+gpQojboacIIW6HniKEuJ3qe6pOv9/HeRwIaUBU11Ocx4EQEiqq6SkjmGoY8zgQQuqcanqqTt/nGbp5HAghbqD6nlIxVOjfj24k5+dxIIS4hHrpKcv7PN05jwMhpLaoj+M+B9+PTghxITW4j655KrT30ekpQhoW1fTUwz2PAyHEVVTXU3X8nKez8zgQQlxF9T0VAOc9ZU2mp/i9GUIeRugpQojboacIIW6nQXjq0pVrTExM9TShCzOeIoS4HVuegneCxTLPgtPJiXkcCCEugfM4EELcDsd9hBC3Q08RQtwOPUUIcTv0FCHE7djylPHmFg99N5lZoE6/38d5HAhpQNjyFARlvMNlU19zAXAeB0JIqLDnKfNVU5kzG5shlRFMcR4HQkhIsOWpcg0ZnpLlOn2fJ+dxIKRhYctT6raUCp30GCr070c3EudxIKTBUC89xXkcCGlQ1MdxH9+PTkjDImhPVdxH1zylYiuBniKE1CK2POW25xI4jwMhDQpbnjJGdh5c85wn53EIBWVlZfrvASF1hS1Pmf/axnlPWZPpqVr63szq+Pi2UZEBklnuYeT+/bJxn074zyf+vGXLtwcPHfrgw7H6r0KIKS2907dv/507d8nygYMH8VM2eVNlgWow6r33kcwVUnfQU1ZEUtEx/bGANGr0e1iVTCzLqlnUP9LB/vDHR/Qk/S0E4EAREc/funXLXA8G7PX22+9kZ2ePHfsJbBWyNvtELqO04dy588+1iEhNPSybvKmyQDWgp1wCPWUFhpo+c6a5Uq4tLIit1GpgpIMtWbLUXA8tNfGUq9A9VSfQUy6BnrIiPjJXNGrLU1lZWW+8OehPjzz6RJOmc+fOxxVHJpzSpcuL06bNQCb2ktU5cXPDw59FyT4vR1+8dGnEyFGyV3xConw82HfZ8hVhTzVDfoeOnc+eTUcm+pUlgsvMzEQNKPN44yYzZsySI0p+z569pU7UI/lo+cSJk1ES+dHRMdk5OVK4rKwsKWmNtKdb957nz5+XfJ3bt28PGTocBR5r1Dg2dhKqQiaaunv3njZtI9Ee/Ny3b78UPn3mTKfOXRMSvpI6cXYlJSVSHieIJqGS99//oEvXbnIWKN8yojV+YllOHGWwI04BJ2Ip4O+guLaD3xk6ddp0VF7llQT0lEugp6z48xQyT6Wl1dBThYVFPXr0kj6ckZHRLrL9zFmzca0hJkRAL/Xqk55+DptkFV03Ly/v6rVrcNafm/4XNHHnzp0NGzdhdHP58hXUtmbtusiojqgHElm0eAl2l66ux1M4Irr6goWL8NGiKpTftCkF+RBQ+w6dJB/SQWeW/MmTp0T3i8nPz7979+6YDz4aPnzk/ftlyE9O3hDRqs2JEyfxW4K9WrRshdqQr0CzYwYMHDPmQyxg2AgzwrPIP3LkaPNnWmzbth0H2rgpBS5ADvIhlCZPhuEcCwoLL1y82Pr5domJScjfv/8AysMyOFnkQCjenoJT5MTRyNlz4uTE9QL+DopPBBXKlVy/PvmZZ1sGvpL0lEuw5Sl4J1gs8yw4nWpxHgdoaNTo9yR08k7Vvj8lv+47duyEHWAfKbZnz16oKicnF06Jat/pyFGjLwGsItZIS0uTVXihd5++paWlsgkOkq77kwdPEaMbwyPQHJZ1T+EThXTw01PK6HiwDxaSN2x8sVuP4uJiyUfD0FfxqcMaaLxkoh7oA62V01m12tQ37PDKwNcsFkbjIbvr12/IKhq/dOkylBw9esy4TyfI7xN+Yhk5WECDccqqvDQM+Xp5nDJO3OIptBktR/s9+xkijoubhyhVFbBUgp/qoBJPiXmNK9mqDYSIZX9Xkp5yCZzHwQo0VGUyi/pHOrZ3PKX3E4A/5m3bRaFjoM8gaMKC5FtWsRdqE33onoIF4AIEC6JChCeyi+4pcOnSZRn36cZEnYhlpCfr4E8Wwj2M+6Sw1AN0jYLxE2ItHRgHVTJVyHVQTgEIkeRc0FSco2qkGEHKS2AFZNXiKeyiS1yhCgQ4KM5aNRv1VHklpVWe4qQu4bjPCjSEuMlc8QKbatFT+KONP93S96rhKeQjHIOG8GmhsBr16J7CEAxl5i9YeO/ePayqjod9vT2FhiGowbgvN9fYV9UDLJ5CMUsHRmE7nlq+4gs5FzQ1ZJ5SB8VZq2ajniqvpLTKU5zUJfSUFWiotsZ9+O0318sJMO6rhqfQhdQh0G9btGwluyi/YBk5Sgf4UOEm6Xjoxvq478KFCydPntK9ALZu2y71SH5Q476bN2+mph7+5Zf7AcZ93p5CfrDjPrRt7959RUVFqoClEvzUx33KO3aupLRK8kkdQk9ZgYxgIn8pOqb/9u+2m0X9489Tch995qzZKHD16lV0VHUfvRqemjx5CmpDPaBf/wFqtIKe1qp1WyzjQ83IyEDvXR2fgO6dlLQGAzrpeD7voyPmGjRo8JChwxFPpZ0+HRnVUfkuOXkDypw9m47fkqXLliMMtH8fHQ3YvXsPDvTt1m3Nwp9R99G9PYUF/T464qBq30f3eVB/nvJ3JVWrSN1StacePPj/Af48d7L9lBsdAAAAAElFTkSuQmCC)"
      ],
      "metadata": {
        "id": "D_5edSqyFIn-"
      }
    },
    {
      "cell_type": "markdown",
      "source": [
        "🔹 Em python, é possível descartar uma coluna simplesmente usando a atribuição anterior, deixando uma coluna de fora"
      ],
      "metadata": {
        "id": "q9PN6EGe-MMO"
      }
    },
    {
      "cell_type": "markdown",
      "source": [
        "🔹 Mas existem outras forma, usando a função drop(), especificando o nome da coluna"
      ],
      "metadata": {
        "id": "aF5CdwoQ-Q00"
      }
    },
    {
      "cell_type": "code",
      "source": [
        "df_receitas = df_receitas.drop(columns=[\"cliente_cidade\"])"
      ],
      "metadata": {
        "id": "OKHS1Ps49YX4"
      },
      "execution_count": null,
      "outputs": []
    },
    {
      "cell_type": "markdown",
      "source": [
        "🔹 Se verificarmos com .columns, veremos que a coluna simplemente sumiu"
      ],
      "metadata": {
        "id": "PA1BfUdJ-oec"
      }
    },
    {
      "cell_type": "code",
      "source": [
        "df_receitas.columns"
      ],
      "metadata": {
        "colab": {
          "base_uri": "https://localhost:8080/"
        },
        "id": "THTGuFLV-kV2",
        "outputId": "e9764f94-08e1-4a25-fb71-6de5ca64cb14"
      },
      "execution_count": null,
      "outputs": [
        {
          "output_type": "execute_result",
          "data": {
            "text/plain": [
              "Index(['atendimento_id', 'data_lancamento', 'receita_codigo',\n",
              "       'venda_quantidade', 'venda_valor', 'cliente_id', 'cliente_sexo',\n",
              "       'cliente_nome', 'cliente_nascimento_data', 'cliente_origem',\n",
              "       'profissional_nome', 'profissional_especialidade', 'pagamento_data',\n",
              "       'pagamento_forma'],\n",
              "      dtype='object')"
            ]
          },
          "metadata": {},
          "execution_count": 829
        }
      ]
    },
    {
      "cell_type": "markdown",
      "source": [
        "🔹 Se quiser jogar fora mais de uma coluna ao mesmo tempo, basta passar como parâmetro."
      ],
      "metadata": {
        "id": "tPI1f14y-9Zk"
      }
    },
    {
      "cell_type": "code",
      "source": [
        "df_receitas = df_receitas.drop(columns=[\"profissional_nome\", \"cliente_nome\"])"
      ],
      "metadata": {
        "id": "3ByihYdb-8iN"
      },
      "execution_count": null,
      "outputs": []
    },
    {
      "cell_type": "markdown",
      "source": [
        "🔹 Se não quisermos reatribuir o DataFrame (df_receitas = ...), podemos usar o parâmetro inplace=True. No entanto, cuidado com a sequência de aplicação (a sequência da receita importa!), porque você pode estar pedindo para jogar fora algo que já o foi"
      ],
      "metadata": {
        "id": "BI7xJz5YJ_fO"
      }
    },
    {
      "cell_type": "code",
      "source": [
        "df_receitas = df_receitas.drop(columns=[\"profissional_nome\", \"cliente_nome\"], inplace=True)"
      ],
      "metadata": {
        "colab": {
          "base_uri": "https://localhost:8080/",
          "height": 287
        },
        "id": "YkX9p3KdJ_K4",
        "outputId": "f1b701e5-1074-4bf9-ec00-97c9d54f155e"
      },
      "execution_count": null,
      "outputs": [
        {
          "output_type": "error",
          "ename": "KeyError",
          "evalue": "\"['profissional_nome', 'cliente_nome'] not found in axis\"",
          "traceback": [
            "\u001b[0;31m---------------------------------------------------------------------------\u001b[0m",
            "\u001b[0;31mKeyError\u001b[0m                                  Traceback (most recent call last)",
            "\u001b[0;32m/tmp/ipython-input-831-3063140496.py\u001b[0m in \u001b[0;36m<cell line: 0>\u001b[0;34m()\u001b[0m\n\u001b[0;32m----> 1\u001b[0;31m \u001b[0mdf_receitas\u001b[0m \u001b[0;34m=\u001b[0m \u001b[0mdf_receitas\u001b[0m\u001b[0;34m.\u001b[0m\u001b[0mdrop\u001b[0m\u001b[0;34m(\u001b[0m\u001b[0mcolumns\u001b[0m\u001b[0;34m=\u001b[0m\u001b[0;34m[\u001b[0m\u001b[0;34m\"profissional_nome\"\u001b[0m\u001b[0;34m,\u001b[0m \u001b[0;34m\"cliente_nome\"\u001b[0m\u001b[0;34m]\u001b[0m\u001b[0;34m,\u001b[0m \u001b[0minplace\u001b[0m\u001b[0;34m=\u001b[0m\u001b[0;32mTrue\u001b[0m\u001b[0;34m)\u001b[0m\u001b[0;34m\u001b[0m\u001b[0;34m\u001b[0m\u001b[0m\n\u001b[0m",
            "\u001b[0;32m/usr/local/lib/python3.11/dist-packages/pandas/core/frame.py\u001b[0m in \u001b[0;36mdrop\u001b[0;34m(self, labels, axis, index, columns, level, inplace, errors)\u001b[0m\n\u001b[1;32m   5579\u001b[0m                 \u001b[0mweight\u001b[0m  \u001b[0;36m1.0\u001b[0m     \u001b[0;36m0.8\u001b[0m\u001b[0;34m\u001b[0m\u001b[0;34m\u001b[0m\u001b[0m\n\u001b[1;32m   5580\u001b[0m         \"\"\"\n\u001b[0;32m-> 5581\u001b[0;31m         return super().drop(\n\u001b[0m\u001b[1;32m   5582\u001b[0m             \u001b[0mlabels\u001b[0m\u001b[0;34m=\u001b[0m\u001b[0mlabels\u001b[0m\u001b[0;34m,\u001b[0m\u001b[0;34m\u001b[0m\u001b[0;34m\u001b[0m\u001b[0m\n\u001b[1;32m   5583\u001b[0m             \u001b[0maxis\u001b[0m\u001b[0;34m=\u001b[0m\u001b[0maxis\u001b[0m\u001b[0;34m,\u001b[0m\u001b[0;34m\u001b[0m\u001b[0;34m\u001b[0m\u001b[0m\n",
            "\u001b[0;32m/usr/local/lib/python3.11/dist-packages/pandas/core/generic.py\u001b[0m in \u001b[0;36mdrop\u001b[0;34m(self, labels, axis, index, columns, level, inplace, errors)\u001b[0m\n\u001b[1;32m   4786\u001b[0m         \u001b[0;32mfor\u001b[0m \u001b[0maxis\u001b[0m\u001b[0;34m,\u001b[0m \u001b[0mlabels\u001b[0m \u001b[0;32min\u001b[0m \u001b[0maxes\u001b[0m\u001b[0;34m.\u001b[0m\u001b[0mitems\u001b[0m\u001b[0;34m(\u001b[0m\u001b[0;34m)\u001b[0m\u001b[0;34m:\u001b[0m\u001b[0;34m\u001b[0m\u001b[0;34m\u001b[0m\u001b[0m\n\u001b[1;32m   4787\u001b[0m             \u001b[0;32mif\u001b[0m \u001b[0mlabels\u001b[0m \u001b[0;32mis\u001b[0m \u001b[0;32mnot\u001b[0m \u001b[0;32mNone\u001b[0m\u001b[0;34m:\u001b[0m\u001b[0;34m\u001b[0m\u001b[0;34m\u001b[0m\u001b[0m\n\u001b[0;32m-> 4788\u001b[0;31m                 \u001b[0mobj\u001b[0m \u001b[0;34m=\u001b[0m \u001b[0mobj\u001b[0m\u001b[0;34m.\u001b[0m\u001b[0m_drop_axis\u001b[0m\u001b[0;34m(\u001b[0m\u001b[0mlabels\u001b[0m\u001b[0;34m,\u001b[0m \u001b[0maxis\u001b[0m\u001b[0;34m,\u001b[0m \u001b[0mlevel\u001b[0m\u001b[0;34m=\u001b[0m\u001b[0mlevel\u001b[0m\u001b[0;34m,\u001b[0m \u001b[0merrors\u001b[0m\u001b[0;34m=\u001b[0m\u001b[0merrors\u001b[0m\u001b[0;34m)\u001b[0m\u001b[0;34m\u001b[0m\u001b[0;34m\u001b[0m\u001b[0m\n\u001b[0m\u001b[1;32m   4789\u001b[0m \u001b[0;34m\u001b[0m\u001b[0m\n\u001b[1;32m   4790\u001b[0m         \u001b[0;32mif\u001b[0m \u001b[0minplace\u001b[0m\u001b[0;34m:\u001b[0m\u001b[0;34m\u001b[0m\u001b[0;34m\u001b[0m\u001b[0m\n",
            "\u001b[0;32m/usr/local/lib/python3.11/dist-packages/pandas/core/generic.py\u001b[0m in \u001b[0;36m_drop_axis\u001b[0;34m(self, labels, axis, level, errors, only_slice)\u001b[0m\n\u001b[1;32m   4828\u001b[0m                 \u001b[0mnew_axis\u001b[0m \u001b[0;34m=\u001b[0m \u001b[0maxis\u001b[0m\u001b[0;34m.\u001b[0m\u001b[0mdrop\u001b[0m\u001b[0;34m(\u001b[0m\u001b[0mlabels\u001b[0m\u001b[0;34m,\u001b[0m \u001b[0mlevel\u001b[0m\u001b[0;34m=\u001b[0m\u001b[0mlevel\u001b[0m\u001b[0;34m,\u001b[0m \u001b[0merrors\u001b[0m\u001b[0;34m=\u001b[0m\u001b[0merrors\u001b[0m\u001b[0;34m)\u001b[0m\u001b[0;34m\u001b[0m\u001b[0;34m\u001b[0m\u001b[0m\n\u001b[1;32m   4829\u001b[0m             \u001b[0;32melse\u001b[0m\u001b[0;34m:\u001b[0m\u001b[0;34m\u001b[0m\u001b[0;34m\u001b[0m\u001b[0m\n\u001b[0;32m-> 4830\u001b[0;31m                 \u001b[0mnew_axis\u001b[0m \u001b[0;34m=\u001b[0m \u001b[0maxis\u001b[0m\u001b[0;34m.\u001b[0m\u001b[0mdrop\u001b[0m\u001b[0;34m(\u001b[0m\u001b[0mlabels\u001b[0m\u001b[0;34m,\u001b[0m \u001b[0merrors\u001b[0m\u001b[0;34m=\u001b[0m\u001b[0merrors\u001b[0m\u001b[0;34m)\u001b[0m\u001b[0;34m\u001b[0m\u001b[0;34m\u001b[0m\u001b[0m\n\u001b[0m\u001b[1;32m   4831\u001b[0m             \u001b[0mindexer\u001b[0m \u001b[0;34m=\u001b[0m \u001b[0maxis\u001b[0m\u001b[0;34m.\u001b[0m\u001b[0mget_indexer\u001b[0m\u001b[0;34m(\u001b[0m\u001b[0mnew_axis\u001b[0m\u001b[0;34m)\u001b[0m\u001b[0;34m\u001b[0m\u001b[0;34m\u001b[0m\u001b[0m\n\u001b[1;32m   4832\u001b[0m \u001b[0;34m\u001b[0m\u001b[0m\n",
            "\u001b[0;32m/usr/local/lib/python3.11/dist-packages/pandas/core/indexes/base.py\u001b[0m in \u001b[0;36mdrop\u001b[0;34m(self, labels, errors)\u001b[0m\n\u001b[1;32m   7068\u001b[0m         \u001b[0;32mif\u001b[0m \u001b[0mmask\u001b[0m\u001b[0;34m.\u001b[0m\u001b[0many\u001b[0m\u001b[0;34m(\u001b[0m\u001b[0;34m)\u001b[0m\u001b[0;34m:\u001b[0m\u001b[0;34m\u001b[0m\u001b[0;34m\u001b[0m\u001b[0m\n\u001b[1;32m   7069\u001b[0m             \u001b[0;32mif\u001b[0m \u001b[0merrors\u001b[0m \u001b[0;34m!=\u001b[0m \u001b[0;34m\"ignore\"\u001b[0m\u001b[0;34m:\u001b[0m\u001b[0;34m\u001b[0m\u001b[0;34m\u001b[0m\u001b[0m\n\u001b[0;32m-> 7070\u001b[0;31m                 \u001b[0;32mraise\u001b[0m \u001b[0mKeyError\u001b[0m\u001b[0;34m(\u001b[0m\u001b[0;34mf\"{labels[mask].tolist()} not found in axis\"\u001b[0m\u001b[0;34m)\u001b[0m\u001b[0;34m\u001b[0m\u001b[0;34m\u001b[0m\u001b[0m\n\u001b[0m\u001b[1;32m   7071\u001b[0m             \u001b[0mindexer\u001b[0m \u001b[0;34m=\u001b[0m \u001b[0mindexer\u001b[0m\u001b[0;34m[\u001b[0m\u001b[0;34m~\u001b[0m\u001b[0mmask\u001b[0m\u001b[0;34m]\u001b[0m\u001b[0;34m\u001b[0m\u001b[0;34m\u001b[0m\u001b[0m\n\u001b[1;32m   7072\u001b[0m         \u001b[0;32mreturn\u001b[0m \u001b[0mself\u001b[0m\u001b[0;34m.\u001b[0m\u001b[0mdelete\u001b[0m\u001b[0;34m(\u001b[0m\u001b[0mindexer\u001b[0m\u001b[0;34m)\u001b[0m\u001b[0;34m\u001b[0m\u001b[0;34m\u001b[0m\u001b[0m\n",
            "\u001b[0;31mKeyError\u001b[0m: \"['profissional_nome', 'cliente_nome'] not found in axis\""
          ]
        }
      ]
    },
    {
      "cell_type": "markdown",
      "source": [
        "### 💡 Descartando uma coluna com nulidade"
      ],
      "metadata": {
        "id": "IORHJpbs_ynT"
      }
    },
    {
      "cell_type": "markdown",
      "source": [
        "🔹 É possível descartar uma coluna com todos ou algum valor nulo, utlizando a função dropna()"
      ],
      "metadata": {
        "id": "zj6OjtrhKiue"
      }
    },
    {
      "cell_type": "code",
      "source": [
        "# axis = 1 identifica para dropar colunas\n",
        "# how identifica o critério de nulidade\n",
        "\n",
        "df_receitas = df_receitas.dropna(axis=1, how=\"all\")"
      ],
      "metadata": {
        "id": "TpLskaKi_4g_"
      },
      "execution_count": null,
      "outputs": []
    },
    {
      "cell_type": "markdown",
      "source": [
        "[Clique para ver documentação](https://pandas.pydata.org/docs/reference/api/pandas.DataFrame.dropna.html)"
      ],
      "metadata": {
        "id": "Xe8byLFqK5X3"
      }
    }
  ]
}