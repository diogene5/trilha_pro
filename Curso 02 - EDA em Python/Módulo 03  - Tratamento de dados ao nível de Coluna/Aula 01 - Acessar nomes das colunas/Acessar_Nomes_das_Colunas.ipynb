{
  "nbformat": 4,
  "nbformat_minor": 0,
  "metadata": {
    "colab": {
      "provenance": [],
      "collapsed_sections": [
        "z9f1lGMGkd6o",
        "UAGP2SvBlek-",
        "3HLQLiaYljTy",
        "9u69PH_wlt3R",
        "YNlroEKnl5Qh",
        "sjJtRB2HmPE-",
        "PUa5ZqztmUIY",
        "tV6dNoCapObO",
        "hE6ZcNrirVob",
        "JIxMwvUp4nRl",
        "zC1-7d975IoM",
        "6yctnn2F5XcT",
        "1vcexPxstS_2",
        "aPkUQfJ2-cp_",
        "HdPurm7V-jnr",
        "8JcGLKpi4v1F",
        "1ETnkHPfsBUw",
        "g1m-Rp84_Y46",
        "zCoatH_-_tzq",
        "NnmqqhEuG1K6",
        "9M_F0gU3G9Nz",
        "FEiKOMl-HGec",
        "G03d8rpiHhL-",
        "GLI4H4MPm2uM",
        "SyzZAD8GoGqs",
        "py6uT9sIARSD",
        "fkXN-sDzBcFr",
        "NDl9NeZmncEC",
        "1_sa1VRKFW8P",
        "G4dmIyweGS7A",
        "iPlySAxMDhlV",
        "ZhGLNriXL0Qp",
        "wBX8JB4fQAxX",
        "qdAVR8I0QbDm",
        "p1YfTBbwzjBn",
        "czytOLfL0mB2",
        "EblKvSmP2Sk2",
        "bFMGfseH3_Sx",
        "zzAGyLjpQnW2",
        "j-8s2a7NV8Ga",
        "LZrd3ADPWiYI",
        "7wB-khdL6sP2",
        "pLNOpoIvWCb8",
        "Ma4ly9C9a_p1",
        "UQC0kKF69V07",
        "IORHJpbs_ynT",
        "oGg3omJ2WtB1",
        "T_avB6YHWP61",
        "-meE11FsWVBN",
        "Xtb9bf4FXKKC",
        "cDWW8cztW7RQ",
        "Q-A83Yy6XPMO",
        "J_AhEDYcXt7H",
        "vP9hk0KPX5WL",
        "I6IVvku8YB85",
        "FoDHN5Rs0g3q",
        "qMkGDKPlX9BR",
        "TI1KJYk1YJsz",
        "Cb8jIYI4JIwq",
        "ObiABSxMKALg",
        "HaKrzq85Vrx0",
        "SaC9ggT7MqL_",
        "kF_JgXRRMvWj",
        "XNbRoIt7C_xy",
        "zsO7dr3UDD9a",
        "ohOcDsmDDGed",
        "i_yx6PKXE4Yp",
        "Br2m-rt2FES9",
        "EJrxFTjJFvLR",
        "zGHhCLCFYQqv",
        "cfC2voc99SzR",
        "pTptuDho9Wm6",
        "bgw6CAF2YYwF",
        "c6ieaQPZZs6V",
        "VV-twW6oZvEa",
        "vtP1X2UZOM82",
        "pSljKCv7YcJm"
      ]
    },
    "kernelspec": {
      "name": "python3",
      "display_name": "Python 3"
    },
    "language_info": {
      "name": "python"
    }
  },
  "cells": [
    {
      "cell_type": "markdown",
      "source": [
        "# 📌 Transform: Primeiro Tratar"
      ],
      "metadata": {
        "id": "zzAGyLjpQnW2"
      }
    },
    {
      "cell_type": "markdown",
      "source": [
        "[Clique para acessar os dados](https://docs.google.com/spreadsheets/d/1YQhDNSt1sOrzq6AKxyYG6wzRAvM-M7l7jJRIHunNB88/copy?gid=1190375422#gid=1190375422)"
      ],
      "metadata": {
        "id": "FY6pZXcx192P"
      }
    },
    {
      "cell_type": "code",
      "source": [
        "import pandas as pd\n",
        "import numpy as np"
      ],
      "metadata": {
        "id": "RI7M3nq82Obq"
      },
      "execution_count": null,
      "outputs": []
    },
    {
      "cell_type": "code",
      "source": [
        "df_receitas - pd.read_csv('/content/Cópia de Dados - TCC - Planilhas - Receitas.csv')"
      ],
      "metadata": {
        "id": "3yu1_PuY79pR"
      },
      "execution_count": null,
      "outputs": []
    },
    {
      "cell_type": "markdown",
      "source": [
        "## 1️⃣ Ao nível de colunas"
      ],
      "metadata": {
        "id": "j-8s2a7NV8Ga"
      }
    },
    {
      "cell_type": "markdown",
      "source": [
        "### 💡 Acessar nomes de coluna"
      ],
      "metadata": {
        "id": "LZrd3ADPWiYI"
      }
    },
    {
      "cell_type": "markdown",
      "source": [
        "🔹 O que faz?\n",
        "* Podemos visualizar os nomes das colunas do DataFrame usando\n",
        "* Quando usar? Para verificar se os nomes das colunas estão corretos ou precisam de ajustes.\n"
      ],
      "metadata": {
        "id": "L3prQo0q6QZ1"
      }
    },
    {
      "cell_type": "code",
      "source": [
        "df_receitas.columns"
      ],
      "metadata": {
        "colab": {
          "base_uri": "https://localhost:8080/"
        },
        "id": "coML_KMnZSYS",
        "outputId": "74448f07-73a9-459e-8b0d-a97099e60fa1"
      },
      "execution_count": null,
      "outputs": [
        {
          "output_type": "execute_result",
          "data": {
            "text/plain": [
              "Index(['Data Lançamento', 'Id Atendimento', 'Receita Código',\n",
              "       'Quantidade Vendida', 'Valor de venda', 'Cliente ID', 'Cliente Sexo',\n",
              "       'Cliente Nome', 'Cliente Data Nascimento', 'Cliente Origem',\n",
              "       'Cliente Cidade', 'Profissional Nome', 'Profissional Especialidade',\n",
              "       'Data de Pagamento', 'Forma Pagamento'],\n",
              "      dtype='object')"
            ]
          },
          "metadata": {},
          "execution_count": 811
        }
      ]
    }
  ]
}