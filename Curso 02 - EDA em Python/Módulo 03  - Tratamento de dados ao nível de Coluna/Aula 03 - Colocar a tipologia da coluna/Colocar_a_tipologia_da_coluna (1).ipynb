{
  "nbformat": 4,
  "nbformat_minor": 0,
  "metadata": {
    "colab": {
      "provenance": [],
      "collapsed_sections": [
        "z9f1lGMGkd6o",
        "UAGP2SvBlek-",
        "3HLQLiaYljTy",
        "9u69PH_wlt3R",
        "YNlroEKnl5Qh",
        "sjJtRB2HmPE-",
        "PUa5ZqztmUIY",
        "tV6dNoCapObO",
        "hE6ZcNrirVob",
        "JIxMwvUp4nRl",
        "zC1-7d975IoM",
        "6yctnn2F5XcT",
        "1vcexPxstS_2",
        "aPkUQfJ2-cp_",
        "HdPurm7V-jnr",
        "8JcGLKpi4v1F",
        "1ETnkHPfsBUw",
        "g1m-Rp84_Y46",
        "zCoatH_-_tzq",
        "NnmqqhEuG1K6",
        "9M_F0gU3G9Nz",
        "FEiKOMl-HGec",
        "G03d8rpiHhL-",
        "GLI4H4MPm2uM",
        "SyzZAD8GoGqs",
        "py6uT9sIARSD",
        "fkXN-sDzBcFr",
        "NDl9NeZmncEC",
        "1_sa1VRKFW8P",
        "G4dmIyweGS7A",
        "iPlySAxMDhlV",
        "ZhGLNriXL0Qp",
        "wBX8JB4fQAxX",
        "qdAVR8I0QbDm",
        "p1YfTBbwzjBn",
        "czytOLfL0mB2",
        "EblKvSmP2Sk2",
        "bFMGfseH3_Sx",
        "zzAGyLjpQnW2",
        "j-8s2a7NV8Ga",
        "LZrd3ADPWiYI",
        "7wB-khdL6sP2",
        "pLNOpoIvWCb8",
        "Ma4ly9C9a_p1",
        "UQC0kKF69V07",
        "IORHJpbs_ynT",
        "oGg3omJ2WtB1",
        "T_avB6YHWP61",
        "-meE11FsWVBN",
        "Xtb9bf4FXKKC",
        "cDWW8cztW7RQ",
        "Q-A83Yy6XPMO",
        "J_AhEDYcXt7H",
        "vP9hk0KPX5WL",
        "I6IVvku8YB85",
        "FoDHN5Rs0g3q",
        "qMkGDKPlX9BR",
        "TI1KJYk1YJsz",
        "Cb8jIYI4JIwq",
        "ObiABSxMKALg",
        "HaKrzq85Vrx0",
        "SaC9ggT7MqL_",
        "kF_JgXRRMvWj",
        "XNbRoIt7C_xy",
        "zsO7dr3UDD9a",
        "ohOcDsmDDGed",
        "i_yx6PKXE4Yp",
        "Br2m-rt2FES9",
        "EJrxFTjJFvLR",
        "zGHhCLCFYQqv",
        "cfC2voc99SzR",
        "pTptuDho9Wm6",
        "bgw6CAF2YYwF",
        "c6ieaQPZZs6V",
        "VV-twW6oZvEa",
        "vtP1X2UZOM82",
        "pSljKCv7YcJm"
      ]
    },
    "kernelspec": {
      "name": "python3",
      "display_name": "Python 3"
    },
    "language_info": {
      "name": "python"
    }
  },
  "cells": [
    {
      "cell_type": "markdown",
      "source": [
        "# 📌 Transform: Primeiro Tratar"
      ],
      "metadata": {
        "id": "zzAGyLjpQnW2"
      }
    },
    {
      "cell_type": "markdown",
      "source": [
        "[Clique para acessar os dados](https://docs.google.com/spreadsheets/d/1YQhDNSt1sOrzq6AKxyYG6wzRAvM-M7l7jJRIHunNB88/copy?gid=1190375422#gid=1190375422)"
      ],
      "metadata": {
        "id": "FY6pZXcx192P"
      }
    },
    {
      "cell_type": "code",
      "source": [
        "import pandas as pd\n",
        "import numpy as np"
      ],
      "metadata": {
        "id": "RI7M3nq82Obq"
      },
      "execution_count": 1,
      "outputs": []
    },
    {
      "cell_type": "code",
      "source": [
        "df_receitas = pd.read_csv('/content/Cópia de Dados - TCC - Planilhas - Receitas.csv')"
      ],
      "metadata": {
        "id": "INqRcjNj8Ffr"
      },
      "execution_count": 4,
      "outputs": []
    },
    {
      "cell_type": "markdown",
      "source": [
        "## 1️⃣ Ao nível de colunas"
      ],
      "metadata": {
        "id": "j-8s2a7NV8Ga"
      }
    },
    {
      "cell_type": "markdown",
      "source": [
        "### 💡 Acessar nomes de coluna"
      ],
      "metadata": {
        "id": "LZrd3ADPWiYI"
      }
    },
    {
      "cell_type": "markdown",
      "source": [
        "🔹 O que faz?\n",
        "* Podemos visualizar os nomes das colunas do DataFrame usando\n",
        "* Quando usar? Para verificar se os nomes das colunas estão corretos ou precisam de ajustes.\n"
      ],
      "metadata": {
        "id": "L3prQo0q6QZ1"
      }
    },
    {
      "cell_type": "code",
      "source": [
        "df_receitas.columns"
      ],
      "metadata": {
        "colab": {
          "base_uri": "https://localhost:8080/"
        },
        "id": "coML_KMnZSYS",
        "outputId": "2bc85a26-b194-44b3-c1ce-58668697e840"
      },
      "execution_count": 5,
      "outputs": [
        {
          "output_type": "execute_result",
          "data": {
            "text/plain": [
              "Index(['Data Lançamento', 'Id Atendimento', 'Receita Código',\n",
              "       'Quantidade Vendida', 'Valor de venda', 'Cliente ID', 'Cliente Sexo',\n",
              "       'Cliente Nome', 'Cliente Data Nascimento', 'Cliente Origem',\n",
              "       'Cliente Cidade', 'Profissional Nome', 'Profissional Especialidade',\n",
              "       'Data de Pagamento', 'Forma Pagamento'],\n",
              "      dtype='object')"
            ]
          },
          "metadata": {},
          "execution_count": 5
        }
      ]
    },
    {
      "cell_type": "markdown",
      "source": [
        "### 💡 Mudar nomes de coluna"
      ],
      "metadata": {
        "id": "7wB-khdL6sP2"
      }
    },
    {
      "cell_type": "markdown",
      "source": [
        "🔹 O que faz?\n",
        "* A função .rename() permite alterar o nome de colunas específicas, sem modificar o restante."
      ],
      "metadata": {
        "id": "MXqkYbyl6ump"
      }
    },
    {
      "cell_type": "code",
      "source": [
        "#permite passar um dicionário que atribue a cada coluna existente um novo nome\n",
        "\n",
        "df_receitas = df_receitas.rename(columns={\n",
        "    'Data Lançamento': 'data_lancamento',\n",
        "    'Id Atendimento': 'atendimento_id',\n",
        "    'Receita Código': 'receita_codigo',\n",
        "    'Quantidade Vendida': 'venda_quantidade',\n",
        "    'Valor de venda': 'venda_valor',\n",
        "    'Cliente ID': 'cliente_id',\n",
        "    'Cliente Sexo': 'cliente_sexo',\n",
        "    'Cliente Nome':'cliente_nome',\n",
        "    'Cliente Data Nascimento': 'cliente_nascimento_data',\n",
        "    'Cliente Origem': 'cliente_origem',\n",
        "    'Cliente Cidade': 'cliente_cidade',\n",
        "    'Profissional Nome': 'profissional_nome',\n",
        "    'Profissional Especialidade': 'profissional_especialidade',\n",
        "    'Data de Pagamento': 'pagamento_data',\n",
        "    'Forma Pagamento':'pagamento_forma'\n",
        "    })"
      ],
      "metadata": {
        "id": "2C94bze2WphN"
      },
      "execution_count": 6,
      "outputs": []
    },
    {
      "cell_type": "code",
      "source": [
        "df_receitas.columns"
      ],
      "metadata": {
        "colab": {
          "base_uri": "https://localhost:8080/"
        },
        "id": "iIPjhaZmr7oI",
        "outputId": "35dc6ceb-d7e3-40dc-93f7-0e5f96e0d58d"
      },
      "execution_count": 8,
      "outputs": [
        {
          "output_type": "execute_result",
          "data": {
            "text/plain": [
              "Index(['data_lancamento', 'atendimento_id', 'receita_codigo',\n",
              "       'venda_quantidade', 'venda_valor', 'cliente_id', 'cliente_sexo',\n",
              "       'cliente_nome', 'cliente_nascimento_data', 'cliente_origem',\n",
              "       'cliente_cidade', 'profissional_nome', 'profissional_especialidade',\n",
              "       'pagamento_data', 'pagamento_forma'],\n",
              "      dtype='object')"
            ]
          },
          "metadata": {},
          "execution_count": 8
        }
      ]
    },
    {
      "cell_type": "markdown",
      "source": [
        "🔹 Se quisermos alterar todos os nomes de uma vez, podemos usar a atribuição do nome das colunas, com df.columns = [...], mas tem que usar na mesma sequência da ordem atual das colunas"
      ],
      "metadata": {
        "id": "DB8Iso5C60cG"
      }
    },
    {
      "cell_type": "code",
      "source": [
        "#Usar a identação é uma boa prática\n",
        "\n",
        "df_receitas.columns = ['data_lancamento',\n",
        "                       'atendimento_id',\n",
        "                       'receita_codigo',\n",
        "                       'venda_quantidade',\n",
        "                       'venda_valor',\n",
        "                       'cliente_id',\n",
        "                       'cliente_sexo',\n",
        "                       'cliente_nome',\n",
        "                       'cliente_nascimento_data',\n",
        "                       'cliente_origem',\n",
        "                       'cliente_cidade',\n",
        "                       'profissional_nome',\n",
        "                       'profissional_especialidade',\n",
        "                       'pagamento_data',\n",
        "                       'pagamento_forma'\n",
        "                       ]"
      ],
      "metadata": {
        "id": "HHTqDLWq62j9"
      },
      "execution_count": 7,
      "outputs": []
    },
    {
      "cell_type": "markdown",
      "source": [
        "🔹 Se os nomes das colunas estiverem inconsistentes, podemos formatá-los automaticamente para minúsculo"
      ],
      "metadata": {
        "id": "U2YpZadzARcy"
      }
    },
    {
      "cell_type": "code",
      "source": [
        "#df.columns = df.columns.str.lower()"
      ],
      "metadata": {
        "id": "ninlHy6zASHm"
      },
      "execution_count": 9,
      "outputs": []
    },
    {
      "cell_type": "markdown",
      "source": [
        "🔹 Ou, se quisermos remover espaços e deixar padronizado:"
      ],
      "metadata": {
        "id": "QbD9AH1KAal8"
      }
    },
    {
      "cell_type": "code",
      "source": [
        "#df_receitas.columns = df_receitas.columns.str.strip().str.replace(\" \", \"_\")"
      ],
      "metadata": {
        "id": "UzeoCFB6AeR9"
      },
      "execution_count": 10,
      "outputs": []
    },
    {
      "cell_type": "markdown",
      "source": [
        "### 💡 Colocar a tipologia da coluna"
      ],
      "metadata": {
        "id": "pLNOpoIvWCb8"
      }
    },
    {
      "cell_type": "markdown",
      "source": [
        "Em planilhas, a alteração é com mouse (low-code, lembra da nossa aula de ferramentas?) Aqui é com o teclado"
      ],
      "metadata": {
        "id": "ZlVbg6ahA8G8"
      }
    },
    {
      "cell_type": "markdown",
      "source": [
        "![aea2112.png](data:image/png;base64,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)"
      ],
      "metadata": {
        "id": "BKKJ6mrgBbwV"
      }
    },
    {
      "cell_type": "markdown",
      "source": [
        "🔹 Ao trabalhar com dados, nem sempre as colunas vêm com o tipo correto. Por isso, é essencial converter os tipos das colunas para garantir análises e cálculos corretos."
      ],
      "metadata": {
        "id": "IPzvLzAg9BVs"
      }
    },
    {
      "cell_type": "markdown",
      "source": [
        "🔹 Se uma coluna que deveria ser string foi carregada como número, podemos convertê-la usando a função astype"
      ],
      "metadata": {
        "id": "dq8OVhKL8T9O"
      }
    },
    {
      "cell_type": "code",
      "source": [
        "df_receitas['atendimento_id'] = df_receitas['atendimento_id'].astype(str)"
      ],
      "metadata": {
        "id": "4maeEsEHsLgk"
      },
      "execution_count": 11,
      "outputs": []
    },
    {
      "cell_type": "code",
      "source": [
        "# Converter tipo de dados de colunas\n",
        "df_receitas['atendimento_id'] = df_receitas['atendimento_id'].astype(str) #Exemplo para string\n",
        "df_receitas['receita_codigo'] = df_receitas['receita_codigo'].astype(str) #Exemplo para string\n",
        "df_receitas['cliente_id'] = df_receitas['cliente_id'].astype(str) #Exemplo para string"
      ],
      "metadata": {
        "id": "iSgM3lEAWHbI"
      },
      "execution_count": 12,
      "outputs": []
    },
    {
      "cell_type": "markdown",
      "source": [
        "🔹 Colunas de data muitas vezes são carregadas como object (texto), o que impede operações como cálculos de tempo. Por isso tem que ser convertidas usando a função to_datetime. É interessante usar parâmetros para forçar o formato e lidar com erros"
      ],
      "metadata": {
        "id": "HOfiKSeN8Zsu"
      }
    },
    {
      "cell_type": "code",
      "source": [
        "# Converter a coluna 'data_lancamento' para o tipo datetime\n",
        "df_receitas['data_lancamento'] = pd.to_datetime(df_receitas['data_lancamento'], format='%Y/%m/%d', errors='coerce')\n",
        "\n",
        "# Converter a coluna 'cliente_nascimento_data' para o tipo datetime\n",
        "df_receitas['cliente_nascimento_data'] = pd.to_datetime(df_receitas['cliente_nascimento_data'], format='%Y/%m/%d', errors='coerce')\n",
        "\n",
        "# Converter a coluna 'pagamento_data' para o tipo datetime\n",
        "df_receitas['pagamento_data'] = pd.to_datetime(df_receitas['pagamento_data'], format='%Y/%m/%d', errors='coerce')"
      ],
      "metadata": {
        "id": "gqmkMpA2bYwf"
      },
      "execution_count": 13,
      "outputs": []
    },
    {
      "cell_type": "markdown",
      "source": [
        "[Clique para ver a documentação](https://pandas.pydata.org/docs/reference/api/pandas.to_datetime.html)"
      ],
      "metadata": {
        "id": "Mdyi4X5N8xJ3"
      }
    }
  ]
}