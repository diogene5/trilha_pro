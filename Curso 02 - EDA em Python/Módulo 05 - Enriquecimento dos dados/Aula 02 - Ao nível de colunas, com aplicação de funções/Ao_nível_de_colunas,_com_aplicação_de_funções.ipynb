{
  "nbformat": 4,
  "nbformat_minor": 0,
  "metadata": {
    "colab": {
      "provenance": [],
      "collapsed_sections": [
        "z9f1lGMGkd6o",
        "UAGP2SvBlek-",
        "3HLQLiaYljTy",
        "9u69PH_wlt3R",
        "YNlroEKnl5Qh",
        "sjJtRB2HmPE-",
        "PUa5ZqztmUIY",
        "tV6dNoCapObO",
        "hE6ZcNrirVob",
        "JIxMwvUp4nRl",
        "zC1-7d975IoM",
        "6yctnn2F5XcT",
        "1vcexPxstS_2",
        "aPkUQfJ2-cp_",
        "HdPurm7V-jnr",
        "8JcGLKpi4v1F",
        "1ETnkHPfsBUw",
        "g1m-Rp84_Y46",
        "zCoatH_-_tzq",
        "NnmqqhEuG1K6",
        "9M_F0gU3G9Nz",
        "FEiKOMl-HGec",
        "G03d8rpiHhL-",
        "GLI4H4MPm2uM",
        "SyzZAD8GoGqs",
        "py6uT9sIARSD",
        "fkXN-sDzBcFr",
        "NDl9NeZmncEC",
        "1_sa1VRKFW8P",
        "G4dmIyweGS7A",
        "iPlySAxMDhlV",
        "ZhGLNriXL0Qp",
        "wBX8JB4fQAxX",
        "qdAVR8I0QbDm",
        "p1YfTBbwzjBn",
        "czytOLfL0mB2",
        "EblKvSmP2Sk2",
        "bFMGfseH3_Sx",
        "zzAGyLjpQnW2",
        "j-8s2a7NV8Ga",
        "LZrd3ADPWiYI",
        "7wB-khdL6sP2",
        "pLNOpoIvWCb8",
        "Ma4ly9C9a_p1",
        "UQC0kKF69V07",
        "IORHJpbs_ynT",
        "oGg3omJ2WtB1",
        "T_avB6YHWP61",
        "-meE11FsWVBN",
        "Xtb9bf4FXKKC",
        "cDWW8cztW7RQ",
        "Q-A83Yy6XPMO",
        "J_AhEDYcXt7H",
        "vP9hk0KPX5WL",
        "I6IVvku8YB85",
        "FoDHN5Rs0g3q",
        "qMkGDKPlX9BR",
        "TI1KJYk1YJsz",
        "Cb8jIYI4JIwq",
        "ObiABSxMKALg",
        "HaKrzq85Vrx0",
        "SaC9ggT7MqL_",
        "kF_JgXRRMvWj",
        "XNbRoIt7C_xy",
        "zsO7dr3UDD9a",
        "ohOcDsmDDGed",
        "i_yx6PKXE4Yp",
        "Br2m-rt2FES9",
        "EJrxFTjJFvLR",
        "zGHhCLCFYQqv",
        "cfC2voc99SzR",
        "pTptuDho9Wm6",
        "bgw6CAF2YYwF",
        "c6ieaQPZZs6V",
        "VV-twW6oZvEa",
        "vtP1X2UZOM82",
        "pSljKCv7YcJm"
      ],
      "toc_visible": true
    },
    "kernelspec": {
      "name": "python3",
      "display_name": "Python 3"
    },
    "language_info": {
      "name": "python"
    }
  },
  "cells": [
    {
      "cell_type": "markdown",
      "source": [
        "# 📌 Transform: Depois Enriquecer"
      ],
      "metadata": {
        "id": "J_AhEDYcXt7H"
      }
    },
    {
      "cell_type": "markdown",
      "source": [
        "[Clique para acessar os dados](https://docs.google.com/spreadsheets/d/1YQhDNSt1sOrzq6AKxyYG6wzRAvM-M7l7jJRIHunNB88/copy?gid=1190375422#gid=1190375422)"
      ],
      "metadata": {
        "id": "FY6pZXcx192P"
      }
    },
    {
      "cell_type": "code",
      "source": [
        "import pandas as pd\n",
        "import numpy as np"
      ],
      "metadata": {
        "id": "RI7M3nq82Obq"
      },
      "execution_count": null,
      "outputs": []
    },
    {
      "cell_type": "code",
      "source": [
        "df_receitas = pd.read_csv('/content/Cópia de Dados - TCC - Planilhas - Receitas.csv')"
      ],
      "metadata": {
        "id": "INqRcjNj8Ffr"
      },
      "execution_count": null,
      "outputs": []
    },
    {
      "cell_type": "markdown",
      "source": [
        "## 1️⃣ Ao nível de colunas"
      ],
      "metadata": {
        "id": "vP9hk0KPX5WL"
      }
    },
    {
      "cell_type": "markdown",
      "source": [
        "### 💡 Coluna Condicional ou Personalizada"
      ],
      "metadata": {
        "id": "I6IVvku8YB85"
      }
    },
    {
      "cell_type": "code",
      "source": [
        "df_receitas.columns"
      ],
      "metadata": {
        "id": "ii_uE9cZOvl9",
        "colab": {
          "base_uri": "https://localhost:8080/"
        },
        "outputId": "1e7e5133-4886-4393-d321-d4694510483a"
      },
      "execution_count": null,
      "outputs": [
        {
          "output_type": "execute_result",
          "data": {
            "text/plain": [
              "Index(['atendimento_id', 'data_lancamento', 'receita_codigo',\n",
              "       'venda_quantidade', 'venda_valor', 'cliente_id', 'cliente_sexo',\n",
              "       'cliente_nascimento_data', 'cliente_origem',\n",
              "       'profissional_especialidade', 'pagamento_data', 'pagamento_forma'],\n",
              "      dtype='object')"
            ]
          },
          "metadata": {},
          "execution_count": 859
        }
      ]
    },
    {
      "cell_type": "markdown",
      "source": [
        "🔹 Se tivermos uma coluna de data de nascimento, podemos calcular a idade subtraindo do ano atual. Diferente das planilhas não é uma questão de subtração simples, porque data não é tratada como número"
      ],
      "metadata": {
        "id": "LipSQuT4QC0P"
      }
    },
    {
      "cell_type": "code",
      "source": [
        "from datetime import datetime\n",
        "\n",
        "# Criando a coluna de idade baseada na data de nascimento. Pegamos o ano atual e subtraímos o ano de nascimento, obtendo a idade.\n",
        "df_receitas[\"cliente_idade\"] = datetime.today().year - pd.to_datetime(df_receitas[\"cliente_nascimento_data\"]).dt.year"
      ],
      "metadata": {
        "id": "UVzbTjgVXv80"
      },
      "execution_count": null,
      "outputs": []
    },
    {
      "cell_type": "code",
      "source": [
        "df_receitas[\"cliente_idade\"].value_counts()"
      ],
      "metadata": {
        "colab": {
          "base_uri": "https://localhost:8080/"
        },
        "id": "LVvJs2aGPMVH",
        "outputId": "cccf0bb1-e138-444b-c3d8-61be8212664b"
      },
      "execution_count": null,
      "outputs": [
        {
          "output_type": "execute_result",
          "data": {
            "text/plain": [
              "cliente_idade\n",
              "43.0    59\n",
              "35.0    48\n",
              "36.0    48\n",
              "32.0    46\n",
              "34.0    43\n",
              "        ..\n",
              "84.0     1\n",
              "78.0     1\n",
              "14.0     1\n",
              "11.0     1\n",
              "86.0     1\n",
              "Name: count, Length: 69, dtype: int64"
            ],
            "text/html": [
              "<div>\n",
              "<style scoped>\n",
              "    .dataframe tbody tr th:only-of-type {\n",
              "        vertical-align: middle;\n",
              "    }\n",
              "\n",
              "    .dataframe tbody tr th {\n",
              "        vertical-align: top;\n",
              "    }\n",
              "\n",
              "    .dataframe thead th {\n",
              "        text-align: right;\n",
              "    }\n",
              "</style>\n",
              "<table border=\"1\" class=\"dataframe\">\n",
              "  <thead>\n",
              "    <tr style=\"text-align: right;\">\n",
              "      <th></th>\n",
              "      <th>count</th>\n",
              "    </tr>\n",
              "    <tr>\n",
              "      <th>cliente_idade</th>\n",
              "      <th></th>\n",
              "    </tr>\n",
              "  </thead>\n",
              "  <tbody>\n",
              "    <tr>\n",
              "      <th>43.0</th>\n",
              "      <td>59</td>\n",
              "    </tr>\n",
              "    <tr>\n",
              "      <th>35.0</th>\n",
              "      <td>48</td>\n",
              "    </tr>\n",
              "    <tr>\n",
              "      <th>36.0</th>\n",
              "      <td>48</td>\n",
              "    </tr>\n",
              "    <tr>\n",
              "      <th>32.0</th>\n",
              "      <td>46</td>\n",
              "    </tr>\n",
              "    <tr>\n",
              "      <th>34.0</th>\n",
              "      <td>43</td>\n",
              "    </tr>\n",
              "    <tr>\n",
              "      <th>...</th>\n",
              "      <td>...</td>\n",
              "    </tr>\n",
              "    <tr>\n",
              "      <th>84.0</th>\n",
              "      <td>1</td>\n",
              "    </tr>\n",
              "    <tr>\n",
              "      <th>78.0</th>\n",
              "      <td>1</td>\n",
              "    </tr>\n",
              "    <tr>\n",
              "      <th>14.0</th>\n",
              "      <td>1</td>\n",
              "    </tr>\n",
              "    <tr>\n",
              "      <th>11.0</th>\n",
              "      <td>1</td>\n",
              "    </tr>\n",
              "    <tr>\n",
              "      <th>86.0</th>\n",
              "      <td>1</td>\n",
              "    </tr>\n",
              "  </tbody>\n",
              "</table>\n",
              "<p>69 rows × 1 columns</p>\n",
              "</div><br><label><b>dtype:</b> int64</label>"
            ]
          },
          "metadata": {},
          "execution_count": 861
        }
      ]
    },
    {
      "cell_type": "markdown",
      "source": [
        "🔹 Podemos dividir a idade em faixas numéricas predefinidas com pd.cut(). O pd.cut() considera o limite inferior fechado e o superior aberto, exceto o último intervalo, que é fechado."
      ],
      "metadata": {
        "id": "ZOTfDAudP4vq"
      }
    },
    {
      "cell_type": "code",
      "source": [
        "# Criando categorias de idade com pd.cut()\n",
        "\n",
        "df_receitas[\"cliente_faixa_etaria\"] = pd.cut(\n",
        "    df_receitas[\"cliente_idade\"],\n",
        "    bins=[0, 17, 35, 60, 100],  # Limites das faixas etárias\n",
        "    labels=[\"0-17\", \"18-35\", \"36-60\", \"61-100\"]\n",
        ")"
      ],
      "metadata": {
        "id": "1QtypOogPP9Z"
      },
      "execution_count": null,
      "outputs": []
    },
    {
      "cell_type": "code",
      "source": [
        "df_receitas[\"cliente_faixa_etaria\"].value_counts(dropna=False)"
      ],
      "metadata": {
        "colab": {
          "base_uri": "https://localhost:8080/"
        },
        "id": "uJOKeJjKQLfz",
        "outputId": "c8ff2e6c-b6e6-401b-cae3-38c998ef46dc"
      },
      "execution_count": null,
      "outputs": [
        {
          "output_type": "execute_result",
          "data": {
            "text/plain": [
              "cliente_faixa_etaria\n",
              "36-60     580\n",
              "18-35     422\n",
              "61-100    130\n",
              "NaN       103\n",
              "0-17        7\n",
              "Name: count, dtype: int64"
            ],
            "text/html": [
              "<div>\n",
              "<style scoped>\n",
              "    .dataframe tbody tr th:only-of-type {\n",
              "        vertical-align: middle;\n",
              "    }\n",
              "\n",
              "    .dataframe tbody tr th {\n",
              "        vertical-align: top;\n",
              "    }\n",
              "\n",
              "    .dataframe thead th {\n",
              "        text-align: right;\n",
              "    }\n",
              "</style>\n",
              "<table border=\"1\" class=\"dataframe\">\n",
              "  <thead>\n",
              "    <tr style=\"text-align: right;\">\n",
              "      <th></th>\n",
              "      <th>count</th>\n",
              "    </tr>\n",
              "    <tr>\n",
              "      <th>cliente_faixa_etaria</th>\n",
              "      <th></th>\n",
              "    </tr>\n",
              "  </thead>\n",
              "  <tbody>\n",
              "    <tr>\n",
              "      <th>36-60</th>\n",
              "      <td>580</td>\n",
              "    </tr>\n",
              "    <tr>\n",
              "      <th>18-35</th>\n",
              "      <td>422</td>\n",
              "    </tr>\n",
              "    <tr>\n",
              "      <th>61-100</th>\n",
              "      <td>130</td>\n",
              "    </tr>\n",
              "    <tr>\n",
              "      <th>NaN</th>\n",
              "      <td>103</td>\n",
              "    </tr>\n",
              "    <tr>\n",
              "      <th>0-17</th>\n",
              "      <td>7</td>\n",
              "    </tr>\n",
              "  </tbody>\n",
              "</table>\n",
              "</div><br><label><b>dtype:</b> int64</label>"
            ]
          },
          "metadata": {},
          "execution_count": 863
        }
      ]
    },
    {
      "cell_type": "markdown",
      "source": [
        "🔹 Existem muitos caminhos. Poderíamos ter usado o np.select novamente para isso"
      ],
      "metadata": {
        "id": "WXT_D4hTQWl5"
      }
    },
    {
      "cell_type": "code",
      "source": [
        "# Criando condições para as faixas etárias\n",
        "condicoes = [\n",
        "    df_receitas[\"cliente_idade\"] < 18,\n",
        "    (df_receitas[\"cliente_idade\"] >= 18) & (df_receitas[\"cliente_idade\"] <= 35),\n",
        "    (df_receitas[\"cliente_idade\"] > 35) & (df_receitas[\"cliente_idade\"] <= 60),\n",
        "    df_receitas[\"cliente_idade\"] > 60\n",
        "]\n",
        "\n",
        "# 📌 Definindo os rótulos correspondentes\n",
        "categorias = [\"0-17\", \"18-35\", \"36-60\", \"61-100\"]\n",
        "\n",
        "# 📌 Criando a nova coluna com np.select()\n",
        "df_receitas[\"cliente_faixa_etaria\"] = np.select(condicoes, categorias, default=\"Desconhecido\")\n"
      ],
      "metadata": {
        "id": "4AgN8t2HQTEv"
      },
      "execution_count": null,
      "outputs": []
    },
    {
      "cell_type": "code",
      "source": [
        "df_receitas[\"cliente_faixa_etaria\"].value_counts(dropna=False)"
      ],
      "metadata": {
        "id": "d0B5qEG7Qj4c",
        "colab": {
          "base_uri": "https://localhost:8080/"
        },
        "outputId": "57ddf032-ceb6-4292-a17f-85c7cf0b9437"
      },
      "execution_count": null,
      "outputs": [
        {
          "output_type": "execute_result",
          "data": {
            "text/plain": [
              "cliente_faixa_etaria\n",
              "36-60           580\n",
              "18-35           422\n",
              "61-100          130\n",
              "Desconhecido    103\n",
              "0-17              7\n",
              "Name: count, dtype: int64"
            ],
            "text/html": [
              "<div>\n",
              "<style scoped>\n",
              "    .dataframe tbody tr th:only-of-type {\n",
              "        vertical-align: middle;\n",
              "    }\n",
              "\n",
              "    .dataframe tbody tr th {\n",
              "        vertical-align: top;\n",
              "    }\n",
              "\n",
              "    .dataframe thead th {\n",
              "        text-align: right;\n",
              "    }\n",
              "</style>\n",
              "<table border=\"1\" class=\"dataframe\">\n",
              "  <thead>\n",
              "    <tr style=\"text-align: right;\">\n",
              "      <th></th>\n",
              "      <th>count</th>\n",
              "    </tr>\n",
              "    <tr>\n",
              "      <th>cliente_faixa_etaria</th>\n",
              "      <th></th>\n",
              "    </tr>\n",
              "  </thead>\n",
              "  <tbody>\n",
              "    <tr>\n",
              "      <th>36-60</th>\n",
              "      <td>580</td>\n",
              "    </tr>\n",
              "    <tr>\n",
              "      <th>18-35</th>\n",
              "      <td>422</td>\n",
              "    </tr>\n",
              "    <tr>\n",
              "      <th>61-100</th>\n",
              "      <td>130</td>\n",
              "    </tr>\n",
              "    <tr>\n",
              "      <th>Desconhecido</th>\n",
              "      <td>103</td>\n",
              "    </tr>\n",
              "    <tr>\n",
              "      <th>0-17</th>\n",
              "      <td>7</td>\n",
              "    </tr>\n",
              "  </tbody>\n",
              "</table>\n",
              "</div><br><label><b>dtype:</b> int64</label>"
            ]
          },
          "metadata": {},
          "execution_count": 865
        }
      ]
    },
    {
      "cell_type": "markdown",
      "source": [
        "Isso é o que chamamos de **feature engeniier ou engenharia de features**, uma habilidade especialmente importante"
      ],
      "metadata": {
        "id": "Xi7o00QXQrsW"
      }
    },
    {
      "cell_type": "markdown",
      "source": [
        "### 💡 Aplicando funções"
      ],
      "metadata": {
        "id": "FoDHN5Rs0g3q"
      }
    },
    {
      "cell_type": "markdown",
      "source": [
        "No entanto, pode ser que a criação de features necessite de algum cálculo mais complexo. Um método muito usado na manipulação de dados é aplicar uma função nos dados ou em parte deles, para isso o método <font color = \"orange\">**`.apply()`</font>** é muito utilizado.\n",
        "\n",
        "Importante dizer que esse método **aplica uma determinada função em apenas uma coluna ou linha do DF.**"
      ],
      "metadata": {
        "id": "qegzb4WI0i90"
      }
    },
    {
      "cell_type": "code",
      "source": [
        "# Função para categorizar a idade\n",
        "def classificar_faixa_etaria(idade):\n",
        "    if idade < 18:\n",
        "        return \"0-17\"\n",
        "    elif idade <= 35:\n",
        "        return \"18-35\"\n",
        "    elif idade <= 60:\n",
        "        return \"36-60\"\n",
        "    elif idade > 60:\n",
        "        return \"61-100\"\n",
        "    else:\n",
        "        return \"Desconhecido\""
      ],
      "metadata": {
        "id": "Lt-TB3_c0jkM"
      },
      "execution_count": null,
      "outputs": []
    },
    {
      "cell_type": "code",
      "source": [
        "# Aplicando a função com apply()\n",
        "df_receitas[\"cliente_faixa_etaria\"] = df_receitas[\"cliente_idade\"].apply(classificar_faixa_etaria)"
      ],
      "metadata": {
        "id": "WZuAq6nT73EN"
      },
      "execution_count": null,
      "outputs": []
    },
    {
      "cell_type": "markdown",
      "source": [
        "**Comparações**"
      ],
      "metadata": {
        "id": "OZl1345e79xm"
      }
    },
    {
      "cell_type": "markdown",
      "source": [
        "| Critério                       | `np.select()`                                           | `apply()` com função                                    |\n",
        "| ------------------------------ | ------------------------------------------------------- | ------------------------------------------------------- |\n",
        "| 🔄 **Velocidade**              | ✅ Mais rápido para grandes volumes de dados             | ❌ Mais lento (loop interno por linha)                   |\n",
        "| 🧠 **Clareza e lógica**        | ❌ Pode ser menos legível com muitas condições complexas | ✅ Mais legível, fácil de entender                       |\n",
        "| 🧩 **Flexibilidade**           | ❌ Limitado a expressões booleanas simples               | ✅ Pode usar qualquer lógica Python                      |\n",
        "| 🛠️ **Engenharia de features** | ✅ Ideal para regras simples de classificação            | ✅ Ideal para regras complexas e condicionais encadeadas |\n",
        "| 🔍 **Depuração e testes**      | ❌ Mais difícil de testar e isolar erros                 | ✅ Função independente facilita testes                   |\n"
      ],
      "metadata": {
        "id": "JKaKidtr78Tr"
      }
    }
  ]
}