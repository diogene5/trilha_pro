{
  "nbformat": 4,
  "nbformat_minor": 0,
  "metadata": {
    "colab": {
      "provenance": [],
      "collapsed_sections": [
        "YNlroEKnl5Qh",
        "iPlySAxMDhlV",
        "ZhGLNriXL0Qp",
        "wBX8JB4fQAxX",
        "qdAVR8I0QbDm",
        "zKKEkE3VFg2d",
        "p1YfTBbwzjBn",
        "czytOLfL0mB2",
        "EblKvSmP2Sk2",
        "bFMGfseH3_Sx",
        "zzAGyLjpQnW2",
        "j-8s2a7NV8Ga",
        "LZrd3ADPWiYI",
        "7wB-khdL6sP2",
        "pLNOpoIvWCb8",
        "Ma4ly9C9a_p1",
        "UQC0kKF69V07",
        "IORHJpbs_ynT",
        "oGg3omJ2WtB1",
        "T_avB6YHWP61",
        "-meE11FsWVBN",
        "Xtb9bf4FXKKC",
        "cDWW8cztW7RQ",
        "Q-A83Yy6XPMO",
        "J_AhEDYcXt7H",
        "vP9hk0KPX5WL",
        "I6IVvku8YB85",
        "FoDHN5Rs0g3q",
        "qMkGDKPlX9BR",
        "TI1KJYk1YJsz",
        "EPhtqt2MKjwY",
        "kexrneEPK9DT",
        "19Eoe6yzLGCa",
        "BvAMJa12LVav",
        "1XwXit-PLoET",
        "HaKrzq85Vrx0",
        "XNbRoIt7C_xy",
        "i_yx6PKXE4Yp",
        "Br2m-rt2FES9",
        "EJrxFTjJFvLR",
        "zGHhCLCFYQqv",
        "pSljKCv7YcJm"
      ],
      "toc_visible": true
    },
    "kernelspec": {
      "name": "python3",
      "display_name": "Python 3"
    },
    "language_info": {
      "name": "python"
    }
  },
  "cells": [
    {
      "cell_type": "markdown",
      "source": [
        "# 📌 Set up"
      ],
      "metadata": {
        "id": "YNlroEKnl5Qh"
      }
    },
    {
      "cell_type": "code",
      "source": [
        "import pandas as pd\n",
        "import numpy as np\n",
        "import matplotlib.pyplot as plt\n",
        "import seaborn as sns"
      ],
      "metadata": {
        "id": "rpQNtaVHleWu"
      },
      "execution_count": null,
      "outputs": []
    },
    {
      "cell_type": "markdown",
      "source": [
        "# 📌 Extract: O E do ETL"
      ],
      "metadata": {
        "id": "iPlySAxMDhlV"
      }
    },
    {
      "cell_type": "markdown",
      "source": [
        "## 1️⃣ Lendo em excel"
      ],
      "metadata": {
        "id": "ZhGLNriXL0Qp"
      }
    },
    {
      "cell_type": "code",
      "source": [
        "df = pd.read_excel(\"planilha.excel\", sheet_name=\"aba\")"
      ],
      "metadata": {
        "id": "v_B5YOu5pb7L"
      },
      "execution_count": null,
      "outputs": []
    },
    {
      "cell_type": "markdown",
      "source": [
        "##  2️⃣ Lendo em csv"
      ],
      "metadata": {
        "id": "wBX8JB4fQAxX"
      }
    },
    {
      "cell_type": "code",
      "source": [
        "df = pd.read_csv(\"arquivo.csv\")"
      ],
      "metadata": {
        "id": "oU8iaKXYQBgs"
      },
      "execution_count": null,
      "outputs": []
    },
    {
      "cell_type": "markdown",
      "source": [
        "## 3️⃣ Lendo de Google Sheets"
      ],
      "metadata": {
        "id": "qdAVR8I0QbDm"
      }
    },
    {
      "cell_type": "code",
      "source": [
        "import gspread #Importa a biblioteca gspread, usada para interagir com o Google Sheets.\n",
        "from google.colab import auth #importa uma forma de autenticação para o google colab\n",
        "auth.authenticate_user() # Autenticar no Google (irá solicitar permissão)\n",
        "from google.auth import default #Permite obter as credenciais padrão do ambiente (útil se estiver rodando no Google Colab ou em um servidor com autenticação do Google)\n",
        "creds, _ = default() #Atribui as credenciais de autenticação automaticamente.\n",
        "\n",
        "def aquisicao_google_sheets(sheet_id, sheet_name):\n",
        "    SHEET_ID = sheet_id\n",
        "    SHEET_NAME = sheet_name\n",
        "    gc = gspread.authorize(creds)\n",
        "    spreadsheet = gc.open_by_key(SHEET_ID)\n",
        "    worksheet = spreadsheet.worksheet(SHEET_NAME)\n",
        "    rows = worksheet.get_all_records()\n",
        "    df = pd.DataFrame(rows)\n",
        "    return df\n",
        "\n",
        "df = aquisicao_google_sheets(\"SHEET_ID\", \"SHEET_NAME\")"
      ],
      "metadata": {
        "id": "-ay5cqEoRJ6c"
      },
      "execution_count": null,
      "outputs": []
    },
    {
      "cell_type": "markdown",
      "source": [
        "# 📌 Avaliação Sumária"
      ],
      "metadata": {
        "id": "zKKEkE3VFg2d"
      }
    },
    {
      "cell_type": "markdown",
      "source": [
        "## 1️⃣ Verificando as Dimensões do DataFrame"
      ],
      "metadata": {
        "id": "p1YfTBbwzjBn"
      }
    },
    {
      "cell_type": "code",
      "source": [
        "# retorna o número de linhas e colunas do DataFrame.\n",
        "df.shape"
      ],
      "metadata": {
        "id": "zFkC4Bnwy-NY"
      },
      "execution_count": null,
      "outputs": []
    },
    {
      "cell_type": "code",
      "source": [
        "# retornar primeiros valores\n",
        "df.head(10)"
      ],
      "metadata": {
        "id": "aLfWDCTiL7so"
      },
      "execution_count": null,
      "outputs": []
    },
    {
      "cell_type": "code",
      "source": [
        "# retornar últimos valores\n",
        "df.tail(10)"
      ],
      "metadata": {
        "id": "gENQv5vkL_yQ"
      },
      "execution_count": null,
      "outputs": []
    },
    {
      "cell_type": "markdown",
      "source": [
        "## 2️⃣ Identificando os Tipos de Dados das Colunas"
      ],
      "metadata": {
        "id": "czytOLfL0mB2"
      }
    },
    {
      "cell_type": "code",
      "source": [
        "# Mostra informações gerais sobre o DataFrame.\n",
        "df.info()"
      ],
      "metadata": {
        "id": "jq-i1iKc2CnW"
      },
      "execution_count": null,
      "outputs": []
    },
    {
      "cell_type": "code",
      "source": [
        "# ver quantas linhas nula\n",
        "df.isna().sum()"
      ],
      "metadata": {
        "id": "k8JMmwix65sj"
      },
      "execution_count": null,
      "outputs": []
    },
    {
      "cell_type": "code",
      "source": [
        "# quiser saber apenas dos tipos\n",
        "df.dtypes"
      ],
      "metadata": {
        "id": "OIUE7dwR2sz2"
      },
      "execution_count": null,
      "outputs": []
    },
    {
      "cell_type": "markdown",
      "source": [
        "## 3️⃣  Obtendo Estatísticas Descritivas das Colunas Numéricas"
      ],
      "metadata": {
        "id": "EblKvSmP2Sk2"
      }
    },
    {
      "cell_type": "code",
      "source": [
        "# estatísticas resumidas\n",
        "df.describe()"
      ],
      "metadata": {
        "id": "HI4CVj6OqADb"
      },
      "execution_count": null,
      "outputs": []
    },
    {
      "cell_type": "code",
      "source": [
        "# filtra colunas numéricas, para ter estatísticas aplicáveis a dados numéricos\n",
        "df.describe(include=[float, int])"
      ],
      "metadata": {
        "id": "4bbwEmkEXmO4"
      },
      "execution_count": null,
      "outputs": []
    },
    {
      "cell_type": "markdown",
      "source": [
        "## 4️⃣  Obtendo Estatísticas Descritivas das Colunas Categóricas"
      ],
      "metadata": {
        "id": "bFMGfseH3_Sx"
      }
    },
    {
      "cell_type": "code",
      "source": [
        "# quais os valores existentes na coluna\n",
        "df['coluna'].unique()"
      ],
      "metadata": {
        "id": "z741puRmzDfB"
      },
      "execution_count": null,
      "outputs": []
    },
    {
      "cell_type": "code",
      "source": [
        "# exibe estatísticas resumidas para todas as colunas categóricas\n",
        "df.describe(include=[object])"
      ],
      "metadata": {
        "id": "dlWn-UOZ3crH"
      },
      "execution_count": null,
      "outputs": []
    },
    {
      "cell_type": "code",
      "source": [
        "# usando o método .value_counts() em uma coluna específica é possível verificar sua distribuição de valores\n",
        "df[\"coluna\"].value_counts()"
      ],
      "metadata": {
        "id": "GyBWtyOv4RB-"
      },
      "execution_count": null,
      "outputs": []
    },
    {
      "cell_type": "code",
      "source": [
        "# caso queira contar números de nulos, adicione como parâmetro do value_counts()\n",
        "df[\"coluna\"].value_counts(dropna=False)"
      ],
      "metadata": {
        "id": "8hkJ2iml4k90"
      },
      "execution_count": null,
      "outputs": []
    },
    {
      "cell_type": "code",
      "source": [
        "# caso queira na verdade o percentual, adicione como parâmetro de value_counts()\n",
        "df[\"coluna\"].value_counts(dropna=False, normalize=True)"
      ],
      "metadata": {
        "id": "XQVPjCO_5OSs"
      },
      "execution_count": null,
      "outputs": []
    },
    {
      "cell_type": "code",
      "source": [
        "# se quer multiplicar por 100, basta multiplicar por 100\n",
        "df[\"coluna\"].value_counts(dropna=False, normalize=True) * 100"
      ],
      "metadata": {
        "id": "OyDV4edM5fjo"
      },
      "execution_count": null,
      "outputs": []
    },
    {
      "cell_type": "markdown",
      "source": [
        "# 📌 Transform: Primeiro Tratar"
      ],
      "metadata": {
        "id": "zzAGyLjpQnW2"
      }
    },
    {
      "cell_type": "markdown",
      "source": [
        "## 1️⃣ Ao nível de colunas"
      ],
      "metadata": {
        "id": "j-8s2a7NV8Ga"
      }
    },
    {
      "cell_type": "markdown",
      "source": [
        "### 💡 Acessar nomes de coluna"
      ],
      "metadata": {
        "id": "LZrd3ADPWiYI"
      }
    },
    {
      "cell_type": "code",
      "source": [
        "# visualizar os nomes das colunas do DataFrame\n",
        "df.columns"
      ],
      "metadata": {
        "id": "coML_KMnZSYS"
      },
      "execution_count": null,
      "outputs": []
    },
    {
      "cell_type": "markdown",
      "source": [
        "### 💡 Mudar nomes de coluna"
      ],
      "metadata": {
        "id": "7wB-khdL6sP2"
      }
    },
    {
      "cell_type": "code",
      "source": [
        "# permite passar um dicionário que atribue a cada coluna existente um novo nome\n",
        "df = df.rename(columns={\n",
        "    'nome_antigo_1': 'nome_novo_1',\n",
        "    'nome_antigo_2': 'nome_novo_2',\n",
        "    })"
      ],
      "metadata": {
        "id": "2C94bze2WphN"
      },
      "execution_count": null,
      "outputs": []
    },
    {
      "cell_type": "code",
      "source": [
        "# Se os nomes das colunas estiverem inconsistentes, podemos formatá-los automaticamente para minúsculo\n",
        "# df.columns = df.columns.str.lower()"
      ],
      "metadata": {
        "id": "ninlHy6zASHm"
      },
      "execution_count": null,
      "outputs": []
    },
    {
      "cell_type": "code",
      "source": [
        "# se quisermos remover espaços e deixar padronizado:\n",
        "# df_receitas.columns = df_receitas.columns.str.strip().str.replace(\" \", \"_\")"
      ],
      "metadata": {
        "id": "UzeoCFB6AeR9"
      },
      "execution_count": null,
      "outputs": []
    },
    {
      "cell_type": "markdown",
      "source": [
        "### 💡 Colocar a tipologia da coluna"
      ],
      "metadata": {
        "id": "pLNOpoIvWCb8"
      }
    },
    {
      "cell_type": "code",
      "source": [
        "# Se uma coluna que deveria ser string foi carregada como número, podemos convertê-la usando a função astype\n",
        "df['coluna'] = df['coluna'].astype(str)"
      ],
      "metadata": {
        "id": "4maeEsEHsLgk"
      },
      "execution_count": null,
      "outputs": []
    },
    {
      "cell_type": "code",
      "source": [
        "# converter a coluna 'data_lancamento' para o tipo datetime\n",
        "df['coluna'] = pd.to_datetime(df['coluna'], format='%Y/%m/%d', errors='coerce')"
      ],
      "metadata": {
        "id": "gqmkMpA2bYwf"
      },
      "execution_count": null,
      "outputs": []
    },
    {
      "cell_type": "markdown",
      "source": [
        "[Clique para ver a documentação](https://pandas.pydata.org/docs/reference/api/pandas.to_datetime.html)"
      ],
      "metadata": {
        "id": "Mdyi4X5N8xJ3"
      }
    },
    {
      "cell_type": "markdown",
      "source": [
        "### 💡 Mudar ordem das colunas"
      ],
      "metadata": {
        "id": "Ma4ly9C9a_p1"
      }
    },
    {
      "cell_type": "code",
      "source": [
        "# definir uma nova ordem das colunas especificando a sequência\n",
        "\n",
        "df = df[[\n",
        "    \"coluna_1\", \"coluna_2\"\n",
        "]]"
      ],
      "metadata": {
        "id": "uB5JYr689dJk"
      },
      "execution_count": null,
      "outputs": []
    },
    {
      "cell_type": "code",
      "source": [
        "# Se quisermos organizar automaticamente as colunas em ordem alfabética\n",
        "# df = df[sorted(df.columns)]"
      ],
      "metadata": {
        "id": "ZnKpZgCxAEep"
      },
      "execution_count": null,
      "outputs": []
    },
    {
      "cell_type": "markdown",
      "source": [
        "### 💡 Descartando uma coluna desnecessária"
      ],
      "metadata": {
        "id": "UQC0kKF69V07"
      }
    },
    {
      "cell_type": "code",
      "source": [
        "# retirar uma coluna específica\n",
        "df = df.drop(columns=[\"coluna\"])"
      ],
      "metadata": {
        "id": "OKHS1Ps49YX4"
      },
      "execution_count": null,
      "outputs": []
    },
    {
      "cell_type": "code",
      "source": [
        "# retirar mais de uma coluna específica\n",
        "df = df.drop(columns=[\"coluna_1\", \"coluna_2\"])"
      ],
      "metadata": {
        "id": "3ByihYdb-8iN"
      },
      "execution_count": null,
      "outputs": []
    },
    {
      "cell_type": "markdown",
      "source": [
        "### 💡 Descartando uma coluna com nulidade"
      ],
      "metadata": {
        "id": "IORHJpbs_ynT"
      }
    },
    {
      "cell_type": "code",
      "source": [
        "# axis = 1 identifica para dropar colunas, how identifica o critério de nulidade\n",
        "df = df.dropna(axis=1, how=\"all\")"
      ],
      "metadata": {
        "id": "TpLskaKi_4g_"
      },
      "execution_count": null,
      "outputs": []
    },
    {
      "cell_type": "markdown",
      "source": [
        "[Clique para ver documentação](https://pandas.pydata.org/docs/reference/api/pandas.DataFrame.dropna.html)"
      ],
      "metadata": {
        "id": "Xe8byLFqK5X3"
      }
    },
    {
      "cell_type": "markdown",
      "source": [
        "## 2️⃣ Ao nível de linhas"
      ],
      "metadata": {
        "id": "oGg3omJ2WtB1"
      }
    },
    {
      "cell_type": "markdown",
      "source": [
        "### 💡 Substituir linhas"
      ],
      "metadata": {
        "id": "T_avB6YHWP61"
      }
    },
    {
      "cell_type": "code",
      "source": [
        "# substituição condicional simples\n",
        "df[\"coluna\"] = np.where(df[\"coluna\"] == 'X', \"Valor\", df[\"coluna\"])"
      ],
      "metadata": {
        "id": "J8SjpVah3pFp"
      },
      "execution_count": null,
      "outputs": []
    },
    {
      "cell_type": "code",
      "source": [
        "# substituição condicional complexa\n",
        "\n",
        "# condicoes\n",
        "condicoes = [df[\"coluna\"] == \"X\",\n",
        "             df[\"coluna\"] == \"Y\"\n",
        "             ]\n",
        "\n",
        "# Definir os valores correspondentes para cada condição. Tem que ter um valor para cada condição\n",
        "valores = [\"Valor_1\", \"Valor_2\"]\n",
        "\n",
        "# Aplicar a substituição com np.select() com um valor default\n",
        "df[\"coluna\"] = np.select(condicoes, valores, default= df[\"coluna\"])"
      ],
      "metadata": {
        "id": "b_LwjfrQ378f"
      },
      "execution_count": null,
      "outputs": []
    },
    {
      "cell_type": "code",
      "source": [
        "# Substituir diretamente valores específicos para texto\n",
        "df[\"coluna\"] = df[\"coluna\"].replace({\"X\": \"Valor_1\", \"Y\": \"Valor_2\"})"
      ],
      "metadata": {
        "id": "2MqL7w4A48vk"
      },
      "execution_count": null,
      "outputs": []
    },
    {
      "cell_type": "code",
      "source": [
        "# Criar um dicionário de mapeamento e aplicar com map().\n",
        "mapa = {\"X\": \"Valor_1\", \"Y\": \"Valor_2\"}\n",
        "df[\"coluna\"] = df[\"coluna\"].map(mapa)"
      ],
      "metadata": {
        "id": "xUP0jovf5E4G"
      },
      "execution_count": null,
      "outputs": []
    },
    {
      "cell_type": "code",
      "source": [
        "# Função personalizada para padronizar a coluna\n",
        "\n",
        "def padronizar(valor):\n",
        "    if valor in [\"X\"]:\n",
        "        return \"Valor_1\"\n",
        "    elif valor in [\"Y\"]:\n",
        "        return \"Valor_2\"\n",
        "    return valor #retorna o valor original caso não seja alterado\n",
        "\n",
        "# Aplicando a função com apply()\n",
        "df[\"coluna\"] = df[\"coluna\"].apply(padronizar)"
      ],
      "metadata": {
        "id": "wg52c-zN5sGk"
      },
      "execution_count": null,
      "outputs": []
    },
    {
      "cell_type": "markdown",
      "source": [
        "### 💡 Imputar linhas"
      ],
      "metadata": {
        "id": "-meE11FsWVBN"
      }
    },
    {
      "cell_type": "code",
      "source": [
        "# Substituir valores nulos por \"Não informado\"\n",
        "df[\"coluna\"] = np.where(df[\"coluna\"].isna(), \"Não informado\", df[\"coluna\"])"
      ],
      "metadata": {
        "id": "vaW0M83XWaYi"
      },
      "execution_count": null,
      "outputs": []
    },
    {
      "cell_type": "code",
      "source": [
        "# Preenchendo nulos com a moda (valor mais frequente) da coluna\n",
        "df[\"coluna\"] = df[\"coluna\"].fillna(\"Não informado\")"
      ],
      "metadata": {
        "id": "9Wrx5dUc7qSD"
      },
      "execution_count": null,
      "outputs": []
    },
    {
      "cell_type": "markdown",
      "source": [
        "[Clique para ver a documentação](https://pandas.pydata.org/docs/reference/api/pandas.DataFrame.fillna.html)"
      ],
      "metadata": {
        "id": "v16QdNYi7xpZ"
      }
    },
    {
      "cell_type": "markdown",
      "source": [
        "### 💡 Filtrar linhas"
      ],
      "metadata": {
        "id": "Xtb9bf4FXKKC"
      }
    },
    {
      "cell_type": "code",
      "source": [
        "# filtragem simples de coluna com valor X\n",
        "df.loc[df[\"coluna\"] == \"X\"]"
      ],
      "metadata": {
        "id": "lDI0zrByXMaf"
      },
      "execution_count": null,
      "outputs": []
    },
    {
      "cell_type": "code",
      "source": [
        "# filtragem simples posicional, retorna as primeiras 5 linhas, Porque o index máximo é 4? Porque em Python a indexação começa no 0.\n",
        "df.iloc[0:5]"
      ],
      "metadata": {
        "id": "ayY7uNN2KTua"
      },
      "execution_count": null,
      "outputs": []
    },
    {
      "cell_type": "code",
      "source": [
        "# filtragem simples ao perguntar pelas linhas com a função .query()\n",
        "df.query(\"coluna == 'X'\")"
      ],
      "metadata": {
        "id": "0MP3xw7F9UaY"
      },
      "execution_count": null,
      "outputs": []
    },
    {
      "cell_type": "code",
      "source": [
        "# filtragem composta de coluna\n",
        "df.loc[(df[\"coluna\"] == \"X\") & (df[\"coluna\"] == \"Y\")]\n",
        "df.loc[(df[\"coluna\"] == \"X\") | (df[\"coluna\"] == \"Y\")]"
      ],
      "metadata": {
        "id": "mupVAf63-VoZ"
      },
      "execution_count": null,
      "outputs": []
    },
    {
      "cell_type": "code",
      "source": [
        "# filtragem composta de coluna com query\n",
        "df.query(\"coluna == 'X' & coluna == 'Y'\")\n",
        "df.query(\"coluna == 'X' | coluna == 'Y'\")"
      ],
      "metadata": {
        "id": "Z4sE-5ZA-jKl"
      },
      "execution_count": null,
      "outputs": []
    },
    {
      "cell_type": "code",
      "source": [
        "# filtrar composta de texto que está dentro de uma lista\n",
        "df[df[\"coluna\"].isin([\"X\", \"Y\"])]"
      ],
      "metadata": {
        "id": "pR7YjUiG-1W0"
      },
      "execution_count": null,
      "outputs": []
    },
    {
      "cell_type": "code",
      "source": [
        "# filtrar composta de texto que contém\n",
        "df[df['coluna'].str.contains('X', case=False)]"
      ],
      "metadata": {
        "id": "CJ3-yxZpd26U"
      },
      "execution_count": null,
      "outputs": []
    },
    {
      "cell_type": "code",
      "source": [
        "# filtrar valor que está ausente (NaN)\n",
        "df[df[\"coluna\"].isna()]"
      ],
      "metadata": {
        "id": "DshP2TFn_uuy"
      },
      "execution_count": null,
      "outputs": []
    },
    {
      "cell_type": "code",
      "source": [
        "# filtrar valor que está NÃO ausente (NaN)\n",
        "df[df[\"coluna\"].notna()]"
      ],
      "metadata": {
        "id": "hTp2-zLf_wos"
      },
      "execution_count": null,
      "outputs": []
    },
    {
      "cell_type": "code",
      "source": [
        "# filtrar por data\n",
        "df[df[\"coluna\"].between(\"data_1\", \"data_2\")]"
      ],
      "metadata": {
        "id": "A8T-AVhGAX_p"
      },
      "execution_count": null,
      "outputs": []
    },
    {
      "cell_type": "markdown",
      "source": [
        "### 💡 Deduplicar linhas"
      ],
      "metadata": {
        "id": "cDWW8cztW7RQ"
      }
    },
    {
      "cell_type": "code",
      "source": [
        "# Verifica se há linhas duplicadas (considerando todas as colunas)\n",
        "df.duplicated().sum()"
      ],
      "metadata": {
        "id": "EDGk3cSUW8cC"
      },
      "execution_count": null,
      "outputs": []
    },
    {
      "cell_type": "code",
      "source": [
        "# exibir apenas as linhas duplicadas\n",
        "df[df.duplicated()]"
      ],
      "metadata": {
        "id": "Crg7UgDIKxyT"
      },
      "execution_count": null,
      "outputs": []
    },
    {
      "cell_type": "code",
      "source": [
        "# remover duplicatas e manter apenas a primeira ocorrência\n",
        "df = df.drop_duplicates()"
      ],
      "metadata": {
        "id": "Om7JkDLCLJkR"
      },
      "execution_count": null,
      "outputs": []
    },
    {
      "cell_type": "code",
      "source": [
        "# Remover duplicatas considerando apenas uma coluna\n",
        "df = df.drop_duplicates(subset=[\"coluna\"])"
      ],
      "metadata": {
        "id": "48YOB-OeLm3p"
      },
      "execution_count": null,
      "outputs": []
    },
    {
      "cell_type": "code",
      "source": [
        "# Mantendo apenas a última ocorrência\n",
        "df = df.drop_duplicates(subset=[\"coluna\"], keep=\"last\")"
      ],
      "metadata": {
        "id": "Nb3qsUzfMikh"
      },
      "execution_count": null,
      "outputs": []
    },
    {
      "cell_type": "markdown",
      "source": [
        "[Clique para acessar a documentação](https://pandas.pydata.org/docs/reference/api/pandas.DataFrame.drop_duplicates.html)"
      ],
      "metadata": {
        "id": "qjnIJ3QBL6ip"
      }
    },
    {
      "cell_type": "markdown",
      "source": [
        "### 💡 Ordenar linhas"
      ],
      "metadata": {
        "id": "Q-A83Yy6XPMO"
      }
    },
    {
      "cell_type": "code",
      "source": [
        "# ordenar pelo valor de venda\n",
        "df = df.sort_values(by=\"coluna_data\")"
      ],
      "metadata": {
        "id": "_BccbqzxXQ7U"
      },
      "execution_count": null,
      "outputs": []
    },
    {
      "cell_type": "code",
      "source": [
        "# ordenar do maior para o menor valor de venda\n",
        "df = df.sort_values(by=\"venda_valor\", ascending=False)"
      ],
      "metadata": {
        "id": "qyyhEIZgNX7Q"
      },
      "execution_count": null,
      "outputs": []
    },
    {
      "cell_type": "code",
      "source": [
        "# ordenar primeiro pela coluna_1 e depois pela coluna_2\n",
        "df = df.sort_values(by=[\"coluna_1\", \"coluna_2\"])"
      ],
      "metadata": {
        "id": "mTQBzk9rNl0G"
      },
      "execution_count": null,
      "outputs": []
    },
    {
      "cell_type": "code",
      "source": [
        "# ordenar primeiro pela coluna_1 do maior para menor e depois pela coluna_2 do menor para maior\n",
        "df = df.sort_values(by=[\"coluna_1\", \"coluna_2\"], ascending = [False, True])"
      ],
      "metadata": {
        "id": "ERvF45KXMHbA"
      },
      "execution_count": null,
      "outputs": []
    },
    {
      "cell_type": "code",
      "source": [
        "# ordenar primeiro pela coluna_1 do maior para menor e depois pela coluna_2 do menor para maior, reindexando\n",
        "df = df.sort_values(by=[\"coluna_1\", \"coluna_2\"], ascending = [False, True]).reset_index(drop=True)"
      ],
      "metadata": {
        "id": "ckrWsZlWN97s"
      },
      "execution_count": null,
      "outputs": []
    },
    {
      "cell_type": "markdown",
      "source": [
        "# 📌 Transform: Depois Enriquecer"
      ],
      "metadata": {
        "id": "J_AhEDYcXt7H"
      }
    },
    {
      "cell_type": "markdown",
      "source": [
        "## 1️⃣ Ao nível de colunas"
      ],
      "metadata": {
        "id": "vP9hk0KPX5WL"
      }
    },
    {
      "cell_type": "markdown",
      "source": [
        "### 💡 Coluna Condicional ou Personalizada"
      ],
      "metadata": {
        "id": "I6IVvku8YB85"
      }
    },
    {
      "cell_type": "code",
      "source": [
        "# Criando a coluna de idade baseada na data de nascimento. Pegamos o ano atual e subtraímos o ano de nascimento, obtendo a idade.\n",
        "from datetime import datetime\n",
        "df[\"idade\"] = datetime.today().year - pd.to_datetime(df[\"data_nascimento\"]).dt.year"
      ],
      "metadata": {
        "id": "UVzbTjgVXv80"
      },
      "execution_count": null,
      "outputs": []
    },
    {
      "cell_type": "code",
      "source": [
        "# Criando categorias de idade com pd.cut()\n",
        "df[\"faixa_etaria\"] = pd.cut(\n",
        "    df[\"idade\"],\n",
        "    bins=[0, 17, 35, 60, 100],  # Limites das faixas etárias\n",
        "    labels=[\"0-17\", \"18-35\", \"36-60\", \"61-100\"]\n",
        ")"
      ],
      "metadata": {
        "id": "1QtypOogPP9Z"
      },
      "execution_count": null,
      "outputs": []
    },
    {
      "cell_type": "code",
      "source": [
        "# Criando condições para as faixas etárias\n",
        "condicoes = [\n",
        "    df[\"idade\"] < 18,\n",
        "    (df[\"idade\"] >= 18) & (df[\"idade\"] <= 35),\n",
        "    (df[\"idade\"] > 35) & (df[\"idade\"] <= 60),\n",
        "    df[\"idade\"] > 60\n",
        "]\n",
        "\n",
        "# Definindo os rótulos correspondentes\n",
        "categorias = [\"0-17\", \"18-35\", \"36-60\", \"61-100\"]\n",
        "\n",
        "# Criando a nova coluna com np.select()\n",
        "df[\"faixa_etaria\"] = np.select(condicoes, categorias, default=\"Desconhecido\")"
      ],
      "metadata": {
        "id": "4AgN8t2HQTEv"
      },
      "execution_count": null,
      "outputs": []
    },
    {
      "cell_type": "markdown",
      "source": [
        "### 💡 Aplicando funções"
      ],
      "metadata": {
        "id": "FoDHN5Rs0g3q"
      }
    },
    {
      "cell_type": "code",
      "source": [
        "# Função para categorizar a idade\n",
        "def classificar_faixa_etaria(idade):\n",
        "    if idade < 18:\n",
        "        return \"0-17\"\n",
        "    elif idade <= 35:\n",
        "        return \"18-35\"\n",
        "    elif idade <= 60:\n",
        "        return \"36-60\"\n",
        "    elif idade > 60:\n",
        "        return \"61-100\"\n",
        "    else:\n",
        "        return \"Desconhecido\""
      ],
      "metadata": {
        "id": "Lt-TB3_c0jkM"
      },
      "execution_count": null,
      "outputs": []
    },
    {
      "cell_type": "code",
      "source": [
        "# Aplicando a função com apply()\n",
        "df[\"faixa_etaria\"] = df[\"idade\"].apply(classificar_faixa_etaria)"
      ],
      "metadata": {
        "id": "WZuAq6nT73EN"
      },
      "execution_count": null,
      "outputs": []
    },
    {
      "cell_type": "markdown",
      "source": [
        "## 2️⃣ Ao nível da tabela"
      ],
      "metadata": {
        "id": "qMkGDKPlX9BR"
      }
    },
    {
      "cell_type": "markdown",
      "source": [
        "### 💡 Junção de tabelas (Join / Merge)"
      ],
      "metadata": {
        "id": "TI1KJYk1YJsz"
      }
    },
    {
      "cell_type": "markdown",
      "source": [
        "##### 🚩 **INNER JOIN**"
      ],
      "metadata": {
        "id": "EPhtqt2MKjwY"
      }
    },
    {
      "cell_type": "code",
      "source": [
        "# valor comuns aos dois dataframe com chaves com mesmo nome\n",
        "pd.merge(df_esquerda, df_direita, on='chave', how='inner')"
      ],
      "metadata": {
        "id": "kwo33GqJK6iZ"
      },
      "execution_count": null,
      "outputs": []
    },
    {
      "cell_type": "markdown",
      "source": [
        "##### 🚩 **LEFT OUTER JOIN**"
      ],
      "metadata": {
        "id": "kexrneEPK9DT"
      }
    },
    {
      "cell_type": "code",
      "source": [
        "# valor comuns aos dois daframe e valor do dataframe da esquerda\n",
        "pd.merge(df_esquerda, df_direita, on='chave', how='left')"
      ],
      "metadata": {
        "id": "ij9mK0xAKjjs"
      },
      "execution_count": null,
      "outputs": []
    },
    {
      "cell_type": "code",
      "source": [
        "# valor comuns aos dois dataframe com chaves com diferentes nomes e mostrando como ficaram os merges\n",
        "pd.merge(df_esquerda, df_direita, left_on=\"chave_esquerda\", right_on=\"chave_direita\", how=\"left\", indicator=True)"
      ],
      "metadata": {
        "id": "9yfaV88uOK-y"
      },
      "execution_count": null,
      "outputs": []
    },
    {
      "cell_type": "markdown",
      "source": [
        "##### 🚩 **RIGHT OUTER JOIN**"
      ],
      "metadata": {
        "id": "19Eoe6yzLGCa"
      }
    },
    {
      "cell_type": "code",
      "source": [
        "# valor comuns aos dois daframe e valor do dataframe da direita\n",
        "pd.merge(df_esquerda, df_direita, on='chave', how='right')"
      ],
      "metadata": {
        "id": "gNBA9yXzLNTK"
      },
      "execution_count": null,
      "outputs": []
    },
    {
      "cell_type": "markdown",
      "source": [
        "##### **🚩 FULL OUTER JOIN**"
      ],
      "metadata": {
        "id": "BvAMJa12LVav"
      }
    },
    {
      "cell_type": "code",
      "source": [
        "# valor comuns aos dois daframe e valor do dataframe da direita e da esqueda\n",
        "pd.merge(df_esquerda, df_direita, on='chave', how='outer')"
      ],
      "metadata": {
        "id": "6jpM6z8BLVW-"
      },
      "execution_count": null,
      "outputs": []
    },
    {
      "cell_type": "markdown",
      "source": [
        "##### **🚩 COMBINING**"
      ],
      "metadata": {
        "id": "1XwXit-PLoET"
      }
    },
    {
      "cell_type": "code",
      "source": [
        "# empilhar os dois dataframes\n",
        "pd.concat([df_esquerda, df_direita])"
      ],
      "metadata": {
        "id": "I3YD3bc1LuXS"
      },
      "execution_count": null,
      "outputs": []
    },
    {
      "cell_type": "markdown",
      "source": [
        "[Clique para consultar a documentação](https://pandas.pydata.org/docs/reference/api/pandas.merge.html)"
      ],
      "metadata": {
        "id": "Y9uarf_2SYOG"
      }
    },
    {
      "cell_type": "markdown",
      "source": [
        "### 💡 Agregações"
      ],
      "metadata": {
        "id": "HaKrzq85Vrx0"
      }
    },
    {
      "cell_type": "code",
      "source": [
        "# agregar por uma coluna\n",
        "df_agg = df.groupby('coluna_agregante')['medida'].mean()"
      ],
      "metadata": {
        "id": "W-ftFjPl2ZlC"
      },
      "execution_count": null,
      "outputs": []
    },
    {
      "cell_type": "code",
      "source": [
        "# agregar por mais de uma coluna\n",
        "df_agg = df.groupby(['coluna_agregante_1', 'coluna_agregante_2'])['medida'].mean()"
      ],
      "metadata": {
        "id": "FMtGbbsw2-7Q"
      },
      "execution_count": null,
      "outputs": []
    },
    {
      "cell_type": "code",
      "source": [
        "# agregar por mais de uma medida\n",
        "df_agg = df.groupby(\"coluna_agregante\")[\"medida\"].agg([\"mean\", \"min\"])"
      ],
      "metadata": {
        "id": "t9Um3aAo3NYw"
      },
      "execution_count": null,
      "outputs": []
    },
    {
      "cell_type": "code",
      "source": [
        "# agregar por uma função\n",
        "\n",
        "def classificar_grupo(grupo):\n",
        "    media = grupo[\"medida\"].mean()\n",
        "    if media > 8:\n",
        "        return \"Excelente\"\n",
        "    elif media >= 6:\n",
        "        return \"Regular\"\n",
        "    else:\n",
        "        return \"Ruim\"\n",
        "\n",
        "# Aplicando por grupo de Sexo\n",
        "df_agg = df.groupby(\"coluna_agregante\").apply(classificar_grupo)"
      ],
      "metadata": {
        "id": "M0ZklGw547UV"
      },
      "execution_count": null,
      "outputs": []
    },
    {
      "cell_type": "markdown",
      "source": [
        "### 💡 Multi-índices"
      ],
      "metadata": {
        "id": "XNbRoIt7C_xy"
      }
    },
    {
      "cell_type": "code",
      "source": [
        "multi_indices = df.set_index(['indice_1', 'indice_2'])\n",
        "multi_indices"
      ],
      "metadata": {
        "id": "aVw6ktdRLJ61"
      },
      "execution_count": null,
      "outputs": []
    },
    {
      "cell_type": "markdown",
      "source": [
        "### 💡 Stack & Unstack"
      ],
      "metadata": {
        "id": "i_yx6PKXE4Yp"
      }
    },
    {
      "cell_type": "markdown",
      "source": [
        "#### `Stack`"
      ],
      "metadata": {
        "id": "Br2m-rt2FES9"
      }
    },
    {
      "cell_type": "code",
      "source": [
        "empilhado = df.stack(0)\n",
        "empilhado"
      ],
      "metadata": {
        "id": "FtokiIwSWdjq"
      },
      "execution_count": null,
      "outputs": []
    },
    {
      "cell_type": "markdown",
      "source": [
        "#### `Unstack`"
      ],
      "metadata": {
        "id": "EJrxFTjJFvLR"
      }
    },
    {
      "cell_type": "code",
      "source": [
        "desempilhado = empilhado.unstack(0)\n",
        "desempilhado"
      ],
      "metadata": {
        "id": "wuLFLGG8XSmx"
      },
      "execution_count": null,
      "outputs": []
    },
    {
      "cell_type": "markdown",
      "source": [
        "### 💡 Tabelas Dinâmicas"
      ],
      "metadata": {
        "id": "zGHhCLCFYQqv"
      }
    },
    {
      "cell_type": "markdown",
      "source": [
        "- index: Coluna que vai para o eixo das linhas (índice da tabela)\n",
        "- columns: Coluna que será transformada em colunas\n",
        "- values: Coluna cujos valores serão agregados\n",
        "- aggfunc: Função de agregação (ex: 'mean', 'sum', 'count', etc.)"
      ],
      "metadata": {
        "id": "ncx7t4peRLzW"
      }
    },
    {
      "cell_type": "code",
      "source": [
        "df_pivot = df.pivot_table(\n",
        "    index=\"coluna_agregante\",\n",
        "    values='coluna_medida'\n",
        ")\n",
        "\n",
        "df_pivot"
      ],
      "metadata": {
        "id": "UFb5XIQW96x9"
      },
      "execution_count": null,
      "outputs": []
    },
    {
      "cell_type": "code",
      "source": [
        "df_pivot = df.pivot_table(\n",
        "    index= [\"coluna_agregante_1\", \"coluna_agregante_2\"],\n",
        "    values='medida'\n",
        ")\n",
        "\n",
        "df_pivot"
      ],
      "metadata": {
        "id": "e9G7UVk7-vEh"
      },
      "execution_count": null,
      "outputs": []
    },
    {
      "cell_type": "code",
      "source": [
        "df_pivot = df.pivot_table(\n",
        "    index= [\"coluna_agregante_1\", \"coluna_agregante_2\"],\n",
        "    values='coluna_medida',\n",
        "    aggfunc=\"medida\"\n",
        ")\n",
        "\n",
        "df_pivot"
      ],
      "metadata": {
        "id": "nLj2UspHQlOh"
      },
      "execution_count": null,
      "outputs": []
    },
    {
      "cell_type": "code",
      "source": [
        "df_pivot = df.pivot_table(\n",
        "    index= [\"coluna_agregante_1\", \"coluna_agregante_2\"],\n",
        "    values='coluna_medida',\n",
        "    aggfunc=[\"medida_1\", \"medida_2\"]\n",
        ")\n",
        "\n",
        "df_pivot"
      ],
      "metadata": {
        "id": "R2bQ7ehCQvby"
      },
      "execution_count": null,
      "outputs": []
    },
    {
      "cell_type": "code",
      "source": [
        "df_pivot = df.pivot_table(\n",
        "    index= [\"coluna_agregante_1\", \"coluna_agregante_2\"],\n",
        "    values=['coluna_medida_1', 'coluna_medida_2'],\n",
        "    aggfunc={'coluna_medida_1': 'medida_1','coluna_medida_2': ['medida_1','medida_2']}\n",
        ")\n",
        "\n",
        "df_pivot"
      ],
      "metadata": {
        "id": "PxxoaDP_Q0R6"
      },
      "execution_count": null,
      "outputs": []
    },
    {
      "cell_type": "code",
      "source": [
        "df_pivot = df.pivot_table(\n",
        "    index= [\"coluna_agregante_1\", \"coluna_agregante_2\"],\n",
        "    values=['coluna_medida_1', 'coluna_medida_2'],\n",
        "    columns=['coluna_coluna_1', 'coluna_coluna_2'], # colunas para unstack\n",
        "    aggfunc={'coluna_medida_1': 'medida_1','coluna_medida_2': ['medida_1','medida_2']}\n",
        ")\n",
        "\n",
        "df_pivot"
      ],
      "metadata": {
        "id": "aLF56RhMRawN"
      },
      "execution_count": null,
      "outputs": []
    },
    {
      "cell_type": "code",
      "source": [
        "df_pivot = df.pivot_table(\n",
        "    index= [\"coluna_agregante_1\", \"coluna_agregante_2\"],\n",
        "    values=['coluna_medida_1', 'coluna_medida_2'],\n",
        "    columns=['coluna_coluna_1', 'coluna_coluna_2'], # colunas para unstack\n",
        "    aggfunc={'coluna_medida_1': 'medida_1','coluna_medida_2': ['medida_1','medida_2']},\n",
        "    fill_value=0 # preencher valores nulos com 0\n",
        ")\n",
        "\n",
        "df_pivot"
      ],
      "metadata": {
        "id": "HCNuJCd8Riam"
      },
      "execution_count": null,
      "outputs": []
    },
    {
      "cell_type": "code",
      "source": [
        "df_pivot = df.pivot_table(\n",
        "    index= [\"coluna_agregante_1\", \"coluna_agregante_2\"],\n",
        "    values=['coluna_medida_1', 'coluna_medida_2'],\n",
        "    columns=['coluna_coluna_1', 'coluna_coluna_2'], # colunas para unstack\n",
        "    aggfunc={'coluna_medida_1': 'medida_1','coluna_medida_2': ['medida_1','medida_2']},\n",
        "    fill_value=0,\n",
        "    margins=True, #adicionar totais\n",
        "    margins_name='Total' #modificar nome do total\n",
        ")\n",
        "\n",
        "df_pivot"
      ],
      "metadata": {
        "id": "4EybO134Rpkt"
      },
      "execution_count": null,
      "outputs": []
    },
    {
      "cell_type": "markdown",
      "source": [
        "[Clique para consultar a documentação](https://pandas.pydata.org/docs/reference/api/pandas.pivot_table.html)"
      ],
      "metadata": {
        "id": "ulNp6ieFU52X"
      }
    },
    {
      "cell_type": "markdown",
      "source": [
        "# 📌 Um recurso rápido"
      ],
      "metadata": {
        "id": "pSljKCv7YcJm"
      }
    },
    {
      "cell_type": "code",
      "source": [
        "pip install https://github.com/ydataai/pandas-profiling/archive/master.zip --quiet"
      ],
      "metadata": {
        "id": "L6Rvd9DWYfWz"
      },
      "execution_count": null,
      "outputs": []
    },
    {
      "cell_type": "code",
      "source": [
        "from pandas_profiling import ProfileReport"
      ],
      "metadata": {
        "id": "xzapNp9jbVPa"
      },
      "execution_count": null,
      "outputs": []
    },
    {
      "cell_type": "code",
      "source": [
        "profile = ProfileReport(df, title=\"Pandas Profiling Report\")"
      ],
      "metadata": {
        "id": "bbZ7S2CjbYkK"
      },
      "execution_count": null,
      "outputs": []
    },
    {
      "cell_type": "code",
      "source": [
        "profile"
      ],
      "metadata": {
        "id": "PLWM0dDNbaXL"
      },
      "execution_count": null,
      "outputs": []
    },
    {
      "cell_type": "code",
      "source": [
        "profile.to_file(\"meu_relatorio.html\")"
      ],
      "metadata": {
        "id": "A7GP1y_sb2UY"
      },
      "execution_count": null,
      "outputs": []
    }
  ]
}