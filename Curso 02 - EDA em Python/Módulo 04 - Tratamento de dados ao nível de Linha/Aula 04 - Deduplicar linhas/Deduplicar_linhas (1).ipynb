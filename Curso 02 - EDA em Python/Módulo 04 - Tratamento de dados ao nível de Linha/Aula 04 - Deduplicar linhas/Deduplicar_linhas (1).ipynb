{
  "nbformat": 4,
  "nbformat_minor": 0,
  "metadata": {
    "colab": {
      "provenance": [],
      "collapsed_sections": [
        "z9f1lGMGkd6o",
        "UAGP2SvBlek-",
        "3HLQLiaYljTy",
        "9u69PH_wlt3R",
        "YNlroEKnl5Qh",
        "sjJtRB2HmPE-",
        "PUa5ZqztmUIY",
        "tV6dNoCapObO",
        "hE6ZcNrirVob",
        "JIxMwvUp4nRl",
        "zC1-7d975IoM",
        "6yctnn2F5XcT",
        "1vcexPxstS_2",
        "aPkUQfJ2-cp_",
        "HdPurm7V-jnr",
        "8JcGLKpi4v1F",
        "1ETnkHPfsBUw",
        "g1m-Rp84_Y46",
        "zCoatH_-_tzq",
        "NnmqqhEuG1K6",
        "9M_F0gU3G9Nz",
        "FEiKOMl-HGec",
        "G03d8rpiHhL-",
        "GLI4H4MPm2uM",
        "SyzZAD8GoGqs",
        "py6uT9sIARSD",
        "fkXN-sDzBcFr",
        "NDl9NeZmncEC",
        "1_sa1VRKFW8P",
        "G4dmIyweGS7A",
        "iPlySAxMDhlV",
        "ZhGLNriXL0Qp",
        "wBX8JB4fQAxX",
        "qdAVR8I0QbDm",
        "p1YfTBbwzjBn",
        "czytOLfL0mB2",
        "EblKvSmP2Sk2",
        "bFMGfseH3_Sx",
        "zzAGyLjpQnW2",
        "j-8s2a7NV8Ga",
        "LZrd3ADPWiYI",
        "7wB-khdL6sP2",
        "pLNOpoIvWCb8",
        "Ma4ly9C9a_p1",
        "UQC0kKF69V07",
        "IORHJpbs_ynT",
        "oGg3omJ2WtB1",
        "T_avB6YHWP61",
        "-meE11FsWVBN",
        "Xtb9bf4FXKKC",
        "cDWW8cztW7RQ",
        "Q-A83Yy6XPMO",
        "J_AhEDYcXt7H",
        "vP9hk0KPX5WL",
        "I6IVvku8YB85",
        "FoDHN5Rs0g3q",
        "qMkGDKPlX9BR",
        "TI1KJYk1YJsz",
        "Cb8jIYI4JIwq",
        "ObiABSxMKALg",
        "HaKrzq85Vrx0",
        "SaC9ggT7MqL_",
        "kF_JgXRRMvWj",
        "XNbRoIt7C_xy",
        "zsO7dr3UDD9a",
        "ohOcDsmDDGed",
        "i_yx6PKXE4Yp",
        "Br2m-rt2FES9",
        "EJrxFTjJFvLR",
        "zGHhCLCFYQqv",
        "cfC2voc99SzR",
        "pTptuDho9Wm6",
        "bgw6CAF2YYwF",
        "c6ieaQPZZs6V",
        "VV-twW6oZvEa",
        "vtP1X2UZOM82",
        "pSljKCv7YcJm"
      ],
      "toc_visible": true
    },
    "kernelspec": {
      "name": "python3",
      "display_name": "Python 3"
    },
    "language_info": {
      "name": "python"
    }
  },
  "cells": [
    {
      "cell_type": "markdown",
      "source": [
        "# 📌 Transform: Primeiro Tratar"
      ],
      "metadata": {
        "id": "zzAGyLjpQnW2"
      }
    },
    {
      "cell_type": "markdown",
      "source": [
        "[Clique para acessar os dados](https://docs.google.com/spreadsheets/d/1YQhDNSt1sOrzq6AKxyYG6wzRAvM-M7l7jJRIHunNB88/copy?gid=1190375422#gid=1190375422)"
      ],
      "metadata": {
        "id": "FY6pZXcx192P"
      }
    },
    {
      "cell_type": "code",
      "source": [
        "import pandas as pd\n",
        "import numpy as np"
      ],
      "metadata": {
        "id": "RI7M3nq82Obq"
      },
      "execution_count": null,
      "outputs": []
    },
    {
      "cell_type": "code",
      "source": [
        "df_receitas = pd.read_csv('/content/Cópia de Dados - TCC - Planilhas - Receitas.csv')"
      ],
      "metadata": {
        "id": "INqRcjNj8Ffr"
      },
      "execution_count": null,
      "outputs": []
    },
    {
      "cell_type": "markdown",
      "source": [
        "## 1️⃣ Ao nível de colunas"
      ],
      "metadata": {
        "id": "j-8s2a7NV8Ga"
      }
    },
    {
      "cell_type": "markdown",
      "source": [
        "### 💡 Acessar nomes de coluna"
      ],
      "metadata": {
        "id": "LZrd3ADPWiYI"
      }
    },
    {
      "cell_type": "markdown",
      "source": [
        "🔹 O que faz?\n",
        "* Podemos visualizar os nomes das colunas do DataFrame usando\n",
        "* Quando usar? Para verificar se os nomes das colunas estão corretos ou precisam de ajustes.\n"
      ],
      "metadata": {
        "id": "L3prQo0q6QZ1"
      }
    },
    {
      "cell_type": "code",
      "source": [
        "df_receitas.columns"
      ],
      "metadata": {
        "colab": {
          "base_uri": "https://localhost:8080/"
        },
        "id": "coML_KMnZSYS",
        "outputId": "74448f07-73a9-459e-8b0d-a97099e60fa1"
      },
      "execution_count": null,
      "outputs": [
        {
          "output_type": "execute_result",
          "data": {
            "text/plain": [
              "Index(['Data Lançamento', 'Id Atendimento', 'Receita Código',\n",
              "       'Quantidade Vendida', 'Valor de venda', 'Cliente ID', 'Cliente Sexo',\n",
              "       'Cliente Nome', 'Cliente Data Nascimento', 'Cliente Origem',\n",
              "       'Cliente Cidade', 'Profissional Nome', 'Profissional Especialidade',\n",
              "       'Data de Pagamento', 'Forma Pagamento'],\n",
              "      dtype='object')"
            ]
          },
          "metadata": {},
          "execution_count": 811
        }
      ]
    },
    {
      "cell_type": "markdown",
      "source": [
        "### 💡 Mudar nomes de coluna"
      ],
      "metadata": {
        "id": "7wB-khdL6sP2"
      }
    },
    {
      "cell_type": "markdown",
      "source": [
        "🔹 O que faz?\n",
        "* A função .rename() permite alterar o nome de colunas específicas, sem modificar o restante."
      ],
      "metadata": {
        "id": "MXqkYbyl6ump"
      }
    },
    {
      "cell_type": "code",
      "source": [
        "#permite passar um dicionário que atribue a cada coluna existente um novo nome\n",
        "\n",
        "df_receitas = df_receitas.rename(columns={\n",
        "    'Data Lançamento': 'data_lancamento',\n",
        "    'Id Atendimento': 'atendimento_id',\n",
        "    'Receita Código': 'receita_codigo',\n",
        "    'Quantidade Vendida': 'venda_quantidade',\n",
        "    'Valor de venda': 'venda_valor',\n",
        "    'Cliente ID': 'cliente_id',\n",
        "    'Cliente Sexo': 'cliente_sexo',\n",
        "    'Cliente Nome':'cliente_nome',\n",
        "    'Cliente Data Nascimento': 'cliente_nascimento_data',\n",
        "    'Cliente Origem': 'cliente_origem',\n",
        "    'Cliente Cidade': 'cliente_cidade',\n",
        "    'Profissional Nome': 'profissional_nome',\n",
        "    'Profissional Especialidade': 'profissional_especialidade',\n",
        "    'Data de Pagamento': 'pagamento_data',\n",
        "    'Forma Pagamento':'pagamento_forma'\n",
        "    })"
      ],
      "metadata": {
        "id": "2C94bze2WphN"
      },
      "execution_count": null,
      "outputs": []
    },
    {
      "cell_type": "code",
      "source": [
        "df_receitas.columns"
      ],
      "metadata": {
        "colab": {
          "base_uri": "https://localhost:8080/"
        },
        "id": "iIPjhaZmr7oI",
        "outputId": "cb154d9c-af58-4175-d5c9-0a0f13aa5565"
      },
      "execution_count": null,
      "outputs": [
        {
          "output_type": "execute_result",
          "data": {
            "text/plain": [
              "Index(['data_lancamento', 'atendimento_id', 'receita_codigo',\n",
              "       'venda_quantidade', 'venda_valor', 'cliente_id', 'cliente_sexo',\n",
              "       'cliente_nome', 'cliente_nascimento_data', 'cliente_origem',\n",
              "       'cliente_cidade', 'profissional_nome', 'profissional_especialidade',\n",
              "       'pagamento_data', 'pagamento_forma'],\n",
              "      dtype='object')"
            ]
          },
          "metadata": {},
          "execution_count": 813
        }
      ]
    },
    {
      "cell_type": "markdown",
      "source": [
        "🔹 Se quisermos alterar todos os nomes de uma vez, podemos usar a atribuição do nome das colunas, com df.columns = [...], mas tem que usar na mesma sequência da ordem atual das colunas"
      ],
      "metadata": {
        "id": "DB8Iso5C60cG"
      }
    },
    {
      "cell_type": "code",
      "source": [
        "#Usar a identação é uma boa prática\n",
        "\n",
        "df_receitas.columns = ['data_lancamento',\n",
        "                       'atendimento_id',\n",
        "                       'receita_codigo',\n",
        "                       'venda_quantidade',\n",
        "                       'venda_valor',\n",
        "                       'cliente_id',\n",
        "                       'cliente_sexo',\n",
        "                       'cliente_nome',\n",
        "                       'cliente_nascimento_data',\n",
        "                       'cliente_origem',\n",
        "                       'cliente_cidade',\n",
        "                       'profissional_nome',\n",
        "                       'profissional_especialidade',\n",
        "                       'pagamento_data',\n",
        "                       'pagamento_forma'\n",
        "                       ]"
      ],
      "metadata": {
        "id": "HHTqDLWq62j9"
      },
      "execution_count": null,
      "outputs": []
    },
    {
      "cell_type": "markdown",
      "source": [
        "🔹 Se os nomes das colunas estiverem inconsistentes, podemos formatá-los automaticamente para minúsculo"
      ],
      "metadata": {
        "id": "U2YpZadzARcy"
      }
    },
    {
      "cell_type": "code",
      "source": [
        "#df.columns = df.columns.str.lower()"
      ],
      "metadata": {
        "id": "ninlHy6zASHm"
      },
      "execution_count": null,
      "outputs": []
    },
    {
      "cell_type": "markdown",
      "source": [
        "🔹 Ou, se quisermos remover espaços e deixar padronizado:"
      ],
      "metadata": {
        "id": "QbD9AH1KAal8"
      }
    },
    {
      "cell_type": "code",
      "source": [
        "#df_receitas.columns = df_receitas.columns.str.strip().str.replace(\" \", \"_\")"
      ],
      "metadata": {
        "id": "UzeoCFB6AeR9"
      },
      "execution_count": null,
      "outputs": []
    },
    {
      "cell_type": "markdown",
      "source": [
        "### 💡 Colocar a tipologia da coluna"
      ],
      "metadata": {
        "id": "pLNOpoIvWCb8"
      }
    },
    {
      "cell_type": "markdown",
      "source": [
        "Em planilhas, a alteração é com mouse (low-code, lembra da nossa aula de ferramentas?) Aqui é com o teclado"
      ],
      "metadata": {
        "id": "ZlVbg6ahA8G8"
      }
    },
    {
      "cell_type": "markdown",
      "source": [
        "![aea2112.png](data:image/png;base64,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)"
      ],
      "metadata": {
        "id": "BKKJ6mrgBbwV"
      }
    },
    {
      "cell_type": "markdown",
      "source": [
        "🔹 Ao trabalhar com dados, nem sempre as colunas vêm com o tipo correto. Por isso, é essencial converter os tipos das colunas para garantir análises e cálculos corretos."
      ],
      "metadata": {
        "id": "IPzvLzAg9BVs"
      }
    },
    {
      "cell_type": "markdown",
      "source": [
        "🔹 Se uma coluna que deveria ser string foi carregada como número, podemos convertê-la usando a função astype"
      ],
      "metadata": {
        "id": "dq8OVhKL8T9O"
      }
    },
    {
      "cell_type": "code",
      "source": [
        "df_receitas['atendimento_id'] = df_receitas['atendimento_id'].astype(str)"
      ],
      "metadata": {
        "id": "4maeEsEHsLgk"
      },
      "execution_count": null,
      "outputs": []
    },
    {
      "cell_type": "code",
      "source": [
        "# Converter tipo de dados de colunas\n",
        "df_receitas['atendimento_id'] = df_receitas['atendimento_id'].astype(str) #Exemplo para string\n",
        "df_receitas['receita_codigo'] = df_receitas['receita_codigo'].astype(str) #Exemplo para string\n",
        "df_receitas['cliente_id'] = df_receitas['cliente_id'].astype(str) #Exemplo para string"
      ],
      "metadata": {
        "id": "iSgM3lEAWHbI"
      },
      "execution_count": null,
      "outputs": []
    },
    {
      "cell_type": "markdown",
      "source": [
        "🔹 Colunas de data muitas vezes são carregadas como object (texto), o que impede operações como cálculos de tempo. Por isso tem que ser convertidas usando a função to_datetime. É interessante usar parâmetros para forçar o formato e lidar com erros"
      ],
      "metadata": {
        "id": "HOfiKSeN8Zsu"
      }
    },
    {
      "cell_type": "code",
      "source": [
        "# Converter a coluna 'data_lancamento' para o tipo datetime\n",
        "df_receitas['data_lancamento'] = pd.to_datetime(df_receitas['data_lancamento'], format='%Y/%m/%d', errors='coerce')\n",
        "\n",
        "# Converter a coluna 'cliente_nascimento_data' para o tipo datetime\n",
        "df_receitas['cliente_nascimento_data'] = pd.to_datetime(df_receitas['cliente_nascimento_data'], format='%Y/%m/%d', errors='coerce')\n",
        "\n",
        "# Converter a coluna 'pagamento_data' para o tipo datetime\n",
        "df_receitas['pagamento_data'] = pd.to_datetime(df_receitas['pagamento_data'], format='%Y/%m/%d', errors='coerce')"
      ],
      "metadata": {
        "id": "gqmkMpA2bYwf"
      },
      "execution_count": null,
      "outputs": []
    },
    {
      "cell_type": "markdown",
      "source": [
        "[Clique para ver a documentação](https://pandas.pydata.org/docs/reference/api/pandas.to_datetime.html)"
      ],
      "metadata": {
        "id": "Mdyi4X5N8xJ3"
      }
    },
    {
      "cell_type": "markdown",
      "source": [
        "### 💡 Mudar ordem das colunas"
      ],
      "metadata": {
        "id": "Ma4ly9C9a_p1"
      }
    },
    {
      "cell_type": "markdown",
      "source": [
        "A ordem das colunas pode influenciar na organização e visualização dos dados. Em planilhas, a alteração é com mouse, basta arrastar (low-code, lembra da nossa aula de ferramentas?) Aqui é com o teclado high-code)!\n",
        "\n",
        "\n",
        "\n"
      ],
      "metadata": {
        "id": "vIFldDKgBi4D"
      }
    },
    {
      "cell_type": "markdown",
      "source": [
        "![ae2112.png](data:image/png;base64,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)"
      ],
      "metadata": {
        "id": "wb6W3HoFE0tp"
      }
    },
    {
      "cell_type": "markdown",
      "source": [
        "🔹 No Pandas, podemos facilmente alterar a ordem das colunas para facilitar a análise."
      ],
      "metadata": {
        "id": "pXf0_ATU9KjF"
      }
    },
    {
      "cell_type": "markdown",
      "source": [
        "\n",
        "\n",
        "🔹 Antes de reordenar, é útil verificar a ordem atual:"
      ],
      "metadata": {
        "id": "4WBHOf7C9OxR"
      }
    },
    {
      "cell_type": "code",
      "source": [
        "df_receitas.columns"
      ],
      "metadata": {
        "colab": {
          "base_uri": "https://localhost:8080/"
        },
        "id": "jX6yr88VbBN7",
        "outputId": "bdeb09b8-2ea9-4d59-febb-711ac7d41ea3"
      },
      "execution_count": null,
      "outputs": [
        {
          "output_type": "execute_result",
          "data": {
            "text/plain": [
              "Index(['data_lancamento', 'atendimento_id', 'receita_codigo',\n",
              "       'venda_quantidade', 'venda_valor', 'cliente_id', 'cliente_sexo',\n",
              "       'cliente_nome', 'cliente_nascimento_data', 'cliente_origem',\n",
              "       'cliente_cidade', 'profissional_nome', 'profissional_especialidade',\n",
              "       'pagamento_data', 'pagamento_forma'],\n",
              "      dtype='object')"
            ]
          },
          "metadata": {},
          "execution_count": 823
        }
      ]
    },
    {
      "cell_type": "markdown",
      "source": [
        "🔹 Podemos definir uma nova ordem das colunas especificando a sequência desejada:"
      ],
      "metadata": {
        "id": "DRbl4FgZ9TMz"
      }
    },
    {
      "cell_type": "code",
      "source": [
        "df_receitas = df_receitas[[\n",
        "    \"atendimento_id\", \"data_lancamento\", \"receita_codigo\",\n",
        "    \"venda_quantidade\", \"venda_valor\", \"cliente_id\", \"cliente_sexo\",\"cliente_nome\",\n",
        "    \"cliente_nascimento_data\", \"cliente_origem\",\n",
        "    \"cliente_cidade\", \"profissional_nome\", \"profissional_especialidade\",\n",
        "    \"pagamento_data\", \"pagamento_forma\"\n",
        "]]"
      ],
      "metadata": {
        "id": "uB5JYr689dJk"
      },
      "execution_count": null,
      "outputs": []
    },
    {
      "cell_type": "code",
      "source": [
        "df_receitas.columns"
      ],
      "metadata": {
        "colab": {
          "base_uri": "https://localhost:8080/"
        },
        "id": "QjbBcTlHs-G1",
        "outputId": "afa2192e-9e48-4fc9-dbbc-919a4fd6be4f"
      },
      "execution_count": null,
      "outputs": [
        {
          "output_type": "execute_result",
          "data": {
            "text/plain": [
              "Index(['atendimento_id', 'data_lancamento', 'receita_codigo',\n",
              "       'venda_quantidade', 'venda_valor', 'cliente_id', 'cliente_sexo',\n",
              "       'cliente_nome', 'cliente_nascimento_data', 'cliente_origem',\n",
              "       'cliente_cidade', 'profissional_nome', 'profissional_especialidade',\n",
              "       'pagamento_data', 'pagamento_forma'],\n",
              "      dtype='object')"
            ]
          },
          "metadata": {},
          "execution_count": 825
        }
      ]
    },
    {
      "cell_type": "markdown",
      "source": [
        "🔹 Se quisermos organizar automaticamente as colunas em ordem alfabética:"
      ],
      "metadata": {
        "id": "xVZ98IXBAGKF"
      }
    },
    {
      "cell_type": "code",
      "source": [
        "#df_receitas = df_receitas[sorted(df_receitas.columns)]"
      ],
      "metadata": {
        "id": "ZnKpZgCxAEep"
      },
      "execution_count": null,
      "outputs": []
    },
    {
      "cell_type": "markdown",
      "source": [
        "### 💡 Descartando uma coluna desnecessária"
      ],
      "metadata": {
        "id": "UQC0kKF69V07"
      }
    },
    {
      "cell_type": "markdown",
      "source": [
        "Em planilhas, a alteração é com mouse, basta clicar com o botão direito (low-code, lembra da nossa aula de ferramentas?) Aqui é com o teclado high-code)!"
      ],
      "metadata": {
        "id": "F8Do-w9_E90b"
      }
    },
    {
      "cell_type": "markdown",
      "source": [
        "![ae2112.png](data:image/png;base64,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)"
      ],
      "metadata": {
        "id": "D_5edSqyFIn-"
      }
    },
    {
      "cell_type": "markdown",
      "source": [
        "🔹 Em python, é possível descartar uma coluna simplesmente usando a atribuição anterior, deixando uma coluna de fora"
      ],
      "metadata": {
        "id": "q9PN6EGe-MMO"
      }
    },
    {
      "cell_type": "markdown",
      "source": [
        "🔹 Mas existem outras forma, usando a função drop(), especificando o nome da coluna"
      ],
      "metadata": {
        "id": "aF5CdwoQ-Q00"
      }
    },
    {
      "cell_type": "code",
      "source": [
        "df_receitas = df_receitas.drop(columns=[\"cliente_cidade\"])"
      ],
      "metadata": {
        "id": "OKHS1Ps49YX4"
      },
      "execution_count": null,
      "outputs": []
    },
    {
      "cell_type": "markdown",
      "source": [
        "🔹 Se verificarmos com .columns, veremos que a coluna simplemente sumiu"
      ],
      "metadata": {
        "id": "PA1BfUdJ-oec"
      }
    },
    {
      "cell_type": "code",
      "source": [
        "df_receitas.columns"
      ],
      "metadata": {
        "colab": {
          "base_uri": "https://localhost:8080/"
        },
        "id": "THTGuFLV-kV2",
        "outputId": "e9764f94-08e1-4a25-fb71-6de5ca64cb14"
      },
      "execution_count": null,
      "outputs": [
        {
          "output_type": "execute_result",
          "data": {
            "text/plain": [
              "Index(['atendimento_id', 'data_lancamento', 'receita_codigo',\n",
              "       'venda_quantidade', 'venda_valor', 'cliente_id', 'cliente_sexo',\n",
              "       'cliente_nome', 'cliente_nascimento_data', 'cliente_origem',\n",
              "       'profissional_nome', 'profissional_especialidade', 'pagamento_data',\n",
              "       'pagamento_forma'],\n",
              "      dtype='object')"
            ]
          },
          "metadata": {},
          "execution_count": 829
        }
      ]
    },
    {
      "cell_type": "markdown",
      "source": [
        "🔹 Se quiser jogar fora mais de uma coluna ao mesmo tempo, basta passar como parâmetro."
      ],
      "metadata": {
        "id": "tPI1f14y-9Zk"
      }
    },
    {
      "cell_type": "code",
      "source": [
        "df_receitas = df_receitas.drop(columns=[\"profissional_nome\", \"cliente_nome\"])"
      ],
      "metadata": {
        "id": "3ByihYdb-8iN"
      },
      "execution_count": null,
      "outputs": []
    },
    {
      "cell_type": "markdown",
      "source": [
        "🔹 Se não quisermos reatribuir o DataFrame (df_receitas = ...), podemos usar o parâmetro inplace=True. No entanto, cuidado com a sequência de aplicação (a sequência da receita importa!), porque você pode estar pedindo para jogar fora algo que já o foi"
      ],
      "metadata": {
        "id": "BI7xJz5YJ_fO"
      }
    },
    {
      "cell_type": "code",
      "source": [
        "df_receitas = df_receitas.drop(columns=[\"profissional_nome\", \"cliente_nome\"], inplace=True)"
      ],
      "metadata": {
        "colab": {
          "base_uri": "https://localhost:8080/",
          "height": 287
        },
        "id": "YkX9p3KdJ_K4",
        "outputId": "f1b701e5-1074-4bf9-ec00-97c9d54f155e"
      },
      "execution_count": null,
      "outputs": [
        {
          "output_type": "error",
          "ename": "KeyError",
          "evalue": "\"['profissional_nome', 'cliente_nome'] not found in axis\"",
          "traceback": [
            "\u001b[0;31m---------------------------------------------------------------------------\u001b[0m",
            "\u001b[0;31mKeyError\u001b[0m                                  Traceback (most recent call last)",
            "\u001b[0;32m/tmp/ipython-input-831-3063140496.py\u001b[0m in \u001b[0;36m<cell line: 0>\u001b[0;34m()\u001b[0m\n\u001b[0;32m----> 1\u001b[0;31m \u001b[0mdf_receitas\u001b[0m \u001b[0;34m=\u001b[0m \u001b[0mdf_receitas\u001b[0m\u001b[0;34m.\u001b[0m\u001b[0mdrop\u001b[0m\u001b[0;34m(\u001b[0m\u001b[0mcolumns\u001b[0m\u001b[0;34m=\u001b[0m\u001b[0;34m[\u001b[0m\u001b[0;34m\"profissional_nome\"\u001b[0m\u001b[0;34m,\u001b[0m \u001b[0;34m\"cliente_nome\"\u001b[0m\u001b[0;34m]\u001b[0m\u001b[0;34m,\u001b[0m \u001b[0minplace\u001b[0m\u001b[0;34m=\u001b[0m\u001b[0;32mTrue\u001b[0m\u001b[0;34m)\u001b[0m\u001b[0;34m\u001b[0m\u001b[0;34m\u001b[0m\u001b[0m\n\u001b[0m",
            "\u001b[0;32m/usr/local/lib/python3.11/dist-packages/pandas/core/frame.py\u001b[0m in \u001b[0;36mdrop\u001b[0;34m(self, labels, axis, index, columns, level, inplace, errors)\u001b[0m\n\u001b[1;32m   5579\u001b[0m                 \u001b[0mweight\u001b[0m  \u001b[0;36m1.0\u001b[0m     \u001b[0;36m0.8\u001b[0m\u001b[0;34m\u001b[0m\u001b[0;34m\u001b[0m\u001b[0m\n\u001b[1;32m   5580\u001b[0m         \"\"\"\n\u001b[0;32m-> 5581\u001b[0;31m         return super().drop(\n\u001b[0m\u001b[1;32m   5582\u001b[0m             \u001b[0mlabels\u001b[0m\u001b[0;34m=\u001b[0m\u001b[0mlabels\u001b[0m\u001b[0;34m,\u001b[0m\u001b[0;34m\u001b[0m\u001b[0;34m\u001b[0m\u001b[0m\n\u001b[1;32m   5583\u001b[0m             \u001b[0maxis\u001b[0m\u001b[0;34m=\u001b[0m\u001b[0maxis\u001b[0m\u001b[0;34m,\u001b[0m\u001b[0;34m\u001b[0m\u001b[0;34m\u001b[0m\u001b[0m\n",
            "\u001b[0;32m/usr/local/lib/python3.11/dist-packages/pandas/core/generic.py\u001b[0m in \u001b[0;36mdrop\u001b[0;34m(self, labels, axis, index, columns, level, inplace, errors)\u001b[0m\n\u001b[1;32m   4786\u001b[0m         \u001b[0;32mfor\u001b[0m \u001b[0maxis\u001b[0m\u001b[0;34m,\u001b[0m \u001b[0mlabels\u001b[0m \u001b[0;32min\u001b[0m \u001b[0maxes\u001b[0m\u001b[0;34m.\u001b[0m\u001b[0mitems\u001b[0m\u001b[0;34m(\u001b[0m\u001b[0;34m)\u001b[0m\u001b[0;34m:\u001b[0m\u001b[0;34m\u001b[0m\u001b[0;34m\u001b[0m\u001b[0m\n\u001b[1;32m   4787\u001b[0m             \u001b[0;32mif\u001b[0m \u001b[0mlabels\u001b[0m \u001b[0;32mis\u001b[0m \u001b[0;32mnot\u001b[0m \u001b[0;32mNone\u001b[0m\u001b[0;34m:\u001b[0m\u001b[0;34m\u001b[0m\u001b[0;34m\u001b[0m\u001b[0m\n\u001b[0;32m-> 4788\u001b[0;31m                 \u001b[0mobj\u001b[0m \u001b[0;34m=\u001b[0m \u001b[0mobj\u001b[0m\u001b[0;34m.\u001b[0m\u001b[0m_drop_axis\u001b[0m\u001b[0;34m(\u001b[0m\u001b[0mlabels\u001b[0m\u001b[0;34m,\u001b[0m \u001b[0maxis\u001b[0m\u001b[0;34m,\u001b[0m \u001b[0mlevel\u001b[0m\u001b[0;34m=\u001b[0m\u001b[0mlevel\u001b[0m\u001b[0;34m,\u001b[0m \u001b[0merrors\u001b[0m\u001b[0;34m=\u001b[0m\u001b[0merrors\u001b[0m\u001b[0;34m)\u001b[0m\u001b[0;34m\u001b[0m\u001b[0;34m\u001b[0m\u001b[0m\n\u001b[0m\u001b[1;32m   4789\u001b[0m \u001b[0;34m\u001b[0m\u001b[0m\n\u001b[1;32m   4790\u001b[0m         \u001b[0;32mif\u001b[0m \u001b[0minplace\u001b[0m\u001b[0;34m:\u001b[0m\u001b[0;34m\u001b[0m\u001b[0;34m\u001b[0m\u001b[0m\n",
            "\u001b[0;32m/usr/local/lib/python3.11/dist-packages/pandas/core/generic.py\u001b[0m in \u001b[0;36m_drop_axis\u001b[0;34m(self, labels, axis, level, errors, only_slice)\u001b[0m\n\u001b[1;32m   4828\u001b[0m                 \u001b[0mnew_axis\u001b[0m \u001b[0;34m=\u001b[0m \u001b[0maxis\u001b[0m\u001b[0;34m.\u001b[0m\u001b[0mdrop\u001b[0m\u001b[0;34m(\u001b[0m\u001b[0mlabels\u001b[0m\u001b[0;34m,\u001b[0m \u001b[0mlevel\u001b[0m\u001b[0;34m=\u001b[0m\u001b[0mlevel\u001b[0m\u001b[0;34m,\u001b[0m \u001b[0merrors\u001b[0m\u001b[0;34m=\u001b[0m\u001b[0merrors\u001b[0m\u001b[0;34m)\u001b[0m\u001b[0;34m\u001b[0m\u001b[0;34m\u001b[0m\u001b[0m\n\u001b[1;32m   4829\u001b[0m             \u001b[0;32melse\u001b[0m\u001b[0;34m:\u001b[0m\u001b[0;34m\u001b[0m\u001b[0;34m\u001b[0m\u001b[0m\n\u001b[0;32m-> 4830\u001b[0;31m                 \u001b[0mnew_axis\u001b[0m \u001b[0;34m=\u001b[0m \u001b[0maxis\u001b[0m\u001b[0;34m.\u001b[0m\u001b[0mdrop\u001b[0m\u001b[0;34m(\u001b[0m\u001b[0mlabels\u001b[0m\u001b[0;34m,\u001b[0m \u001b[0merrors\u001b[0m\u001b[0;34m=\u001b[0m\u001b[0merrors\u001b[0m\u001b[0;34m)\u001b[0m\u001b[0;34m\u001b[0m\u001b[0;34m\u001b[0m\u001b[0m\n\u001b[0m\u001b[1;32m   4831\u001b[0m             \u001b[0mindexer\u001b[0m \u001b[0;34m=\u001b[0m \u001b[0maxis\u001b[0m\u001b[0;34m.\u001b[0m\u001b[0mget_indexer\u001b[0m\u001b[0;34m(\u001b[0m\u001b[0mnew_axis\u001b[0m\u001b[0;34m)\u001b[0m\u001b[0;34m\u001b[0m\u001b[0;34m\u001b[0m\u001b[0m\n\u001b[1;32m   4832\u001b[0m \u001b[0;34m\u001b[0m\u001b[0m\n",
            "\u001b[0;32m/usr/local/lib/python3.11/dist-packages/pandas/core/indexes/base.py\u001b[0m in \u001b[0;36mdrop\u001b[0;34m(self, labels, errors)\u001b[0m\n\u001b[1;32m   7068\u001b[0m         \u001b[0;32mif\u001b[0m \u001b[0mmask\u001b[0m\u001b[0;34m.\u001b[0m\u001b[0many\u001b[0m\u001b[0;34m(\u001b[0m\u001b[0;34m)\u001b[0m\u001b[0;34m:\u001b[0m\u001b[0;34m\u001b[0m\u001b[0;34m\u001b[0m\u001b[0m\n\u001b[1;32m   7069\u001b[0m             \u001b[0;32mif\u001b[0m \u001b[0merrors\u001b[0m \u001b[0;34m!=\u001b[0m \u001b[0;34m\"ignore\"\u001b[0m\u001b[0;34m:\u001b[0m\u001b[0;34m\u001b[0m\u001b[0;34m\u001b[0m\u001b[0m\n\u001b[0;32m-> 7070\u001b[0;31m                 \u001b[0;32mraise\u001b[0m \u001b[0mKeyError\u001b[0m\u001b[0;34m(\u001b[0m\u001b[0;34mf\"{labels[mask].tolist()} not found in axis\"\u001b[0m\u001b[0;34m)\u001b[0m\u001b[0;34m\u001b[0m\u001b[0;34m\u001b[0m\u001b[0m\n\u001b[0m\u001b[1;32m   7071\u001b[0m             \u001b[0mindexer\u001b[0m \u001b[0;34m=\u001b[0m \u001b[0mindexer\u001b[0m\u001b[0;34m[\u001b[0m\u001b[0;34m~\u001b[0m\u001b[0mmask\u001b[0m\u001b[0;34m]\u001b[0m\u001b[0;34m\u001b[0m\u001b[0;34m\u001b[0m\u001b[0m\n\u001b[1;32m   7072\u001b[0m         \u001b[0;32mreturn\u001b[0m \u001b[0mself\u001b[0m\u001b[0;34m.\u001b[0m\u001b[0mdelete\u001b[0m\u001b[0;34m(\u001b[0m\u001b[0mindexer\u001b[0m\u001b[0;34m)\u001b[0m\u001b[0;34m\u001b[0m\u001b[0;34m\u001b[0m\u001b[0m\n",
            "\u001b[0;31mKeyError\u001b[0m: \"['profissional_nome', 'cliente_nome'] not found in axis\""
          ]
        }
      ]
    },
    {
      "cell_type": "markdown",
      "source": [
        "### 💡 Descartando uma coluna com nulidade"
      ],
      "metadata": {
        "id": "IORHJpbs_ynT"
      }
    },
    {
      "cell_type": "markdown",
      "source": [
        "🔹 É possível descartar uma coluna com todos ou algum valor nulo, utlizando a função dropna()"
      ],
      "metadata": {
        "id": "zj6OjtrhKiue"
      }
    },
    {
      "cell_type": "code",
      "source": [
        "# axis = 1 identifica para dropar colunas\n",
        "# how identifica o critério de nulidade\n",
        "\n",
        "df_receitas = df_receitas.dropna(axis=1, how=\"all\")"
      ],
      "metadata": {
        "id": "TpLskaKi_4g_"
      },
      "execution_count": null,
      "outputs": []
    },
    {
      "cell_type": "markdown",
      "source": [
        "[Clique para ver documentação](https://pandas.pydata.org/docs/reference/api/pandas.DataFrame.dropna.html)"
      ],
      "metadata": {
        "id": "Xe8byLFqK5X3"
      }
    },
    {
      "cell_type": "markdown",
      "source": [
        "## 2️⃣ Ao nível de linhas"
      ],
      "metadata": {
        "id": "oGg3omJ2WtB1"
      }
    },
    {
      "cell_type": "markdown",
      "source": [
        "### 💡 Substituir linhas"
      ],
      "metadata": {
        "id": "T_avB6YHWP61"
      }
    },
    {
      "cell_type": "markdown",
      "source": [
        "Em planilhas, a alteração é com mouse, basta clicar (low-code, lembra da nossa aula de ferramentas?) Aqui é com o teclado high-code)!"
      ],
      "metadata": {
        "id": "RM3Kde9OIm2M"
      }
    },
    {
      "cell_type": "markdown",
      "source": [
        "![ea2121fdd.png](data:image/png;base64,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)"
      ],
      "metadata": {
        "id": "aOYi8XEhI1-N"
      }
    },
    {
      "cell_type": "markdown",
      "source": [
        "🔹 Com value_counts() podemos ver que a coluna Sexo está com os valores meio estranhos, veja só"
      ],
      "metadata": {
        "id": "0xzrOesf3QKc"
      }
    },
    {
      "cell_type": "code",
      "source": [
        "df_receitas['cliente_sexo'].value_counts(dropna=False)"
      ],
      "metadata": {
        "id": "spY584pwWUj-",
        "colab": {
          "base_uri": "https://localhost:8080/",
          "height": 272
        },
        "outputId": "bf0e70d5-a8e2-4685-db0e-e683321ab56e"
      },
      "execution_count": null,
      "outputs": [
        {
          "output_type": "execute_result",
          "data": {
            "text/plain": [
              "cliente_sexo\n",
              "F            536\n",
              "Feminino     408\n",
              "NaN          192\n",
              "M             92\n",
              "Masculino     14\n",
              "Name: count, dtype: int64"
            ],
            "text/html": [
              "<div>\n",
              "<style scoped>\n",
              "    .dataframe tbody tr th:only-of-type {\n",
              "        vertical-align: middle;\n",
              "    }\n",
              "\n",
              "    .dataframe tbody tr th {\n",
              "        vertical-align: top;\n",
              "    }\n",
              "\n",
              "    .dataframe thead th {\n",
              "        text-align: right;\n",
              "    }\n",
              "</style>\n",
              "<table border=\"1\" class=\"dataframe\">\n",
              "  <thead>\n",
              "    <tr style=\"text-align: right;\">\n",
              "      <th></th>\n",
              "      <th>count</th>\n",
              "    </tr>\n",
              "    <tr>\n",
              "      <th>cliente_sexo</th>\n",
              "      <th></th>\n",
              "    </tr>\n",
              "  </thead>\n",
              "  <tbody>\n",
              "    <tr>\n",
              "      <th>F</th>\n",
              "      <td>536</td>\n",
              "    </tr>\n",
              "    <tr>\n",
              "      <th>Feminino</th>\n",
              "      <td>408</td>\n",
              "    </tr>\n",
              "    <tr>\n",
              "      <th>NaN</th>\n",
              "      <td>192</td>\n",
              "    </tr>\n",
              "    <tr>\n",
              "      <th>M</th>\n",
              "      <td>92</td>\n",
              "    </tr>\n",
              "    <tr>\n",
              "      <th>Masculino</th>\n",
              "      <td>14</td>\n",
              "    </tr>\n",
              "  </tbody>\n",
              "</table>\n",
              "</div><br><label><b>dtype:</b> int64</label>"
            ]
          },
          "metadata": {},
          "execution_count": 833
        }
      ]
    },
    {
      "cell_type": "markdown",
      "source": [
        "🔹 Você pode usar a função np.where() para substituir onde tem F por Feminino. É uma boa escolha de função quando queremos substituir valores com base em uma única condição"
      ],
      "metadata": {
        "id": "HvvxgTk63cxL"
      }
    },
    {
      "cell_type": "code",
      "source": [
        "df_receitas[\"cliente_sexo\"].value_counts()"
      ],
      "metadata": {
        "colab": {
          "base_uri": "https://localhost:8080/",
          "height": 241
        },
        "id": "ipbJ3om8RENB",
        "outputId": "f59d528a-1cb3-4f65-8452-dce46329222c"
      },
      "execution_count": null,
      "outputs": [
        {
          "output_type": "execute_result",
          "data": {
            "text/plain": [
              "cliente_sexo\n",
              "F            536\n",
              "Feminino     408\n",
              "M             92\n",
              "Masculino     14\n",
              "Name: count, dtype: int64"
            ],
            "text/html": [
              "<div>\n",
              "<style scoped>\n",
              "    .dataframe tbody tr th:only-of-type {\n",
              "        vertical-align: middle;\n",
              "    }\n",
              "\n",
              "    .dataframe tbody tr th {\n",
              "        vertical-align: top;\n",
              "    }\n",
              "\n",
              "    .dataframe thead th {\n",
              "        text-align: right;\n",
              "    }\n",
              "</style>\n",
              "<table border=\"1\" class=\"dataframe\">\n",
              "  <thead>\n",
              "    <tr style=\"text-align: right;\">\n",
              "      <th></th>\n",
              "      <th>count</th>\n",
              "    </tr>\n",
              "    <tr>\n",
              "      <th>cliente_sexo</th>\n",
              "      <th></th>\n",
              "    </tr>\n",
              "  </thead>\n",
              "  <tbody>\n",
              "    <tr>\n",
              "      <th>F</th>\n",
              "      <td>536</td>\n",
              "    </tr>\n",
              "    <tr>\n",
              "      <th>Feminino</th>\n",
              "      <td>408</td>\n",
              "    </tr>\n",
              "    <tr>\n",
              "      <th>M</th>\n",
              "      <td>92</td>\n",
              "    </tr>\n",
              "    <tr>\n",
              "      <th>Masculino</th>\n",
              "      <td>14</td>\n",
              "    </tr>\n",
              "  </tbody>\n",
              "</table>\n",
              "</div><br><label><b>dtype:</b> int64</label>"
            ]
          },
          "metadata": {},
          "execution_count": 834
        }
      ]
    },
    {
      "cell_type": "code",
      "source": [
        "df_receitas[\"cliente_sexo\"] = np.where(df_receitas[\"cliente_sexo\"] == 'F', \"Feminino\", df_receitas[\"cliente_sexo\"])"
      ],
      "metadata": {
        "id": "J8SjpVah3pFp"
      },
      "execution_count": null,
      "outputs": []
    },
    {
      "cell_type": "markdown",
      "source": [
        "🔹 No entanto, aqui precisamos substituir dois valores, porque também M precisa ser substituído por Masculino. Nesse caso, é possível utilizar np.select()"
      ],
      "metadata": {
        "id": "2JPSI4te4Jn7"
      }
    },
    {
      "cell_type": "code",
      "source": [
        "# Definir condições\n",
        "condicoes = [df_receitas[\"cliente_sexo\"] == \"F\",\n",
        "             df_receitas[\"cliente_sexo\"] == \"M\"\n",
        "             ]\n",
        "\n",
        "# Definir os valores correspondentes para cada condição. Tem que ter um valor para cada condição\n",
        "valores = [\"Feminino\", \"Masculino\"]\n",
        "\n",
        "# Aplicar a substituição com np.select() com um valor default\n",
        "df_receitas[\"cliente_sexo\"] = np.select(condicoes, valores, default= df_receitas[\"cliente_sexo\"])\n"
      ],
      "metadata": {
        "id": "b_LwjfrQ378f"
      },
      "execution_count": null,
      "outputs": []
    },
    {
      "cell_type": "markdown",
      "source": [
        "🔹 Só que em programação, existem vários caminhos! Você ainda pode utilizar funções como replace()"
      ],
      "metadata": {
        "id": "9f_BN4r_4xbz"
      }
    },
    {
      "cell_type": "code",
      "source": [
        "# Substituir diretamente valores específicos\n",
        "\n",
        "df_receitas[\"cliente_sexo\"] = df_receitas[\"cliente_sexo\"].replace({\"F\": \"Feminino\", \"M\": \"Masculino\"})\n"
      ],
      "metadata": {
        "id": "2MqL7w4A48vk"
      },
      "execution_count": null,
      "outputs": []
    },
    {
      "cell_type": "markdown",
      "source": [
        "🔹 Ou a função map(). Só tome o cuidado, pois se um valor não estiver no dicionário, ele será convertido para NaN."
      ],
      "metadata": {
        "id": "kcij1Yuw5FCe"
      }
    },
    {
      "cell_type": "code",
      "source": [
        "# Criar um dicionário de mapeamento e aplicar com map().\n",
        "\n",
        "mapa_sexo = {\"F\": \"Feminino\", \"M\": \"Masculino\", \"Feminino\": \"Feminino\", \"Masculino\": \"Masculino\"}\n",
        "\n",
        "df_receitas[\"cliente_sexo\"] = df_receitas[\"cliente_sexo\"].map(mapa_sexo)"
      ],
      "metadata": {
        "id": "xUP0jovf5E4G"
      },
      "execution_count": null,
      "outputs": []
    },
    {
      "cell_type": "markdown",
      "source": [
        "🔹 Por fim, utilize a função apply(), para aplicar uma função customizada por você!"
      ],
      "metadata": {
        "id": "HJftz1mL5h-1"
      }
    },
    {
      "cell_type": "code",
      "source": [
        "# Função personalizada para padronizar a coluna\n",
        "\n",
        "def padronizar_sexo(valor):\n",
        "    if valor in [\"F\", \"Feminino\"]:\n",
        "        return \"Feminino\"\n",
        "    elif valor in [\"M\", \"Masculino\"]:\n",
        "        return \"Masculino\"\n",
        "    return valor #retorna o valor original caso não seja alterado\n",
        "\n",
        "# Aplicando a função com apply()\n",
        "df_receitas[\"cliente_sexo\"] = df_receitas[\"cliente_sexo\"].apply(padronizar_sexo)\n"
      ],
      "metadata": {
        "id": "wg52c-zN5sGk"
      },
      "execution_count": null,
      "outputs": []
    },
    {
      "cell_type": "markdown",
      "source": [
        "### 💡 Imputar linhas"
      ],
      "metadata": {
        "id": "-meE11FsWVBN"
      }
    },
    {
      "cell_type": "markdown",
      "source": [
        "🔹 A gente poderia ter utilizado a substituição para substituir um valor nulo (NaN)."
      ],
      "metadata": {
        "id": "CgmAKyEK6Qtb"
      }
    },
    {
      "cell_type": "code",
      "source": [
        "# Substituir valores nulos por \"Não informado\"\n",
        "\n",
        "df_receitas[\"cliente_sexo\"] = np.where(df_receitas[\"cliente_sexo\"].isna(), \"Não informado\", df_receitas[\"cliente_sexo\"])"
      ],
      "metadata": {
        "id": "vaW0M83XWaYi"
      },
      "execution_count": null,
      "outputs": []
    },
    {
      "cell_type": "markdown",
      "source": [
        "🔹 Mas também existe uma função específica para substituição de Nulos"
      ],
      "metadata": {
        "id": "Ils_6wVN7jxi"
      }
    },
    {
      "cell_type": "code",
      "source": [
        "# Preenchendo nulos com a moda (valor mais frequente) da coluna\n",
        "\n",
        "df_receitas[\"cliente_sexo\"] = df_receitas[\"cliente_sexo\"].fillna(\"Não informado\")"
      ],
      "metadata": {
        "id": "9Wrx5dUc7qSD"
      },
      "execution_count": null,
      "outputs": []
    },
    {
      "cell_type": "markdown",
      "source": [
        "🔹 A função fillna tem vários parâmetros interessantes, veja a documentação"
      ],
      "metadata": {
        "id": "vF__zbvA8FIm"
      }
    },
    {
      "cell_type": "markdown",
      "source": [
        "[Clique para ver a documentação](https://pandas.pydata.org/docs/reference/api/pandas.DataFrame.fillna.html)"
      ],
      "metadata": {
        "id": "v16QdNYi7xpZ"
      }
    },
    {
      "cell_type": "markdown",
      "source": [
        "### 💡 Filtrar linhas"
      ],
      "metadata": {
        "id": "Xtb9bf4FXKKC"
      }
    },
    {
      "cell_type": "markdown",
      "source": [
        "Em planilhas, a alteração é com mouse, basta clicar (low-code, lembra da nossa aula de ferramentas?) Aqui é com o teclado high-code)!"
      ],
      "metadata": {
        "id": "aMNJIjAdJLHj"
      }
    },
    {
      "cell_type": "markdown",
      "source": [
        "![ea2121fdd.png](data:image/png;base64,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)"
      ],
      "metadata": {
        "id": "46RcRSEGJLrG"
      }
    },
    {
      "cell_type": "markdown",
      "source": [
        "🔹 Mas e se a gente quiser filtrar algumas linhas? Podemos utilizar algo que \"prende\" apenas algumas linhas. Repare que ao invés de parêntese utilizamos colchetes. Isso porque loc é um indexador, não uma função. Isso significa que ele é usado para acessar elementos dentro do DataFrame, de forma semelhante a como acessamos elementos de listas ou dicionários em Python."
      ],
      "metadata": {
        "id": "KoVbahZL8Yn-"
      }
    },
    {
      "cell_type": "code",
      "source": [
        "df_receitas.loc[df_receitas[\"cliente_sexo\"] == \"Feminino\"].head(3)"
      ],
      "metadata": {
        "id": "lDI0zrByXMaf",
        "colab": {
          "base_uri": "https://localhost:8080/",
          "height": 163
        },
        "outputId": "dde08e24-bd8d-4671-f364-68046c2eb23b"
      },
      "execution_count": null,
      "outputs": [
        {
          "output_type": "execute_result",
          "data": {
            "text/plain": [
              "   atendimento_id data_lancamento receita_codigo  venda_quantidade  \\\n",
              "0  44487881736038      2021-10-18      879941033                 1   \n",
              "1  44487881736038      2021-10-18      879941033                 1   \n",
              "2  44487881736038      2021-10-18      879941033                 1   \n",
              "\n",
              "   venda_valor            cliente_id cliente_sexo cliente_nascimento_data  \\\n",
              "0       5989.0             e\\aez\\eae     Feminino              1975-01-01   \n",
              "1       5989.0  881736038aeeaeeaaeea     Feminino              1975-01-01   \n",
              "2       5989.0        881736038aeeae     Feminino              1975-01-01   \n",
              "\n",
              "  cliente_origem profissional_especialidade pagamento_data pagamento_forma  \n",
              "0      Indicação          Cirurgia Plástica     2021-10-21         TED/DOC  \n",
              "1      Indicação          Cirurgia Plástica     2021-10-21         TED/DOC  \n",
              "2      Indicação          Cirurgia Plástica     2021-10-21         TED/DOC  "
            ],
            "text/html": [
              "\n",
              "  <div id=\"df-277215d6-edcc-458a-a624-6508f8ffc183\" class=\"colab-df-container\">\n",
              "    <div>\n",
              "<style scoped>\n",
              "    .dataframe tbody tr th:only-of-type {\n",
              "        vertical-align: middle;\n",
              "    }\n",
              "\n",
              "    .dataframe tbody tr th {\n",
              "        vertical-align: top;\n",
              "    }\n",
              "\n",
              "    .dataframe thead th {\n",
              "        text-align: right;\n",
              "    }\n",
              "</style>\n",
              "<table border=\"1\" class=\"dataframe\">\n",
              "  <thead>\n",
              "    <tr style=\"text-align: right;\">\n",
              "      <th></th>\n",
              "      <th>atendimento_id</th>\n",
              "      <th>data_lancamento</th>\n",
              "      <th>receita_codigo</th>\n",
              "      <th>venda_quantidade</th>\n",
              "      <th>venda_valor</th>\n",
              "      <th>cliente_id</th>\n",
              "      <th>cliente_sexo</th>\n",
              "      <th>cliente_nascimento_data</th>\n",
              "      <th>cliente_origem</th>\n",
              "      <th>profissional_especialidade</th>\n",
              "      <th>pagamento_data</th>\n",
              "      <th>pagamento_forma</th>\n",
              "    </tr>\n",
              "  </thead>\n",
              "  <tbody>\n",
              "    <tr>\n",
              "      <th>0</th>\n",
              "      <td>44487881736038</td>\n",
              "      <td>2021-10-18</td>\n",
              "      <td>879941033</td>\n",
              "      <td>1</td>\n",
              "      <td>5989.0</td>\n",
              "      <td>e\\aez\\eae</td>\n",
              "      <td>Feminino</td>\n",
              "      <td>1975-01-01</td>\n",
              "      <td>Indicação</td>\n",
              "      <td>Cirurgia Plástica</td>\n",
              "      <td>2021-10-21</td>\n",
              "      <td>TED/DOC</td>\n",
              "    </tr>\n",
              "    <tr>\n",
              "      <th>1</th>\n",
              "      <td>44487881736038</td>\n",
              "      <td>2021-10-18</td>\n",
              "      <td>879941033</td>\n",
              "      <td>1</td>\n",
              "      <td>5989.0</td>\n",
              "      <td>881736038aeeaeeaaeea</td>\n",
              "      <td>Feminino</td>\n",
              "      <td>1975-01-01</td>\n",
              "      <td>Indicação</td>\n",
              "      <td>Cirurgia Plástica</td>\n",
              "      <td>2021-10-21</td>\n",
              "      <td>TED/DOC</td>\n",
              "    </tr>\n",
              "    <tr>\n",
              "      <th>2</th>\n",
              "      <td>44487881736038</td>\n",
              "      <td>2021-10-18</td>\n",
              "      <td>879941033</td>\n",
              "      <td>1</td>\n",
              "      <td>5989.0</td>\n",
              "      <td>881736038aeeae</td>\n",
              "      <td>Feminino</td>\n",
              "      <td>1975-01-01</td>\n",
              "      <td>Indicação</td>\n",
              "      <td>Cirurgia Plástica</td>\n",
              "      <td>2021-10-21</td>\n",
              "      <td>TED/DOC</td>\n",
              "    </tr>\n",
              "  </tbody>\n",
              "</table>\n",
              "</div>\n",
              "    <div class=\"colab-df-buttons\">\n",
              "\n",
              "  <div class=\"colab-df-container\">\n",
              "    <button class=\"colab-df-convert\" onclick=\"convertToInteractive('df-277215d6-edcc-458a-a624-6508f8ffc183')\"\n",
              "            title=\"Convert this dataframe to an interactive table.\"\n",
              "            style=\"display:none;\">\n",
              "\n",
              "  <svg xmlns=\"http://www.w3.org/2000/svg\" height=\"24px\" viewBox=\"0 -960 960 960\">\n",
              "    <path d=\"M120-120v-720h720v720H120Zm60-500h600v-160H180v160Zm220 220h160v-160H400v160Zm0 220h160v-160H400v160ZM180-400h160v-160H180v160Zm440 0h160v-160H620v160ZM180-180h160v-160H180v160Zm440 0h160v-160H620v160Z\"/>\n",
              "  </svg>\n",
              "    </button>\n",
              "\n",
              "  <style>\n",
              "    .colab-df-container {\n",
              "      display:flex;\n",
              "      gap: 12px;\n",
              "    }\n",
              "\n",
              "    .colab-df-convert {\n",
              "      background-color: #E8F0FE;\n",
              "      border: none;\n",
              "      border-radius: 50%;\n",
              "      cursor: pointer;\n",
              "      display: none;\n",
              "      fill: #1967D2;\n",
              "      height: 32px;\n",
              "      padding: 0 0 0 0;\n",
              "      width: 32px;\n",
              "    }\n",
              "\n",
              "    .colab-df-convert:hover {\n",
              "      background-color: #E2EBFA;\n",
              "      box-shadow: 0px 1px 2px rgba(60, 64, 67, 0.3), 0px 1px 3px 1px rgba(60, 64, 67, 0.15);\n",
              "      fill: #174EA6;\n",
              "    }\n",
              "\n",
              "    .colab-df-buttons div {\n",
              "      margin-bottom: 4px;\n",
              "    }\n",
              "\n",
              "    [theme=dark] .colab-df-convert {\n",
              "      background-color: #3B4455;\n",
              "      fill: #D2E3FC;\n",
              "    }\n",
              "\n",
              "    [theme=dark] .colab-df-convert:hover {\n",
              "      background-color: #434B5C;\n",
              "      box-shadow: 0px 1px 3px 1px rgba(0, 0, 0, 0.15);\n",
              "      filter: drop-shadow(0px 1px 2px rgba(0, 0, 0, 0.3));\n",
              "      fill: #FFFFFF;\n",
              "    }\n",
              "  </style>\n",
              "\n",
              "    <script>\n",
              "      const buttonEl =\n",
              "        document.querySelector('#df-277215d6-edcc-458a-a624-6508f8ffc183 button.colab-df-convert');\n",
              "      buttonEl.style.display =\n",
              "        google.colab.kernel.accessAllowed ? 'block' : 'none';\n",
              "\n",
              "      async function convertToInteractive(key) {\n",
              "        const element = document.querySelector('#df-277215d6-edcc-458a-a624-6508f8ffc183');\n",
              "        const dataTable =\n",
              "          await google.colab.kernel.invokeFunction('convertToInteractive',\n",
              "                                                    [key], {});\n",
              "        if (!dataTable) return;\n",
              "\n",
              "        const docLinkHtml = 'Like what you see? Visit the ' +\n",
              "          '<a target=\"_blank\" href=https://colab.research.google.com/notebooks/data_table.ipynb>data table notebook</a>'\n",
              "          + ' to learn more about interactive tables.';\n",
              "        element.innerHTML = '';\n",
              "        dataTable['output_type'] = 'display_data';\n",
              "        await google.colab.output.renderOutput(dataTable, element);\n",
              "        const docLink = document.createElement('div');\n",
              "        docLink.innerHTML = docLinkHtml;\n",
              "        element.appendChild(docLink);\n",
              "      }\n",
              "    </script>\n",
              "  </div>\n",
              "\n",
              "\n",
              "    <div id=\"df-f6c60301-c124-47cb-9779-8f1d0b5604e3\">\n",
              "      <button class=\"colab-df-quickchart\" onclick=\"quickchart('df-f6c60301-c124-47cb-9779-8f1d0b5604e3')\"\n",
              "                title=\"Suggest charts\"\n",
              "                style=\"display:none;\">\n",
              "\n",
              "<svg xmlns=\"http://www.w3.org/2000/svg\" height=\"24px\"viewBox=\"0 0 24 24\"\n",
              "     width=\"24px\">\n",
              "    <g>\n",
              "        <path d=\"M19 3H5c-1.1 0-2 .9-2 2v14c0 1.1.9 2 2 2h14c1.1 0 2-.9 2-2V5c0-1.1-.9-2-2-2zM9 17H7v-7h2v7zm4 0h-2V7h2v10zm4 0h-2v-4h2v4z\"/>\n",
              "    </g>\n",
              "</svg>\n",
              "      </button>\n",
              "\n",
              "<style>\n",
              "  .colab-df-quickchart {\n",
              "      --bg-color: #E8F0FE;\n",
              "      --fill-color: #1967D2;\n",
              "      --hover-bg-color: #E2EBFA;\n",
              "      --hover-fill-color: #174EA6;\n",
              "      --disabled-fill-color: #AAA;\n",
              "      --disabled-bg-color: #DDD;\n",
              "  }\n",
              "\n",
              "  [theme=dark] .colab-df-quickchart {\n",
              "      --bg-color: #3B4455;\n",
              "      --fill-color: #D2E3FC;\n",
              "      --hover-bg-color: #434B5C;\n",
              "      --hover-fill-color: #FFFFFF;\n",
              "      --disabled-bg-color: #3B4455;\n",
              "      --disabled-fill-color: #666;\n",
              "  }\n",
              "\n",
              "  .colab-df-quickchart {\n",
              "    background-color: var(--bg-color);\n",
              "    border: none;\n",
              "    border-radius: 50%;\n",
              "    cursor: pointer;\n",
              "    display: none;\n",
              "    fill: var(--fill-color);\n",
              "    height: 32px;\n",
              "    padding: 0;\n",
              "    width: 32px;\n",
              "  }\n",
              "\n",
              "  .colab-df-quickchart:hover {\n",
              "    background-color: var(--hover-bg-color);\n",
              "    box-shadow: 0 1px 2px rgba(60, 64, 67, 0.3), 0 1px 3px 1px rgba(60, 64, 67, 0.15);\n",
              "    fill: var(--button-hover-fill-color);\n",
              "  }\n",
              "\n",
              "  .colab-df-quickchart-complete:disabled,\n",
              "  .colab-df-quickchart-complete:disabled:hover {\n",
              "    background-color: var(--disabled-bg-color);\n",
              "    fill: var(--disabled-fill-color);\n",
              "    box-shadow: none;\n",
              "  }\n",
              "\n",
              "  .colab-df-spinner {\n",
              "    border: 2px solid var(--fill-color);\n",
              "    border-color: transparent;\n",
              "    border-bottom-color: var(--fill-color);\n",
              "    animation:\n",
              "      spin 1s steps(1) infinite;\n",
              "  }\n",
              "\n",
              "  @keyframes spin {\n",
              "    0% {\n",
              "      border-color: transparent;\n",
              "      border-bottom-color: var(--fill-color);\n",
              "      border-left-color: var(--fill-color);\n",
              "    }\n",
              "    20% {\n",
              "      border-color: transparent;\n",
              "      border-left-color: var(--fill-color);\n",
              "      border-top-color: var(--fill-color);\n",
              "    }\n",
              "    30% {\n",
              "      border-color: transparent;\n",
              "      border-left-color: var(--fill-color);\n",
              "      border-top-color: var(--fill-color);\n",
              "      border-right-color: var(--fill-color);\n",
              "    }\n",
              "    40% {\n",
              "      border-color: transparent;\n",
              "      border-right-color: var(--fill-color);\n",
              "      border-top-color: var(--fill-color);\n",
              "    }\n",
              "    60% {\n",
              "      border-color: transparent;\n",
              "      border-right-color: var(--fill-color);\n",
              "    }\n",
              "    80% {\n",
              "      border-color: transparent;\n",
              "      border-right-color: var(--fill-color);\n",
              "      border-bottom-color: var(--fill-color);\n",
              "    }\n",
              "    90% {\n",
              "      border-color: transparent;\n",
              "      border-bottom-color: var(--fill-color);\n",
              "    }\n",
              "  }\n",
              "</style>\n",
              "\n",
              "      <script>\n",
              "        async function quickchart(key) {\n",
              "          const quickchartButtonEl =\n",
              "            document.querySelector('#' + key + ' button');\n",
              "          quickchartButtonEl.disabled = true;  // To prevent multiple clicks.\n",
              "          quickchartButtonEl.classList.add('colab-df-spinner');\n",
              "          try {\n",
              "            const charts = await google.colab.kernel.invokeFunction(\n",
              "                'suggestCharts', [key], {});\n",
              "          } catch (error) {\n",
              "            console.error('Error during call to suggestCharts:', error);\n",
              "          }\n",
              "          quickchartButtonEl.classList.remove('colab-df-spinner');\n",
              "          quickchartButtonEl.classList.add('colab-df-quickchart-complete');\n",
              "        }\n",
              "        (() => {\n",
              "          let quickchartButtonEl =\n",
              "            document.querySelector('#df-f6c60301-c124-47cb-9779-8f1d0b5604e3 button');\n",
              "          quickchartButtonEl.style.display =\n",
              "            google.colab.kernel.accessAllowed ? 'block' : 'none';\n",
              "        })();\n",
              "      </script>\n",
              "    </div>\n",
              "\n",
              "    </div>\n",
              "  </div>\n"
            ],
            "application/vnd.google.colaboratory.intrinsic+json": {
              "type": "dataframe",
              "summary": "{\n  \"name\": \"df_receitas\",\n  \"rows\": 3,\n  \"fields\": [\n    {\n      \"column\": \"atendimento_id\",\n      \"properties\": {\n        \"dtype\": \"category\",\n        \"num_unique_values\": 1,\n        \"samples\": [\n          \"44487881736038\"\n        ],\n        \"semantic_type\": \"\",\n        \"description\": \"\"\n      }\n    },\n    {\n      \"column\": \"data_lancamento\",\n      \"properties\": {\n        \"dtype\": \"date\",\n        \"min\": \"2021-10-18 00:00:00\",\n        \"max\": \"2021-10-18 00:00:00\",\n        \"num_unique_values\": 1,\n        \"samples\": [\n          \"2021-10-18 00:00:00\"\n        ],\n        \"semantic_type\": \"\",\n        \"description\": \"\"\n      }\n    },\n    {\n      \"column\": \"receita_codigo\",\n      \"properties\": {\n        \"dtype\": \"category\",\n        \"num_unique_values\": 1,\n        \"samples\": [\n          \"879941033\"\n        ],\n        \"semantic_type\": \"\",\n        \"description\": \"\"\n      }\n    },\n    {\n      \"column\": \"venda_quantidade\",\n      \"properties\": {\n        \"dtype\": \"number\",\n        \"std\": 0,\n        \"min\": 1,\n        \"max\": 1,\n        \"num_unique_values\": 1,\n        \"samples\": [\n          1\n        ],\n        \"semantic_type\": \"\",\n        \"description\": \"\"\n      }\n    },\n    {\n      \"column\": \"venda_valor\",\n      \"properties\": {\n        \"dtype\": \"number\",\n        \"std\": 0.0,\n        \"min\": 5989.0,\n        \"max\": 5989.0,\n        \"num_unique_values\": 1,\n        \"samples\": [\n          5989.0\n        ],\n        \"semantic_type\": \"\",\n        \"description\": \"\"\n      }\n    },\n    {\n      \"column\": \"cliente_id\",\n      \"properties\": {\n        \"dtype\": \"string\",\n        \"num_unique_values\": 3,\n        \"samples\": [\n          \"e\\\\aez\\\\eae\"\n        ],\n        \"semantic_type\": \"\",\n        \"description\": \"\"\n      }\n    },\n    {\n      \"column\": \"cliente_sexo\",\n      \"properties\": {\n        \"dtype\": \"category\",\n        \"num_unique_values\": 1,\n        \"samples\": [\n          \"Feminino\"\n        ],\n        \"semantic_type\": \"\",\n        \"description\": \"\"\n      }\n    },\n    {\n      \"column\": \"cliente_nascimento_data\",\n      \"properties\": {\n        \"dtype\": \"date\",\n        \"min\": \"1975-01-01 00:00:00\",\n        \"max\": \"1975-01-01 00:00:00\",\n        \"num_unique_values\": 1,\n        \"samples\": [\n          \"1975-01-01 00:00:00\"\n        ],\n        \"semantic_type\": \"\",\n        \"description\": \"\"\n      }\n    },\n    {\n      \"column\": \"cliente_origem\",\n      \"properties\": {\n        \"dtype\": \"category\",\n        \"num_unique_values\": 1,\n        \"samples\": [\n          \"Indica\\u00e7\\u00e3o\"\n        ],\n        \"semantic_type\": \"\",\n        \"description\": \"\"\n      }\n    },\n    {\n      \"column\": \"profissional_especialidade\",\n      \"properties\": {\n        \"dtype\": \"category\",\n        \"num_unique_values\": 1,\n        \"samples\": [\n          \"Cirurgia Pl\\u00e1stica\"\n        ],\n        \"semantic_type\": \"\",\n        \"description\": \"\"\n      }\n    },\n    {\n      \"column\": \"pagamento_data\",\n      \"properties\": {\n        \"dtype\": \"date\",\n        \"min\": \"2021-10-21 00:00:00\",\n        \"max\": \"2021-10-21 00:00:00\",\n        \"num_unique_values\": 1,\n        \"samples\": [\n          \"2021-10-21 00:00:00\"\n        ],\n        \"semantic_type\": \"\",\n        \"description\": \"\"\n      }\n    },\n    {\n      \"column\": \"pagamento_forma\",\n      \"properties\": {\n        \"dtype\": \"category\",\n        \"num_unique_values\": 1,\n        \"samples\": [\n          \"TED/DOC\"\n        ],\n        \"semantic_type\": \"\",\n        \"description\": \"\"\n      }\n    }\n  ]\n}"
            }
          },
          "metadata": {},
          "execution_count": 843
        }
      ]
    },
    {
      "cell_type": "markdown",
      "source": [
        "Ou de forma posicional, retorna as primeiras 5 linhas, Porque o index máximo é 4? Porque em Python a indexação começa no 0."
      ],
      "metadata": {
        "id": "ecoq5ZBsyjU2"
      }
    },
    {
      "cell_type": "code",
      "source": [
        "df_receitas.iloc[0:5]"
      ],
      "metadata": {
        "id": "ayY7uNN2KTua",
        "colab": {
          "base_uri": "https://localhost:8080/",
          "height": 226
        },
        "outputId": "ba5232c8-d035-45ca-ac58-1b8758879497"
      },
      "execution_count": null,
      "outputs": [
        {
          "output_type": "execute_result",
          "data": {
            "text/plain": [
              "  atendimento_id receita_codigo  venda_quantidade  venda_valor  \\\n",
              "0     2021-10-18      879941033                 1       5989.0   \n",
              "1     2021-10-18      879941033                 1       5989.0   \n",
              "2     2021-10-18      879941033                 1       5989.0   \n",
              "3     2021-10-18      879941033                 1       5989.0   \n",
              "4     2021-11-08      879941073                 1      10535.0   \n",
              "\n",
              "             cliente_id cliente_sexo cliente_nascimento_data cliente_origem  \\\n",
              "0             e\\aez\\eae     Feminino              1975-01-01      Indicação   \n",
              "1  881736038aeeaeeaaeea     Feminino              1975-01-01      Indicação   \n",
              "2        881736038aeeae     Feminino              1975-01-01      Indicação   \n",
              "3             881736038     Feminino              1975-01-01      Indicação   \n",
              "4             881735973     Feminino              1972-06-22      Indicação   \n",
              "\n",
              "  profissional_especialidade pagamento_data pagamento_forma  \n",
              "0          Cirurgia Plástica     2021-10-21         TED/DOC  \n",
              "1          Cirurgia Plástica     2021-10-21         TED/DOC  \n",
              "2          Cirurgia Plástica     2021-10-21         TED/DOC  \n",
              "3          Cirurgia Plástica     2021-10-21         TED/DOC  \n",
              "4          Cirurgia Plástica     2021-11-08             Pix  "
            ],
            "text/html": [
              "\n",
              "  <div id=\"df-ed222b60-0147-4b19-bc91-7496fb52964f\" class=\"colab-df-container\">\n",
              "    <div>\n",
              "<style scoped>\n",
              "    .dataframe tbody tr th:only-of-type {\n",
              "        vertical-align: middle;\n",
              "    }\n",
              "\n",
              "    .dataframe tbody tr th {\n",
              "        vertical-align: top;\n",
              "    }\n",
              "\n",
              "    .dataframe thead th {\n",
              "        text-align: right;\n",
              "    }\n",
              "</style>\n",
              "<table border=\"1\" class=\"dataframe\">\n",
              "  <thead>\n",
              "    <tr style=\"text-align: right;\">\n",
              "      <th></th>\n",
              "      <th>atendimento_id</th>\n",
              "      <th>receita_codigo</th>\n",
              "      <th>venda_quantidade</th>\n",
              "      <th>venda_valor</th>\n",
              "      <th>cliente_id</th>\n",
              "      <th>cliente_sexo</th>\n",
              "      <th>cliente_nascimento_data</th>\n",
              "      <th>cliente_origem</th>\n",
              "      <th>profissional_especialidade</th>\n",
              "      <th>pagamento_data</th>\n",
              "      <th>pagamento_forma</th>\n",
              "    </tr>\n",
              "  </thead>\n",
              "  <tbody>\n",
              "    <tr>\n",
              "      <th>0</th>\n",
              "      <td>2021-10-18</td>\n",
              "      <td>879941033</td>\n",
              "      <td>1</td>\n",
              "      <td>5989.0</td>\n",
              "      <td>e\\aez\\eae</td>\n",
              "      <td>Feminino</td>\n",
              "      <td>1975-01-01</td>\n",
              "      <td>Indicação</td>\n",
              "      <td>Cirurgia Plástica</td>\n",
              "      <td>2021-10-21</td>\n",
              "      <td>TED/DOC</td>\n",
              "    </tr>\n",
              "    <tr>\n",
              "      <th>1</th>\n",
              "      <td>2021-10-18</td>\n",
              "      <td>879941033</td>\n",
              "      <td>1</td>\n",
              "      <td>5989.0</td>\n",
              "      <td>881736038aeeaeeaaeea</td>\n",
              "      <td>Feminino</td>\n",
              "      <td>1975-01-01</td>\n",
              "      <td>Indicação</td>\n",
              "      <td>Cirurgia Plástica</td>\n",
              "      <td>2021-10-21</td>\n",
              "      <td>TED/DOC</td>\n",
              "    </tr>\n",
              "    <tr>\n",
              "      <th>2</th>\n",
              "      <td>2021-10-18</td>\n",
              "      <td>879941033</td>\n",
              "      <td>1</td>\n",
              "      <td>5989.0</td>\n",
              "      <td>881736038aeeae</td>\n",
              "      <td>Feminino</td>\n",
              "      <td>1975-01-01</td>\n",
              "      <td>Indicação</td>\n",
              "      <td>Cirurgia Plástica</td>\n",
              "      <td>2021-10-21</td>\n",
              "      <td>TED/DOC</td>\n",
              "    </tr>\n",
              "    <tr>\n",
              "      <th>3</th>\n",
              "      <td>2021-10-18</td>\n",
              "      <td>879941033</td>\n",
              "      <td>1</td>\n",
              "      <td>5989.0</td>\n",
              "      <td>881736038</td>\n",
              "      <td>Feminino</td>\n",
              "      <td>1975-01-01</td>\n",
              "      <td>Indicação</td>\n",
              "      <td>Cirurgia Plástica</td>\n",
              "      <td>2021-10-21</td>\n",
              "      <td>TED/DOC</td>\n",
              "    </tr>\n",
              "    <tr>\n",
              "      <th>4</th>\n",
              "      <td>2021-11-08</td>\n",
              "      <td>879941073</td>\n",
              "      <td>1</td>\n",
              "      <td>10535.0</td>\n",
              "      <td>881735973</td>\n",
              "      <td>Feminino</td>\n",
              "      <td>1972-06-22</td>\n",
              "      <td>Indicação</td>\n",
              "      <td>Cirurgia Plástica</td>\n",
              "      <td>2021-11-08</td>\n",
              "      <td>Pix</td>\n",
              "    </tr>\n",
              "  </tbody>\n",
              "</table>\n",
              "</div>\n",
              "    <div class=\"colab-df-buttons\">\n",
              "\n",
              "  <div class=\"colab-df-container\">\n",
              "    <button class=\"colab-df-convert\" onclick=\"convertToInteractive('df-ed222b60-0147-4b19-bc91-7496fb52964f')\"\n",
              "            title=\"Convert this dataframe to an interactive table.\"\n",
              "            style=\"display:none;\">\n",
              "\n",
              "  <svg xmlns=\"http://www.w3.org/2000/svg\" height=\"24px\" viewBox=\"0 -960 960 960\">\n",
              "    <path d=\"M120-120v-720h720v720H120Zm60-500h600v-160H180v160Zm220 220h160v-160H400v160Zm0 220h160v-160H400v160ZM180-400h160v-160H180v160Zm440 0h160v-160H620v160ZM180-180h160v-160H180v160Zm440 0h160v-160H620v160Z\"/>\n",
              "  </svg>\n",
              "    </button>\n",
              "\n",
              "  <style>\n",
              "    .colab-df-container {\n",
              "      display:flex;\n",
              "      gap: 12px;\n",
              "    }\n",
              "\n",
              "    .colab-df-convert {\n",
              "      background-color: #E8F0FE;\n",
              "      border: none;\n",
              "      border-radius: 50%;\n",
              "      cursor: pointer;\n",
              "      display: none;\n",
              "      fill: #1967D2;\n",
              "      height: 32px;\n",
              "      padding: 0 0 0 0;\n",
              "      width: 32px;\n",
              "    }\n",
              "\n",
              "    .colab-df-convert:hover {\n",
              "      background-color: #E2EBFA;\n",
              "      box-shadow: 0px 1px 2px rgba(60, 64, 67, 0.3), 0px 1px 3px 1px rgba(60, 64, 67, 0.15);\n",
              "      fill: #174EA6;\n",
              "    }\n",
              "\n",
              "    .colab-df-buttons div {\n",
              "      margin-bottom: 4px;\n",
              "    }\n",
              "\n",
              "    [theme=dark] .colab-df-convert {\n",
              "      background-color: #3B4455;\n",
              "      fill: #D2E3FC;\n",
              "    }\n",
              "\n",
              "    [theme=dark] .colab-df-convert:hover {\n",
              "      background-color: #434B5C;\n",
              "      box-shadow: 0px 1px 3px 1px rgba(0, 0, 0, 0.15);\n",
              "      filter: drop-shadow(0px 1px 2px rgba(0, 0, 0, 0.3));\n",
              "      fill: #FFFFFF;\n",
              "    }\n",
              "  </style>\n",
              "\n",
              "    <script>\n",
              "      const buttonEl =\n",
              "        document.querySelector('#df-ed222b60-0147-4b19-bc91-7496fb52964f button.colab-df-convert');\n",
              "      buttonEl.style.display =\n",
              "        google.colab.kernel.accessAllowed ? 'block' : 'none';\n",
              "\n",
              "      async function convertToInteractive(key) {\n",
              "        const element = document.querySelector('#df-ed222b60-0147-4b19-bc91-7496fb52964f');\n",
              "        const dataTable =\n",
              "          await google.colab.kernel.invokeFunction('convertToInteractive',\n",
              "                                                    [key], {});\n",
              "        if (!dataTable) return;\n",
              "\n",
              "        const docLinkHtml = 'Like what you see? Visit the ' +\n",
              "          '<a target=\"_blank\" href=https://colab.research.google.com/notebooks/data_table.ipynb>data table notebook</a>'\n",
              "          + ' to learn more about interactive tables.';\n",
              "        element.innerHTML = '';\n",
              "        dataTable['output_type'] = 'display_data';\n",
              "        await google.colab.output.renderOutput(dataTable, element);\n",
              "        const docLink = document.createElement('div');\n",
              "        docLink.innerHTML = docLinkHtml;\n",
              "        element.appendChild(docLink);\n",
              "      }\n",
              "    </script>\n",
              "  </div>\n",
              "\n",
              "\n",
              "    <div id=\"df-afcca8bd-94bb-48eb-8a13-034106590304\">\n",
              "      <button class=\"colab-df-quickchart\" onclick=\"quickchart('df-afcca8bd-94bb-48eb-8a13-034106590304')\"\n",
              "                title=\"Suggest charts\"\n",
              "                style=\"display:none;\">\n",
              "\n",
              "<svg xmlns=\"http://www.w3.org/2000/svg\" height=\"24px\"viewBox=\"0 0 24 24\"\n",
              "     width=\"24px\">\n",
              "    <g>\n",
              "        <path d=\"M19 3H5c-1.1 0-2 .9-2 2v14c0 1.1.9 2 2 2h14c1.1 0 2-.9 2-2V5c0-1.1-.9-2-2-2zM9 17H7v-7h2v7zm4 0h-2V7h2v10zm4 0h-2v-4h2v4z\"/>\n",
              "    </g>\n",
              "</svg>\n",
              "      </button>\n",
              "\n",
              "<style>\n",
              "  .colab-df-quickchart {\n",
              "      --bg-color: #E8F0FE;\n",
              "      --fill-color: #1967D2;\n",
              "      --hover-bg-color: #E2EBFA;\n",
              "      --hover-fill-color: #174EA6;\n",
              "      --disabled-fill-color: #AAA;\n",
              "      --disabled-bg-color: #DDD;\n",
              "  }\n",
              "\n",
              "  [theme=dark] .colab-df-quickchart {\n",
              "      --bg-color: #3B4455;\n",
              "      --fill-color: #D2E3FC;\n",
              "      --hover-bg-color: #434B5C;\n",
              "      --hover-fill-color: #FFFFFF;\n",
              "      --disabled-bg-color: #3B4455;\n",
              "      --disabled-fill-color: #666;\n",
              "  }\n",
              "\n",
              "  .colab-df-quickchart {\n",
              "    background-color: var(--bg-color);\n",
              "    border: none;\n",
              "    border-radius: 50%;\n",
              "    cursor: pointer;\n",
              "    display: none;\n",
              "    fill: var(--fill-color);\n",
              "    height: 32px;\n",
              "    padding: 0;\n",
              "    width: 32px;\n",
              "  }\n",
              "\n",
              "  .colab-df-quickchart:hover {\n",
              "    background-color: var(--hover-bg-color);\n",
              "    box-shadow: 0 1px 2px rgba(60, 64, 67, 0.3), 0 1px 3px 1px rgba(60, 64, 67, 0.15);\n",
              "    fill: var(--button-hover-fill-color);\n",
              "  }\n",
              "\n",
              "  .colab-df-quickchart-complete:disabled,\n",
              "  .colab-df-quickchart-complete:disabled:hover {\n",
              "    background-color: var(--disabled-bg-color);\n",
              "    fill: var(--disabled-fill-color);\n",
              "    box-shadow: none;\n",
              "  }\n",
              "\n",
              "  .colab-df-spinner {\n",
              "    border: 2px solid var(--fill-color);\n",
              "    border-color: transparent;\n",
              "    border-bottom-color: var(--fill-color);\n",
              "    animation:\n",
              "      spin 1s steps(1) infinite;\n",
              "  }\n",
              "\n",
              "  @keyframes spin {\n",
              "    0% {\n",
              "      border-color: transparent;\n",
              "      border-bottom-color: var(--fill-color);\n",
              "      border-left-color: var(--fill-color);\n",
              "    }\n",
              "    20% {\n",
              "      border-color: transparent;\n",
              "      border-left-color: var(--fill-color);\n",
              "      border-top-color: var(--fill-color);\n",
              "    }\n",
              "    30% {\n",
              "      border-color: transparent;\n",
              "      border-left-color: var(--fill-color);\n",
              "      border-top-color: var(--fill-color);\n",
              "      border-right-color: var(--fill-color);\n",
              "    }\n",
              "    40% {\n",
              "      border-color: transparent;\n",
              "      border-right-color: var(--fill-color);\n",
              "      border-top-color: var(--fill-color);\n",
              "    }\n",
              "    60% {\n",
              "      border-color: transparent;\n",
              "      border-right-color: var(--fill-color);\n",
              "    }\n",
              "    80% {\n",
              "      border-color: transparent;\n",
              "      border-right-color: var(--fill-color);\n",
              "      border-bottom-color: var(--fill-color);\n",
              "    }\n",
              "    90% {\n",
              "      border-color: transparent;\n",
              "      border-bottom-color: var(--fill-color);\n",
              "    }\n",
              "  }\n",
              "</style>\n",
              "\n",
              "      <script>\n",
              "        async function quickchart(key) {\n",
              "          const quickchartButtonEl =\n",
              "            document.querySelector('#' + key + ' button');\n",
              "          quickchartButtonEl.disabled = true;  // To prevent multiple clicks.\n",
              "          quickchartButtonEl.classList.add('colab-df-spinner');\n",
              "          try {\n",
              "            const charts = await google.colab.kernel.invokeFunction(\n",
              "                'suggestCharts', [key], {});\n",
              "          } catch (error) {\n",
              "            console.error('Error during call to suggestCharts:', error);\n",
              "          }\n",
              "          quickchartButtonEl.classList.remove('colab-df-spinner');\n",
              "          quickchartButtonEl.classList.add('colab-df-quickchart-complete');\n",
              "        }\n",
              "        (() => {\n",
              "          let quickchartButtonEl =\n",
              "            document.querySelector('#df-afcca8bd-94bb-48eb-8a13-034106590304 button');\n",
              "          quickchartButtonEl.style.display =\n",
              "            google.colab.kernel.accessAllowed ? 'block' : 'none';\n",
              "        })();\n",
              "      </script>\n",
              "    </div>\n",
              "\n",
              "    </div>\n",
              "  </div>\n"
            ],
            "application/vnd.google.colaboratory.intrinsic+json": {
              "type": "dataframe",
              "summary": "{\n  \"name\": \"df_receitas\",\n  \"rows\": 5,\n  \"fields\": [\n    {\n      \"column\": \"atendimento_id\",\n      \"properties\": {\n        \"dtype\": \"object\",\n        \"num_unique_values\": 2,\n        \"samples\": [\n          \"2021-11-08\",\n          \"2021-10-18\"\n        ],\n        \"semantic_type\": \"\",\n        \"description\": \"\"\n      }\n    },\n    {\n      \"column\": \"receita_codigo\",\n      \"properties\": {\n        \"dtype\": \"category\",\n        \"num_unique_values\": 2,\n        \"samples\": [\n          \"879941073\",\n          \"879941033\"\n        ],\n        \"semantic_type\": \"\",\n        \"description\": \"\"\n      }\n    },\n    {\n      \"column\": \"venda_quantidade\",\n      \"properties\": {\n        \"dtype\": \"number\",\n        \"std\": 0,\n        \"min\": 1,\n        \"max\": 1,\n        \"num_unique_values\": 1,\n        \"samples\": [\n          1\n        ],\n        \"semantic_type\": \"\",\n        \"description\": \"\"\n      }\n    },\n    {\n      \"column\": \"venda_valor\",\n      \"properties\": {\n        \"dtype\": \"number\",\n        \"std\": 2033.0330051428089,\n        \"min\": 5989.0,\n        \"max\": 10535.0,\n        \"num_unique_values\": 2,\n        \"samples\": [\n          10535.0\n        ],\n        \"semantic_type\": \"\",\n        \"description\": \"\"\n      }\n    },\n    {\n      \"column\": \"cliente_id\",\n      \"properties\": {\n        \"dtype\": \"string\",\n        \"num_unique_values\": 5,\n        \"samples\": [\n          \"881736038aeeaeeaaeea\"\n        ],\n        \"semantic_type\": \"\",\n        \"description\": \"\"\n      }\n    },\n    {\n      \"column\": \"cliente_sexo\",\n      \"properties\": {\n        \"dtype\": \"category\",\n        \"num_unique_values\": 1,\n        \"samples\": [\n          \"Feminino\"\n        ],\n        \"semantic_type\": \"\",\n        \"description\": \"\"\n      }\n    },\n    {\n      \"column\": \"cliente_nascimento_data\",\n      \"properties\": {\n        \"dtype\": \"date\",\n        \"min\": \"1972-06-22 00:00:00\",\n        \"max\": \"1975-01-01 00:00:00\",\n        \"num_unique_values\": 2,\n        \"samples\": [\n          \"1972-06-22 00:00:00\"\n        ],\n        \"semantic_type\": \"\",\n        \"description\": \"\"\n      }\n    },\n    {\n      \"column\": \"cliente_origem\",\n      \"properties\": {\n        \"dtype\": \"category\",\n        \"num_unique_values\": 1,\n        \"samples\": [\n          \"Indica\\u00e7\\u00e3o\"\n        ],\n        \"semantic_type\": \"\",\n        \"description\": \"\"\n      }\n    },\n    {\n      \"column\": \"profissional_especialidade\",\n      \"properties\": {\n        \"dtype\": \"category\",\n        \"num_unique_values\": 1,\n        \"samples\": [\n          \"Cirurgia Pl\\u00e1stica\"\n        ],\n        \"semantic_type\": \"\",\n        \"description\": \"\"\n      }\n    },\n    {\n      \"column\": \"pagamento_data\",\n      \"properties\": {\n        \"dtype\": \"date\",\n        \"min\": \"2021-10-21 00:00:00\",\n        \"max\": \"2021-11-08 00:00:00\",\n        \"num_unique_values\": 2,\n        \"samples\": [\n          \"2021-11-08 00:00:00\"\n        ],\n        \"semantic_type\": \"\",\n        \"description\": \"\"\n      }\n    },\n    {\n      \"column\": \"pagamento_forma\",\n      \"properties\": {\n        \"dtype\": \"category\",\n        \"num_unique_values\": 2,\n        \"samples\": [\n          \"Pix\"\n        ],\n        \"semantic_type\": \"\",\n        \"description\": \"\"\n      }\n    }\n  ]\n}"
            }
          },
          "metadata": {},
          "execution_count": 790
        }
      ]
    },
    {
      "cell_type": "markdown",
      "source": [
        "🔹 Você também pode perguntar pelas linhas com a função .query(). Repare que aqui não estou reatribuindo o dataframe. E que também estou conjugando a função .head(), que já aprendemos."
      ],
      "metadata": {
        "id": "91SY1uz-9UoG"
      }
    },
    {
      "cell_type": "code",
      "source": [
        "df_receitas.query(\"cliente_sexo == 'Feminino'\").head(3)"
      ],
      "metadata": {
        "colab": {
          "base_uri": "https://localhost:8080/",
          "height": 163
        },
        "id": "0MP3xw7F9UaY",
        "outputId": "655c924e-0194-4b51-e424-4bc1ee6876e7"
      },
      "execution_count": null,
      "outputs": [
        {
          "output_type": "execute_result",
          "data": {
            "text/plain": [
              "  atendimento_id receita_codigo  venda_quantidade  venda_valor  \\\n",
              "0     2021-10-18      879941033                 1       5989.0   \n",
              "1     2021-10-18      879941033                 1       5989.0   \n",
              "2     2021-10-18      879941033                 1       5989.0   \n",
              "\n",
              "             cliente_id cliente_sexo cliente_nascimento_data cliente_origem  \\\n",
              "0             e\\aez\\eae     Feminino              1975-01-01      Indicação   \n",
              "1  881736038aeeaeeaaeea     Feminino              1975-01-01      Indicação   \n",
              "2        881736038aeeae     Feminino              1975-01-01      Indicação   \n",
              "\n",
              "  profissional_especialidade pagamento_data pagamento_forma  \n",
              "0          Cirurgia Plástica     2021-10-21         TED/DOC  \n",
              "1          Cirurgia Plástica     2021-10-21         TED/DOC  \n",
              "2          Cirurgia Plástica     2021-10-21         TED/DOC  "
            ],
            "text/html": [
              "\n",
              "  <div id=\"df-4972d0d1-e294-4926-8c21-4ebb0b9307ae\" class=\"colab-df-container\">\n",
              "    <div>\n",
              "<style scoped>\n",
              "    .dataframe tbody tr th:only-of-type {\n",
              "        vertical-align: middle;\n",
              "    }\n",
              "\n",
              "    .dataframe tbody tr th {\n",
              "        vertical-align: top;\n",
              "    }\n",
              "\n",
              "    .dataframe thead th {\n",
              "        text-align: right;\n",
              "    }\n",
              "</style>\n",
              "<table border=\"1\" class=\"dataframe\">\n",
              "  <thead>\n",
              "    <tr style=\"text-align: right;\">\n",
              "      <th></th>\n",
              "      <th>atendimento_id</th>\n",
              "      <th>receita_codigo</th>\n",
              "      <th>venda_quantidade</th>\n",
              "      <th>venda_valor</th>\n",
              "      <th>cliente_id</th>\n",
              "      <th>cliente_sexo</th>\n",
              "      <th>cliente_nascimento_data</th>\n",
              "      <th>cliente_origem</th>\n",
              "      <th>profissional_especialidade</th>\n",
              "      <th>pagamento_data</th>\n",
              "      <th>pagamento_forma</th>\n",
              "    </tr>\n",
              "  </thead>\n",
              "  <tbody>\n",
              "    <tr>\n",
              "      <th>0</th>\n",
              "      <td>2021-10-18</td>\n",
              "      <td>879941033</td>\n",
              "      <td>1</td>\n",
              "      <td>5989.0</td>\n",
              "      <td>e\\aez\\eae</td>\n",
              "      <td>Feminino</td>\n",
              "      <td>1975-01-01</td>\n",
              "      <td>Indicação</td>\n",
              "      <td>Cirurgia Plástica</td>\n",
              "      <td>2021-10-21</td>\n",
              "      <td>TED/DOC</td>\n",
              "    </tr>\n",
              "    <tr>\n",
              "      <th>1</th>\n",
              "      <td>2021-10-18</td>\n",
              "      <td>879941033</td>\n",
              "      <td>1</td>\n",
              "      <td>5989.0</td>\n",
              "      <td>881736038aeeaeeaaeea</td>\n",
              "      <td>Feminino</td>\n",
              "      <td>1975-01-01</td>\n",
              "      <td>Indicação</td>\n",
              "      <td>Cirurgia Plástica</td>\n",
              "      <td>2021-10-21</td>\n",
              "      <td>TED/DOC</td>\n",
              "    </tr>\n",
              "    <tr>\n",
              "      <th>2</th>\n",
              "      <td>2021-10-18</td>\n",
              "      <td>879941033</td>\n",
              "      <td>1</td>\n",
              "      <td>5989.0</td>\n",
              "      <td>881736038aeeae</td>\n",
              "      <td>Feminino</td>\n",
              "      <td>1975-01-01</td>\n",
              "      <td>Indicação</td>\n",
              "      <td>Cirurgia Plástica</td>\n",
              "      <td>2021-10-21</td>\n",
              "      <td>TED/DOC</td>\n",
              "    </tr>\n",
              "  </tbody>\n",
              "</table>\n",
              "</div>\n",
              "    <div class=\"colab-df-buttons\">\n",
              "\n",
              "  <div class=\"colab-df-container\">\n",
              "    <button class=\"colab-df-convert\" onclick=\"convertToInteractive('df-4972d0d1-e294-4926-8c21-4ebb0b9307ae')\"\n",
              "            title=\"Convert this dataframe to an interactive table.\"\n",
              "            style=\"display:none;\">\n",
              "\n",
              "  <svg xmlns=\"http://www.w3.org/2000/svg\" height=\"24px\" viewBox=\"0 -960 960 960\">\n",
              "    <path d=\"M120-120v-720h720v720H120Zm60-500h600v-160H180v160Zm220 220h160v-160H400v160Zm0 220h160v-160H400v160ZM180-400h160v-160H180v160Zm440 0h160v-160H620v160ZM180-180h160v-160H180v160Zm440 0h160v-160H620v160Z\"/>\n",
              "  </svg>\n",
              "    </button>\n",
              "\n",
              "  <style>\n",
              "    .colab-df-container {\n",
              "      display:flex;\n",
              "      gap: 12px;\n",
              "    }\n",
              "\n",
              "    .colab-df-convert {\n",
              "      background-color: #E8F0FE;\n",
              "      border: none;\n",
              "      border-radius: 50%;\n",
              "      cursor: pointer;\n",
              "      display: none;\n",
              "      fill: #1967D2;\n",
              "      height: 32px;\n",
              "      padding: 0 0 0 0;\n",
              "      width: 32px;\n",
              "    }\n",
              "\n",
              "    .colab-df-convert:hover {\n",
              "      background-color: #E2EBFA;\n",
              "      box-shadow: 0px 1px 2px rgba(60, 64, 67, 0.3), 0px 1px 3px 1px rgba(60, 64, 67, 0.15);\n",
              "      fill: #174EA6;\n",
              "    }\n",
              "\n",
              "    .colab-df-buttons div {\n",
              "      margin-bottom: 4px;\n",
              "    }\n",
              "\n",
              "    [theme=dark] .colab-df-convert {\n",
              "      background-color: #3B4455;\n",
              "      fill: #D2E3FC;\n",
              "    }\n",
              "\n",
              "    [theme=dark] .colab-df-convert:hover {\n",
              "      background-color: #434B5C;\n",
              "      box-shadow: 0px 1px 3px 1px rgba(0, 0, 0, 0.15);\n",
              "      filter: drop-shadow(0px 1px 2px rgba(0, 0, 0, 0.3));\n",
              "      fill: #FFFFFF;\n",
              "    }\n",
              "  </style>\n",
              "\n",
              "    <script>\n",
              "      const buttonEl =\n",
              "        document.querySelector('#df-4972d0d1-e294-4926-8c21-4ebb0b9307ae button.colab-df-convert');\n",
              "      buttonEl.style.display =\n",
              "        google.colab.kernel.accessAllowed ? 'block' : 'none';\n",
              "\n",
              "      async function convertToInteractive(key) {\n",
              "        const element = document.querySelector('#df-4972d0d1-e294-4926-8c21-4ebb0b9307ae');\n",
              "        const dataTable =\n",
              "          await google.colab.kernel.invokeFunction('convertToInteractive',\n",
              "                                                    [key], {});\n",
              "        if (!dataTable) return;\n",
              "\n",
              "        const docLinkHtml = 'Like what you see? Visit the ' +\n",
              "          '<a target=\"_blank\" href=https://colab.research.google.com/notebooks/data_table.ipynb>data table notebook</a>'\n",
              "          + ' to learn more about interactive tables.';\n",
              "        element.innerHTML = '';\n",
              "        dataTable['output_type'] = 'display_data';\n",
              "        await google.colab.output.renderOutput(dataTable, element);\n",
              "        const docLink = document.createElement('div');\n",
              "        docLink.innerHTML = docLinkHtml;\n",
              "        element.appendChild(docLink);\n",
              "      }\n",
              "    </script>\n",
              "  </div>\n",
              "\n",
              "\n",
              "    <div id=\"df-b8dabe49-a6b6-40ab-9fd4-b288a4f3f7c5\">\n",
              "      <button class=\"colab-df-quickchart\" onclick=\"quickchart('df-b8dabe49-a6b6-40ab-9fd4-b288a4f3f7c5')\"\n",
              "                title=\"Suggest charts\"\n",
              "                style=\"display:none;\">\n",
              "\n",
              "<svg xmlns=\"http://www.w3.org/2000/svg\" height=\"24px\"viewBox=\"0 0 24 24\"\n",
              "     width=\"24px\">\n",
              "    <g>\n",
              "        <path d=\"M19 3H5c-1.1 0-2 .9-2 2v14c0 1.1.9 2 2 2h14c1.1 0 2-.9 2-2V5c0-1.1-.9-2-2-2zM9 17H7v-7h2v7zm4 0h-2V7h2v10zm4 0h-2v-4h2v4z\"/>\n",
              "    </g>\n",
              "</svg>\n",
              "      </button>\n",
              "\n",
              "<style>\n",
              "  .colab-df-quickchart {\n",
              "      --bg-color: #E8F0FE;\n",
              "      --fill-color: #1967D2;\n",
              "      --hover-bg-color: #E2EBFA;\n",
              "      --hover-fill-color: #174EA6;\n",
              "      --disabled-fill-color: #AAA;\n",
              "      --disabled-bg-color: #DDD;\n",
              "  }\n",
              "\n",
              "  [theme=dark] .colab-df-quickchart {\n",
              "      --bg-color: #3B4455;\n",
              "      --fill-color: #D2E3FC;\n",
              "      --hover-bg-color: #434B5C;\n",
              "      --hover-fill-color: #FFFFFF;\n",
              "      --disabled-bg-color: #3B4455;\n",
              "      --disabled-fill-color: #666;\n",
              "  }\n",
              "\n",
              "  .colab-df-quickchart {\n",
              "    background-color: var(--bg-color);\n",
              "    border: none;\n",
              "    border-radius: 50%;\n",
              "    cursor: pointer;\n",
              "    display: none;\n",
              "    fill: var(--fill-color);\n",
              "    height: 32px;\n",
              "    padding: 0;\n",
              "    width: 32px;\n",
              "  }\n",
              "\n",
              "  .colab-df-quickchart:hover {\n",
              "    background-color: var(--hover-bg-color);\n",
              "    box-shadow: 0 1px 2px rgba(60, 64, 67, 0.3), 0 1px 3px 1px rgba(60, 64, 67, 0.15);\n",
              "    fill: var(--button-hover-fill-color);\n",
              "  }\n",
              "\n",
              "  .colab-df-quickchart-complete:disabled,\n",
              "  .colab-df-quickchart-complete:disabled:hover {\n",
              "    background-color: var(--disabled-bg-color);\n",
              "    fill: var(--disabled-fill-color);\n",
              "    box-shadow: none;\n",
              "  }\n",
              "\n",
              "  .colab-df-spinner {\n",
              "    border: 2px solid var(--fill-color);\n",
              "    border-color: transparent;\n",
              "    border-bottom-color: var(--fill-color);\n",
              "    animation:\n",
              "      spin 1s steps(1) infinite;\n",
              "  }\n",
              "\n",
              "  @keyframes spin {\n",
              "    0% {\n",
              "      border-color: transparent;\n",
              "      border-bottom-color: var(--fill-color);\n",
              "      border-left-color: var(--fill-color);\n",
              "    }\n",
              "    20% {\n",
              "      border-color: transparent;\n",
              "      border-left-color: var(--fill-color);\n",
              "      border-top-color: var(--fill-color);\n",
              "    }\n",
              "    30% {\n",
              "      border-color: transparent;\n",
              "      border-left-color: var(--fill-color);\n",
              "      border-top-color: var(--fill-color);\n",
              "      border-right-color: var(--fill-color);\n",
              "    }\n",
              "    40% {\n",
              "      border-color: transparent;\n",
              "      border-right-color: var(--fill-color);\n",
              "      border-top-color: var(--fill-color);\n",
              "    }\n",
              "    60% {\n",
              "      border-color: transparent;\n",
              "      border-right-color: var(--fill-color);\n",
              "    }\n",
              "    80% {\n",
              "      border-color: transparent;\n",
              "      border-right-color: var(--fill-color);\n",
              "      border-bottom-color: var(--fill-color);\n",
              "    }\n",
              "    90% {\n",
              "      border-color: transparent;\n",
              "      border-bottom-color: var(--fill-color);\n",
              "    }\n",
              "  }\n",
              "</style>\n",
              "\n",
              "      <script>\n",
              "        async function quickchart(key) {\n",
              "          const quickchartButtonEl =\n",
              "            document.querySelector('#' + key + ' button');\n",
              "          quickchartButtonEl.disabled = true;  // To prevent multiple clicks.\n",
              "          quickchartButtonEl.classList.add('colab-df-spinner');\n",
              "          try {\n",
              "            const charts = await google.colab.kernel.invokeFunction(\n",
              "                'suggestCharts', [key], {});\n",
              "          } catch (error) {\n",
              "            console.error('Error during call to suggestCharts:', error);\n",
              "          }\n",
              "          quickchartButtonEl.classList.remove('colab-df-spinner');\n",
              "          quickchartButtonEl.classList.add('colab-df-quickchart-complete');\n",
              "        }\n",
              "        (() => {\n",
              "          let quickchartButtonEl =\n",
              "            document.querySelector('#df-b8dabe49-a6b6-40ab-9fd4-b288a4f3f7c5 button');\n",
              "          quickchartButtonEl.style.display =\n",
              "            google.colab.kernel.accessAllowed ? 'block' : 'none';\n",
              "        })();\n",
              "      </script>\n",
              "    </div>\n",
              "\n",
              "    </div>\n",
              "  </div>\n"
            ],
            "application/vnd.google.colaboratory.intrinsic+json": {
              "type": "dataframe",
              "summary": "{\n  \"name\": \"df_receitas\",\n  \"rows\": 3,\n  \"fields\": [\n    {\n      \"column\": \"atendimento_id\",\n      \"properties\": {\n        \"dtype\": \"object\",\n        \"num_unique_values\": 1,\n        \"samples\": [\n          \"2021-10-18\"\n        ],\n        \"semantic_type\": \"\",\n        \"description\": \"\"\n      }\n    },\n    {\n      \"column\": \"receita_codigo\",\n      \"properties\": {\n        \"dtype\": \"category\",\n        \"num_unique_values\": 1,\n        \"samples\": [\n          \"879941033\"\n        ],\n        \"semantic_type\": \"\",\n        \"description\": \"\"\n      }\n    },\n    {\n      \"column\": \"venda_quantidade\",\n      \"properties\": {\n        \"dtype\": \"number\",\n        \"std\": 0,\n        \"min\": 1,\n        \"max\": 1,\n        \"num_unique_values\": 1,\n        \"samples\": [\n          1\n        ],\n        \"semantic_type\": \"\",\n        \"description\": \"\"\n      }\n    },\n    {\n      \"column\": \"venda_valor\",\n      \"properties\": {\n        \"dtype\": \"number\",\n        \"std\": 0.0,\n        \"min\": 5989.0,\n        \"max\": 5989.0,\n        \"num_unique_values\": 1,\n        \"samples\": [\n          5989.0\n        ],\n        \"semantic_type\": \"\",\n        \"description\": \"\"\n      }\n    },\n    {\n      \"column\": \"cliente_id\",\n      \"properties\": {\n        \"dtype\": \"string\",\n        \"num_unique_values\": 3,\n        \"samples\": [\n          \"e\\\\aez\\\\eae\"\n        ],\n        \"semantic_type\": \"\",\n        \"description\": \"\"\n      }\n    },\n    {\n      \"column\": \"cliente_sexo\",\n      \"properties\": {\n        \"dtype\": \"category\",\n        \"num_unique_values\": 1,\n        \"samples\": [\n          \"Feminino\"\n        ],\n        \"semantic_type\": \"\",\n        \"description\": \"\"\n      }\n    },\n    {\n      \"column\": \"cliente_nascimento_data\",\n      \"properties\": {\n        \"dtype\": \"date\",\n        \"min\": \"1975-01-01 00:00:00\",\n        \"max\": \"1975-01-01 00:00:00\",\n        \"num_unique_values\": 1,\n        \"samples\": [\n          \"1975-01-01 00:00:00\"\n        ],\n        \"semantic_type\": \"\",\n        \"description\": \"\"\n      }\n    },\n    {\n      \"column\": \"cliente_origem\",\n      \"properties\": {\n        \"dtype\": \"category\",\n        \"num_unique_values\": 1,\n        \"samples\": [\n          \"Indica\\u00e7\\u00e3o\"\n        ],\n        \"semantic_type\": \"\",\n        \"description\": \"\"\n      }\n    },\n    {\n      \"column\": \"profissional_especialidade\",\n      \"properties\": {\n        \"dtype\": \"category\",\n        \"num_unique_values\": 1,\n        \"samples\": [\n          \"Cirurgia Pl\\u00e1stica\"\n        ],\n        \"semantic_type\": \"\",\n        \"description\": \"\"\n      }\n    },\n    {\n      \"column\": \"pagamento_data\",\n      \"properties\": {\n        \"dtype\": \"date\",\n        \"min\": \"2021-10-21 00:00:00\",\n        \"max\": \"2021-10-21 00:00:00\",\n        \"num_unique_values\": 1,\n        \"samples\": [\n          \"2021-10-21 00:00:00\"\n        ],\n        \"semantic_type\": \"\",\n        \"description\": \"\"\n      }\n    },\n    {\n      \"column\": \"pagamento_forma\",\n      \"properties\": {\n        \"dtype\": \"category\",\n        \"num_unique_values\": 1,\n        \"samples\": [\n          \"TED/DOC\"\n        ],\n        \"semantic_type\": \"\",\n        \"description\": \"\"\n      }\n    }\n  ]\n}"
            }
          },
          "metadata": {},
          "execution_count": 791
        }
      ]
    },
    {
      "cell_type": "markdown",
      "source": [
        "🔹 E se tiver mais de uma condição? 🤔"
      ],
      "metadata": {
        "id": "t7Hx5m769Tr2"
      }
    },
    {
      "cell_type": "markdown",
      "source": [
        "Podemos utilizar operadores lógicos como & (Ambas as condições devem ser verdadeiras) e | (Pelo menos uma das condições deve ser verdadeira)"
      ],
      "metadata": {
        "id": "1HjDKqsS-Ea4"
      }
    },
    {
      "cell_type": "code",
      "source": [
        "df_receitas.columns"
      ],
      "metadata": {
        "id": "ejDGaI42-eHv",
        "colab": {
          "base_uri": "https://localhost:8080/"
        },
        "outputId": "efc8793e-9ad7-491c-f0d4-38a268e99d45"
      },
      "execution_count": null,
      "outputs": [
        {
          "output_type": "execute_result",
          "data": {
            "text/plain": [
              "Index(['atendimento_id', 'receita_codigo', 'venda_quantidade', 'venda_valor',\n",
              "       'cliente_id', 'cliente_sexo', 'cliente_nascimento_data',\n",
              "       'cliente_origem', 'profissional_especialidade', 'pagamento_data',\n",
              "       'pagamento_forma'],\n",
              "      dtype='object')"
            ]
          },
          "metadata": {},
          "execution_count": 792
        }
      ]
    },
    {
      "cell_type": "code",
      "source": [
        "df_receitas.loc[(df_receitas[\"cliente_sexo\"] == \"Feminino\") & (df_receitas[\"pagamento_forma\"] == \"Pix\")].head(3)"
      ],
      "metadata": {
        "id": "mupVAf63-VoZ",
        "colab": {
          "base_uri": "https://localhost:8080/",
          "height": 163
        },
        "outputId": "ae5f3c5b-3403-4994-ff8d-b6d5dcd9a8f9"
      },
      "execution_count": null,
      "outputs": [
        {
          "output_type": "execute_result",
          "data": {
            "text/plain": [
              "  atendimento_id receita_codigo  venda_quantidade  venda_valor cliente_id  \\\n",
              "4     2021-11-08      879941073                 1      10535.0  881735973   \n",
              "8     2021-12-20      879941028                 1       9498.0  881736086   \n",
              "9     2022-01-28      889030774                 1        300.0  881735885   \n",
              "\n",
              "  cliente_sexo cliente_nascimento_data cliente_origem  \\\n",
              "4     Feminino              1972-06-22      Indicação   \n",
              "8     Feminino              1980-01-01      Indicação   \n",
              "9     Feminino              1958-10-20            NaN   \n",
              "\n",
              "  profissional_especialidade pagamento_data pagamento_forma  \n",
              "4          Cirurgia Plástica     2021-11-08             Pix  \n",
              "8          Cirurgia Plástica     2021-12-24             Pix  \n",
              "9          Cirurgia Plástica     2022-01-28             Pix  "
            ],
            "text/html": [
              "\n",
              "  <div id=\"df-4b330efe-9430-4026-a455-f7f962fbfb84\" class=\"colab-df-container\">\n",
              "    <div>\n",
              "<style scoped>\n",
              "    .dataframe tbody tr th:only-of-type {\n",
              "        vertical-align: middle;\n",
              "    }\n",
              "\n",
              "    .dataframe tbody tr th {\n",
              "        vertical-align: top;\n",
              "    }\n",
              "\n",
              "    .dataframe thead th {\n",
              "        text-align: right;\n",
              "    }\n",
              "</style>\n",
              "<table border=\"1\" class=\"dataframe\">\n",
              "  <thead>\n",
              "    <tr style=\"text-align: right;\">\n",
              "      <th></th>\n",
              "      <th>atendimento_id</th>\n",
              "      <th>receita_codigo</th>\n",
              "      <th>venda_quantidade</th>\n",
              "      <th>venda_valor</th>\n",
              "      <th>cliente_id</th>\n",
              "      <th>cliente_sexo</th>\n",
              "      <th>cliente_nascimento_data</th>\n",
              "      <th>cliente_origem</th>\n",
              "      <th>profissional_especialidade</th>\n",
              "      <th>pagamento_data</th>\n",
              "      <th>pagamento_forma</th>\n",
              "    </tr>\n",
              "  </thead>\n",
              "  <tbody>\n",
              "    <tr>\n",
              "      <th>4</th>\n",
              "      <td>2021-11-08</td>\n",
              "      <td>879941073</td>\n",
              "      <td>1</td>\n",
              "      <td>10535.0</td>\n",
              "      <td>881735973</td>\n",
              "      <td>Feminino</td>\n",
              "      <td>1972-06-22</td>\n",
              "      <td>Indicação</td>\n",
              "      <td>Cirurgia Plástica</td>\n",
              "      <td>2021-11-08</td>\n",
              "      <td>Pix</td>\n",
              "    </tr>\n",
              "    <tr>\n",
              "      <th>8</th>\n",
              "      <td>2021-12-20</td>\n",
              "      <td>879941028</td>\n",
              "      <td>1</td>\n",
              "      <td>9498.0</td>\n",
              "      <td>881736086</td>\n",
              "      <td>Feminino</td>\n",
              "      <td>1980-01-01</td>\n",
              "      <td>Indicação</td>\n",
              "      <td>Cirurgia Plástica</td>\n",
              "      <td>2021-12-24</td>\n",
              "      <td>Pix</td>\n",
              "    </tr>\n",
              "    <tr>\n",
              "      <th>9</th>\n",
              "      <td>2022-01-28</td>\n",
              "      <td>889030774</td>\n",
              "      <td>1</td>\n",
              "      <td>300.0</td>\n",
              "      <td>881735885</td>\n",
              "      <td>Feminino</td>\n",
              "      <td>1958-10-20</td>\n",
              "      <td>NaN</td>\n",
              "      <td>Cirurgia Plástica</td>\n",
              "      <td>2022-01-28</td>\n",
              "      <td>Pix</td>\n",
              "    </tr>\n",
              "  </tbody>\n",
              "</table>\n",
              "</div>\n",
              "    <div class=\"colab-df-buttons\">\n",
              "\n",
              "  <div class=\"colab-df-container\">\n",
              "    <button class=\"colab-df-convert\" onclick=\"convertToInteractive('df-4b330efe-9430-4026-a455-f7f962fbfb84')\"\n",
              "            title=\"Convert this dataframe to an interactive table.\"\n",
              "            style=\"display:none;\">\n",
              "\n",
              "  <svg xmlns=\"http://www.w3.org/2000/svg\" height=\"24px\" viewBox=\"0 -960 960 960\">\n",
              "    <path d=\"M120-120v-720h720v720H120Zm60-500h600v-160H180v160Zm220 220h160v-160H400v160Zm0 220h160v-160H400v160ZM180-400h160v-160H180v160Zm440 0h160v-160H620v160ZM180-180h160v-160H180v160Zm440 0h160v-160H620v160Z\"/>\n",
              "  </svg>\n",
              "    </button>\n",
              "\n",
              "  <style>\n",
              "    .colab-df-container {\n",
              "      display:flex;\n",
              "      gap: 12px;\n",
              "    }\n",
              "\n",
              "    .colab-df-convert {\n",
              "      background-color: #E8F0FE;\n",
              "      border: none;\n",
              "      border-radius: 50%;\n",
              "      cursor: pointer;\n",
              "      display: none;\n",
              "      fill: #1967D2;\n",
              "      height: 32px;\n",
              "      padding: 0 0 0 0;\n",
              "      width: 32px;\n",
              "    }\n",
              "\n",
              "    .colab-df-convert:hover {\n",
              "      background-color: #E2EBFA;\n",
              "      box-shadow: 0px 1px 2px rgba(60, 64, 67, 0.3), 0px 1px 3px 1px rgba(60, 64, 67, 0.15);\n",
              "      fill: #174EA6;\n",
              "    }\n",
              "\n",
              "    .colab-df-buttons div {\n",
              "      margin-bottom: 4px;\n",
              "    }\n",
              "\n",
              "    [theme=dark] .colab-df-convert {\n",
              "      background-color: #3B4455;\n",
              "      fill: #D2E3FC;\n",
              "    }\n",
              "\n",
              "    [theme=dark] .colab-df-convert:hover {\n",
              "      background-color: #434B5C;\n",
              "      box-shadow: 0px 1px 3px 1px rgba(0, 0, 0, 0.15);\n",
              "      filter: drop-shadow(0px 1px 2px rgba(0, 0, 0, 0.3));\n",
              "      fill: #FFFFFF;\n",
              "    }\n",
              "  </style>\n",
              "\n",
              "    <script>\n",
              "      const buttonEl =\n",
              "        document.querySelector('#df-4b330efe-9430-4026-a455-f7f962fbfb84 button.colab-df-convert');\n",
              "      buttonEl.style.display =\n",
              "        google.colab.kernel.accessAllowed ? 'block' : 'none';\n",
              "\n",
              "      async function convertToInteractive(key) {\n",
              "        const element = document.querySelector('#df-4b330efe-9430-4026-a455-f7f962fbfb84');\n",
              "        const dataTable =\n",
              "          await google.colab.kernel.invokeFunction('convertToInteractive',\n",
              "                                                    [key], {});\n",
              "        if (!dataTable) return;\n",
              "\n",
              "        const docLinkHtml = 'Like what you see? Visit the ' +\n",
              "          '<a target=\"_blank\" href=https://colab.research.google.com/notebooks/data_table.ipynb>data table notebook</a>'\n",
              "          + ' to learn more about interactive tables.';\n",
              "        element.innerHTML = '';\n",
              "        dataTable['output_type'] = 'display_data';\n",
              "        await google.colab.output.renderOutput(dataTable, element);\n",
              "        const docLink = document.createElement('div');\n",
              "        docLink.innerHTML = docLinkHtml;\n",
              "        element.appendChild(docLink);\n",
              "      }\n",
              "    </script>\n",
              "  </div>\n",
              "\n",
              "\n",
              "    <div id=\"df-168144d5-d73f-4be9-92c4-c7d96180426a\">\n",
              "      <button class=\"colab-df-quickchart\" onclick=\"quickchart('df-168144d5-d73f-4be9-92c4-c7d96180426a')\"\n",
              "                title=\"Suggest charts\"\n",
              "                style=\"display:none;\">\n",
              "\n",
              "<svg xmlns=\"http://www.w3.org/2000/svg\" height=\"24px\"viewBox=\"0 0 24 24\"\n",
              "     width=\"24px\">\n",
              "    <g>\n",
              "        <path d=\"M19 3H5c-1.1 0-2 .9-2 2v14c0 1.1.9 2 2 2h14c1.1 0 2-.9 2-2V5c0-1.1-.9-2-2-2zM9 17H7v-7h2v7zm4 0h-2V7h2v10zm4 0h-2v-4h2v4z\"/>\n",
              "    </g>\n",
              "</svg>\n",
              "      </button>\n",
              "\n",
              "<style>\n",
              "  .colab-df-quickchart {\n",
              "      --bg-color: #E8F0FE;\n",
              "      --fill-color: #1967D2;\n",
              "      --hover-bg-color: #E2EBFA;\n",
              "      --hover-fill-color: #174EA6;\n",
              "      --disabled-fill-color: #AAA;\n",
              "      --disabled-bg-color: #DDD;\n",
              "  }\n",
              "\n",
              "  [theme=dark] .colab-df-quickchart {\n",
              "      --bg-color: #3B4455;\n",
              "      --fill-color: #D2E3FC;\n",
              "      --hover-bg-color: #434B5C;\n",
              "      --hover-fill-color: #FFFFFF;\n",
              "      --disabled-bg-color: #3B4455;\n",
              "      --disabled-fill-color: #666;\n",
              "  }\n",
              "\n",
              "  .colab-df-quickchart {\n",
              "    background-color: var(--bg-color);\n",
              "    border: none;\n",
              "    border-radius: 50%;\n",
              "    cursor: pointer;\n",
              "    display: none;\n",
              "    fill: var(--fill-color);\n",
              "    height: 32px;\n",
              "    padding: 0;\n",
              "    width: 32px;\n",
              "  }\n",
              "\n",
              "  .colab-df-quickchart:hover {\n",
              "    background-color: var(--hover-bg-color);\n",
              "    box-shadow: 0 1px 2px rgba(60, 64, 67, 0.3), 0 1px 3px 1px rgba(60, 64, 67, 0.15);\n",
              "    fill: var(--button-hover-fill-color);\n",
              "  }\n",
              "\n",
              "  .colab-df-quickchart-complete:disabled,\n",
              "  .colab-df-quickchart-complete:disabled:hover {\n",
              "    background-color: var(--disabled-bg-color);\n",
              "    fill: var(--disabled-fill-color);\n",
              "    box-shadow: none;\n",
              "  }\n",
              "\n",
              "  .colab-df-spinner {\n",
              "    border: 2px solid var(--fill-color);\n",
              "    border-color: transparent;\n",
              "    border-bottom-color: var(--fill-color);\n",
              "    animation:\n",
              "      spin 1s steps(1) infinite;\n",
              "  }\n",
              "\n",
              "  @keyframes spin {\n",
              "    0% {\n",
              "      border-color: transparent;\n",
              "      border-bottom-color: var(--fill-color);\n",
              "      border-left-color: var(--fill-color);\n",
              "    }\n",
              "    20% {\n",
              "      border-color: transparent;\n",
              "      border-left-color: var(--fill-color);\n",
              "      border-top-color: var(--fill-color);\n",
              "    }\n",
              "    30% {\n",
              "      border-color: transparent;\n",
              "      border-left-color: var(--fill-color);\n",
              "      border-top-color: var(--fill-color);\n",
              "      border-right-color: var(--fill-color);\n",
              "    }\n",
              "    40% {\n",
              "      border-color: transparent;\n",
              "      border-right-color: var(--fill-color);\n",
              "      border-top-color: var(--fill-color);\n",
              "    }\n",
              "    60% {\n",
              "      border-color: transparent;\n",
              "      border-right-color: var(--fill-color);\n",
              "    }\n",
              "    80% {\n",
              "      border-color: transparent;\n",
              "      border-right-color: var(--fill-color);\n",
              "      border-bottom-color: var(--fill-color);\n",
              "    }\n",
              "    90% {\n",
              "      border-color: transparent;\n",
              "      border-bottom-color: var(--fill-color);\n",
              "    }\n",
              "  }\n",
              "</style>\n",
              "\n",
              "      <script>\n",
              "        async function quickchart(key) {\n",
              "          const quickchartButtonEl =\n",
              "            document.querySelector('#' + key + ' button');\n",
              "          quickchartButtonEl.disabled = true;  // To prevent multiple clicks.\n",
              "          quickchartButtonEl.classList.add('colab-df-spinner');\n",
              "          try {\n",
              "            const charts = await google.colab.kernel.invokeFunction(\n",
              "                'suggestCharts', [key], {});\n",
              "          } catch (error) {\n",
              "            console.error('Error during call to suggestCharts:', error);\n",
              "          }\n",
              "          quickchartButtonEl.classList.remove('colab-df-spinner');\n",
              "          quickchartButtonEl.classList.add('colab-df-quickchart-complete');\n",
              "        }\n",
              "        (() => {\n",
              "          let quickchartButtonEl =\n",
              "            document.querySelector('#df-168144d5-d73f-4be9-92c4-c7d96180426a button');\n",
              "          quickchartButtonEl.style.display =\n",
              "            google.colab.kernel.accessAllowed ? 'block' : 'none';\n",
              "        })();\n",
              "      </script>\n",
              "    </div>\n",
              "\n",
              "    </div>\n",
              "  </div>\n"
            ],
            "application/vnd.google.colaboratory.intrinsic+json": {
              "type": "dataframe",
              "repr_error": "0"
            }
          },
          "metadata": {},
          "execution_count": 793
        }
      ]
    },
    {
      "cell_type": "code",
      "source": [
        "df_receitas.query(\"cliente_sexo == 'Feminino' & pagamento_forma == 'Pix'\").head(3)"
      ],
      "metadata": {
        "colab": {
          "base_uri": "https://localhost:8080/",
          "height": 163
        },
        "id": "Z4sE-5ZA-jKl",
        "outputId": "f3e07b61-fc7d-4b42-d8c8-e3f51cd9c4c2"
      },
      "execution_count": null,
      "outputs": [
        {
          "output_type": "execute_result",
          "data": {
            "text/plain": [
              "  atendimento_id receita_codigo  venda_quantidade  venda_valor cliente_id  \\\n",
              "4     2021-11-08      879941073                 1      10535.0  881735973   \n",
              "8     2021-12-20      879941028                 1       9498.0  881736086   \n",
              "9     2022-01-28      889030774                 1        300.0  881735885   \n",
              "\n",
              "  cliente_sexo cliente_nascimento_data cliente_origem  \\\n",
              "4     Feminino              1972-06-22      Indicação   \n",
              "8     Feminino              1980-01-01      Indicação   \n",
              "9     Feminino              1958-10-20            NaN   \n",
              "\n",
              "  profissional_especialidade pagamento_data pagamento_forma  \n",
              "4          Cirurgia Plástica     2021-11-08             Pix  \n",
              "8          Cirurgia Plástica     2021-12-24             Pix  \n",
              "9          Cirurgia Plástica     2022-01-28             Pix  "
            ],
            "text/html": [
              "\n",
              "  <div id=\"df-b572bc81-38ff-402b-b911-2ce6b883e78b\" class=\"colab-df-container\">\n",
              "    <div>\n",
              "<style scoped>\n",
              "    .dataframe tbody tr th:only-of-type {\n",
              "        vertical-align: middle;\n",
              "    }\n",
              "\n",
              "    .dataframe tbody tr th {\n",
              "        vertical-align: top;\n",
              "    }\n",
              "\n",
              "    .dataframe thead th {\n",
              "        text-align: right;\n",
              "    }\n",
              "</style>\n",
              "<table border=\"1\" class=\"dataframe\">\n",
              "  <thead>\n",
              "    <tr style=\"text-align: right;\">\n",
              "      <th></th>\n",
              "      <th>atendimento_id</th>\n",
              "      <th>receita_codigo</th>\n",
              "      <th>venda_quantidade</th>\n",
              "      <th>venda_valor</th>\n",
              "      <th>cliente_id</th>\n",
              "      <th>cliente_sexo</th>\n",
              "      <th>cliente_nascimento_data</th>\n",
              "      <th>cliente_origem</th>\n",
              "      <th>profissional_especialidade</th>\n",
              "      <th>pagamento_data</th>\n",
              "      <th>pagamento_forma</th>\n",
              "    </tr>\n",
              "  </thead>\n",
              "  <tbody>\n",
              "    <tr>\n",
              "      <th>4</th>\n",
              "      <td>2021-11-08</td>\n",
              "      <td>879941073</td>\n",
              "      <td>1</td>\n",
              "      <td>10535.0</td>\n",
              "      <td>881735973</td>\n",
              "      <td>Feminino</td>\n",
              "      <td>1972-06-22</td>\n",
              "      <td>Indicação</td>\n",
              "      <td>Cirurgia Plástica</td>\n",
              "      <td>2021-11-08</td>\n",
              "      <td>Pix</td>\n",
              "    </tr>\n",
              "    <tr>\n",
              "      <th>8</th>\n",
              "      <td>2021-12-20</td>\n",
              "      <td>879941028</td>\n",
              "      <td>1</td>\n",
              "      <td>9498.0</td>\n",
              "      <td>881736086</td>\n",
              "      <td>Feminino</td>\n",
              "      <td>1980-01-01</td>\n",
              "      <td>Indicação</td>\n",
              "      <td>Cirurgia Plástica</td>\n",
              "      <td>2021-12-24</td>\n",
              "      <td>Pix</td>\n",
              "    </tr>\n",
              "    <tr>\n",
              "      <th>9</th>\n",
              "      <td>2022-01-28</td>\n",
              "      <td>889030774</td>\n",
              "      <td>1</td>\n",
              "      <td>300.0</td>\n",
              "      <td>881735885</td>\n",
              "      <td>Feminino</td>\n",
              "      <td>1958-10-20</td>\n",
              "      <td>NaN</td>\n",
              "      <td>Cirurgia Plástica</td>\n",
              "      <td>2022-01-28</td>\n",
              "      <td>Pix</td>\n",
              "    </tr>\n",
              "  </tbody>\n",
              "</table>\n",
              "</div>\n",
              "    <div class=\"colab-df-buttons\">\n",
              "\n",
              "  <div class=\"colab-df-container\">\n",
              "    <button class=\"colab-df-convert\" onclick=\"convertToInteractive('df-b572bc81-38ff-402b-b911-2ce6b883e78b')\"\n",
              "            title=\"Convert this dataframe to an interactive table.\"\n",
              "            style=\"display:none;\">\n",
              "\n",
              "  <svg xmlns=\"http://www.w3.org/2000/svg\" height=\"24px\" viewBox=\"0 -960 960 960\">\n",
              "    <path d=\"M120-120v-720h720v720H120Zm60-500h600v-160H180v160Zm220 220h160v-160H400v160Zm0 220h160v-160H400v160ZM180-400h160v-160H180v160Zm440 0h160v-160H620v160ZM180-180h160v-160H180v160Zm440 0h160v-160H620v160Z\"/>\n",
              "  </svg>\n",
              "    </button>\n",
              "\n",
              "  <style>\n",
              "    .colab-df-container {\n",
              "      display:flex;\n",
              "      gap: 12px;\n",
              "    }\n",
              "\n",
              "    .colab-df-convert {\n",
              "      background-color: #E8F0FE;\n",
              "      border: none;\n",
              "      border-radius: 50%;\n",
              "      cursor: pointer;\n",
              "      display: none;\n",
              "      fill: #1967D2;\n",
              "      height: 32px;\n",
              "      padding: 0 0 0 0;\n",
              "      width: 32px;\n",
              "    }\n",
              "\n",
              "    .colab-df-convert:hover {\n",
              "      background-color: #E2EBFA;\n",
              "      box-shadow: 0px 1px 2px rgba(60, 64, 67, 0.3), 0px 1px 3px 1px rgba(60, 64, 67, 0.15);\n",
              "      fill: #174EA6;\n",
              "    }\n",
              "\n",
              "    .colab-df-buttons div {\n",
              "      margin-bottom: 4px;\n",
              "    }\n",
              "\n",
              "    [theme=dark] .colab-df-convert {\n",
              "      background-color: #3B4455;\n",
              "      fill: #D2E3FC;\n",
              "    }\n",
              "\n",
              "    [theme=dark] .colab-df-convert:hover {\n",
              "      background-color: #434B5C;\n",
              "      box-shadow: 0px 1px 3px 1px rgba(0, 0, 0, 0.15);\n",
              "      filter: drop-shadow(0px 1px 2px rgba(0, 0, 0, 0.3));\n",
              "      fill: #FFFFFF;\n",
              "    }\n",
              "  </style>\n",
              "\n",
              "    <script>\n",
              "      const buttonEl =\n",
              "        document.querySelector('#df-b572bc81-38ff-402b-b911-2ce6b883e78b button.colab-df-convert');\n",
              "      buttonEl.style.display =\n",
              "        google.colab.kernel.accessAllowed ? 'block' : 'none';\n",
              "\n",
              "      async function convertToInteractive(key) {\n",
              "        const element = document.querySelector('#df-b572bc81-38ff-402b-b911-2ce6b883e78b');\n",
              "        const dataTable =\n",
              "          await google.colab.kernel.invokeFunction('convertToInteractive',\n",
              "                                                    [key], {});\n",
              "        if (!dataTable) return;\n",
              "\n",
              "        const docLinkHtml = 'Like what you see? Visit the ' +\n",
              "          '<a target=\"_blank\" href=https://colab.research.google.com/notebooks/data_table.ipynb>data table notebook</a>'\n",
              "          + ' to learn more about interactive tables.';\n",
              "        element.innerHTML = '';\n",
              "        dataTable['output_type'] = 'display_data';\n",
              "        await google.colab.output.renderOutput(dataTable, element);\n",
              "        const docLink = document.createElement('div');\n",
              "        docLink.innerHTML = docLinkHtml;\n",
              "        element.appendChild(docLink);\n",
              "      }\n",
              "    </script>\n",
              "  </div>\n",
              "\n",
              "\n",
              "    <div id=\"df-f5cddd0c-7c24-46a3-9d66-86f3b6bf9bab\">\n",
              "      <button class=\"colab-df-quickchart\" onclick=\"quickchart('df-f5cddd0c-7c24-46a3-9d66-86f3b6bf9bab')\"\n",
              "                title=\"Suggest charts\"\n",
              "                style=\"display:none;\">\n",
              "\n",
              "<svg xmlns=\"http://www.w3.org/2000/svg\" height=\"24px\"viewBox=\"0 0 24 24\"\n",
              "     width=\"24px\">\n",
              "    <g>\n",
              "        <path d=\"M19 3H5c-1.1 0-2 .9-2 2v14c0 1.1.9 2 2 2h14c1.1 0 2-.9 2-2V5c0-1.1-.9-2-2-2zM9 17H7v-7h2v7zm4 0h-2V7h2v10zm4 0h-2v-4h2v4z\"/>\n",
              "    </g>\n",
              "</svg>\n",
              "      </button>\n",
              "\n",
              "<style>\n",
              "  .colab-df-quickchart {\n",
              "      --bg-color: #E8F0FE;\n",
              "      --fill-color: #1967D2;\n",
              "      --hover-bg-color: #E2EBFA;\n",
              "      --hover-fill-color: #174EA6;\n",
              "      --disabled-fill-color: #AAA;\n",
              "      --disabled-bg-color: #DDD;\n",
              "  }\n",
              "\n",
              "  [theme=dark] .colab-df-quickchart {\n",
              "      --bg-color: #3B4455;\n",
              "      --fill-color: #D2E3FC;\n",
              "      --hover-bg-color: #434B5C;\n",
              "      --hover-fill-color: #FFFFFF;\n",
              "      --disabled-bg-color: #3B4455;\n",
              "      --disabled-fill-color: #666;\n",
              "  }\n",
              "\n",
              "  .colab-df-quickchart {\n",
              "    background-color: var(--bg-color);\n",
              "    border: none;\n",
              "    border-radius: 50%;\n",
              "    cursor: pointer;\n",
              "    display: none;\n",
              "    fill: var(--fill-color);\n",
              "    height: 32px;\n",
              "    padding: 0;\n",
              "    width: 32px;\n",
              "  }\n",
              "\n",
              "  .colab-df-quickchart:hover {\n",
              "    background-color: var(--hover-bg-color);\n",
              "    box-shadow: 0 1px 2px rgba(60, 64, 67, 0.3), 0 1px 3px 1px rgba(60, 64, 67, 0.15);\n",
              "    fill: var(--button-hover-fill-color);\n",
              "  }\n",
              "\n",
              "  .colab-df-quickchart-complete:disabled,\n",
              "  .colab-df-quickchart-complete:disabled:hover {\n",
              "    background-color: var(--disabled-bg-color);\n",
              "    fill: var(--disabled-fill-color);\n",
              "    box-shadow: none;\n",
              "  }\n",
              "\n",
              "  .colab-df-spinner {\n",
              "    border: 2px solid var(--fill-color);\n",
              "    border-color: transparent;\n",
              "    border-bottom-color: var(--fill-color);\n",
              "    animation:\n",
              "      spin 1s steps(1) infinite;\n",
              "  }\n",
              "\n",
              "  @keyframes spin {\n",
              "    0% {\n",
              "      border-color: transparent;\n",
              "      border-bottom-color: var(--fill-color);\n",
              "      border-left-color: var(--fill-color);\n",
              "    }\n",
              "    20% {\n",
              "      border-color: transparent;\n",
              "      border-left-color: var(--fill-color);\n",
              "      border-top-color: var(--fill-color);\n",
              "    }\n",
              "    30% {\n",
              "      border-color: transparent;\n",
              "      border-left-color: var(--fill-color);\n",
              "      border-top-color: var(--fill-color);\n",
              "      border-right-color: var(--fill-color);\n",
              "    }\n",
              "    40% {\n",
              "      border-color: transparent;\n",
              "      border-right-color: var(--fill-color);\n",
              "      border-top-color: var(--fill-color);\n",
              "    }\n",
              "    60% {\n",
              "      border-color: transparent;\n",
              "      border-right-color: var(--fill-color);\n",
              "    }\n",
              "    80% {\n",
              "      border-color: transparent;\n",
              "      border-right-color: var(--fill-color);\n",
              "      border-bottom-color: var(--fill-color);\n",
              "    }\n",
              "    90% {\n",
              "      border-color: transparent;\n",
              "      border-bottom-color: var(--fill-color);\n",
              "    }\n",
              "  }\n",
              "</style>\n",
              "\n",
              "      <script>\n",
              "        async function quickchart(key) {\n",
              "          const quickchartButtonEl =\n",
              "            document.querySelector('#' + key + ' button');\n",
              "          quickchartButtonEl.disabled = true;  // To prevent multiple clicks.\n",
              "          quickchartButtonEl.classList.add('colab-df-spinner');\n",
              "          try {\n",
              "            const charts = await google.colab.kernel.invokeFunction(\n",
              "                'suggestCharts', [key], {});\n",
              "          } catch (error) {\n",
              "            console.error('Error during call to suggestCharts:', error);\n",
              "          }\n",
              "          quickchartButtonEl.classList.remove('colab-df-spinner');\n",
              "          quickchartButtonEl.classList.add('colab-df-quickchart-complete');\n",
              "        }\n",
              "        (() => {\n",
              "          let quickchartButtonEl =\n",
              "            document.querySelector('#df-f5cddd0c-7c24-46a3-9d66-86f3b6bf9bab button');\n",
              "          quickchartButtonEl.style.display =\n",
              "            google.colab.kernel.accessAllowed ? 'block' : 'none';\n",
              "        })();\n",
              "      </script>\n",
              "    </div>\n",
              "\n",
              "    </div>\n",
              "  </div>\n"
            ],
            "application/vnd.google.colaboratory.intrinsic+json": {
              "type": "dataframe",
              "repr_error": "0"
            }
          },
          "metadata": {},
          "execution_count": 794
        }
      ]
    },
    {
      "cell_type": "markdown",
      "source": [
        "Repare que dois códigos diferentes chegaram ao mesmo resultado. Interessante, não?"
      ],
      "metadata": {
        "id": "HeVcB3WX-wAK"
      }
    },
    {
      "cell_type": "markdown",
      "source": [
        "🔹 Mas e se quisermos filtrar linhas que contêm valores de uma lista específica. Também temos função para isso: .isin(). Simples assim: \"Está dentro de\"."
      ],
      "metadata": {
        "id": "cqluBVqn-12P"
      }
    },
    {
      "cell_type": "code",
      "source": [
        "# Filtrar clientes que pagaram via Pix ou Cartão de Débito\n",
        "\n",
        "df_receitas[df_receitas[\"pagamento_forma\"].isin([\"Pix\", \"Cartão de débito\"])]['pagamento_forma'].value_counts()"
      ],
      "metadata": {
        "colab": {
          "base_uri": "https://localhost:8080/",
          "height": 178
        },
        "id": "pR7YjUiG-1W0",
        "outputId": "fd218348-94ec-4747-e0a8-02b297d9916b"
      },
      "execution_count": null,
      "outputs": [
        {
          "output_type": "execute_result",
          "data": {
            "text/plain": [
              "pagamento_forma\n",
              "Pix                 878\n",
              "Cartão de débito     99\n",
              "Name: count, dtype: int64"
            ],
            "text/html": [
              "<div>\n",
              "<style scoped>\n",
              "    .dataframe tbody tr th:only-of-type {\n",
              "        vertical-align: middle;\n",
              "    }\n",
              "\n",
              "    .dataframe tbody tr th {\n",
              "        vertical-align: top;\n",
              "    }\n",
              "\n",
              "    .dataframe thead th {\n",
              "        text-align: right;\n",
              "    }\n",
              "</style>\n",
              "<table border=\"1\" class=\"dataframe\">\n",
              "  <thead>\n",
              "    <tr style=\"text-align: right;\">\n",
              "      <th></th>\n",
              "      <th>count</th>\n",
              "    </tr>\n",
              "    <tr>\n",
              "      <th>pagamento_forma</th>\n",
              "      <th></th>\n",
              "    </tr>\n",
              "  </thead>\n",
              "  <tbody>\n",
              "    <tr>\n",
              "      <th>Pix</th>\n",
              "      <td>878</td>\n",
              "    </tr>\n",
              "    <tr>\n",
              "      <th>Cartão de débito</th>\n",
              "      <td>99</td>\n",
              "    </tr>\n",
              "  </tbody>\n",
              "</table>\n",
              "</div><br><label><b>dtype:</b> int64</label>"
            ]
          },
          "metadata": {},
          "execution_count": 795
        }
      ]
    },
    {
      "cell_type": "markdown",
      "source": [
        "🔹 Ou filtrar algo que contém"
      ],
      "metadata": {
        "id": "fVZrN1DcdykX"
      }
    },
    {
      "cell_type": "code",
      "source": [
        "df_receitas.columns"
      ],
      "metadata": {
        "colab": {
          "base_uri": "https://localhost:8080/"
        },
        "id": "fip7qI5rNvpU",
        "outputId": "96ee48db-ce74-49ba-84ea-a6b1f0d96975"
      },
      "execution_count": null,
      "outputs": [
        {
          "output_type": "execute_result",
          "data": {
            "text/plain": [
              "Index(['atendimento_id', 'receita_codigo', 'venda_quantidade', 'venda_valor',\n",
              "       'cliente_id', 'cliente_sexo', 'cliente_nascimento_data',\n",
              "       'cliente_origem', 'profissional_especialidade', 'pagamento_data',\n",
              "       'pagamento_forma'],\n",
              "      dtype='object')"
            ]
          },
          "metadata": {},
          "execution_count": 796
        }
      ]
    },
    {
      "cell_type": "code",
      "source": [
        "# Filtrar especialidades que contém \"Logia\"\n",
        "\n",
        "df_receitas[df_receitas['profissional_especialidade'].str.contains('logia', case=False)]"
      ],
      "metadata": {
        "id": "CJ3-yxZpd26U",
        "colab": {
          "base_uri": "https://localhost:8080/",
          "height": 496
        },
        "outputId": "0a57161b-1d35-4cab-b1d9-9b652a15c070"
      },
      "execution_count": null,
      "outputs": [
        {
          "output_type": "execute_result",
          "data": {
            "text/plain": [
              "     atendimento_id receita_codigo  venda_quantidade  venda_valor cliente_id  \\\n",
              "16       2022-02-25      889542508                 1        600.0  881736257   \n",
              "17       2022-02-25      889542508                 1        600.0  881736392   \n",
              "18       2022-03-03      879940708                 1        400.0  881735913   \n",
              "19       2022-03-03      881734405                 1       1100.0  881735846   \n",
              "20       2022-03-03      879940708                 1        400.0  881735846   \n",
              "...             ...            ...               ...          ...        ...   \n",
              "1181     2024-05-15      879941121                 1        410.0  920511580   \n",
              "1188     2024-05-17      879940708                 1        400.0  928838912   \n",
              "1189     2024-05-17      889546389                 1       2100.0  918962528   \n",
              "1190     2024-05-21      879938562                 1        750.0  917317600   \n",
              "1192     2024-05-21      881734405                 1       1100.0  881736664   \n",
              "\n",
              "     cliente_sexo cliente_nascimento_data cliente_origem  \\\n",
              "16      Masculino              1991-04-20            NaN   \n",
              "17       Feminino              1988-02-15      Indicação   \n",
              "18       Feminino              1994-01-13            NaN   \n",
              "19       Feminino              1959-05-26       Convênio   \n",
              "20       Feminino              1959-05-26       Convênio   \n",
              "...           ...                     ...            ...   \n",
              "1181     Feminino              1993-05-12            NaN   \n",
              "1188     Feminino              1981-07-05      Indicação   \n",
              "1189     Feminino              1979-09-27            NaN   \n",
              "1190     Feminino              1995-06-22      Indicação   \n",
              "1192     Feminino                     NaT            NaN   \n",
              "\n",
              "     profissional_especialidade pagamento_data            pagamento_forma  \n",
              "16                   Nutrologia     2022-03-04                        Pix  \n",
              "17                   Nutrologia     2022-03-07           Cartão de débito  \n",
              "18                 Dermatologia     2022-03-03                        Pix  \n",
              "19                 Dermatologia     2022-03-03                        Pix  \n",
              "20                 Dermatologia     2022-03-03                        Pix  \n",
              "...                         ...            ...                        ...  \n",
              "1181                Ginecologia     2024-06-14  Cartão de crédito à vista  \n",
              "1188               Dermatologia     2024-06-13                   Dinheiro  \n",
              "1189                 Nutrologia     2024-06-16  Cartão de crédito à vista  \n",
              "1190               Dermatologia     2024-05-21           Cartão de débito  \n",
              "1192               Dermatologia     2024-06-20  Cartão de crédito à vista  \n",
              "\n",
              "[594 rows x 11 columns]"
            ],
            "text/html": [
              "\n",
              "  <div id=\"df-73406ee0-5830-4dcc-9fbb-c73343e10697\" class=\"colab-df-container\">\n",
              "    <div>\n",
              "<style scoped>\n",
              "    .dataframe tbody tr th:only-of-type {\n",
              "        vertical-align: middle;\n",
              "    }\n",
              "\n",
              "    .dataframe tbody tr th {\n",
              "        vertical-align: top;\n",
              "    }\n",
              "\n",
              "    .dataframe thead th {\n",
              "        text-align: right;\n",
              "    }\n",
              "</style>\n",
              "<table border=\"1\" class=\"dataframe\">\n",
              "  <thead>\n",
              "    <tr style=\"text-align: right;\">\n",
              "      <th></th>\n",
              "      <th>atendimento_id</th>\n",
              "      <th>receita_codigo</th>\n",
              "      <th>venda_quantidade</th>\n",
              "      <th>venda_valor</th>\n",
              "      <th>cliente_id</th>\n",
              "      <th>cliente_sexo</th>\n",
              "      <th>cliente_nascimento_data</th>\n",
              "      <th>cliente_origem</th>\n",
              "      <th>profissional_especialidade</th>\n",
              "      <th>pagamento_data</th>\n",
              "      <th>pagamento_forma</th>\n",
              "    </tr>\n",
              "  </thead>\n",
              "  <tbody>\n",
              "    <tr>\n",
              "      <th>16</th>\n",
              "      <td>2022-02-25</td>\n",
              "      <td>889542508</td>\n",
              "      <td>1</td>\n",
              "      <td>600.0</td>\n",
              "      <td>881736257</td>\n",
              "      <td>Masculino</td>\n",
              "      <td>1991-04-20</td>\n",
              "      <td>NaN</td>\n",
              "      <td>Nutrologia</td>\n",
              "      <td>2022-03-04</td>\n",
              "      <td>Pix</td>\n",
              "    </tr>\n",
              "    <tr>\n",
              "      <th>17</th>\n",
              "      <td>2022-02-25</td>\n",
              "      <td>889542508</td>\n",
              "      <td>1</td>\n",
              "      <td>600.0</td>\n",
              "      <td>881736392</td>\n",
              "      <td>Feminino</td>\n",
              "      <td>1988-02-15</td>\n",
              "      <td>Indicação</td>\n",
              "      <td>Nutrologia</td>\n",
              "      <td>2022-03-07</td>\n",
              "      <td>Cartão de débito</td>\n",
              "    </tr>\n",
              "    <tr>\n",
              "      <th>18</th>\n",
              "      <td>2022-03-03</td>\n",
              "      <td>879940708</td>\n",
              "      <td>1</td>\n",
              "      <td>400.0</td>\n",
              "      <td>881735913</td>\n",
              "      <td>Feminino</td>\n",
              "      <td>1994-01-13</td>\n",
              "      <td>NaN</td>\n",
              "      <td>Dermatologia</td>\n",
              "      <td>2022-03-03</td>\n",
              "      <td>Pix</td>\n",
              "    </tr>\n",
              "    <tr>\n",
              "      <th>19</th>\n",
              "      <td>2022-03-03</td>\n",
              "      <td>881734405</td>\n",
              "      <td>1</td>\n",
              "      <td>1100.0</td>\n",
              "      <td>881735846</td>\n",
              "      <td>Feminino</td>\n",
              "      <td>1959-05-26</td>\n",
              "      <td>Convênio</td>\n",
              "      <td>Dermatologia</td>\n",
              "      <td>2022-03-03</td>\n",
              "      <td>Pix</td>\n",
              "    </tr>\n",
              "    <tr>\n",
              "      <th>20</th>\n",
              "      <td>2022-03-03</td>\n",
              "      <td>879940708</td>\n",
              "      <td>1</td>\n",
              "      <td>400.0</td>\n",
              "      <td>881735846</td>\n",
              "      <td>Feminino</td>\n",
              "      <td>1959-05-26</td>\n",
              "      <td>Convênio</td>\n",
              "      <td>Dermatologia</td>\n",
              "      <td>2022-03-03</td>\n",
              "      <td>Pix</td>\n",
              "    </tr>\n",
              "    <tr>\n",
              "      <th>...</th>\n",
              "      <td>...</td>\n",
              "      <td>...</td>\n",
              "      <td>...</td>\n",
              "      <td>...</td>\n",
              "      <td>...</td>\n",
              "      <td>...</td>\n",
              "      <td>...</td>\n",
              "      <td>...</td>\n",
              "      <td>...</td>\n",
              "      <td>...</td>\n",
              "      <td>...</td>\n",
              "    </tr>\n",
              "    <tr>\n",
              "      <th>1181</th>\n",
              "      <td>2024-05-15</td>\n",
              "      <td>879941121</td>\n",
              "      <td>1</td>\n",
              "      <td>410.0</td>\n",
              "      <td>920511580</td>\n",
              "      <td>Feminino</td>\n",
              "      <td>1993-05-12</td>\n",
              "      <td>NaN</td>\n",
              "      <td>Ginecologia</td>\n",
              "      <td>2024-06-14</td>\n",
              "      <td>Cartão de crédito à vista</td>\n",
              "    </tr>\n",
              "    <tr>\n",
              "      <th>1188</th>\n",
              "      <td>2024-05-17</td>\n",
              "      <td>879940708</td>\n",
              "      <td>1</td>\n",
              "      <td>400.0</td>\n",
              "      <td>928838912</td>\n",
              "      <td>Feminino</td>\n",
              "      <td>1981-07-05</td>\n",
              "      <td>Indicação</td>\n",
              "      <td>Dermatologia</td>\n",
              "      <td>2024-06-13</td>\n",
              "      <td>Dinheiro</td>\n",
              "    </tr>\n",
              "    <tr>\n",
              "      <th>1189</th>\n",
              "      <td>2024-05-17</td>\n",
              "      <td>889546389</td>\n",
              "      <td>1</td>\n",
              "      <td>2100.0</td>\n",
              "      <td>918962528</td>\n",
              "      <td>Feminino</td>\n",
              "      <td>1979-09-27</td>\n",
              "      <td>NaN</td>\n",
              "      <td>Nutrologia</td>\n",
              "      <td>2024-06-16</td>\n",
              "      <td>Cartão de crédito à vista</td>\n",
              "    </tr>\n",
              "    <tr>\n",
              "      <th>1190</th>\n",
              "      <td>2024-05-21</td>\n",
              "      <td>879938562</td>\n",
              "      <td>1</td>\n",
              "      <td>750.0</td>\n",
              "      <td>917317600</td>\n",
              "      <td>Feminino</td>\n",
              "      <td>1995-06-22</td>\n",
              "      <td>Indicação</td>\n",
              "      <td>Dermatologia</td>\n",
              "      <td>2024-05-21</td>\n",
              "      <td>Cartão de débito</td>\n",
              "    </tr>\n",
              "    <tr>\n",
              "      <th>1192</th>\n",
              "      <td>2024-05-21</td>\n",
              "      <td>881734405</td>\n",
              "      <td>1</td>\n",
              "      <td>1100.0</td>\n",
              "      <td>881736664</td>\n",
              "      <td>Feminino</td>\n",
              "      <td>NaT</td>\n",
              "      <td>NaN</td>\n",
              "      <td>Dermatologia</td>\n",
              "      <td>2024-06-20</td>\n",
              "      <td>Cartão de crédito à vista</td>\n",
              "    </tr>\n",
              "  </tbody>\n",
              "</table>\n",
              "<p>594 rows × 11 columns</p>\n",
              "</div>\n",
              "    <div class=\"colab-df-buttons\">\n",
              "\n",
              "  <div class=\"colab-df-container\">\n",
              "    <button class=\"colab-df-convert\" onclick=\"convertToInteractive('df-73406ee0-5830-4dcc-9fbb-c73343e10697')\"\n",
              "            title=\"Convert this dataframe to an interactive table.\"\n",
              "            style=\"display:none;\">\n",
              "\n",
              "  <svg xmlns=\"http://www.w3.org/2000/svg\" height=\"24px\" viewBox=\"0 -960 960 960\">\n",
              "    <path d=\"M120-120v-720h720v720H120Zm60-500h600v-160H180v160Zm220 220h160v-160H400v160Zm0 220h160v-160H400v160ZM180-400h160v-160H180v160Zm440 0h160v-160H620v160ZM180-180h160v-160H180v160Zm440 0h160v-160H620v160Z\"/>\n",
              "  </svg>\n",
              "    </button>\n",
              "\n",
              "  <style>\n",
              "    .colab-df-container {\n",
              "      display:flex;\n",
              "      gap: 12px;\n",
              "    }\n",
              "\n",
              "    .colab-df-convert {\n",
              "      background-color: #E8F0FE;\n",
              "      border: none;\n",
              "      border-radius: 50%;\n",
              "      cursor: pointer;\n",
              "      display: none;\n",
              "      fill: #1967D2;\n",
              "      height: 32px;\n",
              "      padding: 0 0 0 0;\n",
              "      width: 32px;\n",
              "    }\n",
              "\n",
              "    .colab-df-convert:hover {\n",
              "      background-color: #E2EBFA;\n",
              "      box-shadow: 0px 1px 2px rgba(60, 64, 67, 0.3), 0px 1px 3px 1px rgba(60, 64, 67, 0.15);\n",
              "      fill: #174EA6;\n",
              "    }\n",
              "\n",
              "    .colab-df-buttons div {\n",
              "      margin-bottom: 4px;\n",
              "    }\n",
              "\n",
              "    [theme=dark] .colab-df-convert {\n",
              "      background-color: #3B4455;\n",
              "      fill: #D2E3FC;\n",
              "    }\n",
              "\n",
              "    [theme=dark] .colab-df-convert:hover {\n",
              "      background-color: #434B5C;\n",
              "      box-shadow: 0px 1px 3px 1px rgba(0, 0, 0, 0.15);\n",
              "      filter: drop-shadow(0px 1px 2px rgba(0, 0, 0, 0.3));\n",
              "      fill: #FFFFFF;\n",
              "    }\n",
              "  </style>\n",
              "\n",
              "    <script>\n",
              "      const buttonEl =\n",
              "        document.querySelector('#df-73406ee0-5830-4dcc-9fbb-c73343e10697 button.colab-df-convert');\n",
              "      buttonEl.style.display =\n",
              "        google.colab.kernel.accessAllowed ? 'block' : 'none';\n",
              "\n",
              "      async function convertToInteractive(key) {\n",
              "        const element = document.querySelector('#df-73406ee0-5830-4dcc-9fbb-c73343e10697');\n",
              "        const dataTable =\n",
              "          await google.colab.kernel.invokeFunction('convertToInteractive',\n",
              "                                                    [key], {});\n",
              "        if (!dataTable) return;\n",
              "\n",
              "        const docLinkHtml = 'Like what you see? Visit the ' +\n",
              "          '<a target=\"_blank\" href=https://colab.research.google.com/notebooks/data_table.ipynb>data table notebook</a>'\n",
              "          + ' to learn more about interactive tables.';\n",
              "        element.innerHTML = '';\n",
              "        dataTable['output_type'] = 'display_data';\n",
              "        await google.colab.output.renderOutput(dataTable, element);\n",
              "        const docLink = document.createElement('div');\n",
              "        docLink.innerHTML = docLinkHtml;\n",
              "        element.appendChild(docLink);\n",
              "      }\n",
              "    </script>\n",
              "  </div>\n",
              "\n",
              "\n",
              "    <div id=\"df-38fbd1e8-5cd0-4eb7-85c3-76cf8e2be01d\">\n",
              "      <button class=\"colab-df-quickchart\" onclick=\"quickchart('df-38fbd1e8-5cd0-4eb7-85c3-76cf8e2be01d')\"\n",
              "                title=\"Suggest charts\"\n",
              "                style=\"display:none;\">\n",
              "\n",
              "<svg xmlns=\"http://www.w3.org/2000/svg\" height=\"24px\"viewBox=\"0 0 24 24\"\n",
              "     width=\"24px\">\n",
              "    <g>\n",
              "        <path d=\"M19 3H5c-1.1 0-2 .9-2 2v14c0 1.1.9 2 2 2h14c1.1 0 2-.9 2-2V5c0-1.1-.9-2-2-2zM9 17H7v-7h2v7zm4 0h-2V7h2v10zm4 0h-2v-4h2v4z\"/>\n",
              "    </g>\n",
              "</svg>\n",
              "      </button>\n",
              "\n",
              "<style>\n",
              "  .colab-df-quickchart {\n",
              "      --bg-color: #E8F0FE;\n",
              "      --fill-color: #1967D2;\n",
              "      --hover-bg-color: #E2EBFA;\n",
              "      --hover-fill-color: #174EA6;\n",
              "      --disabled-fill-color: #AAA;\n",
              "      --disabled-bg-color: #DDD;\n",
              "  }\n",
              "\n",
              "  [theme=dark] .colab-df-quickchart {\n",
              "      --bg-color: #3B4455;\n",
              "      --fill-color: #D2E3FC;\n",
              "      --hover-bg-color: #434B5C;\n",
              "      --hover-fill-color: #FFFFFF;\n",
              "      --disabled-bg-color: #3B4455;\n",
              "      --disabled-fill-color: #666;\n",
              "  }\n",
              "\n",
              "  .colab-df-quickchart {\n",
              "    background-color: var(--bg-color);\n",
              "    border: none;\n",
              "    border-radius: 50%;\n",
              "    cursor: pointer;\n",
              "    display: none;\n",
              "    fill: var(--fill-color);\n",
              "    height: 32px;\n",
              "    padding: 0;\n",
              "    width: 32px;\n",
              "  }\n",
              "\n",
              "  .colab-df-quickchart:hover {\n",
              "    background-color: var(--hover-bg-color);\n",
              "    box-shadow: 0 1px 2px rgba(60, 64, 67, 0.3), 0 1px 3px 1px rgba(60, 64, 67, 0.15);\n",
              "    fill: var(--button-hover-fill-color);\n",
              "  }\n",
              "\n",
              "  .colab-df-quickchart-complete:disabled,\n",
              "  .colab-df-quickchart-complete:disabled:hover {\n",
              "    background-color: var(--disabled-bg-color);\n",
              "    fill: var(--disabled-fill-color);\n",
              "    box-shadow: none;\n",
              "  }\n",
              "\n",
              "  .colab-df-spinner {\n",
              "    border: 2px solid var(--fill-color);\n",
              "    border-color: transparent;\n",
              "    border-bottom-color: var(--fill-color);\n",
              "    animation:\n",
              "      spin 1s steps(1) infinite;\n",
              "  }\n",
              "\n",
              "  @keyframes spin {\n",
              "    0% {\n",
              "      border-color: transparent;\n",
              "      border-bottom-color: var(--fill-color);\n",
              "      border-left-color: var(--fill-color);\n",
              "    }\n",
              "    20% {\n",
              "      border-color: transparent;\n",
              "      border-left-color: var(--fill-color);\n",
              "      border-top-color: var(--fill-color);\n",
              "    }\n",
              "    30% {\n",
              "      border-color: transparent;\n",
              "      border-left-color: var(--fill-color);\n",
              "      border-top-color: var(--fill-color);\n",
              "      border-right-color: var(--fill-color);\n",
              "    }\n",
              "    40% {\n",
              "      border-color: transparent;\n",
              "      border-right-color: var(--fill-color);\n",
              "      border-top-color: var(--fill-color);\n",
              "    }\n",
              "    60% {\n",
              "      border-color: transparent;\n",
              "      border-right-color: var(--fill-color);\n",
              "    }\n",
              "    80% {\n",
              "      border-color: transparent;\n",
              "      border-right-color: var(--fill-color);\n",
              "      border-bottom-color: var(--fill-color);\n",
              "    }\n",
              "    90% {\n",
              "      border-color: transparent;\n",
              "      border-bottom-color: var(--fill-color);\n",
              "    }\n",
              "  }\n",
              "</style>\n",
              "\n",
              "      <script>\n",
              "        async function quickchart(key) {\n",
              "          const quickchartButtonEl =\n",
              "            document.querySelector('#' + key + ' button');\n",
              "          quickchartButtonEl.disabled = true;  // To prevent multiple clicks.\n",
              "          quickchartButtonEl.classList.add('colab-df-spinner');\n",
              "          try {\n",
              "            const charts = await google.colab.kernel.invokeFunction(\n",
              "                'suggestCharts', [key], {});\n",
              "          } catch (error) {\n",
              "            console.error('Error during call to suggestCharts:', error);\n",
              "          }\n",
              "          quickchartButtonEl.classList.remove('colab-df-spinner');\n",
              "          quickchartButtonEl.classList.add('colab-df-quickchart-complete');\n",
              "        }\n",
              "        (() => {\n",
              "          let quickchartButtonEl =\n",
              "            document.querySelector('#df-38fbd1e8-5cd0-4eb7-85c3-76cf8e2be01d button');\n",
              "          quickchartButtonEl.style.display =\n",
              "            google.colab.kernel.accessAllowed ? 'block' : 'none';\n",
              "        })();\n",
              "      </script>\n",
              "    </div>\n",
              "\n",
              "    </div>\n",
              "  </div>\n"
            ],
            "application/vnd.google.colaboratory.intrinsic+json": {
              "type": "dataframe",
              "repr_error": "0"
            }
          },
          "metadata": {},
          "execution_count": 797
        }
      ]
    },
    {
      "cell_type": "markdown",
      "source": [
        "🔹 Você também pode filtrar coisas nulas ou não nulas. Como? Simplesmente digitando: \"E ai, ta nulo?\" ou \"E ai, não ta nulo?\""
      ],
      "metadata": {
        "id": "sUwJMwVX_eAb"
      }
    },
    {
      "cell_type": "code",
      "source": [
        "# Filtrar clientes onde o \"cliente_origem\" está ausente (NaN)\n",
        "df_receitas[df_receitas[\"cliente_origem\"].isna()].head(3).T"
      ],
      "metadata": {
        "id": "DshP2TFn_uuy",
        "colab": {
          "base_uri": "https://localhost:8080/",
          "height": 394
        },
        "outputId": "805447cd-fc89-44cc-8e19-007a70aaf98e"
      },
      "execution_count": null,
      "outputs": [
        {
          "output_type": "execute_result",
          "data": {
            "text/plain": [
              "                                             6                    9   \\\n",
              "atendimento_id                       2021-11-26           2022-01-28   \n",
              "receita_codigo                        879940546            889030774   \n",
              "venda_quantidade                              1                    1   \n",
              "venda_valor                              3266.0                300.0   \n",
              "cliente_id                            881736126            881735885   \n",
              "cliente_sexo                          Masculino             Feminino   \n",
              "cliente_nascimento_data     1939-09-13 00:00:00  1958-10-20 00:00:00   \n",
              "cliente_origem                              NaN                  NaN   \n",
              "profissional_especialidade    Cirurgia Plástica    Cirurgia Plástica   \n",
              "pagamento_data              2021-11-30 00:00:00  2022-01-28 00:00:00   \n",
              "pagamento_forma                             Pix                  Pix   \n",
              "\n",
              "                                             10  \n",
              "atendimento_id                       2022-02-03  \n",
              "receita_codigo                        881734405  \n",
              "venda_quantidade                              1  \n",
              "venda_valor                              1045.0  \n",
              "cliente_id                            881736166  \n",
              "cliente_sexo                           Feminino  \n",
              "cliente_nascimento_data     1979-04-29 00:00:00  \n",
              "cliente_origem                              NaN  \n",
              "profissional_especialidade    Cirurgia Plástica  \n",
              "pagamento_data              2022-02-07 00:00:00  \n",
              "pagamento_forma                             Pix  "
            ],
            "text/html": [
              "\n",
              "  <div id=\"df-edb2d70c-fb37-4f6c-8cc7-0e3be669a531\" class=\"colab-df-container\">\n",
              "    <div>\n",
              "<style scoped>\n",
              "    .dataframe tbody tr th:only-of-type {\n",
              "        vertical-align: middle;\n",
              "    }\n",
              "\n",
              "    .dataframe tbody tr th {\n",
              "        vertical-align: top;\n",
              "    }\n",
              "\n",
              "    .dataframe thead th {\n",
              "        text-align: right;\n",
              "    }\n",
              "</style>\n",
              "<table border=\"1\" class=\"dataframe\">\n",
              "  <thead>\n",
              "    <tr style=\"text-align: right;\">\n",
              "      <th></th>\n",
              "      <th>6</th>\n",
              "      <th>9</th>\n",
              "      <th>10</th>\n",
              "    </tr>\n",
              "  </thead>\n",
              "  <tbody>\n",
              "    <tr>\n",
              "      <th>atendimento_id</th>\n",
              "      <td>2021-11-26</td>\n",
              "      <td>2022-01-28</td>\n",
              "      <td>2022-02-03</td>\n",
              "    </tr>\n",
              "    <tr>\n",
              "      <th>receita_codigo</th>\n",
              "      <td>879940546</td>\n",
              "      <td>889030774</td>\n",
              "      <td>881734405</td>\n",
              "    </tr>\n",
              "    <tr>\n",
              "      <th>venda_quantidade</th>\n",
              "      <td>1</td>\n",
              "      <td>1</td>\n",
              "      <td>1</td>\n",
              "    </tr>\n",
              "    <tr>\n",
              "      <th>venda_valor</th>\n",
              "      <td>3266.0</td>\n",
              "      <td>300.0</td>\n",
              "      <td>1045.0</td>\n",
              "    </tr>\n",
              "    <tr>\n",
              "      <th>cliente_id</th>\n",
              "      <td>881736126</td>\n",
              "      <td>881735885</td>\n",
              "      <td>881736166</td>\n",
              "    </tr>\n",
              "    <tr>\n",
              "      <th>cliente_sexo</th>\n",
              "      <td>Masculino</td>\n",
              "      <td>Feminino</td>\n",
              "      <td>Feminino</td>\n",
              "    </tr>\n",
              "    <tr>\n",
              "      <th>cliente_nascimento_data</th>\n",
              "      <td>1939-09-13 00:00:00</td>\n",
              "      <td>1958-10-20 00:00:00</td>\n",
              "      <td>1979-04-29 00:00:00</td>\n",
              "    </tr>\n",
              "    <tr>\n",
              "      <th>cliente_origem</th>\n",
              "      <td>NaN</td>\n",
              "      <td>NaN</td>\n",
              "      <td>NaN</td>\n",
              "    </tr>\n",
              "    <tr>\n",
              "      <th>profissional_especialidade</th>\n",
              "      <td>Cirurgia Plástica</td>\n",
              "      <td>Cirurgia Plástica</td>\n",
              "      <td>Cirurgia Plástica</td>\n",
              "    </tr>\n",
              "    <tr>\n",
              "      <th>pagamento_data</th>\n",
              "      <td>2021-11-30 00:00:00</td>\n",
              "      <td>2022-01-28 00:00:00</td>\n",
              "      <td>2022-02-07 00:00:00</td>\n",
              "    </tr>\n",
              "    <tr>\n",
              "      <th>pagamento_forma</th>\n",
              "      <td>Pix</td>\n",
              "      <td>Pix</td>\n",
              "      <td>Pix</td>\n",
              "    </tr>\n",
              "  </tbody>\n",
              "</table>\n",
              "</div>\n",
              "    <div class=\"colab-df-buttons\">\n",
              "\n",
              "  <div class=\"colab-df-container\">\n",
              "    <button class=\"colab-df-convert\" onclick=\"convertToInteractive('df-edb2d70c-fb37-4f6c-8cc7-0e3be669a531')\"\n",
              "            title=\"Convert this dataframe to an interactive table.\"\n",
              "            style=\"display:none;\">\n",
              "\n",
              "  <svg xmlns=\"http://www.w3.org/2000/svg\" height=\"24px\" viewBox=\"0 -960 960 960\">\n",
              "    <path d=\"M120-120v-720h720v720H120Zm60-500h600v-160H180v160Zm220 220h160v-160H400v160Zm0 220h160v-160H400v160ZM180-400h160v-160H180v160Zm440 0h160v-160H620v160ZM180-180h160v-160H180v160Zm440 0h160v-160H620v160Z\"/>\n",
              "  </svg>\n",
              "    </button>\n",
              "\n",
              "  <style>\n",
              "    .colab-df-container {\n",
              "      display:flex;\n",
              "      gap: 12px;\n",
              "    }\n",
              "\n",
              "    .colab-df-convert {\n",
              "      background-color: #E8F0FE;\n",
              "      border: none;\n",
              "      border-radius: 50%;\n",
              "      cursor: pointer;\n",
              "      display: none;\n",
              "      fill: #1967D2;\n",
              "      height: 32px;\n",
              "      padding: 0 0 0 0;\n",
              "      width: 32px;\n",
              "    }\n",
              "\n",
              "    .colab-df-convert:hover {\n",
              "      background-color: #E2EBFA;\n",
              "      box-shadow: 0px 1px 2px rgba(60, 64, 67, 0.3), 0px 1px 3px 1px rgba(60, 64, 67, 0.15);\n",
              "      fill: #174EA6;\n",
              "    }\n",
              "\n",
              "    .colab-df-buttons div {\n",
              "      margin-bottom: 4px;\n",
              "    }\n",
              "\n",
              "    [theme=dark] .colab-df-convert {\n",
              "      background-color: #3B4455;\n",
              "      fill: #D2E3FC;\n",
              "    }\n",
              "\n",
              "    [theme=dark] .colab-df-convert:hover {\n",
              "      background-color: #434B5C;\n",
              "      box-shadow: 0px 1px 3px 1px rgba(0, 0, 0, 0.15);\n",
              "      filter: drop-shadow(0px 1px 2px rgba(0, 0, 0, 0.3));\n",
              "      fill: #FFFFFF;\n",
              "    }\n",
              "  </style>\n",
              "\n",
              "    <script>\n",
              "      const buttonEl =\n",
              "        document.querySelector('#df-edb2d70c-fb37-4f6c-8cc7-0e3be669a531 button.colab-df-convert');\n",
              "      buttonEl.style.display =\n",
              "        google.colab.kernel.accessAllowed ? 'block' : 'none';\n",
              "\n",
              "      async function convertToInteractive(key) {\n",
              "        const element = document.querySelector('#df-edb2d70c-fb37-4f6c-8cc7-0e3be669a531');\n",
              "        const dataTable =\n",
              "          await google.colab.kernel.invokeFunction('convertToInteractive',\n",
              "                                                    [key], {});\n",
              "        if (!dataTable) return;\n",
              "\n",
              "        const docLinkHtml = 'Like what you see? Visit the ' +\n",
              "          '<a target=\"_blank\" href=https://colab.research.google.com/notebooks/data_table.ipynb>data table notebook</a>'\n",
              "          + ' to learn more about interactive tables.';\n",
              "        element.innerHTML = '';\n",
              "        dataTable['output_type'] = 'display_data';\n",
              "        await google.colab.output.renderOutput(dataTable, element);\n",
              "        const docLink = document.createElement('div');\n",
              "        docLink.innerHTML = docLinkHtml;\n",
              "        element.appendChild(docLink);\n",
              "      }\n",
              "    </script>\n",
              "  </div>\n",
              "\n",
              "\n",
              "    <div id=\"df-dedc5319-3a75-4017-9b20-18ddfaee1b3c\">\n",
              "      <button class=\"colab-df-quickchart\" onclick=\"quickchart('df-dedc5319-3a75-4017-9b20-18ddfaee1b3c')\"\n",
              "                title=\"Suggest charts\"\n",
              "                style=\"display:none;\">\n",
              "\n",
              "<svg xmlns=\"http://www.w3.org/2000/svg\" height=\"24px\"viewBox=\"0 0 24 24\"\n",
              "     width=\"24px\">\n",
              "    <g>\n",
              "        <path d=\"M19 3H5c-1.1 0-2 .9-2 2v14c0 1.1.9 2 2 2h14c1.1 0 2-.9 2-2V5c0-1.1-.9-2-2-2zM9 17H7v-7h2v7zm4 0h-2V7h2v10zm4 0h-2v-4h2v4z\"/>\n",
              "    </g>\n",
              "</svg>\n",
              "      </button>\n",
              "\n",
              "<style>\n",
              "  .colab-df-quickchart {\n",
              "      --bg-color: #E8F0FE;\n",
              "      --fill-color: #1967D2;\n",
              "      --hover-bg-color: #E2EBFA;\n",
              "      --hover-fill-color: #174EA6;\n",
              "      --disabled-fill-color: #AAA;\n",
              "      --disabled-bg-color: #DDD;\n",
              "  }\n",
              "\n",
              "  [theme=dark] .colab-df-quickchart {\n",
              "      --bg-color: #3B4455;\n",
              "      --fill-color: #D2E3FC;\n",
              "      --hover-bg-color: #434B5C;\n",
              "      --hover-fill-color: #FFFFFF;\n",
              "      --disabled-bg-color: #3B4455;\n",
              "      --disabled-fill-color: #666;\n",
              "  }\n",
              "\n",
              "  .colab-df-quickchart {\n",
              "    background-color: var(--bg-color);\n",
              "    border: none;\n",
              "    border-radius: 50%;\n",
              "    cursor: pointer;\n",
              "    display: none;\n",
              "    fill: var(--fill-color);\n",
              "    height: 32px;\n",
              "    padding: 0;\n",
              "    width: 32px;\n",
              "  }\n",
              "\n",
              "  .colab-df-quickchart:hover {\n",
              "    background-color: var(--hover-bg-color);\n",
              "    box-shadow: 0 1px 2px rgba(60, 64, 67, 0.3), 0 1px 3px 1px rgba(60, 64, 67, 0.15);\n",
              "    fill: var(--button-hover-fill-color);\n",
              "  }\n",
              "\n",
              "  .colab-df-quickchart-complete:disabled,\n",
              "  .colab-df-quickchart-complete:disabled:hover {\n",
              "    background-color: var(--disabled-bg-color);\n",
              "    fill: var(--disabled-fill-color);\n",
              "    box-shadow: none;\n",
              "  }\n",
              "\n",
              "  .colab-df-spinner {\n",
              "    border: 2px solid var(--fill-color);\n",
              "    border-color: transparent;\n",
              "    border-bottom-color: var(--fill-color);\n",
              "    animation:\n",
              "      spin 1s steps(1) infinite;\n",
              "  }\n",
              "\n",
              "  @keyframes spin {\n",
              "    0% {\n",
              "      border-color: transparent;\n",
              "      border-bottom-color: var(--fill-color);\n",
              "      border-left-color: var(--fill-color);\n",
              "    }\n",
              "    20% {\n",
              "      border-color: transparent;\n",
              "      border-left-color: var(--fill-color);\n",
              "      border-top-color: var(--fill-color);\n",
              "    }\n",
              "    30% {\n",
              "      border-color: transparent;\n",
              "      border-left-color: var(--fill-color);\n",
              "      border-top-color: var(--fill-color);\n",
              "      border-right-color: var(--fill-color);\n",
              "    }\n",
              "    40% {\n",
              "      border-color: transparent;\n",
              "      border-right-color: var(--fill-color);\n",
              "      border-top-color: var(--fill-color);\n",
              "    }\n",
              "    60% {\n",
              "      border-color: transparent;\n",
              "      border-right-color: var(--fill-color);\n",
              "    }\n",
              "    80% {\n",
              "      border-color: transparent;\n",
              "      border-right-color: var(--fill-color);\n",
              "      border-bottom-color: var(--fill-color);\n",
              "    }\n",
              "    90% {\n",
              "      border-color: transparent;\n",
              "      border-bottom-color: var(--fill-color);\n",
              "    }\n",
              "  }\n",
              "</style>\n",
              "\n",
              "      <script>\n",
              "        async function quickchart(key) {\n",
              "          const quickchartButtonEl =\n",
              "            document.querySelector('#' + key + ' button');\n",
              "          quickchartButtonEl.disabled = true;  // To prevent multiple clicks.\n",
              "          quickchartButtonEl.classList.add('colab-df-spinner');\n",
              "          try {\n",
              "            const charts = await google.colab.kernel.invokeFunction(\n",
              "                'suggestCharts', [key], {});\n",
              "          } catch (error) {\n",
              "            console.error('Error during call to suggestCharts:', error);\n",
              "          }\n",
              "          quickchartButtonEl.classList.remove('colab-df-spinner');\n",
              "          quickchartButtonEl.classList.add('colab-df-quickchart-complete');\n",
              "        }\n",
              "        (() => {\n",
              "          let quickchartButtonEl =\n",
              "            document.querySelector('#df-dedc5319-3a75-4017-9b20-18ddfaee1b3c button');\n",
              "          quickchartButtonEl.style.display =\n",
              "            google.colab.kernel.accessAllowed ? 'block' : 'none';\n",
              "        })();\n",
              "      </script>\n",
              "    </div>\n",
              "\n",
              "    </div>\n",
              "  </div>\n"
            ],
            "application/vnd.google.colaboratory.intrinsic+json": {
              "type": "dataframe",
              "summary": "{\n  \"name\": \"df_receitas[df_receitas[\\\"cliente_origem\\\"]\",\n  \"rows\": 11,\n  \"fields\": [\n    {\n      \"column\": 6,\n      \"properties\": {\n        \"dtype\": \"string\",\n        \"num_unique_values\": 10,\n        \"samples\": [\n          \"2021-11-30 00:00:00\",\n          \"879940546\",\n          \"Masculino\"\n        ],\n        \"semantic_type\": \"\",\n        \"description\": \"\"\n      }\n    },\n    {\n      \"column\": 9,\n      \"properties\": {\n        \"dtype\": \"string\",\n        \"num_unique_values\": 10,\n        \"samples\": [\n          \"2022-01-28 00:00:00\",\n          \"889030774\",\n          \"Feminino\"\n        ],\n        \"semantic_type\": \"\",\n        \"description\": \"\"\n      }\n    },\n    {\n      \"column\": 10,\n      \"properties\": {\n        \"dtype\": \"string\",\n        \"num_unique_values\": 10,\n        \"samples\": [\n          \"2022-02-07 00:00:00\",\n          \"881734405\",\n          \"Feminino\"\n        ],\n        \"semantic_type\": \"\",\n        \"description\": \"\"\n      }\n    }\n  ]\n}"
            }
          },
          "metadata": {},
          "execution_count": 798
        }
      ]
    },
    {
      "cell_type": "markdown",
      "source": [
        "Repare que agora além da conjugação da função .head(), também conjuguei o .T, que faz com que a tabela fique transversa. Isso é útil para ver várias colunas"
      ],
      "metadata": {
        "id": "oTauHAtsARf2"
      }
    },
    {
      "cell_type": "code",
      "source": [
        "# Filtrar apenas os registros onde \"cliente_sexo\" NÃO é nulo\n",
        "df_receitas[df_receitas[\"cliente_sexo\"].notna()].head(3).T"
      ],
      "metadata": {
        "id": "hTp2-zLf_wos",
        "colab": {
          "base_uri": "https://localhost:8080/",
          "height": 394
        },
        "outputId": "972acb8a-6c50-4a11-c483-f3b0cd9c4698"
      },
      "execution_count": null,
      "outputs": [
        {
          "output_type": "execute_result",
          "data": {
            "text/plain": [
              "                                              0                     1  \\\n",
              "atendimento_id                       2021-10-18            2021-10-18   \n",
              "receita_codigo                        879941033             879941033   \n",
              "venda_quantidade                              1                     1   \n",
              "venda_valor                              5989.0                5989.0   \n",
              "cliente_id                            e\\aez\\eae  881736038aeeaeeaaeea   \n",
              "cliente_sexo                           Feminino              Feminino   \n",
              "cliente_nascimento_data     1975-01-01 00:00:00   1975-01-01 00:00:00   \n",
              "cliente_origem                        Indicação             Indicação   \n",
              "profissional_especialidade    Cirurgia Plástica     Cirurgia Plástica   \n",
              "pagamento_data              2021-10-21 00:00:00   2021-10-21 00:00:00   \n",
              "pagamento_forma                         TED/DOC               TED/DOC   \n",
              "\n",
              "                                              2  \n",
              "atendimento_id                       2021-10-18  \n",
              "receita_codigo                        879941033  \n",
              "venda_quantidade                              1  \n",
              "venda_valor                              5989.0  \n",
              "cliente_id                       881736038aeeae  \n",
              "cliente_sexo                           Feminino  \n",
              "cliente_nascimento_data     1975-01-01 00:00:00  \n",
              "cliente_origem                        Indicação  \n",
              "profissional_especialidade    Cirurgia Plástica  \n",
              "pagamento_data              2021-10-21 00:00:00  \n",
              "pagamento_forma                         TED/DOC  "
            ],
            "text/html": [
              "\n",
              "  <div id=\"df-f478a4aa-fd0c-453e-a374-e64a13e438c0\" class=\"colab-df-container\">\n",
              "    <div>\n",
              "<style scoped>\n",
              "    .dataframe tbody tr th:only-of-type {\n",
              "        vertical-align: middle;\n",
              "    }\n",
              "\n",
              "    .dataframe tbody tr th {\n",
              "        vertical-align: top;\n",
              "    }\n",
              "\n",
              "    .dataframe thead th {\n",
              "        text-align: right;\n",
              "    }\n",
              "</style>\n",
              "<table border=\"1\" class=\"dataframe\">\n",
              "  <thead>\n",
              "    <tr style=\"text-align: right;\">\n",
              "      <th></th>\n",
              "      <th>0</th>\n",
              "      <th>1</th>\n",
              "      <th>2</th>\n",
              "    </tr>\n",
              "  </thead>\n",
              "  <tbody>\n",
              "    <tr>\n",
              "      <th>atendimento_id</th>\n",
              "      <td>2021-10-18</td>\n",
              "      <td>2021-10-18</td>\n",
              "      <td>2021-10-18</td>\n",
              "    </tr>\n",
              "    <tr>\n",
              "      <th>receita_codigo</th>\n",
              "      <td>879941033</td>\n",
              "      <td>879941033</td>\n",
              "      <td>879941033</td>\n",
              "    </tr>\n",
              "    <tr>\n",
              "      <th>venda_quantidade</th>\n",
              "      <td>1</td>\n",
              "      <td>1</td>\n",
              "      <td>1</td>\n",
              "    </tr>\n",
              "    <tr>\n",
              "      <th>venda_valor</th>\n",
              "      <td>5989.0</td>\n",
              "      <td>5989.0</td>\n",
              "      <td>5989.0</td>\n",
              "    </tr>\n",
              "    <tr>\n",
              "      <th>cliente_id</th>\n",
              "      <td>e\\aez\\eae</td>\n",
              "      <td>881736038aeeaeeaaeea</td>\n",
              "      <td>881736038aeeae</td>\n",
              "    </tr>\n",
              "    <tr>\n",
              "      <th>cliente_sexo</th>\n",
              "      <td>Feminino</td>\n",
              "      <td>Feminino</td>\n",
              "      <td>Feminino</td>\n",
              "    </tr>\n",
              "    <tr>\n",
              "      <th>cliente_nascimento_data</th>\n",
              "      <td>1975-01-01 00:00:00</td>\n",
              "      <td>1975-01-01 00:00:00</td>\n",
              "      <td>1975-01-01 00:00:00</td>\n",
              "    </tr>\n",
              "    <tr>\n",
              "      <th>cliente_origem</th>\n",
              "      <td>Indicação</td>\n",
              "      <td>Indicação</td>\n",
              "      <td>Indicação</td>\n",
              "    </tr>\n",
              "    <tr>\n",
              "      <th>profissional_especialidade</th>\n",
              "      <td>Cirurgia Plástica</td>\n",
              "      <td>Cirurgia Plástica</td>\n",
              "      <td>Cirurgia Plástica</td>\n",
              "    </tr>\n",
              "    <tr>\n",
              "      <th>pagamento_data</th>\n",
              "      <td>2021-10-21 00:00:00</td>\n",
              "      <td>2021-10-21 00:00:00</td>\n",
              "      <td>2021-10-21 00:00:00</td>\n",
              "    </tr>\n",
              "    <tr>\n",
              "      <th>pagamento_forma</th>\n",
              "      <td>TED/DOC</td>\n",
              "      <td>TED/DOC</td>\n",
              "      <td>TED/DOC</td>\n",
              "    </tr>\n",
              "  </tbody>\n",
              "</table>\n",
              "</div>\n",
              "    <div class=\"colab-df-buttons\">\n",
              "\n",
              "  <div class=\"colab-df-container\">\n",
              "    <button class=\"colab-df-convert\" onclick=\"convertToInteractive('df-f478a4aa-fd0c-453e-a374-e64a13e438c0')\"\n",
              "            title=\"Convert this dataframe to an interactive table.\"\n",
              "            style=\"display:none;\">\n",
              "\n",
              "  <svg xmlns=\"http://www.w3.org/2000/svg\" height=\"24px\" viewBox=\"0 -960 960 960\">\n",
              "    <path d=\"M120-120v-720h720v720H120Zm60-500h600v-160H180v160Zm220 220h160v-160H400v160Zm0 220h160v-160H400v160ZM180-400h160v-160H180v160Zm440 0h160v-160H620v160ZM180-180h160v-160H180v160Zm440 0h160v-160H620v160Z\"/>\n",
              "  </svg>\n",
              "    </button>\n",
              "\n",
              "  <style>\n",
              "    .colab-df-container {\n",
              "      display:flex;\n",
              "      gap: 12px;\n",
              "    }\n",
              "\n",
              "    .colab-df-convert {\n",
              "      background-color: #E8F0FE;\n",
              "      border: none;\n",
              "      border-radius: 50%;\n",
              "      cursor: pointer;\n",
              "      display: none;\n",
              "      fill: #1967D2;\n",
              "      height: 32px;\n",
              "      padding: 0 0 0 0;\n",
              "      width: 32px;\n",
              "    }\n",
              "\n",
              "    .colab-df-convert:hover {\n",
              "      background-color: #E2EBFA;\n",
              "      box-shadow: 0px 1px 2px rgba(60, 64, 67, 0.3), 0px 1px 3px 1px rgba(60, 64, 67, 0.15);\n",
              "      fill: #174EA6;\n",
              "    }\n",
              "\n",
              "    .colab-df-buttons div {\n",
              "      margin-bottom: 4px;\n",
              "    }\n",
              "\n",
              "    [theme=dark] .colab-df-convert {\n",
              "      background-color: #3B4455;\n",
              "      fill: #D2E3FC;\n",
              "    }\n",
              "\n",
              "    [theme=dark] .colab-df-convert:hover {\n",
              "      background-color: #434B5C;\n",
              "      box-shadow: 0px 1px 3px 1px rgba(0, 0, 0, 0.15);\n",
              "      filter: drop-shadow(0px 1px 2px rgba(0, 0, 0, 0.3));\n",
              "      fill: #FFFFFF;\n",
              "    }\n",
              "  </style>\n",
              "\n",
              "    <script>\n",
              "      const buttonEl =\n",
              "        document.querySelector('#df-f478a4aa-fd0c-453e-a374-e64a13e438c0 button.colab-df-convert');\n",
              "      buttonEl.style.display =\n",
              "        google.colab.kernel.accessAllowed ? 'block' : 'none';\n",
              "\n",
              "      async function convertToInteractive(key) {\n",
              "        const element = document.querySelector('#df-f478a4aa-fd0c-453e-a374-e64a13e438c0');\n",
              "        const dataTable =\n",
              "          await google.colab.kernel.invokeFunction('convertToInteractive',\n",
              "                                                    [key], {});\n",
              "        if (!dataTable) return;\n",
              "\n",
              "        const docLinkHtml = 'Like what you see? Visit the ' +\n",
              "          '<a target=\"_blank\" href=https://colab.research.google.com/notebooks/data_table.ipynb>data table notebook</a>'\n",
              "          + ' to learn more about interactive tables.';\n",
              "        element.innerHTML = '';\n",
              "        dataTable['output_type'] = 'display_data';\n",
              "        await google.colab.output.renderOutput(dataTable, element);\n",
              "        const docLink = document.createElement('div');\n",
              "        docLink.innerHTML = docLinkHtml;\n",
              "        element.appendChild(docLink);\n",
              "      }\n",
              "    </script>\n",
              "  </div>\n",
              "\n",
              "\n",
              "    <div id=\"df-6af60905-bc80-4805-995c-cd0f8224ffc2\">\n",
              "      <button class=\"colab-df-quickchart\" onclick=\"quickchart('df-6af60905-bc80-4805-995c-cd0f8224ffc2')\"\n",
              "                title=\"Suggest charts\"\n",
              "                style=\"display:none;\">\n",
              "\n",
              "<svg xmlns=\"http://www.w3.org/2000/svg\" height=\"24px\"viewBox=\"0 0 24 24\"\n",
              "     width=\"24px\">\n",
              "    <g>\n",
              "        <path d=\"M19 3H5c-1.1 0-2 .9-2 2v14c0 1.1.9 2 2 2h14c1.1 0 2-.9 2-2V5c0-1.1-.9-2-2-2zM9 17H7v-7h2v7zm4 0h-2V7h2v10zm4 0h-2v-4h2v4z\"/>\n",
              "    </g>\n",
              "</svg>\n",
              "      </button>\n",
              "\n",
              "<style>\n",
              "  .colab-df-quickchart {\n",
              "      --bg-color: #E8F0FE;\n",
              "      --fill-color: #1967D2;\n",
              "      --hover-bg-color: #E2EBFA;\n",
              "      --hover-fill-color: #174EA6;\n",
              "      --disabled-fill-color: #AAA;\n",
              "      --disabled-bg-color: #DDD;\n",
              "  }\n",
              "\n",
              "  [theme=dark] .colab-df-quickchart {\n",
              "      --bg-color: #3B4455;\n",
              "      --fill-color: #D2E3FC;\n",
              "      --hover-bg-color: #434B5C;\n",
              "      --hover-fill-color: #FFFFFF;\n",
              "      --disabled-bg-color: #3B4455;\n",
              "      --disabled-fill-color: #666;\n",
              "  }\n",
              "\n",
              "  .colab-df-quickchart {\n",
              "    background-color: var(--bg-color);\n",
              "    border: none;\n",
              "    border-radius: 50%;\n",
              "    cursor: pointer;\n",
              "    display: none;\n",
              "    fill: var(--fill-color);\n",
              "    height: 32px;\n",
              "    padding: 0;\n",
              "    width: 32px;\n",
              "  }\n",
              "\n",
              "  .colab-df-quickchart:hover {\n",
              "    background-color: var(--hover-bg-color);\n",
              "    box-shadow: 0 1px 2px rgba(60, 64, 67, 0.3), 0 1px 3px 1px rgba(60, 64, 67, 0.15);\n",
              "    fill: var(--button-hover-fill-color);\n",
              "  }\n",
              "\n",
              "  .colab-df-quickchart-complete:disabled,\n",
              "  .colab-df-quickchart-complete:disabled:hover {\n",
              "    background-color: var(--disabled-bg-color);\n",
              "    fill: var(--disabled-fill-color);\n",
              "    box-shadow: none;\n",
              "  }\n",
              "\n",
              "  .colab-df-spinner {\n",
              "    border: 2px solid var(--fill-color);\n",
              "    border-color: transparent;\n",
              "    border-bottom-color: var(--fill-color);\n",
              "    animation:\n",
              "      spin 1s steps(1) infinite;\n",
              "  }\n",
              "\n",
              "  @keyframes spin {\n",
              "    0% {\n",
              "      border-color: transparent;\n",
              "      border-bottom-color: var(--fill-color);\n",
              "      border-left-color: var(--fill-color);\n",
              "    }\n",
              "    20% {\n",
              "      border-color: transparent;\n",
              "      border-left-color: var(--fill-color);\n",
              "      border-top-color: var(--fill-color);\n",
              "    }\n",
              "    30% {\n",
              "      border-color: transparent;\n",
              "      border-left-color: var(--fill-color);\n",
              "      border-top-color: var(--fill-color);\n",
              "      border-right-color: var(--fill-color);\n",
              "    }\n",
              "    40% {\n",
              "      border-color: transparent;\n",
              "      border-right-color: var(--fill-color);\n",
              "      border-top-color: var(--fill-color);\n",
              "    }\n",
              "    60% {\n",
              "      border-color: transparent;\n",
              "      border-right-color: var(--fill-color);\n",
              "    }\n",
              "    80% {\n",
              "      border-color: transparent;\n",
              "      border-right-color: var(--fill-color);\n",
              "      border-bottom-color: var(--fill-color);\n",
              "    }\n",
              "    90% {\n",
              "      border-color: transparent;\n",
              "      border-bottom-color: var(--fill-color);\n",
              "    }\n",
              "  }\n",
              "</style>\n",
              "\n",
              "      <script>\n",
              "        async function quickchart(key) {\n",
              "          const quickchartButtonEl =\n",
              "            document.querySelector('#' + key + ' button');\n",
              "          quickchartButtonEl.disabled = true;  // To prevent multiple clicks.\n",
              "          quickchartButtonEl.classList.add('colab-df-spinner');\n",
              "          try {\n",
              "            const charts = await google.colab.kernel.invokeFunction(\n",
              "                'suggestCharts', [key], {});\n",
              "          } catch (error) {\n",
              "            console.error('Error during call to suggestCharts:', error);\n",
              "          }\n",
              "          quickchartButtonEl.classList.remove('colab-df-spinner');\n",
              "          quickchartButtonEl.classList.add('colab-df-quickchart-complete');\n",
              "        }\n",
              "        (() => {\n",
              "          let quickchartButtonEl =\n",
              "            document.querySelector('#df-6af60905-bc80-4805-995c-cd0f8224ffc2 button');\n",
              "          quickchartButtonEl.style.display =\n",
              "            google.colab.kernel.accessAllowed ? 'block' : 'none';\n",
              "        })();\n",
              "      </script>\n",
              "    </div>\n",
              "\n",
              "    </div>\n",
              "  </div>\n"
            ],
            "application/vnd.google.colaboratory.intrinsic+json": {
              "type": "dataframe",
              "summary": "{\n  \"name\": \"df_receitas[df_receitas[\\\"cliente_sexo\\\"]\",\n  \"rows\": 11,\n  \"fields\": [\n    {\n      \"column\": 0,\n      \"properties\": {\n        \"dtype\": \"string\",\n        \"num_unique_values\": 11,\n        \"samples\": [\n          \"Feminino\",\n          \"2021-10-18\",\n          \"2021-10-21 00:00:00\"\n        ],\n        \"semantic_type\": \"\",\n        \"description\": \"\"\n      }\n    },\n    {\n      \"column\": 1,\n      \"properties\": {\n        \"dtype\": \"string\",\n        \"num_unique_values\": 11,\n        \"samples\": [\n          \"Feminino\",\n          \"2021-10-18\",\n          \"2021-10-21 00:00:00\"\n        ],\n        \"semantic_type\": \"\",\n        \"description\": \"\"\n      }\n    },\n    {\n      \"column\": 2,\n      \"properties\": {\n        \"dtype\": \"string\",\n        \"num_unique_values\": 11,\n        \"samples\": [\n          \"Feminino\",\n          \"2021-10-18\",\n          \"2021-10-21 00:00:00\"\n        ],\n        \"semantic_type\": \"\",\n        \"description\": \"\"\n      }\n    }\n  ]\n}"
            }
          },
          "metadata": {},
          "execution_count": 801
        }
      ]
    },
    {
      "cell_type": "markdown",
      "source": [
        "🔹 Por fim, uma última necessidade de filtragem pode ser a filtragem por data."
      ],
      "metadata": {
        "id": "gQfVcUGIAXPK"
      }
    },
    {
      "cell_type": "code",
      "source": [
        "# Filtrar vendas realizadas entre 01/01/2023 e 30/06/2023\n",
        "\n",
        "df_receitas[df_receitas[\"data_lancamento\"].between(\"2023-01-01\", \"2023-06-30\")].head(3).T"
      ],
      "metadata": {
        "colab": {
          "base_uri": "https://localhost:8080/",
          "height": 426
        },
        "id": "A8T-AVhGAX_p",
        "outputId": "4022dd0c-9df6-434d-83c0-75dad11750c0"
      },
      "execution_count": null,
      "outputs": [
        {
          "output_type": "execute_result",
          "data": {
            "text/plain": [
              "                                            234                  235  \\\n",
              "atendimento_id                   44929881736500       44931881735885   \n",
              "data_lancamento             2023-01-03 00:00:00  2023-01-05 00:00:00   \n",
              "receita_codigo                        879941095            881734405   \n",
              "venda_quantidade                              1                    1   \n",
              "venda_valor                             20217.4                750.0   \n",
              "cliente_id                            881736500            881735885   \n",
              "cliente_sexo                           Feminino             Feminino   \n",
              "cliente_nascimento_data     1971-05-12 00:00:00  1958-10-20 00:00:00   \n",
              "cliente_origem                        Indicação                  NaN   \n",
              "profissional_especialidade    Cirurgia Plástica    Cirurgia Plástica   \n",
              "pagamento_data              2023-01-10 00:00:00  2023-01-05 00:00:00   \n",
              "pagamento_forma                             Pix                  Pix   \n",
              "\n",
              "                                            236  \n",
              "atendimento_id                   44931881736507  \n",
              "data_lancamento             2023-01-05 00:00:00  \n",
              "receita_codigo                        881732900  \n",
              "venda_quantidade                              1  \n",
              "venda_valor                               300.0  \n",
              "cliente_id                            881736507  \n",
              "cliente_sexo                      Não informado  \n",
              "cliente_nascimento_data     1966-12-17 00:00:00  \n",
              "cliente_origem                        Indicação  \n",
              "profissional_especialidade    Cirurgia Plástica  \n",
              "pagamento_data              2023-01-05 00:00:00  \n",
              "pagamento_forma                             Pix  "
            ],
            "text/html": [
              "\n",
              "  <div id=\"df-3811370e-ea52-4f7b-ba8a-50cdc39c8695\" class=\"colab-df-container\">\n",
              "    <div>\n",
              "<style scoped>\n",
              "    .dataframe tbody tr th:only-of-type {\n",
              "        vertical-align: middle;\n",
              "    }\n",
              "\n",
              "    .dataframe tbody tr th {\n",
              "        vertical-align: top;\n",
              "    }\n",
              "\n",
              "    .dataframe thead th {\n",
              "        text-align: right;\n",
              "    }\n",
              "</style>\n",
              "<table border=\"1\" class=\"dataframe\">\n",
              "  <thead>\n",
              "    <tr style=\"text-align: right;\">\n",
              "      <th></th>\n",
              "      <th>234</th>\n",
              "      <th>235</th>\n",
              "      <th>236</th>\n",
              "    </tr>\n",
              "  </thead>\n",
              "  <tbody>\n",
              "    <tr>\n",
              "      <th>atendimento_id</th>\n",
              "      <td>44929881736500</td>\n",
              "      <td>44931881735885</td>\n",
              "      <td>44931881736507</td>\n",
              "    </tr>\n",
              "    <tr>\n",
              "      <th>data_lancamento</th>\n",
              "      <td>2023-01-03 00:00:00</td>\n",
              "      <td>2023-01-05 00:00:00</td>\n",
              "      <td>2023-01-05 00:00:00</td>\n",
              "    </tr>\n",
              "    <tr>\n",
              "      <th>receita_codigo</th>\n",
              "      <td>879941095</td>\n",
              "      <td>881734405</td>\n",
              "      <td>881732900</td>\n",
              "    </tr>\n",
              "    <tr>\n",
              "      <th>venda_quantidade</th>\n",
              "      <td>1</td>\n",
              "      <td>1</td>\n",
              "      <td>1</td>\n",
              "    </tr>\n",
              "    <tr>\n",
              "      <th>venda_valor</th>\n",
              "      <td>20217.4</td>\n",
              "      <td>750.0</td>\n",
              "      <td>300.0</td>\n",
              "    </tr>\n",
              "    <tr>\n",
              "      <th>cliente_id</th>\n",
              "      <td>881736500</td>\n",
              "      <td>881735885</td>\n",
              "      <td>881736507</td>\n",
              "    </tr>\n",
              "    <tr>\n",
              "      <th>cliente_sexo</th>\n",
              "      <td>Feminino</td>\n",
              "      <td>Feminino</td>\n",
              "      <td>Não informado</td>\n",
              "    </tr>\n",
              "    <tr>\n",
              "      <th>cliente_nascimento_data</th>\n",
              "      <td>1971-05-12 00:00:00</td>\n",
              "      <td>1958-10-20 00:00:00</td>\n",
              "      <td>1966-12-17 00:00:00</td>\n",
              "    </tr>\n",
              "    <tr>\n",
              "      <th>cliente_origem</th>\n",
              "      <td>Indicação</td>\n",
              "      <td>NaN</td>\n",
              "      <td>Indicação</td>\n",
              "    </tr>\n",
              "    <tr>\n",
              "      <th>profissional_especialidade</th>\n",
              "      <td>Cirurgia Plástica</td>\n",
              "      <td>Cirurgia Plástica</td>\n",
              "      <td>Cirurgia Plástica</td>\n",
              "    </tr>\n",
              "    <tr>\n",
              "      <th>pagamento_data</th>\n",
              "      <td>2023-01-10 00:00:00</td>\n",
              "      <td>2023-01-05 00:00:00</td>\n",
              "      <td>2023-01-05 00:00:00</td>\n",
              "    </tr>\n",
              "    <tr>\n",
              "      <th>pagamento_forma</th>\n",
              "      <td>Pix</td>\n",
              "      <td>Pix</td>\n",
              "      <td>Pix</td>\n",
              "    </tr>\n",
              "  </tbody>\n",
              "</table>\n",
              "</div>\n",
              "    <div class=\"colab-df-buttons\">\n",
              "\n",
              "  <div class=\"colab-df-container\">\n",
              "    <button class=\"colab-df-convert\" onclick=\"convertToInteractive('df-3811370e-ea52-4f7b-ba8a-50cdc39c8695')\"\n",
              "            title=\"Convert this dataframe to an interactive table.\"\n",
              "            style=\"display:none;\">\n",
              "\n",
              "  <svg xmlns=\"http://www.w3.org/2000/svg\" height=\"24px\" viewBox=\"0 -960 960 960\">\n",
              "    <path d=\"M120-120v-720h720v720H120Zm60-500h600v-160H180v160Zm220 220h160v-160H400v160Zm0 220h160v-160H400v160ZM180-400h160v-160H180v160Zm440 0h160v-160H620v160ZM180-180h160v-160H180v160Zm440 0h160v-160H620v160Z\"/>\n",
              "  </svg>\n",
              "    </button>\n",
              "\n",
              "  <style>\n",
              "    .colab-df-container {\n",
              "      display:flex;\n",
              "      gap: 12px;\n",
              "    }\n",
              "\n",
              "    .colab-df-convert {\n",
              "      background-color: #E8F0FE;\n",
              "      border: none;\n",
              "      border-radius: 50%;\n",
              "      cursor: pointer;\n",
              "      display: none;\n",
              "      fill: #1967D2;\n",
              "      height: 32px;\n",
              "      padding: 0 0 0 0;\n",
              "      width: 32px;\n",
              "    }\n",
              "\n",
              "    .colab-df-convert:hover {\n",
              "      background-color: #E2EBFA;\n",
              "      box-shadow: 0px 1px 2px rgba(60, 64, 67, 0.3), 0px 1px 3px 1px rgba(60, 64, 67, 0.15);\n",
              "      fill: #174EA6;\n",
              "    }\n",
              "\n",
              "    .colab-df-buttons div {\n",
              "      margin-bottom: 4px;\n",
              "    }\n",
              "\n",
              "    [theme=dark] .colab-df-convert {\n",
              "      background-color: #3B4455;\n",
              "      fill: #D2E3FC;\n",
              "    }\n",
              "\n",
              "    [theme=dark] .colab-df-convert:hover {\n",
              "      background-color: #434B5C;\n",
              "      box-shadow: 0px 1px 3px 1px rgba(0, 0, 0, 0.15);\n",
              "      filter: drop-shadow(0px 1px 2px rgba(0, 0, 0, 0.3));\n",
              "      fill: #FFFFFF;\n",
              "    }\n",
              "  </style>\n",
              "\n",
              "    <script>\n",
              "      const buttonEl =\n",
              "        document.querySelector('#df-3811370e-ea52-4f7b-ba8a-50cdc39c8695 button.colab-df-convert');\n",
              "      buttonEl.style.display =\n",
              "        google.colab.kernel.accessAllowed ? 'block' : 'none';\n",
              "\n",
              "      async function convertToInteractive(key) {\n",
              "        const element = document.querySelector('#df-3811370e-ea52-4f7b-ba8a-50cdc39c8695');\n",
              "        const dataTable =\n",
              "          await google.colab.kernel.invokeFunction('convertToInteractive',\n",
              "                                                    [key], {});\n",
              "        if (!dataTable) return;\n",
              "\n",
              "        const docLinkHtml = 'Like what you see? Visit the ' +\n",
              "          '<a target=\"_blank\" href=https://colab.research.google.com/notebooks/data_table.ipynb>data table notebook</a>'\n",
              "          + ' to learn more about interactive tables.';\n",
              "        element.innerHTML = '';\n",
              "        dataTable['output_type'] = 'display_data';\n",
              "        await google.colab.output.renderOutput(dataTable, element);\n",
              "        const docLink = document.createElement('div');\n",
              "        docLink.innerHTML = docLinkHtml;\n",
              "        element.appendChild(docLink);\n",
              "      }\n",
              "    </script>\n",
              "  </div>\n",
              "\n",
              "\n",
              "    <div id=\"df-4fe86141-d8f2-48da-91f9-084857addcbf\">\n",
              "      <button class=\"colab-df-quickchart\" onclick=\"quickchart('df-4fe86141-d8f2-48da-91f9-084857addcbf')\"\n",
              "                title=\"Suggest charts\"\n",
              "                style=\"display:none;\">\n",
              "\n",
              "<svg xmlns=\"http://www.w3.org/2000/svg\" height=\"24px\"viewBox=\"0 0 24 24\"\n",
              "     width=\"24px\">\n",
              "    <g>\n",
              "        <path d=\"M19 3H5c-1.1 0-2 .9-2 2v14c0 1.1.9 2 2 2h14c1.1 0 2-.9 2-2V5c0-1.1-.9-2-2-2zM9 17H7v-7h2v7zm4 0h-2V7h2v10zm4 0h-2v-4h2v4z\"/>\n",
              "    </g>\n",
              "</svg>\n",
              "      </button>\n",
              "\n",
              "<style>\n",
              "  .colab-df-quickchart {\n",
              "      --bg-color: #E8F0FE;\n",
              "      --fill-color: #1967D2;\n",
              "      --hover-bg-color: #E2EBFA;\n",
              "      --hover-fill-color: #174EA6;\n",
              "      --disabled-fill-color: #AAA;\n",
              "      --disabled-bg-color: #DDD;\n",
              "  }\n",
              "\n",
              "  [theme=dark] .colab-df-quickchart {\n",
              "      --bg-color: #3B4455;\n",
              "      --fill-color: #D2E3FC;\n",
              "      --hover-bg-color: #434B5C;\n",
              "      --hover-fill-color: #FFFFFF;\n",
              "      --disabled-bg-color: #3B4455;\n",
              "      --disabled-fill-color: #666;\n",
              "  }\n",
              "\n",
              "  .colab-df-quickchart {\n",
              "    background-color: var(--bg-color);\n",
              "    border: none;\n",
              "    border-radius: 50%;\n",
              "    cursor: pointer;\n",
              "    display: none;\n",
              "    fill: var(--fill-color);\n",
              "    height: 32px;\n",
              "    padding: 0;\n",
              "    width: 32px;\n",
              "  }\n",
              "\n",
              "  .colab-df-quickchart:hover {\n",
              "    background-color: var(--hover-bg-color);\n",
              "    box-shadow: 0 1px 2px rgba(60, 64, 67, 0.3), 0 1px 3px 1px rgba(60, 64, 67, 0.15);\n",
              "    fill: var(--button-hover-fill-color);\n",
              "  }\n",
              "\n",
              "  .colab-df-quickchart-complete:disabled,\n",
              "  .colab-df-quickchart-complete:disabled:hover {\n",
              "    background-color: var(--disabled-bg-color);\n",
              "    fill: var(--disabled-fill-color);\n",
              "    box-shadow: none;\n",
              "  }\n",
              "\n",
              "  .colab-df-spinner {\n",
              "    border: 2px solid var(--fill-color);\n",
              "    border-color: transparent;\n",
              "    border-bottom-color: var(--fill-color);\n",
              "    animation:\n",
              "      spin 1s steps(1) infinite;\n",
              "  }\n",
              "\n",
              "  @keyframes spin {\n",
              "    0% {\n",
              "      border-color: transparent;\n",
              "      border-bottom-color: var(--fill-color);\n",
              "      border-left-color: var(--fill-color);\n",
              "    }\n",
              "    20% {\n",
              "      border-color: transparent;\n",
              "      border-left-color: var(--fill-color);\n",
              "      border-top-color: var(--fill-color);\n",
              "    }\n",
              "    30% {\n",
              "      border-color: transparent;\n",
              "      border-left-color: var(--fill-color);\n",
              "      border-top-color: var(--fill-color);\n",
              "      border-right-color: var(--fill-color);\n",
              "    }\n",
              "    40% {\n",
              "      border-color: transparent;\n",
              "      border-right-color: var(--fill-color);\n",
              "      border-top-color: var(--fill-color);\n",
              "    }\n",
              "    60% {\n",
              "      border-color: transparent;\n",
              "      border-right-color: var(--fill-color);\n",
              "    }\n",
              "    80% {\n",
              "      border-color: transparent;\n",
              "      border-right-color: var(--fill-color);\n",
              "      border-bottom-color: var(--fill-color);\n",
              "    }\n",
              "    90% {\n",
              "      border-color: transparent;\n",
              "      border-bottom-color: var(--fill-color);\n",
              "    }\n",
              "  }\n",
              "</style>\n",
              "\n",
              "      <script>\n",
              "        async function quickchart(key) {\n",
              "          const quickchartButtonEl =\n",
              "            document.querySelector('#' + key + ' button');\n",
              "          quickchartButtonEl.disabled = true;  // To prevent multiple clicks.\n",
              "          quickchartButtonEl.classList.add('colab-df-spinner');\n",
              "          try {\n",
              "            const charts = await google.colab.kernel.invokeFunction(\n",
              "                'suggestCharts', [key], {});\n",
              "          } catch (error) {\n",
              "            console.error('Error during call to suggestCharts:', error);\n",
              "          }\n",
              "          quickchartButtonEl.classList.remove('colab-df-spinner');\n",
              "          quickchartButtonEl.classList.add('colab-df-quickchart-complete');\n",
              "        }\n",
              "        (() => {\n",
              "          let quickchartButtonEl =\n",
              "            document.querySelector('#df-4fe86141-d8f2-48da-91f9-084857addcbf button');\n",
              "          quickchartButtonEl.style.display =\n",
              "            google.colab.kernel.accessAllowed ? 'block' : 'none';\n",
              "        })();\n",
              "      </script>\n",
              "    </div>\n",
              "\n",
              "    </div>\n",
              "  </div>\n"
            ],
            "application/vnd.google.colaboratory.intrinsic+json": {
              "type": "dataframe",
              "summary": "{\n  \"name\": \"df_receitas[df_receitas[\\\"data_lancamento\\\"]\",\n  \"rows\": 12,\n  \"fields\": [\n    {\n      \"column\": 234,\n      \"properties\": {\n        \"dtype\": \"string\",\n        \"num_unique_values\": 12,\n        \"samples\": [\n          \"2023-01-10 00:00:00\",\n          \"Cirurgia Pl\\u00e1stica\",\n          \"44929881736500\"\n        ],\n        \"semantic_type\": \"\",\n        \"description\": \"\"\n      }\n    },\n    {\n      \"column\": 235,\n      \"properties\": {\n        \"dtype\": \"string\",\n        \"num_unique_values\": 10,\n        \"samples\": [\n          \"Cirurgia Pl\\u00e1stica\",\n          \"2023-01-05 00:00:00\",\n          \"881735885\"\n        ],\n        \"semantic_type\": \"\",\n        \"description\": \"\"\n      }\n    },\n    {\n      \"column\": 236,\n      \"properties\": {\n        \"dtype\": \"string\",\n        \"num_unique_values\": 11,\n        \"samples\": [\n          \"881736507\",\n          \"44931881736507\",\n          \"Cirurgia Pl\\u00e1stica\"\n        ],\n        \"semantic_type\": \"\",\n        \"description\": \"\"\n      }\n    }\n  ]\n}"
            }
          },
          "metadata": {},
          "execution_count": 844
        }
      ]
    },
    {
      "cell_type": "markdown",
      "source": [
        "### 💡 Deduplicar linhas"
      ],
      "metadata": {
        "id": "cDWW8cztW7RQ"
      }
    },
    {
      "cell_type": "markdown",
      "source": [
        "Em planilhas, a alteração é com mouse (low-code, lembra da nossa aula de ferramentas?) Aqui é com o teclado high-code)!"
      ],
      "metadata": {
        "id": "16w_b-IWJXYM"
      }
    },
    {
      "cell_type": "markdown",
      "source": [
        "![ea2121fdd.png](data:image/png;base64,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)"
      ],
      "metadata": {
        "id": "iMVkMD2zJt2V"
      }
    },
    {
      "cell_type": "markdown",
      "source": [
        "🔹 Antes de remover, podemos verificar se há duplicatas usando .duplicated()."
      ],
      "metadata": {
        "id": "pyIFc2y3KqMX"
      }
    },
    {
      "cell_type": "code",
      "source": [
        "# Verifica se há linhas duplicadas (considerando todas as colunas)\n",
        "df_receitas.duplicated().sum()"
      ],
      "metadata": {
        "id": "EDGk3cSUW8cC",
        "colab": {
          "base_uri": "https://localhost:8080/"
        },
        "outputId": "9750d11d-0a5b-44e0-c283-432a74189136"
      },
      "execution_count": null,
      "outputs": [
        {
          "output_type": "execute_result",
          "data": {
            "text/plain": [
              "np.int64(0)"
            ]
          },
          "metadata": {},
          "execution_count": 845
        }
      ]
    },
    {
      "cell_type": "code",
      "source": [
        "# Exibir apenas as linhas duplicadas\n",
        "df_receitas[df_receitas.duplicated()]"
      ],
      "metadata": {
        "id": "Crg7UgDIKxyT",
        "colab": {
          "base_uri": "https://localhost:8080/"
        },
        "outputId": "8fed6efd-0a79-4441-ab3e-de496478c708"
      },
      "execution_count": null,
      "outputs": [
        {
          "output_type": "execute_result",
          "data": {
            "text/plain": [
              "Empty DataFrame\n",
              "Columns: [atendimento_id, data_lancamento, receita_codigo, venda_quantidade, venda_valor, cliente_id, cliente_sexo, cliente_nascimento_data, cliente_origem, profissional_especialidade, pagamento_data, pagamento_forma]\n",
              "Index: []"
            ],
            "text/html": [
              "\n",
              "  <div id=\"df-924d36cf-1e09-4465-b20e-ec5f523ad986\" class=\"colab-df-container\">\n",
              "    <div>\n",
              "<style scoped>\n",
              "    .dataframe tbody tr th:only-of-type {\n",
              "        vertical-align: middle;\n",
              "    }\n",
              "\n",
              "    .dataframe tbody tr th {\n",
              "        vertical-align: top;\n",
              "    }\n",
              "\n",
              "    .dataframe thead th {\n",
              "        text-align: right;\n",
              "    }\n",
              "</style>\n",
              "<table border=\"1\" class=\"dataframe\">\n",
              "  <thead>\n",
              "    <tr style=\"text-align: right;\">\n",
              "      <th></th>\n",
              "      <th>atendimento_id</th>\n",
              "      <th>data_lancamento</th>\n",
              "      <th>receita_codigo</th>\n",
              "      <th>venda_quantidade</th>\n",
              "      <th>venda_valor</th>\n",
              "      <th>cliente_id</th>\n",
              "      <th>cliente_sexo</th>\n",
              "      <th>cliente_nascimento_data</th>\n",
              "      <th>cliente_origem</th>\n",
              "      <th>profissional_especialidade</th>\n",
              "      <th>pagamento_data</th>\n",
              "      <th>pagamento_forma</th>\n",
              "    </tr>\n",
              "  </thead>\n",
              "  <tbody>\n",
              "  </tbody>\n",
              "</table>\n",
              "</div>\n",
              "    <div class=\"colab-df-buttons\">\n",
              "\n",
              "  <div class=\"colab-df-container\">\n",
              "    <button class=\"colab-df-convert\" onclick=\"convertToInteractive('df-924d36cf-1e09-4465-b20e-ec5f523ad986')\"\n",
              "            title=\"Convert this dataframe to an interactive table.\"\n",
              "            style=\"display:none;\">\n",
              "\n",
              "  <svg xmlns=\"http://www.w3.org/2000/svg\" height=\"24px\" viewBox=\"0 -960 960 960\">\n",
              "    <path d=\"M120-120v-720h720v720H120Zm60-500h600v-160H180v160Zm220 220h160v-160H400v160Zm0 220h160v-160H400v160ZM180-400h160v-160H180v160Zm440 0h160v-160H620v160ZM180-180h160v-160H180v160Zm440 0h160v-160H620v160Z\"/>\n",
              "  </svg>\n",
              "    </button>\n",
              "\n",
              "  <style>\n",
              "    .colab-df-container {\n",
              "      display:flex;\n",
              "      gap: 12px;\n",
              "    }\n",
              "\n",
              "    .colab-df-convert {\n",
              "      background-color: #E8F0FE;\n",
              "      border: none;\n",
              "      border-radius: 50%;\n",
              "      cursor: pointer;\n",
              "      display: none;\n",
              "      fill: #1967D2;\n",
              "      height: 32px;\n",
              "      padding: 0 0 0 0;\n",
              "      width: 32px;\n",
              "    }\n",
              "\n",
              "    .colab-df-convert:hover {\n",
              "      background-color: #E2EBFA;\n",
              "      box-shadow: 0px 1px 2px rgba(60, 64, 67, 0.3), 0px 1px 3px 1px rgba(60, 64, 67, 0.15);\n",
              "      fill: #174EA6;\n",
              "    }\n",
              "\n",
              "    .colab-df-buttons div {\n",
              "      margin-bottom: 4px;\n",
              "    }\n",
              "\n",
              "    [theme=dark] .colab-df-convert {\n",
              "      background-color: #3B4455;\n",
              "      fill: #D2E3FC;\n",
              "    }\n",
              "\n",
              "    [theme=dark] .colab-df-convert:hover {\n",
              "      background-color: #434B5C;\n",
              "      box-shadow: 0px 1px 3px 1px rgba(0, 0, 0, 0.15);\n",
              "      filter: drop-shadow(0px 1px 2px rgba(0, 0, 0, 0.3));\n",
              "      fill: #FFFFFF;\n",
              "    }\n",
              "  </style>\n",
              "\n",
              "    <script>\n",
              "      const buttonEl =\n",
              "        document.querySelector('#df-924d36cf-1e09-4465-b20e-ec5f523ad986 button.colab-df-convert');\n",
              "      buttonEl.style.display =\n",
              "        google.colab.kernel.accessAllowed ? 'block' : 'none';\n",
              "\n",
              "      async function convertToInteractive(key) {\n",
              "        const element = document.querySelector('#df-924d36cf-1e09-4465-b20e-ec5f523ad986');\n",
              "        const dataTable =\n",
              "          await google.colab.kernel.invokeFunction('convertToInteractive',\n",
              "                                                    [key], {});\n",
              "        if (!dataTable) return;\n",
              "\n",
              "        const docLinkHtml = 'Like what you see? Visit the ' +\n",
              "          '<a target=\"_blank\" href=https://colab.research.google.com/notebooks/data_table.ipynb>data table notebook</a>'\n",
              "          + ' to learn more about interactive tables.';\n",
              "        element.innerHTML = '';\n",
              "        dataTable['output_type'] = 'display_data';\n",
              "        await google.colab.output.renderOutput(dataTable, element);\n",
              "        const docLink = document.createElement('div');\n",
              "        docLink.innerHTML = docLinkHtml;\n",
              "        element.appendChild(docLink);\n",
              "      }\n",
              "    </script>\n",
              "  </div>\n",
              "\n",
              "\n",
              "    </div>\n",
              "  </div>\n"
            ],
            "application/vnd.google.colaboratory.intrinsic+json": {
              "type": "dataframe",
              "repr_error": "Out of range float values are not JSON compliant: nan"
            }
          },
          "metadata": {},
          "execution_count": 846
        }
      ]
    },
    {
      "cell_type": "markdown",
      "source": [
        "🔹 Após verificar, é possível remover. Consideremos remover duplicadas da tabela Dimensão (Lembra disso?)."
      ],
      "metadata": {
        "id": "fIYC5tfSK6dx"
      }
    },
    {
      "cell_type": "code",
      "source": [
        "df_receitas_tipo.columns"
      ],
      "metadata": {
        "colab": {
          "base_uri": "https://localhost:8080/"
        },
        "id": "Cjs-PbCvLGiv",
        "outputId": "41a10f47-d7ac-43a5-cd2b-cb1ced23c6b0"
      },
      "execution_count": null,
      "outputs": [
        {
          "output_type": "execute_result",
          "data": {
            "text/plain": [
              "Index(['Código', 'Categoria', 'Nome', 'Imposto', 'Valor Sugerido',\n",
              "       'Custo Unitário', 'Porcentagem Clínica'],\n",
              "      dtype='object')"
            ]
          },
          "metadata": {},
          "execution_count": 847
        }
      ]
    },
    {
      "cell_type": "code",
      "source": [
        "df_receitas_tipo.shape"
      ],
      "metadata": {
        "colab": {
          "base_uri": "https://localhost:8080/"
        },
        "id": "d2gGkWupLRwd",
        "outputId": "9e7bcce9-b140-461b-be65-6522af6cb999"
      },
      "execution_count": null,
      "outputs": [
        {
          "output_type": "execute_result",
          "data": {
            "text/plain": [
              "(374, 7)"
            ]
          },
          "metadata": {},
          "execution_count": 848
        }
      ]
    },
    {
      "cell_type": "code",
      "source": [
        "# Remover duplicatas e manter apenas a primeira ocorrência\n",
        "df_receitas_tipo = df_receitas_tipo.drop_duplicates()"
      ],
      "metadata": {
        "id": "Om7JkDLCLJkR"
      },
      "execution_count": null,
      "outputs": []
    },
    {
      "cell_type": "code",
      "source": [
        "df_receitas_tipo.shape"
      ],
      "metadata": {
        "colab": {
          "base_uri": "https://localhost:8080/"
        },
        "id": "gRIOzao_LXUU",
        "outputId": "a8416560-5441-47cf-9c65-01a2e4656a88"
      },
      "execution_count": null,
      "outputs": [
        {
          "output_type": "execute_result",
          "data": {
            "text/plain": [
              "(374, 7)"
            ]
          },
          "metadata": {},
          "execution_count": 850
        }
      ]
    },
    {
      "cell_type": "markdown",
      "source": [
        "🔹 Mas, nesse caso, queremos remover apenas as duplicadas considerando o atributo código, que é a nossa chave primária (Lembra disso?)"
      ],
      "metadata": {
        "id": "fkyAPp0tLc_M"
      }
    },
    {
      "cell_type": "code",
      "source": [
        "# Remover duplicatas considerando apenas a coluna \"cliente_id\"\n",
        "df_receitas_tipo = df_receitas_tipo.drop_duplicates(subset=[\"Código\"])"
      ],
      "metadata": {
        "id": "48YOB-OeLm3p"
      },
      "execution_count": null,
      "outputs": []
    },
    {
      "cell_type": "markdown",
      "source": [
        "🔹 Você ainda pode passar outros parâmetros super interessantes para manipulação de dados, por exemplo, o parâmetro keep, para manter ocorrências condicionais. Veja a documentação (sempre consulte-a!)"
      ],
      "metadata": {
        "id": "7OTdUDihLutZ"
      }
    },
    {
      "cell_type": "code",
      "source": [
        "# Mantendo apenas a última ocorrência\n",
        "df_receitas_tipo = df_receitas_tipo.drop_duplicates(subset=[\"Código\"], keep=\"last\")"
      ],
      "metadata": {
        "id": "Nb3qsUzfMikh"
      },
      "execution_count": null,
      "outputs": []
    },
    {
      "cell_type": "markdown",
      "source": [
        "[Clique para acessar a documentação](https://pandas.pydata.org/docs/reference/api/pandas.DataFrame.drop_duplicates.html)"
      ],
      "metadata": {
        "id": "qjnIJ3QBL6ip"
      }
    }
  ]
}