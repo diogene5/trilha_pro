{
  "nbformat": 4,
  "nbformat_minor": 0,
  "metadata": {
    "colab": {
      "provenance": [],
      "authorship_tag": "ABX9TyPsNU4HFG20Txivvb5OJOev",
      "include_colab_link": true
    },
    "kernelspec": {
      "name": "python3",
      "display_name": "Python 3"
    },
    "language_info": {
      "name": "python"
    }
  },
  "cells": [
    {
      "cell_type": "markdown",
      "metadata": {
        "id": "view-in-github",
        "colab_type": "text"
      },
      "source": [
        "<a href=\"https://colab.research.google.com/github/gregrodrigues22/trilha_pro/blob/main/Curso%2003%20-%20Dashboard%20Python/Introdu%C3%A7%C3%A3o_ao_Plotly.ipynb\" target=\"_parent\"><img src=\"https://colab.research.google.com/assets/colab-badge.svg\" alt=\"Open In Colab\"/></a>"
      ]
    },
    {
      "cell_type": "markdown",
      "source": [
        "#Setup"
      ],
      "metadata": {
        "id": "lHLT2zLF8F3m"
      }
    },
    {
      "cell_type": "markdown",
      "source": [
        "#Instalações de bibliotecas"
      ],
      "metadata": {
        "id": "V5TnVMUy9Uvn"
      }
    },
    {
      "cell_type": "code",
      "execution_count": 2,
      "metadata": {
        "id": "zzxZG4Dg4L6a"
      },
      "outputs": [],
      "source": [
        "!pip install streamlit --quiet"
      ]
    },
    {
      "cell_type": "code",
      "source": [
        "!pip install pycloudflared --quiet"
      ],
      "metadata": {
        "id": "P9yuI6KQ9OJX"
      },
      "execution_count": 22,
      "outputs": []
    },
    {
      "cell_type": "markdown",
      "source": [
        "##Importação de bibliotecas instaladas"
      ],
      "metadata": {
        "id": "Vnv3i-Sl9cHA"
      }
    },
    {
      "cell_type": "markdown",
      "source": [
        "###Biliotecas de manipulação de dados"
      ],
      "metadata": {
        "id": "GcW-iB_a9iJN"
      }
    },
    {
      "cell_type": "code",
      "source": [
        "import pandas as pd\n",
        "import numpy as np"
      ],
      "metadata": {
        "id": "crk5WXep8DaV"
      },
      "execution_count": 18,
      "outputs": []
    },
    {
      "cell_type": "markdown",
      "source": [
        "###Biliotecas de plotagem de gráficos"
      ],
      "metadata": {
        "id": "hOQy0_4z9m5j"
      }
    },
    {
      "cell_type": "code",
      "source": [
        "import plotly.express as px"
      ],
      "metadata": {
        "id": "Uttuyo1r9mDj"
      },
      "execution_count": 17,
      "outputs": []
    },
    {
      "cell_type": "markdown",
      "source": [
        "###Biblioteca de sistema"
      ],
      "metadata": {
        "id": "M-4czxq19tkr"
      }
    },
    {
      "cell_type": "code",
      "source": [
        "import io"
      ],
      "metadata": {
        "id": "QKOYAwFF9vkS"
      },
      "execution_count": 19,
      "outputs": []
    },
    {
      "cell_type": "markdown",
      "source": [
        "###Biliotecas de dashboard"
      ],
      "metadata": {
        "id": "9h4Kq6CQ9lHr"
      }
    },
    {
      "cell_type": "code",
      "source": [
        "import streamlit as st"
      ],
      "metadata": {
        "id": "Md04Ru_99qB7"
      },
      "execution_count": null,
      "outputs": []
    },
    {
      "cell_type": "markdown",
      "source": [
        "#App"
      ],
      "metadata": {
        "id": "09V3g1xG-Tac"
      }
    },
    {
      "cell_type": "code",
      "source": [
        "%%writefile app.py\n",
        "import streamlit as st, pandas as pd\n",
        "st.set_page_config(page_title=\"Meu App\", layout=\"wide\")\n",
        "st.title(\"🚀 App Streamlit publicado via GitHub\")\n",
        "st.write(\"Edite `app.py` e faça `git push` para atualizar.\")\n",
        "st.write(\"Exemplo de DF:\")\n",
        "st.dataframe(pd.DataFrame({\"A\":[1,2,3],\"B\":[4,5,6]}))"
      ],
      "metadata": {
        "colab": {
          "base_uri": "https://localhost:8080/"
        },
        "id": "0uoy_UNEAMwd",
        "outputId": "b78bf680-469a-491c-bfa7-9828a20ea247"
      },
      "execution_count": 31,
      "outputs": [
        {
          "output_type": "stream",
          "name": "stdout",
          "text": [
            "Overwriting app.py\n"
          ]
        }
      ]
    },
    {
      "cell_type": "code",
      "source": [
        "%%writefile requirements.txt\n",
        "streamlit==1.36.0\n",
        "pandas==2.2.2\n",
        "plotly==5.23.0"
      ],
      "metadata": {
        "colab": {
          "base_uri": "https://localhost:8080/"
        },
        "id": "Rv9sTK-hAN31",
        "outputId": "b2aeafdd-64a7-4ec3-bf1c-bbd0385d36d4"
      },
      "execution_count": 32,
      "outputs": [
        {
          "output_type": "stream",
          "name": "stdout",
          "text": [
            "Writing requirements.txt\n"
          ]
        }
      ]
    }
  ]
}