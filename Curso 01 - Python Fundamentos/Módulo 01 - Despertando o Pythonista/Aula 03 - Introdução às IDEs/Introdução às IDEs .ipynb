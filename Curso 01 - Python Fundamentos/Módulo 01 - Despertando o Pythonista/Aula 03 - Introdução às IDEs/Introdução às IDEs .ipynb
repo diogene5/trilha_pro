{
  "nbformat": 4,
  "nbformat_minor": 0,
  "metadata": {
    "colab": {
      "provenance": [],
      "collapsed_sections": [
        "wjFOZwNZkGZi",
        "U2QFW-N0kbtc",
        "CX1K-hgPlI3K",
        "wasUwj19o8w0"
      ],
      "toc_visible": true,
      "authorship_tag": "ABX9TyOaFCsB7HDEl8pE10vEdTKK",
      "include_colab_link": true
    },
    "kernelspec": {
      "name": "python3",
      "display_name": "Python 3"
    },
    "language_info": {
      "name": "python"
    }
  },
  "cells": [
    {
      "cell_type": "markdown",
      "metadata": {
        "id": "view-in-github",
        "colab_type": "text"
      },
      "source": [
        "<a href=\"https://colab.research.google.com/github/gregrodrigues22/trilha_pro/blob/main/Curso%2001%20-%20Python%20Fundamentos/M%C3%B3dulo%2001%20-%20Despertando%20o%20Pythonista/Aula%2003%20-%20Introdu%C3%A7%C3%A3o%20%C3%A0s%20IDEs/Introdu%C3%A7%C3%A3o%20%C3%A0s%20IDEs%20.ipynb\" target=\"_parent\"><img src=\"https://colab.research.google.com/assets/colab-badge.svg\" alt=\"Open In Colab\"/></a>"
      ]
    },
    {
      "cell_type": "markdown",
      "source": [
        "#💡 Introdução às IDEs"
      ],
      "metadata": {
        "id": "znxw1GUij73w"
      }
    },
    {
      "cell_type": "markdown",
      "source": [
        "## 🟢 O que é uma IDE?"
      ],
      "metadata": {
        "id": "wjFOZwNZkGZi"
      }
    },
    {
      "cell_type": "markdown",
      "source": [
        "IDE (Integrated Development Environment) é um ambiente completo que integra vários componentes."
      ],
      "metadata": {
        "id": "Y-P3IEcfkLV6"
      }
    },
    {
      "cell_type": "markdown",
      "source": [
        "| Componente                 | Função                                                                |\n",
        "| -------------------------- | --------------------------------------------------------------------- |\n",
        "| **Editor de Código**       | Escreve e edita código com recursos inteligentes (autocompletar, cor) |\n",
        "| **Depurador**              | Encontra e corrige erros no código                                    |\n",
        "| **Terminal Integrado**     | Executa comandos direto na IDE                                        |\n",
        "| **Gerenciador de Projeto** | Organiza arquivos e bibliotecas                                       |\n",
        "| **Controle de Versão**     | Usa Git para versionar código                                         |\n",
        "| **Gerenciador de Pacotes** | Instala e atualiza bibliotecas do projeto                             |\n"
      ],
      "metadata": {
        "id": "zBUlQW0qk1Ie"
      }
    },
    {
      "cell_type": "markdown",
      "source": [
        "🧰 Metáfora: Uma IDE é como uma caixa de ferramentas do programador. Em vez de usar um martelo e uma chave de fenda separados, você tem tudo num lugar só."
      ],
      "metadata": {
        "id": "YAEiL0oDkVRL"
      }
    },
    {
      "cell_type": "markdown",
      "source": [
        "## 📅 Antes das IDEs"
      ],
      "metadata": {
        "id": "U2QFW-N0kbtc"
      }
    },
    {
      "cell_type": "markdown",
      "source": [
        "Antes, programava-se com:\n",
        "* Editor de texto (ex: Notepad)\n",
        "* Código era compilado manualmente\n",
        "* Erros exigiam abrir tudo de novo → processo lento e trabalhoso\n",
        "\n",
        "💡 A Borland, em 1983, revolucionou esse processo com o Turbo Pascal. A Microsoft lançou o Visual Basic em 1991, considerada a primeira IDE moderna."
      ],
      "metadata": {
        "id": "GHkl8s_LkcHF"
      }
    },
    {
      "cell_type": "markdown",
      "source": [
        "## 🧪 Ambientes mais usados em Dados"
      ],
      "metadata": {
        "id": "CX1K-hgPlI3K"
      }
    },
    {
      "cell_type": "markdown",
      "source": [
        "Segundo o StackOverflow (https://stackoverflow.com/questions), os ambientes de desenvolvimento mais utilizados são os seguintes:"
      ],
      "metadata": {
        "id": "hKLUkKfKn6__"
      }
    },
    {
      "cell_type": "markdown",
      "source": [
        "![imagem4-60.webp](data:image/webp;base64,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)"
      ],
      "metadata": {
        "id": "ewRXvp2jnmV8"
      }
    },
    {
      "cell_type": "markdown",
      "source": [
        "🔹 **Anaconda + Jupyter Notebook**"
      ],
      "metadata": {
        "id": "07kdR5a6ohDq"
      }
    },
    {
      "cell_type": "markdown",
      "source": [
        "* Ferramenta offline e robusta\n",
        "* Permite gerenciar ambientes virtuais\n",
        "* Vem com bibliotecas de dados já instaladas\n",
        "* Ideal para controle local, ensino e experimentação"
      ],
      "metadata": {
        "id": "SNZqMHj0ojel"
      }
    },
    {
      "cell_type": "markdown",
      "source": [
        "**🔹 Google Colab**"
      ],
      "metadata": {
        "id": "oYsmiiuZoXBd"
      }
    },
    {
      "cell_type": "markdown",
      "source": [
        "Baseada no Jupyter Notebook, mas hospedada na nuvem.\n",
        "* Ambiente online e gratuito\n",
        "* Usa notebooks interativos\n",
        "* Ideal para iniciar sem precisar instalar nada\n",
        "* Permite usar GPU gratuita, compartilhar notebooks facilmente"
      ],
      "metadata": {
        "id": "oKidTXHFoZ1a"
      }
    },
    {
      "cell_type": "markdown",
      "source": [
        "**🔹 Visual Studio Code (VS Code)**"
      ],
      "metadata": {
        "id": "7SFgrD_iopED"
      }
    },
    {
      "cell_type": "markdown",
      "source": [
        "* Editor de código moderno, leve e personalizável\n",
        "* Suporte a Python e outras linguagens via extensões\n",
        "* Integração com Git, terminal, debug visual\n",
        "* Ideal para projetos profissionais, pipelines de dados, engenharia"
      ],
      "metadata": {
        "id": "dXgcm0Hkor35"
      }
    },
    {
      "cell_type": "markdown",
      "source": [
        "## 🖥️ Ambiente de escolha"
      ],
      "metadata": {
        "id": "6Js4yWGKVpxx"
      }
    },
    {
      "cell_type": "markdown",
      "source": [
        "Assim como em \"Planilhas Google\" você pode criar uma planilha, e como em \"Documentos Google\" pode-se criar um documento de texto, no Colaboratory você tem um notebook. Esse, por exemplo é um notebook e todas as aulas serão dadas na interface do Google Colab."
      ],
      "metadata": {
        "id": "642HPRZdVqp1"
      }
    },
    {
      "cell_type": "markdown",
      "source": [
        "**A título de curiosidade:**\n",
        "\n",
        "A diferença mais relevante entre esse ambiente de programação e os outros é que esse é apenas interpretado, enquanto os outros costumam ser compilados para, então, serem interpretados. Para o nosso objetivo, isso não faz muita diferença. Mas na prática, o compilador tem vantagem por ser mais rápido. Em contra partida, os códigos sem compilador costumam ser mais facilmente corrigidos.\n",
        "\n",
        "Até esse ponto, você só se deparou com textos aqui no Colaboratory, mas da mesma forma você pode escrever código. Isso acontece porque tudo o que se faz aqui é escrito em ambientes chamados células, que se dividem em células de texto e células de código (como você pode ver no topo do notebook, pode-se criar células \"CODE\" e células \"TEXT\"). Isso facilita, e muito, a nossa vida!\n",
        "\n",
        "Inclusive, se você abrir para editar as células de texto, vai ver que dentro delas as cores das palavras são definidas em HTML (igual a gente fazia com depoimento no orkut, lembra?), que é uma outra linguagem.\n",
        "\n",
        "Assim, o Colaboratory interpreta uma célula por vez, o que o torna bastante interativo e fácil de usar!"
      ],
      "metadata": {
        "id": "9rRptxxgV_pT"
      }
    },
    {
      "cell_type": "markdown",
      "source": [
        "## 📚 Referências"
      ],
      "metadata": {
        "id": "wasUwj19o8w0"
      }
    },
    {
      "cell_type": "markdown",
      "source": [
        "* García, S. (2021). IDE (Integrated Development Environment): What It Is and Why You Should Use One. GeeksforGeeks. Disponível em: https://www.geeksforgeeks.org/ide-integrated-development-environment-what-it-is-and-why-you-should-use-one/. Acesso em: 2 set. 2024.\n",
        "\n",
        "* Haddad, M. (2022). Top 5 Integrated Development Environments (IDEs) for Software Development. TechRadar. Disponível em: https://www.techradar.com/news/best-ide. Acesso em: 2 set. 2024.\n",
        "\n",
        "* Anaconda, Inc. (n.d.). What is Anaconda?. Anaconda. Disponível em: https://www.anaconda.com/products/individual. Acesso em: 2 set. 2024.\n",
        "\n",
        "* Jupyter Project. (n.d.). Project Jupyter. Jupyter. Disponível em: https://jupyter.org/. Acesso em: 2 set. 2024.\n",
        "\n",
        "* Miller, R. (2023). A Beginner’s Guide to Jupyter Notebook. Towards Data Science. Disponível em: https://towardsdatascience.com/a-beginners-guide-to-jupyter-notebook-8b64b5d89ed6. Acesso em: 2 set. 2024.\n",
        "\n",
        "* Google. (n.d.). Google Colaboratory. Google. Disponível em: https://colab.research.google.com/. Acesso em: 2 set. 2024.\n",
        "\n",
        "* Chen, J. (2022). An Introduction to Google Colab for Beginners. Medium. Disponível em: https://medium.com/@johnchen/an-introduction-to-google-colab-for-beginners-5dd3a3d12baf. Acesso em: 2 set. 2024.\n",
        "\n",
        "* Microsoft. (n.d.). Visual Studio Code Documentation. Microsoft. Disponível em: https://code.visualstudio.com/docs. Acesso em: 2 set. 2024.\n",
        "\n",
        "* Fitzpatrick, J. (2023). Getting Started with Visual Studio Code. DigitalOcean. Disponível em: https://www.digitalocean.com/community/tutorials/getting-started-with-visual-studio-code. Acesso em: 2 set. 2024.\n",
        "\n",
        "* Turek, J. (2022). Visual Studio Code for Beginners: The Ultimate Guide. Stack Abuse. Disponível em: https://stackabuse.com/visual-studio-code-for-beginners-the-ultimate-guide/. Acesso em: 2 set. 2024.\n",
        "\n"
      ],
      "metadata": {
        "id": "fSLFzR-HpAv1"
      }
    }
  ]
}