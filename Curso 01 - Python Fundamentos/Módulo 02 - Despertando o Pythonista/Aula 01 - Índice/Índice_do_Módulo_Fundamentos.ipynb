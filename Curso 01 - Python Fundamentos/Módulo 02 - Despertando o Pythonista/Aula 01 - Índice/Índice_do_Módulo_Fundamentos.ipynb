{
  "nbformat": 4,
  "nbformat_minor": 0,
  "metadata": {
    "colab": {
      "provenance": [],
      "collapsed_sections": [
        "ROOiIZlzWbEg",
        "gq-pv3xjRjYs",
        "2MO-TWM-SP1s",
        "lSHe3rJaSaDJ",
        "bOuMWCaySdFX",
        "qI4NQUySSjQ5",
        "jFGo2P5cKZA3",
        "0EAmoPAvKn07",
        "RWyUsQYuLBQv",
        "6IJpeWrdMoiB"
      ],
      "toc_visible": true
    },
    "kernelspec": {
      "name": "python3",
      "display_name": "Python 3"
    },
    "language_info": {
      "name": "python"
    }
  },
  "cells": [
    {
      "cell_type": "markdown",
      "source": [
        "#🧠 Sobre o Módulo de Fundamentos"
      ],
      "metadata": {
        "id": "rUysHug-J-sY"
      }
    },
    {
      "cell_type": "markdown",
      "source": [
        "O mundo tecnológico praticamente já não admite quem não saiba pelo menos um pouquinho de Python. As maiores demandas em linguagem de programação e os maiores retornos financeiros se concentram nos profissinais cujo conhecimento abrange essa linguagem. Além disso, ela é frequentemente ensinada em cursos de lógica, devido à simplicidade da sua sintaxe. Assim, para você que nunca teve contato com nenhuma linguagem de programação, está começando pelo lugar certo! Se não for o seu caso, e você já tiver alguma experiência com programação, tudo bem. Python vai te devolver toda aquela motivação pela área de *programming*.\n",
        "\n",
        "  As principais aplicações de Python se concentram em Inteligência Artificial e Aprendizado de Máquina (Machine Learning – ML), mas esse módulo tem o intuito de apresentar e desmistificar a sintaxe básica, além de explicar algumas intuições sobre a estrutura do programa em si. Contrastando com a literatura existente, o objetivo dos autores é explicar de forma simples, clara e interativa tudo o que você precisa saber para se garantir na linguagem.\n",
        "  \n",
        " Esta apostila está hospedada em no ambiente *Colaboratory*, hospedado pelo *Google Drive*, que tem o intuito de facilitar e dinamizar o aprendizado. Com ele, é possível rodar o código e ver na prática Python acontecendo.\n",
        "\n",
        " Os notebooks, ou seja, cada capítulo desse material, estão linkados abaixo. Para poder interagir com o conteúdo é necessário que se tenha uma conta no *Google Drive* e que se faça uma cópia do arquivo para o seu *Drive*, de forma a poder editá-lo (e, assim, interagir!).\n"
      ],
      "metadata": {
        "id": "ZwzLXiDvM0WF"
      }
    },
    {
      "cell_type": "markdown",
      "source": [
        "# 📃 Índice"
      ],
      "metadata": {
        "id": "8VcvGa8QNGgS"
      }
    },
    {
      "cell_type": "markdown",
      "source": [
        "**01. [Introdução à Programação Python]**\n",
        " *  O que é uma linguagem de programação\n",
        " *  Tipos de Linguagens e Onde o Python se situa\n",
        " *  Curiosidades\n",
        " *  Onde e quando surgiu?\n",
        " *  Princípios: O Zen do Python (The Zen of Python)\n",
        " *  Por que o Python cresceu tanto?\n",
        "\n",
        "**02. [Introdução às IDEs]**\n",
        " *  O que é uma IDE?\n",
        " *  Antes das IDEs\n",
        " *  Ambientes mais usados em Dados\n",
        " *  Ambiente de escolha\n",
        "\n",
        " **03. [Atribuições ]**\n",
        " *  Objetos escalares\n",
        " *  Atribuindo valores às variáveis\n",
        " *  Conversões de tipo (cast)\n",
        " *  Expressões\n",
        " *  Abstraindo expressões\n",
        " *  Programação vs. matemática\n",
        " *  Trocando atribuições\n",
        "\n",
        "\n",
        "**04. [Condicionais]**\n",
        "*  Valores booleanos\n",
        "*  `If`\n",
        "*  `Else`\n",
        "*  `Elif`\n",
        "\n",
        "**05. [Estrutura de Repetição - Loops]**\n",
        "*  Loops com `while`\n",
        "*  `Break`\n",
        "*  Loops com `for`\n",
        "*  `Range( )`\n",
        "*  Nested loops\n",
        "\n",
        "**06. [Funções]**\n",
        "*  Sintaxe\n",
        "*  `Help()`\n",
        "*  Alguns detalhes sobre funções\n",
        "\n",
        "**07. [Strings]**\n",
        "*  Imutabilidade\n",
        "*  Função `replace`\n",
        "\n",
        "**08. [Listas]**\n",
        "*  Acessando uma `list`\n",
        "*  Funções reservadas para listas\n",
        "*  Listas e strings\n",
        "*  Mutabilidade\n",
        "\n",
        "**09. [Sequências]**\n",
        "*  Tuplas\n",
        "*  Sequências\n",
        "\n",
        "**10. [Dicionários]**\n",
        "*  Criando um dicionário\n",
        "*  Acessando elementos de um dicionário\n",
        "*  Operadores em dicionários\n",
        "*  Percorrendo dicionários com loops"
      ],
      "metadata": {
        "id": "C0Aumvz5NMVh"
      }
    }
  ]
}
