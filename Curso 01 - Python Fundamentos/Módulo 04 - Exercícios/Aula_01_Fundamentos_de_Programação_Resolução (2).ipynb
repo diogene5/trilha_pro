{
  "nbformat": 4,
  "nbformat_minor": 0,
  "metadata": {
    "colab": {
      "provenance": [],
      "collapsed_sections": [
        "BcPv3j8FbRB2",
        "m6A00RGKbgTB",
        "yH066SwMKsSi",
        "wHHhDw3VKwRQ",
        "RgS-SD50K6la",
        "FHYb3aTwK-JL",
        "PWaqib5lb1Ac",
        "-LQ6bc1oLEDW",
        "MhpNpT9pLF3f",
        "LhR_QXwHLHui",
        "aXuGdosJLJfH",
        "IRvQZQrFcHaR",
        "-0JHhefGLR8E",
        "4C31Ee5mLUlq",
        "OQnWu9kkLYRF",
        "JJU75D-OLbbs",
        "HrZRLgTach22",
        "xHF06q79LhDR",
        "XOtw1kE5LirI",
        "St1v35YvctkW",
        "AtxzWzY_MNqY",
        "XSKXDzuiMRe1",
        "rBM2gnL2Ma6s",
        "oLEUKBrlMebH",
        "UEIL-9UYMjGd",
        "DtrXA5V6ONsF",
        "MFndQheeORXF",
        "rXnw_gqwOWt-",
        "8QhzLwJKJhyD",
        "KZOd1IeQPYIp",
        "VD7oj2pRPabO",
        "ZLg5tPhwPnka",
        "e6XNrq1HPpjy",
        "m2sq3uQ8Prwz",
        "XbCPrRQuPuOE",
        "oAhvOzyUPwl_",
        "K17-d9fYdRQ9",
        "iKktBiFmQAu5",
        "lk9PV2kkQEmb"
      ],
      "toc_visible": true
    },
    "kernelspec": {
      "name": "python3",
      "display_name": "Python 3"
    },
    "language_info": {
      "name": "python"
    }
  },
  "cells": [
    {
      "cell_type": "markdown",
      "source": [
        "# 🟦 1. Atribuições"
      ],
      "metadata": {
        "id": "BcPv3j8FbRB2"
      }
    },
    {
      "cell_type": "markdown",
      "source": [
        "\n",
        "\n",
        "Enunciado:\n",
        "Você está construindo uma ficha de paciente."
      ],
      "metadata": {
        "id": "blRnVK2jbOau"
      }
    },
    {
      "cell_type": "markdown",
      "source": [
        "**Tarefa 1:** Crie variáveis para representar:"
      ],
      "metadata": {
        "id": "oR_HU2W_NEm6"
      }
    },
    {
      "cell_type": "markdown",
      "source": [
        "* Nome do paciente\n",
        "* Idade\n",
        "* Altura (em metros)\n",
        "* IMC (deixe None inicialmente)"
      ],
      "metadata": {
        "id": "sD1OnxlkbVwk"
      }
    },
    {
      "cell_type": "code",
      "source": [
        "nomePaciente = \"Gregório\"\n",
        "idade = 34\n",
        "altura = 1.82\n",
        "imc = None"
      ],
      "metadata": {
        "id": "aoSrBZDee5-U"
      },
      "execution_count": null,
      "outputs": []
    },
    {
      "cell_type": "markdown",
      "source": [
        "**Tarefa 2:** Mostre o tipo de cada variável com type()."
      ],
      "metadata": {
        "id": "TIXBBDbjM5l0"
      }
    },
    {
      "cell_type": "code",
      "source": [
        "type(idade)"
      ],
      "metadata": {
        "colab": {
          "base_uri": "https://localhost:8080/"
        },
        "id": "ILuL_noELPji",
        "outputId": "14538803-900d-4fe5-971b-299e4869e45c"
      },
      "execution_count": null,
      "outputs": [
        {
          "output_type": "execute_result",
          "data": {
            "text/plain": [
              "int"
            ]
          },
          "metadata": {},
          "execution_count": 58
        }
      ]
    },
    {
      "cell_type": "code",
      "source": [
        "type(altura)"
      ],
      "metadata": {
        "colab": {
          "base_uri": "https://localhost:8080/"
        },
        "id": "-cTWwt-vgUvz",
        "outputId": "55581ba0-1dc4-4b3d-e9b1-d43585f37a9d"
      },
      "execution_count": null,
      "outputs": [
        {
          "output_type": "execute_result",
          "data": {
            "text/plain": [
              "float"
            ]
          },
          "metadata": {},
          "execution_count": 61
        }
      ]
    },
    {
      "cell_type": "markdown",
      "source": [
        "**Tarefa 3:** Depois, imprima o nome e a idade com a seguinte mensagem:\n",
        "\"Paciente João possui 54 anos.\""
      ],
      "metadata": {
        "id": "sZ1CLv2vM6lo"
      }
    },
    {
      "cell_type": "code",
      "source": [
        "print(\"Paciente João possui 54 anos\")"
      ],
      "metadata": {
        "colab": {
          "base_uri": "https://localhost:8080/"
        },
        "id": "8h1rE6dMNBbk",
        "outputId": "aaf8e013-780b-44c8-ae4e-5085112145c4"
      },
      "execution_count": null,
      "outputs": [
        {
          "output_type": "stream",
          "name": "stdout",
          "text": [
            "Paciente João possui 54 anos\n"
          ]
        }
      ]
    },
    {
      "cell_type": "code",
      "source": [
        "print(f\"Paciente {nomePaciente} possui {idade} anos\")"
      ],
      "metadata": {
        "colab": {
          "base_uri": "https://localhost:8080/"
        },
        "id": "5OqL5e8fg61Q",
        "outputId": "5cc3eb47-8910-4261-f238-96b15363d9f7"
      },
      "execution_count": null,
      "outputs": [
        {
          "output_type": "stream",
          "name": "stdout",
          "text": [
            "Paciente Gregório possui 34 anos\n"
          ]
        }
      ]
    },
    {
      "cell_type": "markdown",
      "source": [
        "###Resolução 1"
      ],
      "metadata": {
        "id": "8q3Ehm_8Kocz"
      }
    },
    {
      "cell_type": "code",
      "source": [
        "# Atribuições de variáveis\n",
        "nome = \"João\"\n",
        "idade = 54\n",
        "altura = 1.75\n",
        "imc = None"
      ],
      "metadata": {
        "id": "P8zlI5XDbNtE"
      },
      "execution_count": null,
      "outputs": []
    },
    {
      "cell_type": "markdown",
      "source": [
        "###Resolução 2"
      ],
      "metadata": {
        "id": "fAOo7cepNKTr"
      }
    },
    {
      "cell_type": "code",
      "source": [
        "# Tipo\n",
        "print(type(nome))   # <class 'str'>\n",
        "print(type(idade))  # <class 'int'>\n",
        "print(type(altura)) # <class 'float'>\n",
        "print(type(imc))    # <class 'NoneType'>"
      ],
      "metadata": {
        "colab": {
          "base_uri": "https://localhost:8080/"
        },
        "id": "dXB_xU6mxlu5",
        "outputId": "8c43a47c-e005-4702-ad8e-fc2eb326546a"
      },
      "execution_count": null,
      "outputs": [
        {
          "output_type": "stream",
          "name": "stdout",
          "text": [
            "<class 'str'>\n",
            "<class 'int'>\n",
            "<class 'float'>\n",
            "<class 'NoneType'>\n"
          ]
        }
      ]
    },
    {
      "cell_type": "markdown",
      "source": [
        "###Resolução 3"
      ],
      "metadata": {
        "id": "6GxYBQ1GNLjI"
      }
    },
    {
      "cell_type": "code",
      "source": [
        "# Impressão formatada\n",
        "print(f\"Paciente {nome} possui {idade} anos.\")"
      ],
      "metadata": {
        "colab": {
          "base_uri": "https://localhost:8080/"
        },
        "id": "cPJASZHFxOwf",
        "outputId": "8a800d0d-2357-49a0-ff41-5fa6577959e0"
      },
      "execution_count": null,
      "outputs": [
        {
          "output_type": "stream",
          "name": "stdout",
          "text": [
            "Paciente João possui 54 anos.\n"
          ]
        }
      ]
    },
    {
      "cell_type": "markdown",
      "source": [
        "#🟦 2. Condicionais"
      ],
      "metadata": {
        "id": "m6A00RGKbgTB"
      }
    },
    {
      "cell_type": "markdown",
      "source": [
        "Enunciado: Um paciente tem um exame de glicemia em jejum com o seguinte resultado: glicemia = 135."
      ],
      "metadata": {
        "id": "hvALEbU3bsjJ"
      }
    },
    {
      "cell_type": "markdown",
      "source": [
        "**Tarefa 1:** Com base nesse valor, imprima:"
      ],
      "metadata": {
        "id": "Hg8EN4T_NRGu"
      }
    },
    {
      "cell_type": "markdown",
      "source": [
        "* \"Normal\" se for abaixo de 100\n",
        "* \"Pré-diabetes\" se entre 100 e 125\n",
        "* \"Diabetes\" se 126 ou mais\n",
        "\n",
        "Use if, elif e else."
      ],
      "metadata": {
        "id": "dVBxqlpqbrOJ"
      }
    },
    {
      "cell_type": "code",
      "source": [
        "glicemia = 135"
      ],
      "metadata": {
        "id": "B8pq5QSZLNyA"
      },
      "execution_count": null,
      "outputs": []
    },
    {
      "cell_type": "code",
      "source": [
        "glicemia"
      ],
      "metadata": {
        "colab": {
          "base_uri": "https://localhost:8080/"
        },
        "id": "IdufSs0xhp7d",
        "outputId": "e2026741-0d08-4dec-e130-c11e7372f095"
      },
      "execution_count": null,
      "outputs": [
        {
          "output_type": "execute_result",
          "data": {
            "text/plain": [
              "135"
            ]
          },
          "metadata": {},
          "execution_count": 65
        }
      ]
    },
    {
      "cell_type": "code",
      "source": [
        "if glicemia < 100:\n",
        "  print(\"Normal\")\n",
        "elif glicemia <= 125:\n",
        "  print(\"Pré-diabetes\")\n",
        "else:\n",
        "  print(\"Diabetes\")"
      ],
      "metadata": {
        "colab": {
          "base_uri": "https://localhost:8080/"
        },
        "id": "mwzlFp89h0Wq",
        "outputId": "0cacd0d8-3448-45be-e9c1-372b2257bed4"
      },
      "execution_count": null,
      "outputs": [
        {
          "output_type": "stream",
          "name": "stdout",
          "text": [
            "Diabetes\n"
          ]
        }
      ]
    },
    {
      "cell_type": "markdown",
      "source": [
        "**Tarefa 2:** Agora, ao invés de um valor definido, permita que o usuário digite o valor da glicemia, utilizando input"
      ],
      "metadata": {
        "id": "M2_b-Gjqi7bU"
      }
    },
    {
      "cell_type": "code",
      "source": [
        "glicemia = float(input(\"Digite o valor da glicemia em jejum: \"))\n",
        "\n",
        "if glicemia < 100:\n",
        "  print(\"Normal\")\n",
        "elif glicemia <= 125:\n",
        "  print(\"Pré-diabetes\")\n",
        "else:\n",
        "  print(\"Diabetes\")"
      ],
      "metadata": {
        "colab": {
          "base_uri": "https://localhost:8080/"
        },
        "id": "mvqyPTLOilNz",
        "outputId": "bbfcbbb6-9e63-4327-95b2-b2295b894133"
      },
      "execution_count": null,
      "outputs": [
        {
          "output_type": "stream",
          "name": "stdout",
          "text": [
            "Digite o valor da glicemia em jejum: 1100\n",
            "Diabetes\n"
          ]
        }
      ]
    },
    {
      "cell_type": "markdown",
      "source": [
        "**Tarefa 3:** E se o usuário ao invés de número, como letras ou símbolos no valor numérico da glicemia. Utilize try/except para tratar entradas inválidas."
      ],
      "metadata": {
        "id": "vaKyYKFsClGz"
      }
    },
    {
      "cell_type": "code",
      "source": [
        "try:\n",
        "\n",
        "  glicemia = float(input(\"Digite o valor da glicemia em jejum: \"))\n",
        "\n",
        "  if glicemia < 100:\n",
        "    print(\"Normal\")\n",
        "  elif glicemia <= 125:\n",
        "    print(\"Pré-diabetes\")\n",
        "  else:\n",
        "    print(\"Diabetes\")\n",
        "\n",
        "except ValueError:\n",
        "  print(\"⚠️ Valor inválido: não é possível converter para número.\")"
      ],
      "metadata": {
        "id": "fBAsI59xjG5G",
        "colab": {
          "base_uri": "https://localhost:8080/"
        },
        "outputId": "dd9b42e5-4249-4fd3-bfd2-e0b34ebdf29e"
      },
      "execution_count": 73,
      "outputs": [
        {
          "output_type": "stream",
          "name": "stdout",
          "text": [
            "Digite o valor da glicemia em jejum: keiaeaeaj\n",
            "⚠️ Valor inválido: não é possível converter para número.\n"
          ]
        }
      ]
    },
    {
      "cell_type": "markdown",
      "source": [
        "**Tarefa 4:** Por fim, vamos desenvolvendo um sistema para avaliar os resultados de exames de glicemia em pacientes, que considere não só o valor da glicemia, mas a condição em que foi feita:"
      ],
      "metadata": {
        "id": "Q4WdYCdKDUZ_"
      }
    },
    {
      "cell_type": "markdown",
      "source": [
        "* Se a glicemia for maior ou igual a 126 mg/dL e o paciente estiver em jejum, classifique como: \"Diabetes (em jejum)\"\n",
        "\n",
        "* Se a glicemia for maior ou igual a 200 mg/dL e o paciente não estiver em jejum, classifique como: \"Glicemia muito elevada fora de jejum – risco de emergência\"\n",
        "\n",
        "* Se a glicemia estiver entre 100 e 125 mg/dL e o paciente estiver em jejum, classifique como: \"Pré-diabetes (em jejum)\"\n",
        "\n",
        "* Se a glicemia for menor que 100 mg/dL e o paciente estiver em jejum, classifique como: \"Glicemia normal (em jejum)\"\n",
        "\n",
        "* Caso nenhuma dessas condições seja atendida, informe: \"Resultado inconclusivo. Verifique as condições do exame.\"\n",
        "\n",
        "⚠️ Importante: Use operadores lógicos and, or, not para estruturar suas condições."
      ],
      "metadata": {
        "id": "kNtorvEMDWDE"
      }
    },
    {
      "cell_type": "code",
      "source": [],
      "metadata": {
        "id": "oqx3ShBiLOry"
      },
      "execution_count": null,
      "outputs": []
    },
    {
      "cell_type": "markdown",
      "source": [
        "###Resolução 1"
      ],
      "metadata": {
        "id": "yH066SwMKsSi"
      }
    },
    {
      "cell_type": "code",
      "source": [
        "glicemia = 135\n",
        "\n",
        "if glicemia < 100:\n",
        "    print(\"Normal\")\n",
        "elif glicemia <= 125:\n",
        "    print(\"Pré-diabetes\")\n",
        "else:\n",
        "    print(\"Diabetes\")"
      ],
      "metadata": {
        "id": "XN7KAvTtby4L",
        "colab": {
          "base_uri": "https://localhost:8080/"
        },
        "outputId": "617cbf87-921a-4c82-fbfd-9065f55626e7"
      },
      "execution_count": null,
      "outputs": [
        {
          "output_type": "stream",
          "name": "stdout",
          "text": [
            "Diabetes\n"
          ]
        }
      ]
    },
    {
      "cell_type": "code",
      "source": [],
      "metadata": {
        "id": "F6xZAwx6XHiu"
      },
      "execution_count": null,
      "outputs": []
    },
    {
      "cell_type": "markdown",
      "source": [
        "###Resolução 2"
      ],
      "metadata": {
        "id": "wHHhDw3VKwRQ"
      }
    },
    {
      "cell_type": "code",
      "source": [
        "glicemia = float(input(\"Digite o valor da glicemia em jejum: \"))\n",
        "\n",
        "if glicemia < 100:\n",
        "    print(\"Resultado: Normal ✅\")\n",
        "elif glicemia <= 125:\n",
        "    print(\"Resultado: Pré-diabetes ⚠️\")\n",
        "else:\n",
        "    print(\"Resultado: Diabetes 🚨\")"
      ],
      "metadata": {
        "colab": {
          "base_uri": "https://localhost:8080/"
        },
        "id": "bbZGj0npx0oE",
        "outputId": "089c7e81-ed41-44c3-fa8b-282e547cf95e"
      },
      "execution_count": null,
      "outputs": [
        {
          "output_type": "stream",
          "name": "stdout",
          "text": [
            "Digite o valor da glicemia em jejum: 11\n",
            "Resultado: Normal ✅\n"
          ]
        }
      ]
    },
    {
      "cell_type": "markdown",
      "source": [
        "###Resolução 3"
      ],
      "metadata": {
        "id": "RgS-SD50K6la"
      }
    },
    {
      "cell_type": "code",
      "source": [
        "try:\n",
        "    glicemia = float(input(\"Digite o valor da glicemia em jejum: \"))\n",
        "\n",
        "    if glicemia < 100:\n",
        "      print(\"Resultado: Normal ✅\")\n",
        "    elif glicemia <= 125:\n",
        "      print(\"Resultado: Pré-diabetes ⚠️\")\n",
        "    else:\n",
        "      print(\"Resultado: Diabetes 🚨\")\n",
        "\n",
        "except ValueError:\n",
        "    print(\"❌ Entrada inválida. Por favor, digite apenas números para a glicemia.\")"
      ],
      "metadata": {
        "colab": {
          "base_uri": "https://localhost:8080/"
        },
        "id": "RA3eYcf1CRLD",
        "outputId": "6b9d601c-eef1-492c-d22c-b944c307a140"
      },
      "execution_count": null,
      "outputs": [
        {
          "output_type": "stream",
          "name": "stdout",
          "text": [
            "Digite o valor da glicemia em jejum: 2121\n",
            "Resultado: Diabetes 🚨\n"
          ]
        }
      ]
    },
    {
      "cell_type": "markdown",
      "source": [
        "###Resolução 4"
      ],
      "metadata": {
        "id": "FHYb3aTwK-JL"
      }
    },
    {
      "cell_type": "code",
      "source": [
        "try:\n",
        "    glicemia = float(input(\"Digite o valor da glicemia (mg/dL): \"))\n",
        "    jejum = input(\"O paciente está em jejum há pelo menos 8 horas? (sim/não): \").strip().lower()\n",
        "\n",
        "    em_jejum = jejum == \"sim\"\n",
        "\n",
        "    if glicemia >= 126 and em_jejum:\n",
        "        print(\"🔴 Resultado: Diabetes (em jejum)\")\n",
        "\n",
        "    elif glicemia >= 200 and not em_jejum:\n",
        "        print(\"🚨 Glicemia muito elevada fora de jejum! Procure atendimento.\")\n",
        "\n",
        "    elif 100 <= glicemia <= 125 and em_jejum:\n",
        "        print(\"🟠 Resultado: Pré-diabetes (em jejum)\")\n",
        "\n",
        "    elif glicemia < 100 and em_jejum:\n",
        "        print(\"🟢 Resultado: Normal (em jejum)\")\n",
        "\n",
        "    else:\n",
        "        print(\"⚠️ Resultado inconclusivo. Verifique as condições do exame.\")\n",
        "\n",
        "except ValueError:\n",
        "    print(\"❌ Entrada inválida. Por favor, digite apenas números para a glicemia.\")"
      ],
      "metadata": {
        "colab": {
          "base_uri": "https://localhost:8080/"
        },
        "id": "rtqyfADeDWhA",
        "outputId": "caf67889-aec8-41de-933b-3ab35e4b4f1b"
      },
      "execution_count": null,
      "outputs": [
        {
          "output_type": "stream",
          "name": "stdout",
          "text": [
            "Digite o valor da glicemia (mg/dL): 12112\n",
            "O paciente está em jejum há pelo menos 8 horas? (sim/não): 2121\n",
            "🚨 Glicemia muito elevada fora de jejum! Procure atendimento.\n"
          ]
        }
      ]
    },
    {
      "cell_type": "markdown",
      "source": [
        "# 🟦 3. Estrutura de Repetição"
      ],
      "metadata": {
        "id": "PWaqib5lb1Ac"
      }
    },
    {
      "cell_type": "markdown",
      "source": [
        "Enunciado:\n",
        "Você recebeu a lista de pressões arteriais sistólicas medidas ao longo da semana:"
      ],
      "metadata": {
        "id": "OnocBcJVb9D6"
      }
    },
    {
      "cell_type": "code",
      "source": [
        "pressoes = [120, 0, 125, 140, 130, 128, 150, 145, 190]"
      ],
      "metadata": {
        "id": "ydNcp24DcDfL"
      },
      "execution_count": 74,
      "outputs": []
    },
    {
      "cell_type": "markdown",
      "source": [
        "**Tarefa 1:**  Crie um laço for que percorra essa lista e imprima apenas os valores acima de 140, com a mensagem: \"Valor alterado detectado: 145 mmHg\""
      ],
      "metadata": {
        "id": "bd2kbiYDcAWT"
      }
    },
    {
      "cell_type": "code",
      "source": [
        "for pressao in pressoes:\n",
        "  if pressao > 140:\n",
        "    print(f\"Valor alterado detectado: {pressao} mmHg\")"
      ],
      "metadata": {
        "id": "_u_fu3XgLMBu",
        "colab": {
          "base_uri": "https://localhost:8080/"
        },
        "outputId": "1ac88d6a-1ec1-4309-fb09-627ab7bc9d65"
      },
      "execution_count": 75,
      "outputs": [
        {
          "output_type": "stream",
          "name": "stdout",
          "text": [
            "Valor alterado detectado: 150 mmHg\n",
            "Valor alterado detectado: 145 mmHg\n",
            "Valor alterado detectado: 190 mmHg\n"
          ]
        }
      ]
    },
    {
      "cell_type": "markdown",
      "source": [
        "**Tarefa 2:**  Conte quantas pressões estão acima de 140 e imprima um alerta caso sejam mais de 2."
      ],
      "metadata": {
        "id": "kCXN-Mu7yel3"
      }
    },
    {
      "cell_type": "code",
      "source": [
        "def soma_return(a, b):\n",
        "  return a + b"
      ],
      "metadata": {
        "id": "EthJY0vtpcio"
      },
      "execution_count": 88,
      "outputs": []
    },
    {
      "cell_type": "code",
      "source": [
        "soma_return(1,2)"
      ],
      "metadata": {
        "colab": {
          "base_uri": "https://localhost:8080/"
        },
        "id": "HU3gblTCp6Yh",
        "outputId": "b1d3e17c-ec58-45f1-d03b-4e0bc33d8ddf"
      },
      "execution_count": 89,
      "outputs": [
        {
          "output_type": "execute_result",
          "data": {
            "text/plain": [
              "3"
            ]
          },
          "metadata": {},
          "execution_count": 89
        }
      ]
    },
    {
      "cell_type": "code",
      "source": [
        "soma_return(1,2) + 1"
      ],
      "metadata": {
        "colab": {
          "base_uri": "https://localhost:8080/"
        },
        "id": "tdmG-ZTSqDFK",
        "outputId": "28b5db56-21b1-4c04-b2d6-365e5785fbe4"
      },
      "execution_count": 90,
      "outputs": [
        {
          "output_type": "execute_result",
          "data": {
            "text/plain": [
              "4"
            ]
          },
          "metadata": {},
          "execution_count": 90
        }
      ]
    },
    {
      "cell_type": "code",
      "source": [
        "contador = 0\n",
        "\n",
        "for pressao in pressoes:\n",
        "  if pressao > 140:\n",
        "    contador += 1\n",
        "\n",
        "if contador > 2:\n",
        "  print(f\"⚠️ Número de valores acima de 140: {contador}\")"
      ],
      "metadata": {
        "id": "GNsA1a7wLMPi",
        "colab": {
          "base_uri": "https://localhost:8080/"
        },
        "outputId": "b9cd919b-83d2-4dea-ea0d-67ff533bd25d"
      },
      "execution_count": 82,
      "outputs": [
        {
          "output_type": "stream",
          "name": "stdout",
          "text": [
            "⚠️ Número de valores acima de 140: 3\n"
          ]
        }
      ]
    },
    {
      "cell_type": "markdown",
      "source": [
        "**Tarefa 3:**  Calcule e imprima a média das pressões."
      ],
      "metadata": {
        "id": "fgYBwfcTD9xw"
      }
    },
    {
      "cell_type": "code",
      "source": [],
      "metadata": {
        "id": "eZeWWmepLMiR"
      },
      "execution_count": null,
      "outputs": []
    },
    {
      "cell_type": "markdown",
      "source": [
        "**Tarefa 4:**  Agora você está construindo um programa para analisar pressões arteriais sistólicas coletadas ao longo da semana em um paciente hipertenso. Se o valor digitado for igual a 0, ignore com continue (medição inválida). Se a pressão digitada for acima de 180 mmHg, mostre um alerta e interrompa imediatamente o programa com break."
      ],
      "metadata": {
        "id": "uFb2XTWoEEt9"
      }
    },
    {
      "cell_type": "code",
      "source": [
        "contador = 0\n",
        "\n",
        "for pressao in pressoes:\n",
        "  if pressao == 0:\n",
        "    continue\n",
        "  if pressao > 180:\n",
        "    print(f\"🚨 Pressão crítica detectada: {pressao} mmHg! Encaminhar imediatamente.\")\n",
        "    break"
      ],
      "metadata": {
        "id": "7w2KIU0uLM0p",
        "colab": {
          "base_uri": "https://localhost:8080/"
        },
        "outputId": "3417faef-480e-4f38-9d33-3b52686d7781"
      },
      "execution_count": 84,
      "outputs": [
        {
          "output_type": "stream",
          "name": "stdout",
          "text": [
            "🚨 Pressão crítica detectada: 190 mmHg! Encaminhar imediatamente.\n"
          ]
        }
      ]
    },
    {
      "cell_type": "markdown",
      "source": [
        "###Resolução 1"
      ],
      "metadata": {
        "id": "-LQ6bc1oLEDW"
      }
    },
    {
      "cell_type": "code",
      "source": [
        "for p in pressões:\n",
        "    if p > 140:\n",
        "        print(f\"Valor alterado detectado: {p} mmHg\")"
      ],
      "metadata": {
        "id": "w7QJzhwDcD8H"
      },
      "execution_count": null,
      "outputs": []
    },
    {
      "cell_type": "markdown",
      "source": [
        "###Resolução 2"
      ],
      "metadata": {
        "id": "MhpNpT9pLF3f"
      }
    },
    {
      "cell_type": "code",
      "source": [
        "contador_alteradas = 0\n",
        "\n",
        "for p in pressões:\n",
        "    if p > 140:\n",
        "        print(f\"Valor alterado detectado: {p} mmHg\")\n",
        "        contador_alteradas += 1\n",
        "\n",
        "print(f\"\\nTotal de valores alterados: {contador_alteradas}\")"
      ],
      "metadata": {
        "id": "xKGpy4Jjx92l"
      },
      "execution_count": null,
      "outputs": []
    },
    {
      "cell_type": "markdown",
      "source": [
        "###Resolução 3"
      ],
      "metadata": {
        "id": "LhR_QXwHLHui"
      }
    },
    {
      "cell_type": "code",
      "source": [
        "media_pressao = sum(pressões) / len(pressões)\n",
        "print(f\"Média da pressão arterial sistólica: {media_pressao:.1f} mmHg\")"
      ],
      "metadata": {
        "id": "PD4EkXtoyrXW"
      },
      "execution_count": null,
      "outputs": []
    },
    {
      "cell_type": "markdown",
      "source": [
        "###Resolução 4"
      ],
      "metadata": {
        "id": "aXuGdosJLJfH"
      }
    },
    {
      "cell_type": "code",
      "source": [
        "pressões_validas = []\n",
        "\n",
        "for p in pressões:\n",
        "    if p == 0:\n",
        "        print(\"⚠️ Medição inválida (0 mmHg). Ignorando...\")\n",
        "        continue\n",
        "\n",
        "    if p > 180:\n",
        "        print(f\"🚨 Pressão crítica detectada: {p} mmHg! Encaminhar imediatamente.\")\n",
        "        break\n",
        "\n",
        "    pressões_validas.append(p)"
      ],
      "metadata": {
        "id": "KHjj1oliEOeI"
      },
      "execution_count": null,
      "outputs": []
    },
    {
      "cell_type": "markdown",
      "source": [
        "#🟦 4. Funções"
      ],
      "metadata": {
        "id": "IRvQZQrFcHaR"
      }
    },
    {
      "cell_type": "markdown",
      "source": [
        "**Tarefa 1:**\n",
        "Crie uma função chamada classificar_imc(peso, altura) que:\n",
        "* Calcule o IMC\n",
        "* Retorne uma string com a classificação:\n",
        "  * Abaixo de 18.5: \"Abaixo do peso\"\n",
        "  * De 18.5 a 24.9: \"Peso normal\"\n",
        "  * De 25 a 29.9: \"Sobrepeso\"\n",
        "  * 30 ou mais: \"Obesidade\"\n",
        "\n",
        "Teste a função com os dados: peso = 88 kg, altura = 1.75 m"
      ],
      "metadata": {
        "id": "NiluJpIecPGP"
      }
    },
    {
      "cell_type": "code",
      "source": [
        "def classificar_imc(peso, altura):\n",
        "  imc = peso / (altura ** 2 )\n",
        "\n",
        "  if imc == 18.5:\n",
        "    return \"Abaixo do peso\"\n",
        "  elif imc < 25:\n",
        "    return \"Peso normal\"\n",
        "  elif imc < 30:\n",
        "    return \"Sobrepeso\"\n",
        "  else:\n",
        "    return \"Obesidade\""
      ],
      "metadata": {
        "id": "y2FYeRAoLTm9"
      },
      "execution_count": 93,
      "outputs": []
    },
    {
      "cell_type": "markdown",
      "source": [
        "**Tarefa 2:**  Faça a função retornar uma tupla com (valor_imc, classificação)."
      ],
      "metadata": {
        "id": "hTcuWUbt0uou"
      }
    },
    {
      "cell_type": "code",
      "source": [],
      "metadata": {
        "id": "eLJn03EjLT9u"
      },
      "execution_count": null,
      "outputs": []
    },
    {
      "cell_type": "markdown",
      "source": [
        "**Tarefa 3:**  Adicione uma descrição de ajuda da função:"
      ],
      "metadata": {
        "id": "suztbPCBGygU"
      }
    },
    {
      "cell_type": "code",
      "source": [
        "def classificar_imc(peso, altura):\n",
        "  \"Função para calcular e classificar o IMC\"\n",
        "  imc = peso / (altura ** 2 )\n",
        "\n",
        "  if imc == 18.5:\n",
        "    return \"Abaixo do peso\"\n",
        "  elif imc < 25:\n",
        "    return \"Peso normal\"\n",
        "  elif imc < 30:\n",
        "    return \"Sobrepeso\"\n",
        "  else:\n",
        "    return \"Obesidade\""
      ],
      "metadata": {
        "id": "XujQMSkRrkSh"
      },
      "execution_count": 102,
      "outputs": []
    },
    {
      "cell_type": "code",
      "source": [
        "classificar_imc(90, 1.82)"
      ],
      "metadata": {
        "colab": {
          "base_uri": "https://localhost:8080/",
          "height": 36
        },
        "id": "cjpx-cegscj8",
        "outputId": "b99503f8-5627-4b09-82fa-331a39c3f075"
      },
      "execution_count": 106,
      "outputs": [
        {
          "output_type": "execute_result",
          "data": {
            "text/plain": [
              "'Sobrepeso'"
            ],
            "application/vnd.google.colaboratory.intrinsic+json": {
              "type": "string"
            }
          },
          "metadata": {},
          "execution_count": 106
        }
      ]
    },
    {
      "cell_type": "code",
      "source": [
        "help(classificar_imc)"
      ],
      "metadata": {
        "colab": {
          "base_uri": "https://localhost:8080/"
        },
        "id": "dauUp2lPr3LX",
        "outputId": "4a95d0bf-c064-41c5-a2ba-0d471d9c7c47"
      },
      "execution_count": 103,
      "outputs": [
        {
          "output_type": "stream",
          "name": "stdout",
          "text": [
            "Help on function classificar_imc in module __main__:\n",
            "\n",
            "classificar_imc(peso, altura)\n",
            "    Função para calcular e classificar o IMC\n",
            "\n"
          ]
        }
      ]
    },
    {
      "cell_type": "markdown",
      "source": [
        "**Tarefa 4:**  Agora faça uma versão com função lambda (só cálculo, não classificação)"
      ],
      "metadata": {
        "id": "_pmtnw0kGb4h"
      }
    },
    {
      "cell_type": "code",
      "source": [
        "imc = lambda peso, altura: round(peso / (altura ** 2),0)"
      ],
      "metadata": {
        "id": "2OyxsWBSLdUF"
      },
      "execution_count": 107,
      "outputs": []
    },
    {
      "cell_type": "code",
      "source": [
        "print(imc(90, 1.82))"
      ],
      "metadata": {
        "colab": {
          "base_uri": "https://localhost:8080/"
        },
        "id": "0ELQ_LFCsSoo",
        "outputId": "6a393180-1fab-4caa-ae3e-b74abefcb052"
      },
      "execution_count": 108,
      "outputs": [
        {
          "output_type": "stream",
          "name": "stdout",
          "text": [
            "27.0\n"
          ]
        }
      ]
    },
    {
      "cell_type": "markdown",
      "source": [
        "###Resolução 1"
      ],
      "metadata": {
        "id": "-0JHhefGLR8E"
      }
    },
    {
      "cell_type": "code",
      "source": [
        "def classificar_imc(peso, altura):\n",
        "    imc = peso / (altura ** 2)\n",
        "\n",
        "    if imc < 18.5:\n",
        "        return \"Abaixo do peso\"\n",
        "    elif imc < 25:\n",
        "        return \"Peso normal\"\n",
        "    elif imc < 30:\n",
        "        return \"Sobrepeso\"\n",
        "    else:\n",
        "        return \"Obesidade\""
      ],
      "metadata": {
        "id": "45hHNzwlcqGp"
      },
      "execution_count": null,
      "outputs": []
    },
    {
      "cell_type": "code",
      "source": [
        "print(classificar_imc(70, 1.75))  # Deve retornar: \"Peso normal\"\n",
        "print(classificar_imc(95, 1.70))  # Deve retornar: \"Obesidade\""
      ],
      "metadata": {
        "id": "Ji-oYJzozHxt"
      },
      "execution_count": null,
      "outputs": []
    },
    {
      "cell_type": "markdown",
      "source": [
        "###Resolução 2"
      ],
      "metadata": {
        "id": "4C31Ee5mLUlq"
      }
    },
    {
      "cell_type": "code",
      "source": [
        "def classificar_imc(peso, altura):\n",
        "    imc = peso / (altura ** 2)\n",
        "\n",
        "    if imc < 18.5:\n",
        "        classificacao = \"Abaixo do peso\"\n",
        "    elif imc < 25:\n",
        "        classificacao = \"Peso normal\"\n",
        "    elif imc < 30:\n",
        "        classificacao = \"Sobrepeso\"\n",
        "    else:\n",
        "        classificacao = \"Obesidade\"\n",
        "\n",
        "    return imc, classificacao"
      ],
      "metadata": {
        "id": "L8w37E960yDu"
      },
      "execution_count": null,
      "outputs": []
    },
    {
      "cell_type": "code",
      "source": [
        "# Exemplo de uso\n",
        "valor_imc, resultado = classificar_imc(70, 1.75)\n",
        "print(f\"IMC: {valor_imc:.2f} → Classificação: {resultado}\")"
      ],
      "metadata": {
        "id": "nYUBUHqZ02iY"
      },
      "execution_count": null,
      "outputs": []
    },
    {
      "cell_type": "markdown",
      "source": [
        "###Resolução 3"
      ],
      "metadata": {
        "id": "OQnWu9kkLYRF"
      }
    },
    {
      "cell_type": "code",
      "source": [
        "def classificar_imc(peso, altura):\n",
        "    \"\"\"\n",
        "    Calcula o IMC com base no peso e altura informados.\n",
        "\n",
        "    Retorna uma tupla (valor_imc, classificação)\n",
        "    \"\"\"\n",
        "    imc = peso / (altura ** 2)\n",
        "\n",
        "    if imc < 18.5:\n",
        "        classificacao = \"Abaixo do peso\"\n",
        "    elif imc < 25:\n",
        "        classificacao = \"Peso normal\"\n",
        "    elif imc < 30:\n",
        "        classificacao = \"Sobrepeso\"\n",
        "    else:\n",
        "        classificacao = \"Obesidade\"\n",
        "\n",
        "    return imc, classificacao"
      ],
      "metadata": {
        "id": "YTMxe3ECGySe"
      },
      "execution_count": null,
      "outputs": []
    },
    {
      "cell_type": "code",
      "source": [
        "help(classificar_imc)"
      ],
      "metadata": {
        "id": "_gzQ5QPAHFqP"
      },
      "execution_count": null,
      "outputs": []
    },
    {
      "cell_type": "markdown",
      "source": [
        "###Resolução 4"
      ],
      "metadata": {
        "id": "JJU75D-OLbbs"
      }
    },
    {
      "cell_type": "code",
      "source": [
        "calcular_imc = lambda peso, altura: peso / (altura ** 2)\n",
        "print(f\"IMC: {calcular_imc(88, 1.75):.2f}\")"
      ],
      "metadata": {
        "id": "9UgljyS9Gfvc"
      },
      "execution_count": null,
      "outputs": []
    },
    {
      "cell_type": "markdown",
      "source": [
        "#🟦 5. Strings"
      ],
      "metadata": {
        "id": "HrZRLgTach22"
      }
    },
    {
      "cell_type": "markdown",
      "source": [
        "**Tarefa 1:**  Peça ao usuário para digitar o nome de um medicamento e sua dose.\n",
        "Depois, exiba a seguinte frase formatada:"
      ],
      "metadata": {
        "id": "kRhrYdeUcggQ"
      }
    },
    {
      "cell_type": "markdown",
      "source": [
        "\"Fulano recebeu 500mg de Paracetamol\""
      ],
      "metadata": {
        "id": "Mh-_rIYXcnxd"
      }
    },
    {
      "cell_type": "code",
      "source": [
        "nome_paciente = input(\"Digite o nome do paciente: \").strip().title()\n",
        "nome = input(\"Digite o nome do medicamento: \").upper()\n",
        "dose = input(\"Digite a dose do medicamento: \")\n",
        "\n",
        "print(f\"{nome_paciente} recebeu {dose}mg de {nome}\")\n",
        "print(\"💊\" * 10)"
      ],
      "metadata": {
        "id": "uesNrJ9mLlUd",
        "colab": {
          "base_uri": "https://localhost:8080/"
        },
        "outputId": "ba918cf3-b579-4843-fbf5-434c7221ae59"
      },
      "execution_count": 115,
      "outputs": [
        {
          "output_type": "stream",
          "name": "stdout",
          "text": [
            "Digite o nome do paciente: gregorio rodrigues\n",
            "Digite o nome do medicamento: Paracetamol\n",
            "Digite a dose do medicamento: 500\n",
            "Gregorio Rodrigues recebeu 500mg de PARACETAMOL\n",
            "💊💊💊💊💊💊💊💊💊💊\n"
          ]
        }
      ]
    },
    {
      "cell_type": "markdown",
      "source": [
        "**Tarefa 2:**: Melhore o código para:\n",
        "* Limpar espaços desnecessários do nome com .strip()\n",
        "* Converta o nome do paciente para letras com inicial maiúscula (ex: \"ana maria\" → \"Ana Maria\")\n",
        "* Converta o nome do medicamento para caixa alta com .upper()\n",
        "* Mostre a frase formatada: \"Ana Maria recebeu 500mg de PARACETAMOL\"\n",
        "* Depois, exiba uma linha decorativa feita com \"💊\" repetido 10 vezes.\n",
        "* Por fim, exiba uma mensagem final com quebra de linha (\\n) dizendo:\n",
        "\"Registro salvo com sucesso.\\nPróximo paciente...\""
      ],
      "metadata": {
        "id": "u1nZSe88H8OA"
      }
    },
    {
      "cell_type": "code",
      "source": [
        "# @title Texto de título padrão\n",
        "variable_name = \"Gregório\" # @param {\"type\":\"string\"}\n"
      ],
      "metadata": {
        "cellView": "form",
        "id": "yUwF4b74ufxg"
      },
      "execution_count": 116,
      "outputs": []
    },
    {
      "cell_type": "markdown",
      "source": [
        "###Resolução 1"
      ],
      "metadata": {
        "id": "xHF06q79LhDR"
      }
    },
    {
      "cell_type": "code",
      "source": [
        "paciente = input(\"Nome do paciente: \")\n",
        "medicamento = input(\"Nome do medicamento: \")\n",
        "dosagem = input(\"Dosagem (em mg): \")\n",
        "\n",
        "print(f\"Paciente {paciente} recebeu {dosagem}mg de {medicamento}.\")"
      ],
      "metadata": {
        "id": "FTtob3_qcpsx"
      },
      "execution_count": null,
      "outputs": []
    },
    {
      "cell_type": "markdown",
      "source": [
        "###Resolução 2"
      ],
      "metadata": {
        "id": "XOtw1kE5LirI"
      }
    },
    {
      "cell_type": "code",
      "source": [
        "# Coleta dos dados\n",
        "paciente = input(\"Nome do paciente: \").strip().title()  # Remove espaços e capitaliza nome\n",
        "medicamento = input(\"Nome do medicamento: \").strip().upper()  # Remove espaços e coloca em CAIXA ALTA\n",
        "dosagem = input(\"Dosagem (em mg): \").strip()\n",
        "\n",
        "# Exibe a frase formatada com f-string\n",
        "print(f\"Paciente {paciente} recebeu {dosagem}mg de {medicamento}.\")\n",
        "\n",
        "# Linha decorativa com repetição de string\n",
        "print(\"💊\" * 10)\n",
        "\n",
        "# Mensagem final com quebra de linha\n",
        "print(\"Registro salvo com sucesso.\\nPróximo paciente...\")"
      ],
      "metadata": {
        "id": "YqJVz6a6IAk4"
      },
      "execution_count": null,
      "outputs": []
    },
    {
      "cell_type": "markdown",
      "source": [
        "# 🟦 6. Listas"
      ],
      "metadata": {
        "id": "St1v35YvctkW"
      }
    },
    {
      "cell_type": "markdown",
      "source": [
        "Você é responsável por organizar os dados de um pequeno ambulatório. Abaixo, há uma lista com os nomes dos pacientes agendados para o dia e outra com as respectivas pressões arteriais (sistólicas) medidas na triagem."
      ],
      "metadata": {
        "id": "pWoks2FncstW"
      }
    },
    {
      "cell_type": "code",
      "source": [
        "pacientes = [\"Ana\", \"João\", \"Carlos\", \"Fernanda\"]\n",
        "pressao_sistolica = [120, 145, 138, 160]"
      ],
      "metadata": {
        "id": "nALZ7oYyMD_H"
      },
      "execution_count": null,
      "outputs": []
    },
    {
      "cell_type": "markdown",
      "source": [
        "**Tarefa 1:** Adicione o paciente \"Rita\" à lista, com pressão \"150\"."
      ],
      "metadata": {
        "id": "7fCfViH7MGI1"
      }
    },
    {
      "cell_type": "code",
      "source": [],
      "metadata": {
        "id": "kMse3UY7MHQF"
      },
      "execution_count": null,
      "outputs": []
    },
    {
      "cell_type": "markdown",
      "source": [
        "**Tarefa 2:** Corrija a pressão de \"Carlos\" para 140."
      ],
      "metadata": {
        "id": "qgPXez3vMHcI"
      }
    },
    {
      "cell_type": "code",
      "source": [],
      "metadata": {
        "id": "0fPQdEakMJFn"
      },
      "execution_count": null,
      "outputs": []
    },
    {
      "cell_type": "markdown",
      "source": [
        "**Tarefa 3:**  O paciente \"João\" desistiu. Remova seu nome e sua pressão."
      ],
      "metadata": {
        "id": "L_5nPAfmMJV5"
      }
    },
    {
      "cell_type": "code",
      "source": [],
      "metadata": {
        "id": "u3SZ6Sv0MLJk"
      },
      "execution_count": null,
      "outputs": []
    },
    {
      "cell_type": "markdown",
      "source": [
        "**Tarefa 4:** Mostre a quantidade total de pacientes na lista."
      ],
      "metadata": {
        "id": "ZHMdov16MoUK"
      }
    },
    {
      "cell_type": "code",
      "source": [],
      "metadata": {
        "id": "D8MfH1h3MpQm"
      },
      "execution_count": null,
      "outputs": []
    },
    {
      "cell_type": "markdown",
      "source": [
        "**Tarefa 5:** Imprima uma mensagem para cada paciente informando sua pressão arterial (use for e f-string)."
      ],
      "metadata": {
        "id": "jNcyiTT1Outc"
      }
    },
    {
      "cell_type": "code",
      "source": [],
      "metadata": {
        "id": "14vKGgYzOy5u"
      },
      "execution_count": null,
      "outputs": []
    },
    {
      "cell_type": "markdown",
      "source": [
        "**Tarefa 6:** Verifique se o paciente \"Maria\" está na lista. Se não estiver, imprima uma mensagem de alerta."
      ],
      "metadata": {
        "id": "rzIn8DJEMrYz"
      }
    },
    {
      "cell_type": "code",
      "source": [],
      "metadata": {
        "id": "OR7mQ8D3Mslx"
      },
      "execution_count": null,
      "outputs": []
    },
    {
      "cell_type": "markdown",
      "source": [
        "**Tarefa 7:** Mostre a lista de pressões ordenadas do maior para o menor."
      ],
      "metadata": {
        "id": "x3KeSBoWMt1D"
      }
    },
    {
      "cell_type": "code",
      "source": [],
      "metadata": {
        "id": "ZRyw-TSEMuPA"
      },
      "execution_count": null,
      "outputs": []
    },
    {
      "cell_type": "markdown",
      "source": [
        "**Tarefa 8:** Mostre apenas os 3 primeiros pacientes da lista atualizada (use fatiamento)."
      ],
      "metadata": {
        "id": "RiVcFZ6sMxSs"
      }
    },
    {
      "cell_type": "code",
      "source": [],
      "metadata": {
        "id": "07JAG9FuMxmt"
      },
      "execution_count": null,
      "outputs": []
    },
    {
      "cell_type": "markdown",
      "source": [
        "###Resolução 1"
      ],
      "metadata": {
        "id": "AtxzWzY_MNqY"
      }
    },
    {
      "cell_type": "code",
      "source": [
        "# 1. Adicionando paciente Rita com pressão 150\n",
        "pacientes.append(\"Rita\")\n",
        "pressao_sistolica.append(150)"
      ],
      "metadata": {
        "id": "Gr-lJ3VpMQFf"
      },
      "execution_count": null,
      "outputs": []
    },
    {
      "cell_type": "markdown",
      "source": [
        "###Resolução 2"
      ],
      "metadata": {
        "id": "XSKXDzuiMRe1"
      }
    },
    {
      "cell_type": "code",
      "source": [
        "# 2. Corrigindo pressão de Carlos para 140\n",
        "indice_carlos = pacientes.index(\"Carlos\")\n",
        "pressao_sistolica[indice_carlos] = 140"
      ],
      "metadata": {
        "id": "SnYYr0x9MT4F"
      },
      "execution_count": null,
      "outputs": []
    },
    {
      "cell_type": "markdown",
      "source": [
        "###Resolução 3"
      ],
      "metadata": {
        "id": "rBM2gnL2Ma6s"
      }
    },
    {
      "cell_type": "code",
      "source": [
        "# 3. Removendo João e sua pressão\n",
        "indice_joao = pacientes.index(\"João\")\n",
        "pacientes.pop(indice_joao)\n",
        "pressao_sistolica.pop(indice_joao)"
      ],
      "metadata": {
        "id": "tcXV5VapMauB"
      },
      "execution_count": null,
      "outputs": []
    },
    {
      "cell_type": "markdown",
      "source": [
        "###Resolução 4"
      ],
      "metadata": {
        "id": "oLEUKBrlMebH"
      }
    },
    {
      "cell_type": "code",
      "source": [
        "# 4. Quantidade total de pacientes\n",
        "print(f\"Total de pacientes: {len(pacientes)}\")"
      ],
      "metadata": {
        "id": "h-NC0mhEMe95"
      },
      "execution_count": null,
      "outputs": []
    },
    {
      "cell_type": "markdown",
      "source": [
        "###Resolução 5"
      ],
      "metadata": {
        "id": "UEIL-9UYMjGd"
      }
    },
    {
      "cell_type": "code",
      "source": [
        "# 5. Mensagem individual com pressão\n",
        "for i in range(len(pacientes)):\n",
        "    print(f\"Paciente {pacientes[i]} teve pressão sistólica de {pressao_sistolica[i]} mmHg.\")"
      ],
      "metadata": {
        "id": "-yF5dBjuOMWk"
      },
      "execution_count": null,
      "outputs": []
    },
    {
      "cell_type": "markdown",
      "source": [
        "###Resolução 6"
      ],
      "metadata": {
        "id": "DtrXA5V6ONsF"
      }
    },
    {
      "cell_type": "code",
      "source": [
        "# 6. Verificando se Maria está na lista\n",
        "if \"Maria\" not in pacientes:\n",
        "    print(\"⚠️ Paciente Maria não está na lista!\")"
      ],
      "metadata": {
        "id": "KIKZkJQyOOVP"
      },
      "execution_count": null,
      "outputs": []
    },
    {
      "cell_type": "markdown",
      "source": [
        "###Resolução 7"
      ],
      "metadata": {
        "id": "MFndQheeORXF"
      }
    },
    {
      "cell_type": "code",
      "source": [
        "# 7. Lista de pressões ordenadas (decrescente)\n",
        "pressao_ordenada = sorted(pressao_sistolica, reverse=True)\n",
        "print(f\"Pressões ordenadas (maior para menor): {pressao_ordenada}\")"
      ],
      "metadata": {
        "id": "ZReIsMe7OVtf"
      },
      "execution_count": null,
      "outputs": []
    },
    {
      "cell_type": "markdown",
      "source": [
        "###Resolução 8"
      ],
      "metadata": {
        "id": "rXnw_gqwOWt-"
      }
    },
    {
      "cell_type": "code",
      "source": [
        "# 8. Mostrando os 3 primeiros pacientes\n",
        "print(f\"Primeiros 3 pacientes do dia: {pacientes[:3]}\")"
      ],
      "metadata": {
        "id": "Q_R1tEiHOX2e"
      },
      "execution_count": null,
      "outputs": []
    },
    {
      "cell_type": "markdown",
      "source": [
        "#🟦 7. Dicionários"
      ],
      "metadata": {
        "id": "8QhzLwJKJhyD"
      }
    },
    {
      "cell_type": "markdown",
      "source": [
        "**Tarefa 1:**  Crie um dicionário chamado paciente que armazene os seguintes dados de uma pessoa:"
      ],
      "metadata": {
        "id": "64DgV8qePADB"
      }
    },
    {
      "cell_type": "markdown",
      "source": [
        "* nome: \"Laura\"\n",
        "* idade: 34\n",
        "* pressão_sistolica: 138\n",
        "* email: \"laura.saude@gmail.com\""
      ],
      "metadata": {
        "id": "1XM2DDO7PBd4"
      }
    },
    {
      "cell_type": "markdown",
      "source": [
        "**Tarefa 2:** Atualize a pressão sistólica para 135."
      ],
      "metadata": {
        "id": "eG7wPowFPEmR"
      }
    },
    {
      "cell_type": "code",
      "source": [],
      "metadata": {
        "id": "WVf5FZ7YJj76"
      },
      "execution_count": null,
      "outputs": []
    },
    {
      "cell_type": "markdown",
      "source": [
        "**Tarefa 3:** Adicione uma nova informação: \"hipertensa\": True"
      ],
      "metadata": {
        "id": "_5LrWeK7PIMx"
      }
    },
    {
      "cell_type": "code",
      "source": [],
      "metadata": {
        "id": "csfFOKm0PJ82"
      },
      "execution_count": null,
      "outputs": []
    },
    {
      "cell_type": "markdown",
      "source": [
        "**Tarefa 4:** Remova o campo email."
      ],
      "metadata": {
        "id": "zfveZ9sEPKnd"
      }
    },
    {
      "cell_type": "code",
      "source": [],
      "metadata": {
        "id": "qdys6HR1PMv1"
      },
      "execution_count": null,
      "outputs": []
    },
    {
      "cell_type": "markdown",
      "source": [
        "**Tarefa 5:** RVerifique se a chave \"peso\" existe no dicionário."
      ],
      "metadata": {
        "id": "lmTjR7vdPOQS"
      }
    },
    {
      "cell_type": "code",
      "source": [],
      "metadata": {
        "id": "lEIHyQ8ZPP_7"
      },
      "execution_count": null,
      "outputs": []
    },
    {
      "cell_type": "markdown",
      "source": [
        "**Tarefa 6:** Imprima uma frase como:\n",
        "\"Paciente Laura, 34 anos, com pressão 135 mmHg. Hipertensa: Sim.\"\n",
        "(Use get() e f-string com operadores lógicos para formatar a última parte)\n",
        "\n"
      ],
      "metadata": {
        "id": "JqljuljNPTlD"
      }
    },
    {
      "cell_type": "code",
      "source": [],
      "metadata": {
        "id": "oOAq0xbKPWDI"
      },
      "execution_count": null,
      "outputs": []
    },
    {
      "cell_type": "markdown",
      "source": [
        "###Resolução 1"
      ],
      "metadata": {
        "id": "KZOd1IeQPYIp"
      }
    },
    {
      "cell_type": "code",
      "source": [
        "# 1. Criando o dicionário inicial\n",
        "paciente = {\n",
        "    \"nome\": \"Laura\",\n",
        "    \"idade\": 34,\n",
        "    \"pressao_sistolica\": 138,\n",
        "    \"email\": \"laura.saude@gmail.com\"\n",
        "}"
      ],
      "metadata": {
        "id": "dbOY0OjYPb-t"
      },
      "execution_count": null,
      "outputs": []
    },
    {
      "cell_type": "markdown",
      "source": [
        "###Resolução 2"
      ],
      "metadata": {
        "id": "VD7oj2pRPabO"
      }
    },
    {
      "cell_type": "code",
      "source": [
        "# 2. Atualizando a pressão sistólica\n",
        "paciente[\"pressao_sistolica\"] = 135"
      ],
      "metadata": {
        "id": "ZpkLAvyRPcNH"
      },
      "execution_count": null,
      "outputs": []
    },
    {
      "cell_type": "markdown",
      "source": [
        "###Resolução 3"
      ],
      "metadata": {
        "id": "ZLg5tPhwPnka"
      }
    },
    {
      "cell_type": "code",
      "source": [
        "# 3. Adicionando nova chave: hipertensa\n",
        "paciente[\"hipertensa\"] = True"
      ],
      "metadata": {
        "id": "yx6pDJfTPoE3"
      },
      "execution_count": null,
      "outputs": []
    },
    {
      "cell_type": "markdown",
      "source": [
        "###Resolução 4"
      ],
      "metadata": {
        "id": "e6XNrq1HPpjy"
      }
    },
    {
      "cell_type": "code",
      "source": [
        "# 4. Removendo o campo email\n",
        "del paciente[\"email\"]"
      ],
      "metadata": {
        "id": "wL73LN8JPqVU"
      },
      "execution_count": null,
      "outputs": []
    },
    {
      "cell_type": "markdown",
      "source": [
        "###Resolução 5"
      ],
      "metadata": {
        "id": "m2sq3uQ8Prwz"
      }
    },
    {
      "cell_type": "code",
      "source": [
        "# 5. Verificando se 'peso' está presente no dicionário\n",
        "existe_peso = \"peso\" in paciente\n",
        "print(f\"A chave 'peso' existe no dicionário? {existe_peso}\")"
      ],
      "metadata": {
        "id": "YYp5KuMwPsss"
      },
      "execution_count": null,
      "outputs": []
    },
    {
      "cell_type": "markdown",
      "source": [
        "###Resolução 6"
      ],
      "metadata": {
        "id": "XbCPrRQuPuOE"
      }
    },
    {
      "cell_type": "code",
      "source": [
        "# 6. Imprimindo frase final com f-string e uso de .get()\n",
        "hipertensa_str = \"Sim\" if paciente.get(\"hipertensa\") else \"Não\""
      ],
      "metadata": {
        "id": "nGdRmHoyPvmX"
      },
      "execution_count": null,
      "outputs": []
    },
    {
      "cell_type": "markdown",
      "source": [
        "###Resolução 7"
      ],
      "metadata": {
        "id": "oAhvOzyUPwl_"
      }
    },
    {
      "cell_type": "code",
      "source": [
        "print(\n",
        "    f\"Paciente {paciente.get('nome')}, {paciente.get('idade')} anos, \"\n",
        "    f\"com pressão {paciente.get('pressao_sistolica')} mmHg. Hipertensa: {hipertensa_str}.\"\n",
        ")"
      ],
      "metadata": {
        "id": "-utNAaI8PyQa"
      },
      "execution_count": null,
      "outputs": []
    },
    {
      "cell_type": "markdown",
      "source": [
        "#🟦 8. Classes e Objetos"
      ],
      "metadata": {
        "id": "K17-d9fYdRQ9"
      }
    },
    {
      "cell_type": "markdown",
      "source": [
        "**Tarefa 1:** Crie uma classe Paciente com:"
      ],
      "metadata": {
        "id": "wxxWgNw6Mv-A"
      }
    },
    {
      "cell_type": "markdown",
      "source": [
        "* Atributos: nome, idade, diagnóstico\n",
        "* Método: apresentar() que imprime: \"Sou Ana, tenho 45 anos e fui diagnosticada com Hipertensão.\""
      ],
      "metadata": {
        "id": "471DoZcvda1Y"
      }
    },
    {
      "cell_type": "code",
      "execution_count": null,
      "metadata": {
        "id": "svgJNX6iMvEs"
      },
      "outputs": [],
      "source": []
    },
    {
      "cell_type": "markdown",
      "source": [
        "**Tarefa 2:** Crie dois objetos e chame o método de cada um."
      ],
      "metadata": {
        "id": "xfSuuygWP_ab"
      }
    },
    {
      "cell_type": "code",
      "source": [],
      "metadata": {
        "id": "J8ZQ6p58P-3n"
      },
      "execution_count": null,
      "outputs": []
    },
    {
      "cell_type": "markdown",
      "source": [
        "###Resolução 1"
      ],
      "metadata": {
        "id": "iKktBiFmQAu5"
      }
    },
    {
      "cell_type": "code",
      "source": [
        "class Paciente:\n",
        "    def __init__(self, nome, idade, diagnostico):\n",
        "        self.nome = nome\n",
        "        self.idade = idade\n",
        "        self.diagnostico = diagnostico\n",
        "\n",
        "    def apresentar(self):\n",
        "        print(f\"Sou {self.nome}, tenho {self.idade} anos e fui diagnosticado(a) com {self.diagnostico}.\")"
      ],
      "metadata": {
        "id": "1cslNRLlQC99"
      },
      "execution_count": null,
      "outputs": []
    },
    {
      "cell_type": "markdown",
      "source": [
        "###Resolução 2"
      ],
      "metadata": {
        "id": "lk9PV2kkQEmb"
      }
    },
    {
      "cell_type": "code",
      "source": [
        "# Criando dois objetos\n",
        "paciente1 = Paciente(\"Ana\", 45, \"Hipertensão\")\n",
        "paciente2 = Paciente(\"Carlos\", 60, \"Diabetes tipo 2\")"
      ],
      "metadata": {
        "id": "CCQeV9IhQGIy"
      },
      "execution_count": null,
      "outputs": []
    },
    {
      "cell_type": "code",
      "source": [
        "# Chamando o método apresentar\n",
        "paciente1.apresentar()\n",
        "paciente2.apresentar()"
      ],
      "metadata": {
        "id": "FXiBIjiiQHQR"
      },
      "execution_count": null,
      "outputs": []
    }
  ]
}
