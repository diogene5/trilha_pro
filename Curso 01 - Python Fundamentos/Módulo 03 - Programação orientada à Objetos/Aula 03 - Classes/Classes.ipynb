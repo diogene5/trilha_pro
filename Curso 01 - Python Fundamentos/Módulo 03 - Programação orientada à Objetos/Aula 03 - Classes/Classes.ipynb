{
  "nbformat": 4,
  "nbformat_minor": 0,
  "metadata": {
    "colab": {
      "provenance": [],
      "collapsed_sections": [
        "jPjjjOcWXwSW",
        "QojRsSYzvyDD",
        "9jjiAAE8JTQ3",
        "kdXiwwMg-hVl",
        "GgP5LwiB_e_I",
        "GfD2OCe6_vkX",
        "1eiNQB1ubQlz"
      ],
      "toc_visible": true
    },
    "kernelspec": {
      "name": "python3",
      "display_name": "Python 3"
    },
    "language_info": {
      "name": "python"
    }
  },
  "cells": [
    {
      "cell_type": "markdown",
      "source": [
        "#📁 Classes"
      ],
      "metadata": {
        "id": "jPjjjOcWXwSW"
      }
    },
    {
      "cell_type": "markdown",
      "source": [
        "Até agora, estamos falando sempre sobre o tipo (<font color=orange>**`type`**</font>) de cada objeto.  Mas existe um outro nome para isso que temos escondido até agora: o **tipo** é, na verdade, o que chamamos de **classe**."
      ],
      "metadata": {
        "id": "aUwlxw_pgCiF"
      }
    },
    {
      "cell_type": "code",
      "source": [
        "a = [1, 0]\n",
        "\n",
        "type(a)"
      ],
      "metadata": {
        "colab": {
          "base_uri": "https://localhost:8080/"
        },
        "id": "06W1Ws1w5oIQ",
        "outputId": "792055bf-dc85-43b2-ee57-b55d14a63cec"
      },
      "execution_count": null,
      "outputs": [
        {
          "output_type": "execute_result",
          "data": {
            "text/plain": [
              "list"
            ]
          },
          "metadata": {},
          "execution_count": 1
        }
      ]
    },
    {
      "cell_type": "markdown",
      "source": [
        "Nesse caso acima, se o <font color=orange>**`type`**</font> de `a` for <font color=orange>**`list`**</font>, isso significa que existe uma **classe** <font color=orange>**`list`**</font>, e dentro dessa classe, podemos criar uma lista qualquer, por exemplo: `a = [1, 0]`, que pertence a essa classe. Dizemos que **`a` é uma instância da classe <font color=orange>`list`</font>** (ou seja, uma lista que **mora** na classe  <font color=orange>**`list`**</font>. Vamos explicar isso melhor daqui a pouquinho).\n",
        "\n",
        "Assim, chegamos a um ponto importante para entender a estrutura da linguagem Python: cada objeto mora em um lugar (ou, melhor, em uma classe), e isso lhe confere **características especiais**.\n",
        "\n",
        "Lembra lá do primeiro tópico? Quando falamos exatamente isso aqui:\n",
        "\n",
        "***\n",
        "> <font color = \"grey\">    \n",
        "  *  Objetos tem tipos (<font color=\"orange\"><b>types</b></font>) que definem as coisas que o programa pode fazer com eles:\n",
        " *   Augusto é um <font color=\"orange\"><b>humano</b></font>, então ele pode caminhar, falar português, etc.\n",
        " *   Chewbacca é um  <font color=\"orange\"><b>wookie</b></font> (do Universo de Star Wars), então ele pode caminhar, “mwaaarhrhh”, etc.\n",
        "  ***\n",
        "\n",
        "</font>\n",
        "Então! Era sobre isso que estávamos falando. A verdade é que esse tipo de caracterização acontece em cadeia. Existe uma classe que é um ancestral comum de todas as outras: a classe que, em algum momento primitivo do código, define que todo elemento será um  <font color=orange>**`object`**</font>. A partir dessa, todas as outras foram sendo definidas. Depois de algumas etapas evolutivas, temos, por exemplo, uma classe  <font color=orange>**`iterator`**</font> que é mãe das classes  <font color=orange>**`list`**</font>,  <font color=orange>**`string`**</font> e  <font color=orange>**`tuple`**</font> . Perceba que todas carregam características muito parecidas (apesar de terem outras que se referem somente a elas mesmas, como a mutabilidade ou a falta dela).\n"
      ],
      "metadata": {
        "id": "3eXny-A0ID3P"
      }
    },
    {
      "cell_type": "markdown",
      "source": [
        "As classes que vimos até agora são as chamadas \"classes nativas\". Elas já nasceram junto com o Python. Você não precisa dizer quais são as caracterísicas de uma lista para a linguagem, ela já sabe!\n",
        "\n",
        "\n",
        "Essas estruturas nativas são muito úteis para programar, porém, às vezes, elas não são o suficiente para representar o que você gostaria de implementar no programa.\n",
        "\n",
        "Vamos dizer, por exemplo, que gostaríamos de manter um registro de vários animais de estimação; para isso, poderíamos criar uma lista que representasse um desses animais, em que o primeiro elemento da lista seria o nome do animal e o segundo elemento, sua espécie.\n",
        "\n",
        "Neste exemplo, o uso de listas seria uma forma de representação muito arbitrária e de pouca utilidade. Como poderemos ter certeza de qual elemento representa o animal e qual representa a espécie, além disso, teríamos que criar uma lista para cada animal que queremos registrar, e se tivermos muitos? Perceba que esse exemplo que queremos implementar não se encaixa em nenhum objeto que aprendemos até agora.. Mas e daí? O que podemos fazer?\n",
        "\n",
        "Falamos tudo isso para mostrar a importância das **classes** em Python, elas nos dão a possibilidade de criarmos **estruturas de dados mais complexos**, que podem registrar conteúdos arbitrários de funcionalidades únicas. Ou seja, quando temos dados que não se encaixam nos tipos de objetos padrão do programa (todos esses que vimos até agora), podemos criar uma classe que se ajusta ao nosso objetivo.\n",
        "\n",
        "Então, para criar o registro de animais de estimação que queremos, basta criarmos uma classe dos  <font color=orange>**`Bichanos`**</font> que registra o nome e a espécie dos animaizinhos em atributos muito úteis chamados  \"nome\" e \"espécie\", respectivamente. Já vamos aprender como fazemos isso!"
      ],
      "metadata": {
        "id": "fdrkRrqPITQO"
      }
    },
    {
      "cell_type": "markdown",
      "source": [
        "# 💻  O que é uma instância?"
      ],
      "metadata": {
        "id": "QojRsSYzvyDD"
      }
    },
    {
      "cell_type": "markdown",
      "source": [
        "Antes de aprendermos a criar uma classe, precisamos entender uma distinção importante. Uma classe é somente algo que contém uma estrutura definida - ou seja, ela especifica como os dados devem ser registrados e estruturados, porém, ela não preenche o conteúdo em si. No começo vimos que  <font color=orange>**`list`**</font> é uma classe, ela define como são os objetos que a pertencem (uma sequência ordenada de objetos), porém ela não guarda nenhum conteúdo em si, isso é papel das instâncias de  <font color=orange>**`list`**</font>, ou seja, as próprias listas.\n",
        "\n",
        "Por exemplo, a classe <font color=orange>**`Bichanos`**</font> pode dizer que o animal precisa ter um nome e uma espécie, mas não diz qual é o nome e a espécie do animal.\n",
        "\n",
        "Por isso a definição de **instância** é importante, ela é uma cópia específica de uma classe que mostra o conteúdo em si. Portanto, quando criamos o animalzinho <font color=orange>**`totó`**</font>, com nome \"Totó\" e espécie \"Cachorro\", então <font color=orange>**`totó`**</font> é uma instâcia da classe <font color=orange>**`Bichanos`**</font>.\n",
        "\n",
        "Ficou claro? Veja se esse exemplo o ajuda a entender melhor esses conceitos: o governo de um país tem um formulário de impostos padrão para todos os cidadãos do país preencherem. Todos precisam preencher o mesmo tipo de formulário, mas o conteúdo que cada pessoa preenche será diferente.\n",
        "Portanto, a **classe** seria o padrão do formulário: ele define qual conteúdo deve ser preenchido.  E as **instâncias** da classe seriam as cópias do formulário de cada pessoa com suas informações específicas: o conteúdo em si."
      ],
      "metadata": {
        "id": "lvkZaHHG7cvN"
      }
    },
    {
      "cell_type": "markdown",
      "source": [
        "# 🚀 Criando uma `class`"
      ],
      "metadata": {
        "id": "9jjiAAE8JTQ3"
      }
    },
    {
      "cell_type": "markdown",
      "source": [
        "Vamos aprender como criar uma classe! É grandão, mas está tudo explicadinho em baixo, dá uma olhada:"
      ],
      "metadata": {
        "id": "fYJYp_6TJafC"
      }
    },
    {
      "cell_type": "code",
      "source": [
        "class Bichanos(object):\n",
        "\n",
        "    def __init__(self, nome, espécie):\n",
        "        self.nome = nome\n",
        "        self.espécie = espécie\n",
        "\n",
        "    def inserir_nome(self, nome):\n",
        "        self.nome = nome\n",
        "\n",
        "    def inserir_espécie(self, espécie):\n",
        "        self.espécie = espécie\n",
        "\n",
        "    def retornar_nome(self):\n",
        "        return self.nome\n",
        "\n",
        "    def retornar_espécie(self):\n",
        "        return self.espécie\n",
        "\n",
        "    def __str__(self):\n",
        "        return '{} é um(a) {}'.format(self.nome, self.espécie)"
      ],
      "metadata": {
        "id": "WRZYus6OJeVc"
      },
      "execution_count": null,
      "outputs": []
    },
    {
      "cell_type": "markdown",
      "source": [
        "1.   Para criar uma classe em Python, primeiramente, utilizamos a palavra reservada <font color=orange>**`class`**</font> para indicar que estamos criando uma nova classe.\n",
        "\n",
        "\n",
        "2.  Em seguida, nomeamos a classe - neste exemplo a chamamos de <font color=orange>**`Bichanos`**</font> -  e entre parênteses colocamos a palavra <font color=orange>**`object`**</font>, ela representa a classe que dá a herança à classe <font color=orange>**`Bichanos`**</font> (e a todas as outras classes do Python!). Veremos o conceito de herança mais tarde, por enquanto o que você precisa saber é que a palavra <font color=orange>**`object`**</font> é um objeto especial em Python que precisamos incluir nos parênteses para criar uma nova classe!"
      ],
      "metadata": {
        "id": "v2YpbLFoJlFY"
      }
    },
    {
      "cell_type": "markdown",
      "source": [
        "3. Quando criamos um novo animal, precisamos especificar seu nome e espécie.\n",
        "O método <font color=orange> **`__init__`** </font> é uma função especial das classes no Python, que é sempre chamada no momento da criação de uma nova ** instância** de uma classe. Ela define os atributos necessários dentro da instância (neste caso, \"nome\" e \"espécie\").\n",
        "\n",
        "\n",
        "4. Como todo método em Python, inicia-se com a palavra <font color=orange> **`def`** </font> e entre parênteses recebe-se os parâmetros da função. Percebeu o parâmetro diferente ali? O <font color=orange> **`self`** </font> é um parâmetro obrigatório para as funções em classes. Ele referencia a nova instância criada - lembra que cada classe pode possuir várias instâncias? Por isso, cada uma tem um <font color=orange> **`self`** </font> para identificação de instância (Obs: você pode escolher qualquer outro nome, mas como padrão dos programadores em Python usamos o <font color=orange> **`self`** </font>). Essa parte é confusa, mas com os exemplos vai ficar mais fácil!\n",
        "\n",
        "> Assim atribuímos ao <font color=orange> **`self.nome = nome`** </font>\n",
        "\n",
        ">Portanto, o nome atribuído na função receberá um novo <font color=orange> **`self`** </font>, ou seja, será registrado em uma nova instâcia."
      ],
      "metadata": {
        "id": "aXHeE2BlJm0e"
      }
    },
    {
      "cell_type": "markdown",
      "source": [
        "***\n",
        "<font color=grey>\n",
        "  Você deve ter percebido que definimos 3 parâmetros na função do método  <font color=orange> **`__init__`** </font> , mas, logo veremos que, quando criamos uma instância para a classe usando esse método, somente passamos 2 parâmetros para a função.\n",
        "  Por que não passamos o parâmetro  <font color=orange> **`self`** </font> ? O Python reconhece o parâmetro especial  <font color=orange> **`self`** </font>  e passa automaticamente para a função. Entâo, só precisamos nos preocupar com ele no momento da criação da classe!\n",
        "  \n",
        "  ***"
      ],
      "metadata": {
        "id": "t4ZGdl62JsZ8"
      }
    },
    {
      "cell_type": "markdown",
      "source": [
        "5. Temos mais algumas funções nesta classe que nós definimos:\n",
        "\n",
        "> A função <font color=orange> **`inserir_nome()`** </font> nos possibilita trocar o nome do  <font color=orange> **`self`** </font>  já criado. (O mesmo acontece com a função  <font color=orange> **`inserir_espécie()`** </font> ).\n",
        "\n",
        "\n",
        "6. A próxima função que definimos é para retornar as instâncias da classe.\n",
        "\n",
        "> A função <font color=orange> **`retornar_nome()`** </font> vai receber a instância da classe que queremos checar e retornar o \"nome\" registrado nela.\n",
        "\n",
        "> A função <font color=orange> **`retornar_espécie()`** </font>, da mesma maneira, recebe uma instância e retorna a \"especie\".\n",
        "\n",
        "7.  O método <font color=orange> **`__str__` **</font> é uma outra função especial das classes (percebeu o duplo underline de novo?). Aqui estamos a usando para imprimir um texto através da classe."
      ],
      "metadata": {
        "id": "_OS8lEj1JwBX"
      }
    },
    {
      "cell_type": "markdown",
      "source": [
        "Agora podemos **adicionar uma instância** a essa classe!"
      ],
      "metadata": {
        "id": "8c9HXPVqJ0wY"
      }
    },
    {
      "cell_type": "code",
      "source": [
        "a = Bichanos ('Spike', 'cachorro')  #criamos um novo self \"a\" e atribuimos os valores ao \"nome\" e \"especie\" respecivamente"
      ],
      "metadata": {
        "id": "NsNGZ44nJ1y8"
      },
      "execution_count": null,
      "outputs": []
    },
    {
      "cell_type": "markdown",
      "source": [
        "E agora? Como ver os valores que estão registrados nas instâncias da classe? (Existem 2 maneiras de chamar os valores, olha só:)"
      ],
      "metadata": {
        "id": "29HTM08wJ33B"
      }
    },
    {
      "cell_type": "code",
      "source": [
        "a.retornar_nome()  #aqui estamos pedindo para retornar o nome registrado na instância \"a\""
      ],
      "metadata": {
        "colab": {
          "base_uri": "https://localhost:8080/",
          "height": 36
        },
        "id": "CCZK0TBYJ5io",
        "outputId": "e8222cbd-132c-42d6-ac23-e8f2e3868124"
      },
      "execution_count": null,
      "outputs": [
        {
          "output_type": "execute_result",
          "data": {
            "text/plain": [
              "'Spike'"
            ],
            "application/vnd.google.colaboratory.intrinsic+json": {
              "type": "string"
            }
          },
          "metadata": {},
          "execution_count": 4
        }
      ]
    },
    {
      "cell_type": "code",
      "source": [
        "Bichanos.retornar_espécie(a)"
      ],
      "metadata": {
        "colab": {
          "base_uri": "https://localhost:8080/",
          "height": 36
        },
        "id": "s52KJcxFJ6pf",
        "outputId": "4a075c08-0b56-45e1-f677-0730ba320b33"
      },
      "execution_count": null,
      "outputs": [
        {
          "output_type": "execute_result",
          "data": {
            "text/plain": [
              "'cachorro'"
            ],
            "application/vnd.google.colaboratory.intrinsic+json": {
              "type": "string"
            }
          },
          "metadata": {},
          "execution_count": 5
        }
      ]
    },
    {
      "cell_type": "markdown",
      "source": [
        "<font color=grey>\n",
        "  Perceba que as duas formas são equivalentes (a segunda não é tão usual, mas pode ser usada igualmente). Na primeira a instância é chamada, já na segunda a classe é chamada, por este motivo temos que especificar a instância entre parênteses."
      ],
      "metadata": {
        "id": "B7IAJ07-J8g6"
      }
    },
    {
      "cell_type": "markdown",
      "source": [
        "Podemos mudar o nome ou a espécie que demos antes!"
      ],
      "metadata": {
        "id": "j8poTBc2J-Tf"
      }
    },
    {
      "cell_type": "code",
      "source": [
        "a.inserir_espécie('cão')  #aqui estamos mudando a espécie registrada na instância \"a\""
      ],
      "metadata": {
        "id": "jMo_u_rHJ_ab"
      },
      "execution_count": null,
      "outputs": []
    },
    {
      "cell_type": "code",
      "source": [
        "a.retornar_espécie()"
      ],
      "metadata": {
        "colab": {
          "base_uri": "https://localhost:8080/",
          "height": 36
        },
        "id": "ddCjFZ3zKAUH",
        "outputId": "b179de1b-9a27-4e05-987a-16ae54948f8e"
      },
      "execution_count": null,
      "outputs": [
        {
          "output_type": "execute_result",
          "data": {
            "text/plain": [
              "'cão'"
            ],
            "application/vnd.google.colaboratory.intrinsic+json": {
              "type": "string"
            }
          },
          "metadata": {},
          "execution_count": 7
        }
      ]
    },
    {
      "cell_type": "markdown",
      "source": [
        "E aquela última função da classe? Podemos **imprimir o texto** que foi definido!"
      ],
      "metadata": {
        "id": "pHuyXKdiKGw9"
      }
    },
    {
      "cell_type": "code",
      "source": [
        "print(a)"
      ],
      "metadata": {
        "colab": {
          "base_uri": "https://localhost:8080/"
        },
        "id": "Wa5i6DJ9KIZi",
        "outputId": "8103dc15-b5ae-4784-c1bc-aa08772559be"
      },
      "execution_count": null,
      "outputs": [
        {
          "output_type": "stream",
          "name": "stdout",
          "text": [
            "Spike é um(a) cão\n"
          ]
        }
      ]
    },
    {
      "cell_type": "markdown",
      "source": [
        "# 📣 Usando uma `class`"
      ],
      "metadata": {
        "id": "kdXiwwMg-hVl"
      }
    },
    {
      "cell_type": "markdown",
      "source": [
        "Vamos fazer mais alguns exemplos com a nossa classe dos <font color=orange> **`Bichanos`** </font>:"
      ],
      "metadata": {
        "id": "5ZxXafUG-mKd"
      }
    },
    {
      "cell_type": "code",
      "source": [
        "b = Bichanos('Mingau', 'gato')  #Criando uma nova instância da classe dos Bichanos"
      ],
      "metadata": {
        "id": "UtZyeKuB-oE8"
      },
      "execution_count": null,
      "outputs": []
    },
    {
      "cell_type": "code",
      "source": [
        "b.retornar_nome()"
      ],
      "metadata": {
        "colab": {
          "base_uri": "https://localhost:8080/",
          "height": 36
        },
        "id": "yN8e-lA0Kh73",
        "outputId": "60ed8f67-f3ec-4d56-be0f-10f33665e05d"
      },
      "execution_count": null,
      "outputs": [
        {
          "output_type": "execute_result",
          "data": {
            "text/plain": [
              "'Mingau'"
            ],
            "application/vnd.google.colaboratory.intrinsic+json": {
              "type": "string"
            }
          },
          "metadata": {},
          "execution_count": 10
        }
      ]
    },
    {
      "cell_type": "code",
      "source": [
        "b.retornar_espécie()"
      ],
      "metadata": {
        "colab": {
          "base_uri": "https://localhost:8080/",
          "height": 36
        },
        "id": "EK3w6VouKjUd",
        "outputId": "cc34a162-673f-4aae-b955-0b62172ad8c8"
      },
      "execution_count": null,
      "outputs": [
        {
          "output_type": "execute_result",
          "data": {
            "text/plain": [
              "'gato'"
            ],
            "application/vnd.google.colaboratory.intrinsic+json": {
              "type": "string"
            }
          },
          "metadata": {},
          "execution_count": 11
        }
      ]
    },
    {
      "cell_type": "code",
      "source": [
        "print(b)"
      ],
      "metadata": {
        "colab": {
          "base_uri": "https://localhost:8080/"
        },
        "id": "XZRQpiimKkZm",
        "outputId": "febb5ddf-58ce-40c8-e784-74e23b890d8b"
      },
      "execution_count": null,
      "outputs": [
        {
          "output_type": "stream",
          "name": "stdout",
          "text": [
            "Mingau é um(a) gato\n"
          ]
        }
      ]
    },
    {
      "cell_type": "markdown",
      "source": [
        "Mais um exemplo de classe:"
      ],
      "metadata": {
        "id": "KoISVJ8DKly_"
      }
    },
    {
      "cell_type": "code",
      "source": [
        "class Amigos(object):\n",
        "\n",
        "    def __init__(self, nome):\n",
        "        self.nome = nome              #Definimos que apenas um self obrigatório para criar uma instância (o 'nome')\n",
        "\n",
        "    def inserir_nome(self, nome):\n",
        "        self.nome = nome\n",
        "    def retornar_nome(self):\n",
        "        return self.nome\n",
        "\n",
        "    def inserir_idade(self, idade):\n",
        "        self.idade = idade\n",
        "    def retornar_idade(self):\n",
        "        return self.idade\n",
        "\n",
        "    def __str__(self):\n",
        "        return 'Amigo: {}. Idade: {}.'.format(self.nome, self.idade)"
      ],
      "metadata": {
        "id": "sGwC6tjvKnhD"
      },
      "execution_count": null,
      "outputs": []
    },
    {
      "cell_type": "code",
      "source": [
        "paulinho = Amigos('Paulo')"
      ],
      "metadata": {
        "id": "f2s2RVGSKo7E"
      },
      "execution_count": null,
      "outputs": []
    },
    {
      "cell_type": "code",
      "source": [
        "paulinho.inserir_idade(19)"
      ],
      "metadata": {
        "id": "MvHA0GM4Kp83"
      },
      "execution_count": null,
      "outputs": []
    },
    {
      "cell_type": "code",
      "source": [
        "paulinho.retornar_nome()"
      ],
      "metadata": {
        "colab": {
          "base_uri": "https://localhost:8080/",
          "height": 36
        },
        "id": "7fo9X0QnKqzJ",
        "outputId": "525aeeba-03f5-441b-b1f6-e37a3b67adba"
      },
      "execution_count": null,
      "outputs": [
        {
          "output_type": "execute_result",
          "data": {
            "text/plain": [
              "'Paulo'"
            ],
            "application/vnd.google.colaboratory.intrinsic+json": {
              "type": "string"
            }
          },
          "metadata": {},
          "execution_count": 16
        }
      ]
    },
    {
      "cell_type": "code",
      "source": [
        "paulinho.inserir_nome(paulinho.retornar_nome() + ' H')"
      ],
      "metadata": {
        "id": "x9IUaCKMKsJM"
      },
      "execution_count": null,
      "outputs": []
    },
    {
      "cell_type": "code",
      "source": [
        "paulinho.retornar_nome()"
      ],
      "metadata": {
        "colab": {
          "base_uri": "https://localhost:8080/",
          "height": 36
        },
        "id": "kreHJNZhKtXK",
        "outputId": "175f54dc-8196-4b33-8b20-049c4a6a8d8d"
      },
      "execution_count": null,
      "outputs": [
        {
          "output_type": "execute_result",
          "data": {
            "text/plain": [
              "'Paulo H'"
            ],
            "application/vnd.google.colaboratory.intrinsic+json": {
              "type": "string"
            }
          },
          "metadata": {},
          "execution_count": 18
        }
      ]
    },
    {
      "cell_type": "code",
      "source": [
        "print(paulinho)"
      ],
      "metadata": {
        "colab": {
          "base_uri": "https://localhost:8080/"
        },
        "id": "aWMZ5ga4KuiZ",
        "outputId": "f2123128-dca9-4be2-bf7a-a58946833832"
      },
      "execution_count": null,
      "outputs": [
        {
          "output_type": "stream",
          "name": "stdout",
          "text": [
            "Amigo: Paulo H. Idade: 19.\n"
          ]
        }
      ]
    },
    {
      "cell_type": "markdown",
      "source": [
        "# 🔬 Subclasses"
      ],
      "metadata": {
        "id": "GgP5LwiB_e_I"
      }
    },
    {
      "cell_type": "markdown",
      "source": [
        "Às vezes, apenas definir uma única classe (como <font color=orange> **`Bichanos`** </font>), não é o suficiente. Por exemplo, alguns bichanos são cachorros e a maioria deles gosta de perseguir gatos, e talvez nós queiramos manter registrado quais cachorrinhos gostam ou não de perseguir os gatos. Pássaros também são bichanos, mas geralmente eles não gostam de perseguir gatos. Nós podemos fazer uma classe que seja um bichano, mas seja especificamente um cachorro. Para isso, podemos definir uma classe Cães **dentro** da classe <font color=orange> **`Bichanos`** </font>, e todo cachorrinho que registrarmos no nosso sistema vai ter todas as características de um bichano e mais as suas próprias!\n",
        "\n",
        "Perceba:"
      ],
      "metadata": {
        "id": "qK1uO5kr_jmJ"
      }
    },
    {
      "cell_type": "code",
      "source": [
        "class Cães(Bichanos): #Criamos a subclasse dos Cães, que herda as características da classe dos Bichanos (nos parênteses).\n",
        "\n",
        "    def __init__(self, nome, odeia_gatos): #Inicializaremos a subclasse com os parâmetros: nome do cão e se odeia gatos ou não.\n",
        "        Bichanos.__init__(self, nome,'cão') #Aqui inicializaremos a classe dos Bichanos, assim podemos usar as funções dela.\n",
        "        self.odeia_gatos = odeia_gatos   #Esse é o diferencial da subclasse dos Cães para a classe Bichanos (se odeiam ou não gatos)\n",
        "\n",
        "    def pode_ser_colocado_junto_com_gatos(self):\n",
        "        return not self.odeia_gatos"
      ],
      "metadata": {
        "id": "HB3Alc-a_mxE"
      },
      "execution_count": null,
      "outputs": []
    },
    {
      "cell_type": "code",
      "source": [
        "c = Cães('Bingo', False)"
      ],
      "metadata": {
        "id": "64phmoNF_nmp"
      },
      "execution_count": null,
      "outputs": []
    },
    {
      "cell_type": "code",
      "source": [
        "c.retornar_nome()  #Podemos usar essa função da classe Bichanos, já que inicializamos a classe Bichanos na subclasse Cães"
      ],
      "metadata": {
        "colab": {
          "base_uri": "https://localhost:8080/",
          "height": 36
        },
        "id": "V_Aie8lXLE4A",
        "outputId": "0910e10f-744b-49c0-e88d-82cb748e7d8e"
      },
      "execution_count": null,
      "outputs": [
        {
          "output_type": "execute_result",
          "data": {
            "text/plain": [
              "'Bingo'"
            ],
            "application/vnd.google.colaboratory.intrinsic+json": {
              "type": "string"
            }
          },
          "metadata": {},
          "execution_count": 22
        }
      ]
    },
    {
      "cell_type": "code",
      "source": [
        "print(c)"
      ],
      "metadata": {
        "colab": {
          "base_uri": "https://localhost:8080/"
        },
        "id": "Y6hdfJpSLGBv",
        "outputId": "232365dc-a4a2-4aa5-bcd6-8ae1d335a845"
      },
      "execution_count": null,
      "outputs": [
        {
          "output_type": "stream",
          "name": "stdout",
          "text": [
            "Bingo é um(a) cão\n"
          ]
        }
      ]
    },
    {
      "cell_type": "code",
      "source": [
        "c.pode_ser_colocado_junto_com_gatos()"
      ],
      "metadata": {
        "colab": {
          "base_uri": "https://localhost:8080/"
        },
        "id": "U1XJoUaULIC1",
        "outputId": "e2bebdb5-e1a4-4ae9-c186-37cf0c22306a"
      },
      "execution_count": null,
      "outputs": [
        {
          "output_type": "execute_result",
          "data": {
            "text/plain": [
              "True"
            ]
          },
          "metadata": {},
          "execution_count": 24
        }
      ]
    },
    {
      "cell_type": "markdown",
      "source": [
        "# 🧬 Conceito de herança"
      ],
      "metadata": {
        "id": "GfD2OCe6_vkX"
      }
    },
    {
      "cell_type": "markdown",
      "source": [
        "Essa características que são \"passadas\" das classes para suas respectivas subclasses são o que chamamos de **herança**. Para falar um pouquinho sobre isso, vamos examinar melhor a diferença entre  <font color=orange> **`Bichanos`** </font> (classe) e  <font color=orange> **`Cães`** </font>(subclasse):"
      ],
      "metadata": {
        "id": "Ips8D2VJ_zYb"
      }
    },
    {
      "cell_type": "code",
      "source": [
        "bichano = Bichanos('Lola', 'pássaro')\n",
        "cachorro = Cães('Totó', True)"
      ],
      "metadata": {
        "id": "WNENV31R_1sE"
      },
      "execution_count": null,
      "outputs": []
    },
    {
      "cell_type": "markdown",
      "source": [
        "Perceba que criamos o \"bichano\", uma nova instância da classe  <font color=orange> **`Bichanos`** </font> e o \"cachorro\", uma nova instância da subclasse  <font color=orange> **`Cães`** </font>."
      ],
      "metadata": {
        "id": "u6LakPWjLtHD"
      }
    },
    {
      "cell_type": "markdown",
      "source": [
        "Usaremos uma função especial nova: <font color = orange> **`isintance`** </font>.\n",
        "\n",
        "Ela checa se uma instância é a instância de uma determinada classe. Vamos ver:  "
      ],
      "metadata": {
        "id": "J5U0aZ5VLvZK"
      }
    },
    {
      "cell_type": "code",
      "source": [
        "isinstance(bichano, Bichanos)  #Um pássaro é um bichano"
      ],
      "metadata": {
        "colab": {
          "base_uri": "https://localhost:8080/"
        },
        "id": "vQaYW8sDLzfs",
        "outputId": "aa77252c-5806-44b0-b4ae-b65be4d99cba"
      },
      "execution_count": null,
      "outputs": [
        {
          "output_type": "execute_result",
          "data": {
            "text/plain": [
              "True"
            ]
          },
          "metadata": {},
          "execution_count": 26
        }
      ]
    },
    {
      "cell_type": "code",
      "source": [
        "isinstance(cachorro, Bichanos)  #Um cachorro também é bichano, já que a subclasse Cães está dentro de Bichanos"
      ],
      "metadata": {
        "colab": {
          "base_uri": "https://localhost:8080/"
        },
        "id": "Od8LkiUvL2L9",
        "outputId": "e7229c68-acb1-4f1a-eee6-6f8cbe282144"
      },
      "execution_count": null,
      "outputs": [
        {
          "output_type": "execute_result",
          "data": {
            "text/plain": [
              "True"
            ]
          },
          "metadata": {},
          "execution_count": 27
        }
      ]
    },
    {
      "cell_type": "code",
      "source": [
        "isinstance(cachorro, Cães) #Um cachorro é um cão"
      ],
      "metadata": {
        "colab": {
          "base_uri": "https://localhost:8080/"
        },
        "id": "ehW4CBf0L3ca",
        "outputId": "1bd5c910-300b-4a72-f137-d5d658e66146"
      },
      "execution_count": null,
      "outputs": [
        {
          "output_type": "execute_result",
          "data": {
            "text/plain": [
              "True"
            ]
          },
          "metadata": {},
          "execution_count": 28
        }
      ]
    },
    {
      "cell_type": "code",
      "source": [
        "isinstance(bichano, Cães) #Já bichano não é necessariamente um cão (como o bichano passáro). Isso acontece porque a subclasse divide a classe dos Bichanos em uma nova categoria de bichanos."
      ],
      "metadata": {
        "colab": {
          "base_uri": "https://localhost:8080/"
        },
        "id": "EOlfvrc-L4-h",
        "outputId": "ee244633-172d-4c22-fd71-5b69656a0cfb"
      },
      "execution_count": null,
      "outputs": [
        {
          "output_type": "execute_result",
          "data": {
            "text/plain": [
              "False"
            ]
          },
          "metadata": {},
          "execution_count": 29
        }
      ]
    },
    {
      "cell_type": "markdown",
      "source": [
        "# 💪 Exercício"
      ],
      "metadata": {
        "id": "1eiNQB1ubQlz"
      }
    },
    {
      "cell_type": "markdown",
      "source": [
        "* **Questão 1**"
      ],
      "metadata": {
        "id": "qgfpjQrPALj1"
      }
    },
    {
      "cell_type": "markdown",
      "source": [
        "Defina uma classe chamada 'Círculo', que pode ser construída a partir de um raio. A classe 'Círculo' tem um método que computa a sua área.\n",
        "\n",
        "DICA: você pode importar o valor de pi do módulo \"math\"."
      ],
      "metadata": {
        "id": "1lzcm91tbUfb"
      }
    },
    {
      "cell_type": "code",
      "source": [
        "from math import pi"
      ],
      "metadata": {
        "id": "J_Ov0uSTa-Ht"
      },
      "execution_count": null,
      "outputs": []
    },
    {
      "cell_type": "code",
      "source": [],
      "metadata": {
        "id": "OeWebusLL-cm"
      },
      "execution_count": null,
      "outputs": []
    },
    {
      "cell_type": "markdown",
      "source": [
        "* **Questão 2**"
      ],
      "metadata": {
        "id": "Ck1B5JkeAIvJ"
      }
    },
    {
      "cell_type": "markdown",
      "source": [
        "Defina uma classe chamada 'Pessoa' e duas subclasses: 'Adulto' e 'Criança'. Todas as classes tem um método para retornar sua classificação, ou seja, irá imprimir adulto para a classe 'Adulto' e criança para a classe 'Criança'."
      ],
      "metadata": {
        "id": "pePOXb2sADlT"
      }
    },
    {
      "cell_type": "code",
      "source": [],
      "metadata": {
        "id": "CsT6M9OsAG_J"
      },
      "execution_count": null,
      "outputs": []
    }
  ]
}
